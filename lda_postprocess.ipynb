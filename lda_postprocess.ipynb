{
 "cells": [
  {
   "cell_type": "code",
   "execution_count": null,
   "id": "d1e6ea1f-4200-409b-aabe-9ca9fbf768ba",
   "metadata": {
    "scrolled": true
   },
   "outputs": [],
   "source": [
    "#!uv pip install -q nltk gensim pyLDAvis unidecode matplotlib seaborn pandas pyarrow"
   ]
  },
  {
   "cell_type": "code",
   "execution_count": null,
   "id": "ce00eec0-3fa4-4e19-af3d-c9aef10759a5",
   "metadata": {},
   "outputs": [],
   "source": [
    "from gensim.models import CoherenceModel, LdaModel\n",
    "from gensim.utils import simple_preprocess\n",
    "from pathlib import Path\n",
    "import gensim\n",
    "import gensim.corpora as corpora\n",
    "import json\n",
    "import matplotlib.pyplot  as plt\n",
    "import numpy as np\n",
    "import os\n",
    "import pandas as pd\n",
    "import pyLDAvis\n",
    "import pyLDAvis.gensim\n",
    "import pyLDAvis.gensim_models as gensimvis\n",
    "nltk.download('punkt')\n",
    "nltk.download('punkt_tab')\n",
    "nltk.download('stopwords')\n",
    "nltk.download('wordnet')"
   ]
  },
  {
   "cell_type": "code",
   "execution_count": null,
   "id": "513b3d25-b894-4b7c-a99d-dee825e9e41c",
   "metadata": {},
   "outputs": [],
   "source": [
    "stop_words = set(stopwords.words('french'))"
   ]
  },
  {
   "cell_type": "markdown",
   "id": "2c5844e2-3cd7-4f72-b867-b2d863b4971a",
   "metadata": {},
   "source": [
    "# Utils LDA"
   ]
  },
  {
   "cell_type": "code",
   "execution_count": null,
   "id": "b373e614-2b35-4db2-9209-9b9f75eae331",
   "metadata": {},
   "outputs": [],
   "source": [
    "def lda_model(processed_texts, num_topics=5, passes=10):\n",
    "    os.environ[\"TOKENIZERS_PARALLELISM\"] = \"false\"\n",
    "    warnings.filterwarnings('ignore')\n",
    "    dictionary = corpora.Dictionary(processed_texts)\n",
    "    corpus = [dictionary.doc2bow(text) for text in processed_texts]\n",
    "    model = LdaModel(corpus=corpus, id2word=dictionary, num_topics=num_topics, random_state=42, passes=passes)\n",
    "    for topic in model.print_topics(num_words=5):\n",
    "        print(topic)\n",
    "    return model, corpus, dictionary\n",
    "    \n",
    "def visualize_lda(model, corpus, dictionary):\n",
    "    pyLDAvis.enable_notebook()\n",
    "    vis_data = gensimvis.prepare(model, corpus, dictionary)\n",
    "    return pyLDAvis.display(vis_data)"
   ]
  },
  {
   "cell_type": "code",
   "execution_count": null,
   "id": "2142c28d-3503-44ec-b1c1-6b33fba3b52b",
   "metadata": {},
   "outputs": [],
   "source": [
    "def compute_coherence_values(dictionary, corpus, texts, max_topics=10):\n",
    "    coherence_scores = []\n",
    "    for num_topics in range(2, max_topics + 1):\n",
    "        lda_model = LdaModel(corpus=corpus, id2word=dictionary, num_topics=num_topics, passes=10, random_state=42)\n",
    "        coherence_model = CoherenceModel(model=lda_model, texts=texts, dictionary=dictionary, coherence='c_v')\n",
    "        coherence_score = coherence_model.get_coherence()\n",
    "        coherence_scores.append((num_topics, coherence_score))\n",
    "        print(f\"Num Topics: {num_topics}, Coherence Score: {coherence_score:.4f}\")\n",
    "    \n",
    "    return coherence_scores"
   ]
  },
  {
   "cell_type": "markdown",
   "id": "c5c06391-ae80-4f5c-a70c-290cec46a898",
   "metadata": {},
   "source": [
    "# Pour HS"
   ]
  },
  {
   "cell_type": "code",
   "execution_count": null,
   "id": "76c835a3-733e-4935-aead-ecb75e2359b4",
   "metadata": {},
   "outputs": [],
   "source": [
    "df_hs = pd.read_parquet(\"processed_texts_hs.parquet\")\n",
    "processed_texts_hs = df_hs[\"processed_texts_hs\"].tolist()"
   ]
  },
  {
   "cell_type": "code",
   "execution_count": null,
   "id": "07ee78f9-d699-46cc-adef-723905ff6657",
   "metadata": {},
   "outputs": [],
   "source": [
    "model_hs, corpus_hs, dictionary_hs = lda_model(processed_texts_hs)"
   ]
  },
  {
   "cell_type": "code",
   "execution_count": null,
   "id": "25d4d8d9-0b91-467a-ae3f-192dd6c4bbfb",
   "metadata": {},
   "outputs": [],
   "source": [
    "visualize_lda(model_hs, corpus_hs, dictionary_hs)"
   ]
  },
  {
   "cell_type": "code",
   "execution_count": null,
   "id": "330192f3-f14b-420d-a50b-c71ad3cbf412",
   "metadata": {},
   "outputs": [],
   "source": [
    "#compute_coherence_values(dictionary_hs, corpus_hs, processed_texts_hs, max_topics=20)"
   ]
  },
  {
   "cell_type": "code",
   "execution_count": null,
   "id": "f1494ff4-dba8-4f21-b3d7-81c2fc33ca81",
   "metadata": {},
   "outputs": [],
   "source": [
    "model_hs, corpus_hs, dictionary_hs = lda_model(processed_texts_hs, num_topics= 18)"
   ]
  },
  {
   "cell_type": "code",
   "execution_count": null,
   "id": "11d2ce8c-1305-412b-af36-fede6558a461",
   "metadata": {},
   "outputs": [],
   "source": [
    "visualize_lda(model_hs, corpus_hs, dictionary_hs)"
   ]
  },
  {
   "cell_type": "markdown",
   "id": "d4eef58e-ff2f-46d4-a5a2-39685c6e1a9e",
   "metadata": {},
   "source": [
    "# Pour les données de santé"
   ]
  },
  {
   "cell_type": "code",
   "execution_count": null,
   "id": "eb2b74d3-2cef-46cb-b739-c481389e4316",
   "metadata": {},
   "outputs": [],
   "source": [
    "df_sante = pd.read_parquet(\"processed_texts_sante.parquet\")\n",
    "processed_texts_sante = df_hs[\"processed_texts_sante\"].tolist()"
   ]
  },
  {
   "cell_type": "code",
   "execution_count": null,
   "id": "983c5d45-75c0-48dc-b5cb-06cb2aa1c7ad",
   "metadata": {},
   "outputs": [],
   "source": [
    "model_sante, corpus_sante, dictionary_sante = lda_model(processed_texts_sante)"
   ]
  },
  {
   "cell_type": "code",
   "execution_count": null,
   "id": "2cab406d-9bcc-4c9f-aabf-1db3f3c62723",
   "metadata": {},
   "outputs": [],
   "source": [
    "visualize_lda(model_sante, corpus_sante, dictionary_sante)"
   ]
  },
  {
   "cell_type": "code",
   "execution_count": null,
   "id": "3b5dd0c7-1934-48cc-8f8d-aa32bee213de",
   "metadata": {},
   "outputs": [],
   "source": [
    "#compute_coherence_values(dictionary_sante, corpus_sante, processed_texts_sante, max_topics=20)"
   ]
  },
  {
   "cell_type": "code",
   "execution_count": null,
   "id": "6e5f6008-bef3-4208-a339-ce47052ff707",
   "metadata": {},
   "outputs": [],
   "source": [
    "model_sante, corpus_sante, dictionary_sante = lda_model(processed_texts_sante, num_topics= 17)"
   ]
  },
  {
   "cell_type": "code",
   "execution_count": null,
   "id": "f172ab58-98cf-46da-a56f-c4d9f424477f",
   "metadata": {},
   "outputs": [],
   "source": [
    "visualize_lda(model_sante, corpus_sante, dictionary_sante)"
   ]
  }
 ],
 "metadata": {
  "kernelspec": {
   "display_name": "Python (uv)",
   "language": "python",
   "name": "my-uv-env"
  },
  "language_info": {
   "codemirror_mode": {
    "name": "ipython",
    "version": 3
   },
   "file_extension": ".py",
   "mimetype": "text/x-python",
   "name": "python",
   "nbconvert_exporter": "python",
   "pygments_lexer": "ipython3",
   "version": "3.12.9"
  }
 },
 "nbformat": 4,
 "nbformat_minor": 5
}
