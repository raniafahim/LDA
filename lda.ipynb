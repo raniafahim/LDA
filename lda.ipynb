{
 "cells": [
  {
   "cell_type": "code",
   "execution_count": 1,
   "id": "d1e6ea1f-4200-409b-aabe-9ca9fbf768ba",
   "metadata": {
    "scrolled": true
   },
   "outputs": [],
   "source": [
    "!pip install -q nltk\n",
    "!pip install -q gensim\n",
    "!pip install -q pyLDAvis\n",
    "!pip install -q unidecode\n",
    "!pip install -q matplotlib \n",
    "!pip install -q seaborn"
   ]
  },
  {
   "cell_type": "code",
   "execution_count": 2,
   "id": "21aec5d9-6ec6-49e9-8f52-6f032fe7ad10",
   "metadata": {},
   "outputs": [],
   "source": [
    "!pip install -q langchain==0.2.16 langchain-community==0.2.16 langchain-huggingface==0.0.3 langchain-text-splitters==0.2.4 chromadb==0.5.3 langchain-chroma==0.1.3 pandas ipywidgets"
   ]
  },
  {
   "cell_type": "code",
   "execution_count": 15,
   "id": "ce00eec0-3fa4-4e19-af3d-c9aef10759a5",
   "metadata": {},
   "outputs": [
    {
     "name": "stderr",
     "output_type": "stream",
     "text": [
      "[nltk_data] Downloading package punkt to /home/onyxia/nltk_data...\n",
      "[nltk_data]   Package punkt is already up-to-date!\n",
      "[nltk_data] Downloading package punkt_tab to /home/onyxia/nltk_data...\n",
      "[nltk_data]   Package punkt_tab is already up-to-date!\n",
      "[nltk_data] Downloading package stopwords to /home/onyxia/nltk_data...\n",
      "[nltk_data]   Package stopwords is already up-to-date!\n",
      "[nltk_data] Downloading package wordnet to /home/onyxia/nltk_data...\n"
     ]
    },
    {
     "data": {
      "text/plain": [
       "True"
      ]
     },
     "execution_count": 15,
     "metadata": {},
     "output_type": "execute_result"
    }
   ],
   "source": [
    "import gensim\n",
    "import gensim.corpora as corpora\n",
    "from gensim.models import LdaModel\n",
    "from nltk.tokenize import word_tokenize\n",
    "from nltk.corpus import stopwords\n",
    "import nltk\n",
    "import pandas as pd\n",
    "from gensim.utils import simple_preprocess\n",
    "from gensim.parsing.preprocessing import STOPWORDS\n",
    "from gensim.models import CoherenceModel\n",
    "from nltk.stem import WordNetLemmatizer, SnowballStemmer\n",
    "from nltk.stem.porter import *\n",
    "import pyLDAvis\n",
    "import pyLDAvis.gensim\n",
    "import warnings\n",
    "from gensim.models import CoherenceModel\n",
    "import html \n",
    "import string\n",
    "from nltk.probability import FreqDist\n",
    "import matplotlib.pyplot  as plt\n",
    "from nltk import ngrams\n",
    "import seaborn as sns\n",
    "import re \n",
    "import unidecode\n",
    "import pyLDAvis.gensim_models as gensimvis\n",
    "import numpy as np\n",
    "from sklearn.metrics import confusion_matrix, classification_report\n",
    "from collections import defaultdict\n",
    "from collections import Counter\n",
    "import os\n",
    "from langchain_huggingface import HuggingFaceEmbeddings\n",
    "from langchain.vectorstores import Chroma\n",
    "from langchain_chroma import Chroma\n",
    "from langchain_text_splitters import CharacterTextSplitter, RecursiveCharacterTextSplitter\n",
    "import requests\n",
    "import json\n",
    "from langchain.chains import StuffDocumentsChain, RetrievalQA, LLMChain, create_retrieval_chain\n",
    "from langchain.chains.combine_documents import create_stuff_documents_chain\n",
    "from langchain.document_loaders import TextLoader\n",
    "from langchain.embeddings import OpenAIEmbeddings, OllamaEmbeddings\n",
    "from langchain.llms import Ollama, BaseLLM\n",
    "from langchain.schema import Document, Generation, LLMResult\n",
    "from langchain.vectorstores import Chroma\n",
    "from langchain_chroma import Chroma\n",
    "from langchain_community.llms import OpenAI\n",
    "from langchain_core.prompts import ChatPromptTemplate\n",
    "from langchain_huggingface import HuggingFaceEmbeddings\n",
    "from pathlib import Path\n",
    "from tqdm import tqdm\n",
    "from glob import glob\n",
    "from sklearn.metrics.pairwise import cosine_similarity\n",
    "from nltk.stem import WordNetLemmatizer\n",
    "# Download stopwords if not available\n",
    "nltk.download('punkt')\n",
    "nltk.download('punkt_tab')\n",
    "nltk.download('stopwords')\n",
    "nltk.download('wordnet')"
   ]
  },
  {
   "cell_type": "code",
   "execution_count": 10,
   "id": "513b3d25-b894-4b7c-a99d-dee825e9e41c",
   "metadata": {},
   "outputs": [
    {
     "data": {
      "text/plain": [
       "'!\"#$%&\\'()*+,-./:;<=>?@[\\\\]^_`{|}~'"
      ]
     },
     "execution_count": 10,
     "metadata": {},
     "output_type": "execute_result"
    }
   ],
   "source": [
    "stop_words = set(stopwords.words('french'))\n",
    "string.punctuation"
   ]
  },
  {
   "cell_type": "markdown",
   "id": "2c5844e2-3cd7-4f72-b867-b2d863b4971a",
   "metadata": {},
   "source": [
    "# Utils"
   ]
  },
  {
   "cell_type": "code",
   "execution_count": 11,
   "id": "1e0a2f1a-8226-414d-8769-07ee73cbd811",
   "metadata": {},
   "outputs": [],
   "source": [
    "DICTIONNARY =  ['accord','entreprise', 'preambule', 'sommaire',  'code', 'syndical', 'responsable', 'representant', \n",
    "                'present', 'ca', 'organisation', 'preambule', 'peut', 'etre', 'contrat','travail', 'ressources','humaines', 'mise',\n",
    "                'ainsi', 'et', 'ou', 'alors','collaborateur', 'ci', 'apres', 'party', 'signataire', 'tout', 'etat', 'cause', 'societe', \n",
    "                'notamment','article','activite', 'cette', 'donc', 'si', 'sous', 'disposition', 'convention', 'collective', 'dans', 'a', 'cadre',\n",
    "                'signataire', 'partie', 'parties', 'entre', 'doit'\n",
    "               ]\n",
    "\n",
    "DICTIONNARY_STEM = ['part', 'signatair', 'organis', 'syndical', \n",
    "                    'dont', 'sieg', 'social', 'conseil', 'prud', 'homm', \n",
    "                   'vi', 'professionnel', 'disposit', 'legal', 'conventionnel']"
   ]
  },
  {
   "cell_type": "code",
   "execution_count": 16,
   "id": "feac6426-07d7-4ca9-9766-7167511fd0a9",
   "metadata": {},
   "outputs": [],
   "source": [
    "def preprocess_text(text, lang=\"french\"):\n",
    "    # décoage HTML\n",
    "    text = html.unescape(text)\n",
    "    \n",
    "    # nettoyage de tous les cractères spéciaux\n",
    "    text = re.sub(r\"&[a-z]+;\", \" \", text)\n",
    "    text = re.sub(r\"&#\\d+;\", \" \", text)\n",
    "    text = re.sub(r\"[<>{}\\[\\]\\|\\^\\~`\\\"'=]+\", \" \", text)\n",
    "    text = re.sub(r\"[–—•«»]+\", \" \", text)  # Tirets longs, puces, guillemets français\n",
    "\n",
    "    # tokenisation\n",
    "    words = word_tokenize(text)\n",
    "\n",
    "    # lemming\n",
    "    #stemmer = SnowballStemmer(lang)\n",
    "                  \n",
    "    wnl = WordNetLemmatizer()\n",
    "    words_cleaned = []\n",
    "    for w in words:\n",
    "        w_norm = unidecode.unidecode(w.lower())\n",
    "\n",
    "        if (\n",
    "            w_norm not in stop_words\n",
    "            and w_norm not in DICTIONNARY\n",
    "            and w_norm not in string.punctuation\n",
    "            and not re.search(r\"[<>]|--+|__+|xx+|==+\", w_norm)\n",
    "            and not w_norm.isnumeric()\n",
    "            and len(w_norm) > 2\n",
    "        ):\n",
    "            words_cleaned.append(wnl.lemmatize(w_norm))\n",
    "            #words_cleaned.append(stemmer.stem(w_norm))\n",
    "\n",
    "    return words_cleaned\n"
   ]
  },
  {
   "cell_type": "code",
   "execution_count": 17,
   "id": "a38e64c9-9220-40dd-9c3b-9619d04c355f",
   "metadata": {},
   "outputs": [],
   "source": [
    "import unidecode\n",
    "import re\n",
    "\n",
    "def normalize(text):\n",
    "    return unidecode.unidecode(text.lower().strip())\n",
    "\n",
    "def split_text_by_sentences(text, flagged_sentences):\n",
    "    \"\"\"\n",
    "    Découpe le texte en segments basés sur les titres du sommaire, après normalisation.\n",
    "    \"\"\"\n",
    "    split_texts = []\n",
    "    positions = []\n",
    "\n",
    "    normalized_text = normalize(text)\n",
    "\n",
    "    # On garde un mapping (titre original, position) pour préserver les titres initiaux\n",
    "    for sentence in flagged_sentences:\n",
    "        norm_sentence = normalize(sentence)\n",
    "        pos = normalized_text.find(norm_sentence)\n",
    "        if pos != -1:\n",
    "            # On retrouve la position réelle dans le texte original\n",
    "            real_pos = text.lower().find(sentence.lower())\n",
    "            if real_pos != -1:\n",
    "                positions.append(real_pos)\n",
    "\n",
    "    # Si aucune position trouvée, retourner le texte complet\n",
    "    if not positions:\n",
    "        return [text]\n",
    "\n",
    "    positions = sorted(set(positions))\n",
    "    positions.insert(0, 0)\n",
    "    positions.append(len(text))\n",
    "\n",
    "    for i in range(len(positions) - 1):\n",
    "        start = positions[i]\n",
    "        end = positions[i + 1]\n",
    "        split_texts.append(text[start:end].strip())\n",
    "\n",
    "    return split_texts\n",
    "\n"
   ]
  },
  {
   "cell_type": "code",
   "execution_count": 18,
   "id": "95a62d37-f783-4eba-8865-7be84570e5e2",
   "metadata": {},
   "outputs": [
    {
     "name": "stdout",
     "output_type": "stream",
     "text": [
      "['revision', 'tous', 'deux', 'an', 'partenaires', 'sociaux', 'reunissent', 'suivi']\n"
     ]
    }
   ],
   "source": [
    "text = \"Révision-- de l&rsquo;accord : &gt;&gt;' Tous les deux ans, les partenaires sociaux se réunissent. << Suivi de l’accord.\"\n",
    "print(preprocess_text(text))\n"
   ]
  },
  {
   "cell_type": "code",
   "execution_count": 35,
   "id": "6db94316-bff0-439c-a1b3-025ad4324336",
   "metadata": {},
   "outputs": [],
   "source": [
    "def split_text_with_titles(text, summary_titles):\n",
    "    chunks = split_text_by_sentences(text, summary_titles)\n",
    "    result = {}\n",
    "    for title in summary_titles:\n",
    "        for chunk in chunks:\n",
    "            if normalize(title) in normalize(chunk[:len(title)+30]):\n",
    "                result[title] = chunk.strip()\n",
    "                break\n",
    "    return result\n"
   ]
  },
  {
   "cell_type": "code",
   "execution_count": 19,
   "id": "c5dcf11e-dc9d-4b74-869f-3e1e2afaa07a",
   "metadata": {},
   "outputs": [
    {
     "data": {
      "application/vnd.jupyter.widget-view+json": {
       "model_id": "1aeb4a4f812e46d2bfaacaea5806d535",
       "version_major": 2,
       "version_minor": 0
      },
      "text/plain": [
       "modules.json:   0%|          | 0.00/349 [00:00<?, ?B/s]"
      ]
     },
     "metadata": {},
     "output_type": "display_data"
    },
    {
     "data": {
      "application/vnd.jupyter.widget-view+json": {
       "model_id": "f6f4d68f335645628440d351b294c2e1",
       "version_major": 2,
       "version_minor": 0
      },
      "text/plain": [
       "config_sentence_transformers.json:   0%|          | 0.00/124 [00:00<?, ?B/s]"
      ]
     },
     "metadata": {},
     "output_type": "display_data"
    },
    {
     "data": {
      "application/vnd.jupyter.widget-view+json": {
       "model_id": "8d60d452caa44e5b9d00ee2bd1fb1256",
       "version_major": 2,
       "version_minor": 0
      },
      "text/plain": [
       "README.md:   0%|          | 0.00/94.8k [00:00<?, ?B/s]"
      ]
     },
     "metadata": {},
     "output_type": "display_data"
    },
    {
     "data": {
      "application/vnd.jupyter.widget-view+json": {
       "model_id": "6248d0137ed54e30b0dcd80d982e3fc9",
       "version_major": 2,
       "version_minor": 0
      },
      "text/plain": [
       "sentence_bert_config.json:   0%|          | 0.00/52.0 [00:00<?, ?B/s]"
      ]
     },
     "metadata": {},
     "output_type": "display_data"
    },
    {
     "data": {
      "application/vnd.jupyter.widget-view+json": {
       "model_id": "c46178dfb8b344018a70169561c271e6",
       "version_major": 2,
       "version_minor": 0
      },
      "text/plain": [
       "config.json:   0%|          | 0.00/743 [00:00<?, ?B/s]"
      ]
     },
     "metadata": {},
     "output_type": "display_data"
    },
    {
     "data": {
      "application/vnd.jupyter.widget-view+json": {
       "model_id": "c2f91df19f274e2e8f17ab2b517ec867",
       "version_major": 2,
       "version_minor": 0
      },
      "text/plain": [
       "model.safetensors:   0%|          | 0.00/133M [00:00<?, ?B/s]"
      ]
     },
     "metadata": {},
     "output_type": "display_data"
    },
    {
     "data": {
      "application/vnd.jupyter.widget-view+json": {
       "model_id": "58f3406ef6e443f6a0b0e36de91a2cf9",
       "version_major": 2,
       "version_minor": 0
      },
      "text/plain": [
       "tokenizer_config.json:   0%|          | 0.00/366 [00:00<?, ?B/s]"
      ]
     },
     "metadata": {},
     "output_type": "display_data"
    },
    {
     "data": {
      "application/vnd.jupyter.widget-view+json": {
       "model_id": "5dc722a9e2de459dbeaab12a927d10ff",
       "version_major": 2,
       "version_minor": 0
      },
      "text/plain": [
       "vocab.txt:   0%|          | 0.00/232k [00:00<?, ?B/s]"
      ]
     },
     "metadata": {},
     "output_type": "display_data"
    },
    {
     "data": {
      "application/vnd.jupyter.widget-view+json": {
       "model_id": "e35afe7fcf064822bb024dded21ffdb9",
       "version_major": 2,
       "version_minor": 0
      },
      "text/plain": [
       "tokenizer.json:   0%|          | 0.00/711k [00:00<?, ?B/s]"
      ]
     },
     "metadata": {},
     "output_type": "display_data"
    },
    {
     "data": {
      "application/vnd.jupyter.widget-view+json": {
       "model_id": "e0eea5cbd44344f0b379e27f0cd8b8fb",
       "version_major": 2,
       "version_minor": 0
      },
      "text/plain": [
       "special_tokens_map.json:   0%|          | 0.00/125 [00:00<?, ?B/s]"
      ]
     },
     "metadata": {},
     "output_type": "display_data"
    },
    {
     "data": {
      "application/vnd.jupyter.widget-view+json": {
       "model_id": "ad8356b8778741f38129ee6b63a9891d",
       "version_major": 2,
       "version_minor": 0
      },
      "text/plain": [
       "config.json:   0%|          | 0.00/190 [00:00<?, ?B/s]"
      ]
     },
     "metadata": {},
     "output_type": "display_data"
    }
   ],
   "source": [
    "#model_kwargs = {'device': 'cuda'} \n",
    "model_kwargs = {'device': 'cpu'}  \n",
    "MODEL_NAME_EMBEDDER=\"BAAI/bge-small-en-v1.5\"  #petit modèle en anglais\n",
    "#MODEL_NAME_EMBEDDER=\"BAAI/bge-m3\" #gros modèle multilingue\n",
    "\n",
    "embedder = HuggingFaceEmbeddings(\n",
    "    model_name=MODEL_NAME_EMBEDDER, \n",
    "    model_kwargs=model_kwargs,\n",
    "    show_progress=False\n",
    ")\n",
    "\n",
    "\n",
    "phrases_non_metier = [\n",
    "    \"Révision de l’accord\",\n",
    "    \"Dénonciation de l’accord\",\n",
    "    \"Interprétation de l’accord\",\n",
    "    \"Suivi de l’accord\",\n",
    "    \"Durée de l’accord\",\n",
    "    \"Formalités de publicité et de dépôt\",\n",
    "    \"Publicité et dépôt\",\n",
    "    \"Date d'effet et durée\",\n",
    "    \"Champ d'application\",\n",
    "    \"Clause de revoyure\", \n",
    "    \"Information des représentants du personnel\", \n",
    "    \"Dispositions relatives à l’accord\",\n",
    "    \"Champ d’application\",\n",
    "    \"Commission de suivi\", \n",
    "    \"Pause déjeuner du personnel\", \n",
    "    \"Modification de l'accord\",\n",
    "    \"Adhésion\"\n",
    "    \n",
    "]\n",
    "\n",
    "# Embeddings des phrases non-métier\n",
    "ref_embeddings = embedder.embed_documents(phrases_non_metier)\n",
    "\n",
    "def filtre_par_similarite(phrases, seuil=0.85):##torp long utiliser version vectoisée\n",
    "    results = []\n",
    "    for phrase in phrases:\n",
    "        emb = embedder.embed_query(phrase)\n",
    "        sims = cosine_similarity([emb], ref_embeddings)[0]\n",
    "        if max(sims) < seuil:\n",
    "            results.append(phrase) \n",
    "    return results\n",
    "\n",
    "def filtre_par_similarite_vectorise(phrases, seuil=0.85):\n",
    "    if not phrases:\n",
    "        return []\n",
    "\n",
    "    phrase_embeddings = embedder.embed_documents(phrases)  \n",
    "    sims = cosine_similarity(phrase_embeddings, ref_embeddings)\n",
    "\n",
    "    # On garde les phrases dont la similarité max avec une phrase non-métier est < seuil\n",
    "    keep_idx = np.max(sims, axis=1) < seuil\n",
    "    return [phrase for phrase, keep in zip(phrases, keep_idx) if keep]\n",
    "\n",
    "    \n",
    "def filtre_chunks_par_titre(section_dict, phrases_non_metier, seuil=0.85): #seuil arbitraire : en tester plsr\n",
    "    \"\"\"\n",
    "    Ne garde que les chunks dont le titre est peu similaire aux phrases non métier.\n",
    "    \"\"\"\n",
    "    if not section_dict:\n",
    "        return []\n",
    "\n",
    "    titres = list(section_dict.keys())\n",
    "    chunks = list(section_dict.values())\n",
    "\n",
    "    # Embeddings des titres de section\n",
    "    titre_embeddings = embedder.embed_documents(titres)\n",
    "    ref_embeddings = embedder.embed_documents(phrases_non_metier)\n",
    "\n",
    "    sims = cosine_similarity(titre_embeddings, ref_embeddings)\n",
    "\n",
    "    # On garde les chunks dont le titre est peu similaire aux phrases non métier\n",
    "    keep_idx = np.max(sims, axis=1) < seuil\n",
    "    return [chunk.strip() for chunk, keep in zip(chunks, keep_idx) if keep]\n",
    "\n"
   ]
  },
  {
   "cell_type": "code",
   "execution_count": 20,
   "id": "4482d905-e003-40e2-a4ae-ebd659b79bf4",
   "metadata": {},
   "outputs": [
    {
     "name": "stdout",
     "output_type": "stream",
     "text": [
      "[0.63650263 0.66394968 0.66619561 0.61153919 0.63388938 0.66112126\n",
      " 0.64194487 0.6602614  0.64244291 0.65178487 0.63551024 0.685193\n",
      " 0.65209934 0.55713831 0.60657047 0.64007168 0.67933923]\n"
     ]
    }
   ],
   "source": [
    "phase_1 =\"Publicité et dépôt\"\n",
    "phase_2='ARTICLE 7 - PUBLICITE ET DEPOT'\n",
    "\n",
    "phase_2_embeddings=embedder.embed_documents(phase_2)\n",
    "\n",
    "sims = cosine_similarity(ref_embeddings, phase_2_embeddings)\n",
    "print(np.max(sims, axis=1))\n"
   ]
  },
  {
   "cell_type": "code",
   "execution_count": 21,
   "id": "fcc9b346-ff18-4e1b-8329-8267e4d6aa10",
   "metadata": {},
   "outputs": [
    {
     "data": {
      "text/plain": [
       "['Article 5: Contingent annuel d’heures supplémentaires']"
      ]
     },
     "execution_count": 21,
     "metadata": {},
     "output_type": "execute_result"
    }
   ],
   "source": [
    "filtre_par_similarite_vectorise([\"Article 8 – Révision de l’accord\", 'Article 5: Contingent annuel d’heures supplémentaires']) "
   ]
  },
  {
   "cell_type": "code",
   "execution_count": 22,
   "id": "3a87ac56-c1df-4bb9-aeb4-8f7cbc0d7523",
   "metadata": {},
   "outputs": [
    {
     "data": {
      "text/plain": [
       "['Article 5: Contingent annuel d’heures supplémentaires',\n",
       " 'Article 4 – Information du Comité Social et Economique']"
      ]
     },
     "execution_count": 22,
     "metadata": {},
     "output_type": "execute_result"
    }
   ],
   "source": [
    "#pas parfait \n",
    "filtre_par_similarite_vectorise([\"Article 8 – Révision de l’accord\", 'Article 5: Contingent annuel d’heures supplémentaires', 'Article 4 – Information du Comité Social et Economique', 'Article 5 - Dispositions relatives à l’accord']) "
   ]
  },
  {
   "cell_type": "code",
   "execution_count": 23,
   "id": "3ae27aae-f103-429f-b2c9-414b5d2ff3ef",
   "metadata": {},
   "outputs": [],
   "source": [
    "def get_valid_chunks_filtered(section_dict, skip_titles=[\"préambule\", \"annexe\"], seuil_sim=0.85):\n",
    "    skip_titles_norm = [normalize(t) for t in skip_titles]\n",
    "\n",
    "    # supprimer le préambule et avant \n",
    "    titles = list(section_dict.keys())\n",
    "    preamble_idx = next((i for i, t in enumerate(titles) if \"préambule\" in normalize(t)), -1)\n",
    "    if preamble_idx != -1:\n",
    "        titles = titles[preamble_idx + 1:]\n",
    "\n",
    "    # garder les titres valides uniquement\n",
    "    valid_titles = [\n",
    "        t for t in titles if all(skip_kw not in normalize(t) for skip_kw in skip_titles_norm)\n",
    "    ]\n",
    "    candidate_dict = {t: section_dict[t] for t in valid_titles}\n",
    "\n",
    "    # filtrer par similarité des titres\n",
    "    return filtre_chunks_par_titre(candidate_dict, phrases_non_metier, seuil=seuil_sim)\n"
   ]
  },
  {
   "cell_type": "code",
   "execution_count": 24,
   "id": "a281ddc0-129d-415d-859b-1a3ec1dc124f",
   "metadata": {},
   "outputs": [],
   "source": [
    "mots_cles_non_metier = [\n",
    "    \"modification\", \"publicité\", \"dépôt\", \"champ d'application\", \"durée\", \n",
    "    \"revoyure\", \"révision\", \"suivi\", \"commission\", \"clause\", \n",
    "    \"formalité\", \"interprétation\", \"information\"\n",
    "]\n",
    "\n",
    "def titre_est_administratif(titre):\n",
    "    titre_clean = normalize(titre)\n",
    "    return any(mot in titre_clean for mot in mots_cles_non_metier)\n",
    "\n",
    "def get_valid_chunks_filtered_bis(section_dict, skip_titles=[\"préambule\", \"annexe\"], seuil_sim=0.85):\n",
    "    skip_titles_norm = [normalize(t) for t in skip_titles]\n",
    "\n",
    "    # Extraire tous les titres\n",
    "    all_titles = list(section_dict.keys())\n",
    "\n",
    "    # Chercher l'index du préambule\n",
    "    preamble_idx = next((i for i, t in enumerate(all_titles) if \"préambule\" in normalize(t)), -1)\n",
    "\n",
    "    # Garder seulement les sections à partir du préambule (exclut tout ce qui est avant)\n",
    "    if preamble_idx != -1:\n",
    "        filtered_section_dict = {t: section_dict[t] for t in all_titles[preamble_idx:]}\n",
    "    else:\n",
    "        filtered_section_dict = section_dict  # Si pas de préambule, on garde tout\n",
    "\n",
    "    # Garder les titres valides (pas dans les titres à ignorer)\n",
    "    valid_titles = [\n",
    "        t for t in filtered_section_dict.keys()\n",
    "        if all(skip_kw not in normalize(t) for skip_kw in skip_titles_norm)\n",
    "    ]\n",
    "    candidate_dict = {t: filtered_section_dict[t] for t in valid_titles}\n",
    "\n",
    "    if not candidate_dict:\n",
    "        return []\n",
    "\n",
    "    # Embeddings des titres\n",
    "    titres = list(candidate_dict.keys())\n",
    "    chunks = list(candidate_dict.values())\n",
    "\n",
    "    titre_embeddings = embedder.embed_documents(titres)\n",
    "    ref_embeddings = embedder.embed_documents(phrases_non_metier)\n",
    "\n",
    "    sims = cosine_similarity(titre_embeddings, ref_embeddings)\n",
    "    keep_sim = np.max(sims, axis=1) < seuil_sim\n",
    "\n",
    "    # Filtrage combiné : similarité + heuristique\n",
    "    results = [\n",
    "        chunk.strip()\n",
    "        for titre, chunk, keep in zip(titres, chunks, keep_sim)\n",
    "        if keep and not titre_est_administratif(titre)\n",
    "    ]\n",
    "    return results\n"
   ]
  },
  {
   "cell_type": "code",
   "execution_count": 25,
   "id": "626eb3f0-b066-4f48-9e7f-dbc8a2f3b6e3",
   "metadata": {},
   "outputs": [],
   "source": [
    "## exemple d'utilisaton \n",
    "\n",
    "dict ={'Préambule :  ': 'Préambule :  \\n\\nConformément aux dispositions du code du travail, la Direction a invité le CSE, en l’absence d’organisations syndicales représentatives dans la structure  à participer à une négociation collective.\\n\\nAux termes des réunions en date des 10/10/2022, 16/11/2022 et 12/12/2022 ayant permis de rapprocher les points de vue de chacun, les parties ont abouti à la conclusion du présent accord.',\n",
    " 'Article 1 – Champ d’application et bénéficiaires\\xa0:  ': 'Article 1 – Champ d’application et bénéficiaires\\xa0:  \\n\\nLe présent accord concerne l’ensemble des établissements de l’HADVR.\\n\\nIl concerne tous les salariés quel que soit leur contrat (CDD ou CDI), quelle que soit leur durée de travail et quel que soit leur métier.\\nPar ailleurs, pour répondre aux aspirations des salariés d’une part et aux contraintes inhérentes d’une HAD, les parties se sont accordées pour poursuivre les négociations tout au long de l’année 2023 en vue de la conclusion éventuelle d’un accord sur l’aménagement du temps de travail au sein de la structure.',\n",
    " 'Article 2\\xa0: Rémunération et temps de travail': 'Article 2\\xa0: Rémunération et temps de travail',\n",
    " '2-1\\xa0: Prime de partage de la valeur': \"2-1\\xa0: Prime de partage de la valeur\\n\\nDe nombreux investissements matériels et humains ont été réalisés au cours de l’année 2022 pour répondre aux besoins de la structure. Ces investissements auront pour conséquence un budget 2022 non équilibré. \\nLe conseil d’administration de la structure, conscient des efforts des professionnels pour poursuivre la montée en charge du nombre de patients accueillis en HAD a répondu favorablement pour le versement d’une prime de partage de la valeur de 300 euros à l’ensemble du personnel excepté la Direction, dans les conditions énoncées ci-après.\\n\\nAfin de bénéficier des exonérations de cotisation sociales et de l’impôt sur le revenu, est éligible le personnel qui, à la date de versement de la prime, c’est-à-dire au 28 février 2023 :\\nLié par un contrat de travail ou d’apprentissage ;\\nTravailleurs handicapés liés par un contrat de soutien et d’aide par le travail à un ESAT\\xa0;\\nLes intérimaires ;\\nAyant une rémunération brute inférieure à 3 SMIC conformément aux dispositions légales au cours des 12 mois précédant la date de versement de la prime. \\n\\nLe salaire annuel brut s’entend de la rémunération annuelle brute (variable et primes inclus) reconstituée en équivalent temps plein sur la période allant de février 2022 à janvier 2023, soit 12 mois. \\nIl convient de préciser que la prime versée est calculée au prorata\\xa0de la durée de présence effective et du temps de travail contractuel sur la période précitée. \\nPar ailleurs et conformément aux dispositions légales, les absences pour congé de maternité, de paternité et d'accueil de l'enfant ou d'adoption, les absences pour congé parental d'éducation, pour enfant malade et pour congé de présence parentale, ainsi que les absences pour accident du travail et maladie professionnelle, sont assimilées à des périodes de présence effective et ne seront donc pas décomptées dans le calcul du temps de travail effectif. \\nLa prime sera versée en seule fois avec la paie du mois de février 2023 et figurera sur le bulletin de salaire du mois de versement.\\nLa prime ne se substituera à aucun des éléments de rémunération, ni à des augmentations salariales ou prime prévues par un accord, par contrat de travail ou usages en vigueur.\",\n",
    " '2-2\\xa0: Prime «\\xa0bas salaires\\xa0»\\xa0:': '2-2\\xa0: Prime «\\xa0bas salaires\\xa0»\\xa0:\\n\\nLe 28 juin 2022 le Ministre de la transformation et de la fonction publique a annoncé une hausse du point d’indice pour les trois versants de la fonction publique applicable en une fois dès le 1er juillet 2022. Les partenaires sociaux de la branche se sont réunis afin de transposer dans la CCN51 la revalorisation intervenue dans la fonction publique. A l’issue des différentes réunions de négociation qui se sont tenues, aucune organisation syndicale n’a été signataire des textes mis à la signature. La FEHAP a pris une recommandation patronale réévaluant la valeur du point dans la CCN51 en date du 23 novembre 2022. \\nDans le contexte inflationniste des derniers mois, compte tenu de la concurrence accrue avec le secteur public, des tensions en matière de recrutement et de la nécessité de fidélisation des professionnels, il est décidé de mettre en en place, par accord d’entreprise, une mesure ciblée pour les «\\xa0bas salaires\\xa0», en sus de l’augmentation de la valeur du point CCN51.\\n\\n\\nLe conseil d’administration de la structure, conscient que la revalorisation de la valeur du point conventionnel à effet rétroactif au 1er juillet 2022 ne bénéficiera pas au personnel dont le coefficient et donc la rémunération reste à la valeur du SMIC, a répondu favorablement pour le versement d’une prime de 150 euros brute exceptionnelle pour les personnels concernés par ces coefficients au prorata de leur temps de travail contractuel. Cette prime permettra de «\\xa0compenser\\xa0» la régularisation de la différence sur la valeur du point du 1er juillet au 31 décembre 2022 dont ils ne pourront bénéficier, et sera versée en une fois, en même temps que la régularisation de la valeur du point faite pour les autres membres du personnel sur la paie de janvier 2023.\\n\\nLes bénéficiaires de la mesure sont tous les professionnels qu’ils soient à temps complet ou à temps partiel, en contrat à durée indéterminée ou en contrat à durée déterminée, qui, au 1er juillet 2022, après application de la valeur du point résultant de la recommandation patronale FEHAP du 23 novembre 2022, sont concernés par l’application de l’article 08-02 de la CCN51 relatif au salaire minimum conventionnel.\\n\\nCette prime est exclue de l’assiette de calcul de toutes les primes et indemnités prévues par la Convention Collective nationale du 31 octobre 1951.',\n",
    " '2-3\\xa0: Récupération des heures de fériés et fixation du jour de solidarité pour 2023\\xa0:': '2-3\\xa0: Récupération des heures de fériés et fixation du jour de solidarité pour 2023\\xa0:\\n\\nLa recommandation patronale du 4 septembre 2012\\xa0de la CCN51 avait créé 2 catégories de personnel concernant l’avantage du férié récupéré\\xa0: le personnel présent au 1er décembre 2011 ayant pu continuer à bénéficier des anciennes dispositions de la convention du fait d’avantages individuels acquis, et le personnel arrivé après le 1er décembre 2011 qui a dû se voir attribuer les nouveaux critères prévus dans la recommandation patronale. Cela a engendré un souci d’équité.\\n\\nA compter du 1er janvier 2023, tous les salariés, sans condition d’ancienneté, récupéreront les heures de fériés qu’elles soient travaillées ou non selon les modalités prévues dans la recommandation patronale du 4 septembre 2012.\\n\\nAu 1er janvier 2023, le don de la journée de solidarité se fera par le biais de la suppression d’une récupération de jour férié (hormis celle due au titre du 1er mai éventuellement générée).\\nSi le salarié apporte la preuve (bulletin de salaire faisant mention, attestation, …) qu’il a déjà effectué sous quelque forme que ce soit la journée solidarité au titre de l’année concernée auprès d’un autre employeur, il n’aura pas à l’effectuer au sein de la structure.\\nLe salarié ayant plusieurs employeurs effectue sa journée de solidarité chez chacun d’eux au prorata de sa durée contractuelle de travail, de ce fait si le salarié apporte la preuve (bulletin de salaire faisant mention, attestation, …) qu’il a effectué au prorata sa journée ou son don pour la journée solidarité, il ne l’effectuera qu’au prorata au sein de la structure.\\nLa journée de solidarité sera évoquée sur le bulletin de salaire de manière à pouvoir apporter la preuve qu’elle a été effectuée dans la structure.\\nCas du salarié qui n’a pas pu obtenir de récupération de férié\\xa0(pas de férié tombant sur un repos, suspension de contrat ou congé payé durant un férié)\\xa0: celui-ci donnera un RTT s’il est concerné par ce dispositif. S’il n’en a pas, il pourra donner un repos conventionnel (tel qu’un repos compensateur de nuit par exemple), sinon il effectuera 7 heures supplémentaires (ou moins selon son temps contractuel) selon les modalités à convenir avec son supérieur hiérarchique de manière à valider son don pour la journée de solidarité.',\n",
    " '2-4 : Revalorisation des heures supplémentaires\\xa0:': '2-4 : Revalorisation des heures supplémentaires\\xa0:\\n\\nAfin de récompenser les salariés qui accepteraient de remplacer un collègue absent au «\\xa0pied levé\\xa0», les parties ont convenu de valoriser les heures supplémentaires à hauteur de 150% au lieu de 125% pour toute demande effectuée le vendredi pour le week-end et le lundi, et 24h avant en semaine.',\n",
    " '2-5\\xa0: Prime parrainage\\xa0:': '2-5\\xa0: Prime parrainage\\xa0:\\n\\nLa prime de parrainage accordée en 2022 pour toute aide au recrutement de la part des salariés par présentation d’un candidat n’est pas reconduite pour l’année 2023.\\nToutefois, une prime de parrainage de 2\\xa0500€ brut, est accordée pour toute aide au recrutement d’un médecin praticien d’HAD (0,80 à 1 ETP) et versée à la fin de la période d’essai du professionnel.',\n",
    " 'Article 3\\xa0: conditions de travail': 'Article 3\\xa0: conditions de travail\\n\\n3-1\\xa0: Casiers nominatifs sur chaque antenne\\xa0:\\n\\nDe nouvelles antennes et locaux ont été aménagés en 2022. Pour répondre à la problématique d’accueil de nouveaux collaborateurs et le travail en mobilité sur plusieurs antennes, les parties se sont accordées sur l’agencement de bureaux partagés nécessitant la mise à disposition de casiers nominatifs au sein de chaque antenne.\\nLa direction s’engage à réaliser les achats nécessaires pour la mise à disposition de ces casiers nominatifs au sein de chaque antenne dès l’agencement terminé.',\n",
    " '3-2\\xa0: pause déjeuner du personnel\\xa0:': '3-2\\xa0: pause déjeuner du personnel\\xa0:\\n\\nLa demande des salariés est de réduire le temps de présence journalier sur leur lieu de travail et de diminuer le temps accordé à la pause repas à 30 mn au lieu d’une heure.\\n\\nLes parties s’accordent sur une pause de 30 mn à condition que cela n’affecte pas le fonctionnement du service. Les horaires de travail seront ajustés par les responsables en fonction de l’amplitude de la pause repas et devront correspondre aux besoins de l’établissement.',\n",
    " '3-3\\xa0: utilisation voitures de service\\xa0:': '3-3\\xa0: utilisation voitures de service\\xa0:\\n\\nLe personnel soignant pourra garder le véhicule de service en cas de travail sur 2 jours consécutifs, par nécessité de service. En contrepartie, le salarié s’engage, par tout moyen, à restituer le véhicule de service en cas d’absence non programmée. Cf modalités dans le règlement intérieur des véhicules de service signé par le personnel avec attestation de remisage.',\n",
    " 'Article 4 – Information du Comité Social et Economique': 'Article 4 – Information du Comité Social et Economique\\nLe CSE sera informé du présent accord lors de réunion du 19 janvier 2023, dans le cadre de sa mission au titre de l’article L2312-8 du code du travail.',\n",
    " 'Article 5 - Dispositions relatives à l’accord ': 'Article 5 - Dispositions relatives à l’accord \\nLe présent accord entre en application après son dépôt sur la plateforme de téléprocédure en application des conditions légales et réglementaires en vigueur, pour une durée indéterminée.\\nLe présent accord est également déposé au secrétariat-greffe du Conseil des Prud’hommes de Libourne.\\nIl pourra être révisé conformément aux dispositions légales.\\nIl fait l’objet des mesures de publicité prévues par les dispositions légales et réglementaires sur les lieux d’affichage habituels.\\n\\nFait à Libourne, le 19 janvier 2023, \\n\\n\\nSignature de la Direction\\xa0:\\n\\n\\nSignatures des membres titulaires du CSE\\xa0:'}"
   ]
  },
  {
   "cell_type": "code",
   "execution_count": 26,
   "id": "1fd122a1-f3f9-49c9-a106-264dd0da0a8c",
   "metadata": {},
   "outputs": [
    {
     "name": "stdout",
     "output_type": "stream",
     "text": [
      "['Article 2\\xa0: Rémunération et temps de travail', \"2-1\\xa0: Prime de partage de la valeur\\n\\nDe nombreux investissements matériels et humains ont été réalisés au cours de l’année 2022 pour répondre aux besoins de la structure. Ces investissements auront pour conséquence un budget 2022 non équilibré. \\nLe conseil d’administration de la structure, conscient des efforts des professionnels pour poursuivre la montée en charge du nombre de patients accueillis en HAD a répondu favorablement pour le versement d’une prime de partage de la valeur de 300 euros à l’ensemble du personnel excepté la Direction, dans les conditions énoncées ci-après.\\n\\nAfin de bénéficier des exonérations de cotisation sociales et de l’impôt sur le revenu, est éligible le personnel qui, à la date de versement de la prime, c’est-à-dire au 28 février 2023 :\\nLié par un contrat de travail ou d’apprentissage ;\\nTravailleurs handicapés liés par un contrat de soutien et d’aide par le travail à un ESAT\\xa0;\\nLes intérimaires ;\\nAyant une rémunération brute inférieure à 3 SMIC conformément aux dispositions légales au cours des 12 mois précédant la date de versement de la prime. \\n\\nLe salaire annuel brut s’entend de la rémunération annuelle brute (variable et primes inclus) reconstituée en équivalent temps plein sur la période allant de février 2022 à janvier 2023, soit 12 mois. \\nIl convient de préciser que la prime versée est calculée au prorata\\xa0de la durée de présence effective et du temps de travail contractuel sur la période précitée. \\nPar ailleurs et conformément aux dispositions légales, les absences pour congé de maternité, de paternité et d'accueil de l'enfant ou d'adoption, les absences pour congé parental d'éducation, pour enfant malade et pour congé de présence parentale, ainsi que les absences pour accident du travail et maladie professionnelle, sont assimilées à des périodes de présence effective et ne seront donc pas décomptées dans le calcul du temps de travail effectif. \\nLa prime sera versée en seule fois avec la paie du mois de février 2023 et figurera sur le bulletin de salaire du mois de versement.\\nLa prime ne se substituera à aucun des éléments de rémunération, ni à des augmentations salariales ou prime prévues par un accord, par contrat de travail ou usages en vigueur.\", '2-2\\xa0: Prime «\\xa0bas salaires\\xa0»\\xa0:\\n\\nLe 28 juin 2022 le Ministre de la transformation et de la fonction publique a annoncé une hausse du point d’indice pour les trois versants de la fonction publique applicable en une fois dès le 1er juillet 2022. Les partenaires sociaux de la branche se sont réunis afin de transposer dans la CCN51 la revalorisation intervenue dans la fonction publique. A l’issue des différentes réunions de négociation qui se sont tenues, aucune organisation syndicale n’a été signataire des textes mis à la signature. La FEHAP a pris une recommandation patronale réévaluant la valeur du point dans la CCN51 en date du 23 novembre 2022. \\nDans le contexte inflationniste des derniers mois, compte tenu de la concurrence accrue avec le secteur public, des tensions en matière de recrutement et de la nécessité de fidélisation des professionnels, il est décidé de mettre en en place, par accord d’entreprise, une mesure ciblée pour les «\\xa0bas salaires\\xa0», en sus de l’augmentation de la valeur du point CCN51.\\n\\n\\nLe conseil d’administration de la structure, conscient que la revalorisation de la valeur du point conventionnel à effet rétroactif au 1er juillet 2022 ne bénéficiera pas au personnel dont le coefficient et donc la rémunération reste à la valeur du SMIC, a répondu favorablement pour le versement d’une prime de 150 euros brute exceptionnelle pour les personnels concernés par ces coefficients au prorata de leur temps de travail contractuel. Cette prime permettra de «\\xa0compenser\\xa0» la régularisation de la différence sur la valeur du point du 1er juillet au 31 décembre 2022 dont ils ne pourront bénéficier, et sera versée en une fois, en même temps que la régularisation de la valeur du point faite pour les autres membres du personnel sur la paie de janvier 2023.\\n\\nLes bénéficiaires de la mesure sont tous les professionnels qu’ils soient à temps complet ou à temps partiel, en contrat à durée indéterminée ou en contrat à durée déterminée, qui, au 1er juillet 2022, après application de la valeur du point résultant de la recommandation patronale FEHAP du 23 novembre 2022, sont concernés par l’application de l’article 08-02 de la CCN51 relatif au salaire minimum conventionnel.\\n\\nCette prime est exclue de l’assiette de calcul de toutes les primes et indemnités prévues par la Convention Collective nationale du 31 octobre 1951.', '2-3\\xa0: Récupération des heures de fériés et fixation du jour de solidarité pour 2023\\xa0:\\n\\nLa recommandation patronale du 4 septembre 2012\\xa0de la CCN51 avait créé 2 catégories de personnel concernant l’avantage du férié récupéré\\xa0: le personnel présent au 1er décembre 2011 ayant pu continuer à bénéficier des anciennes dispositions de la convention du fait d’avantages individuels acquis, et le personnel arrivé après le 1er décembre 2011 qui a dû se voir attribuer les nouveaux critères prévus dans la recommandation patronale. Cela a engendré un souci d’équité.\\n\\nA compter du 1er janvier 2023, tous les salariés, sans condition d’ancienneté, récupéreront les heures de fériés qu’elles soient travaillées ou non selon les modalités prévues dans la recommandation patronale du 4 septembre 2012.\\n\\nAu 1er janvier 2023, le don de la journée de solidarité se fera par le biais de la suppression d’une récupération de jour férié (hormis celle due au titre du 1er mai éventuellement générée).\\nSi le salarié apporte la preuve (bulletin de salaire faisant mention, attestation, …) qu’il a déjà effectué sous quelque forme que ce soit la journée solidarité au titre de l’année concernée auprès d’un autre employeur, il n’aura pas à l’effectuer au sein de la structure.\\nLe salarié ayant plusieurs employeurs effectue sa journée de solidarité chez chacun d’eux au prorata de sa durée contractuelle de travail, de ce fait si le salarié apporte la preuve (bulletin de salaire faisant mention, attestation, …) qu’il a effectué au prorata sa journée ou son don pour la journée solidarité, il ne l’effectuera qu’au prorata au sein de la structure.\\nLa journée de solidarité sera évoquée sur le bulletin de salaire de manière à pouvoir apporter la preuve qu’elle a été effectuée dans la structure.\\nCas du salarié qui n’a pas pu obtenir de récupération de férié\\xa0(pas de férié tombant sur un repos, suspension de contrat ou congé payé durant un férié)\\xa0: celui-ci donnera un RTT s’il est concerné par ce dispositif. S’il n’en a pas, il pourra donner un repos conventionnel (tel qu’un repos compensateur de nuit par exemple), sinon il effectuera 7 heures supplémentaires (ou moins selon son temps contractuel) selon les modalités à convenir avec son supérieur hiérarchique de manière à valider son don pour la journée de solidarité.', '2-4 : Revalorisation des heures supplémentaires\\xa0:\\n\\nAfin de récompenser les salariés qui accepteraient de remplacer un collègue absent au «\\xa0pied levé\\xa0», les parties ont convenu de valoriser les heures supplémentaires à hauteur de 150% au lieu de 125% pour toute demande effectuée le vendredi pour le week-end et le lundi, et 24h avant en semaine.', '2-5\\xa0: Prime parrainage\\xa0:\\n\\nLa prime de parrainage accordée en 2022 pour toute aide au recrutement de la part des salariés par présentation d’un candidat n’est pas reconduite pour l’année 2023.\\nToutefois, une prime de parrainage de 2\\xa0500€ brut, est accordée pour toute aide au recrutement d’un médecin praticien d’HAD (0,80 à 1 ETP) et versée à la fin de la période d’essai du professionnel.', 'Article 3\\xa0: conditions de travail\\n\\n3-1\\xa0: Casiers nominatifs sur chaque antenne\\xa0:\\n\\nDe nouvelles antennes et locaux ont été aménagés en 2022. Pour répondre à la problématique d’accueil de nouveaux collaborateurs et le travail en mobilité sur plusieurs antennes, les parties se sont accordées sur l’agencement de bureaux partagés nécessitant la mise à disposition de casiers nominatifs au sein de chaque antenne.\\nLa direction s’engage à réaliser les achats nécessaires pour la mise à disposition de ces casiers nominatifs au sein de chaque antenne dès l’agencement terminé.', '3-3\\xa0: utilisation voitures de service\\xa0:\\n\\nLe personnel soignant pourra garder le véhicule de service en cas de travail sur 2 jours consécutifs, par nécessité de service. En contrepartie, le salarié s’engage, par tout moyen, à restituer le véhicule de service en cas d’absence non programmée. Cf modalités dans le règlement intérieur des véhicules de service signé par le personnel avec attestation de remisage.']\n"
     ]
    }
   ],
   "source": [
    "print(get_valid_chunks_filtered_bis(dict, skip_titles=[\"préambule\", \"annexe\"], seuil_sim=0.85))"
   ]
  },
  {
   "cell_type": "code",
   "execution_count": 27,
   "id": "034efc36-5f75-40c1-a0c0-800e43257d8e",
   "metadata": {},
   "outputs": [
    {
     "name": "stdout",
     "output_type": "stream",
     "text": [
      "['Article 1 – Champ d’application et bénéficiaires\\xa0:  \\n\\nLe présent accord concerne l’ensemble des établissements de l’HADVR.\\n\\nIl concerne tous les salariés quel que soit leur contrat (CDD ou CDI), quelle que soit leur durée de travail et quel que soit leur métier.\\nPar ailleurs, pour répondre aux aspirations des salariés d’une part et aux contraintes inhérentes d’une HAD, les parties se sont accordées pour poursuivre les négociations tout au long de l’année 2023 en vue de la conclusion éventuelle d’un accord sur l’aménagement du temps de travail au sein de la structure.', 'Article 2\\xa0: Rémunération et temps de travail', \"2-1\\xa0: Prime de partage de la valeur\\n\\nDe nombreux investissements matériels et humains ont été réalisés au cours de l’année 2022 pour répondre aux besoins de la structure. Ces investissements auront pour conséquence un budget 2022 non équilibré. \\nLe conseil d’administration de la structure, conscient des efforts des professionnels pour poursuivre la montée en charge du nombre de patients accueillis en HAD a répondu favorablement pour le versement d’une prime de partage de la valeur de 300 euros à l’ensemble du personnel excepté la Direction, dans les conditions énoncées ci-après.\\n\\nAfin de bénéficier des exonérations de cotisation sociales et de l’impôt sur le revenu, est éligible le personnel qui, à la date de versement de la prime, c’est-à-dire au 28 février 2023 :\\nLié par un contrat de travail ou d’apprentissage ;\\nTravailleurs handicapés liés par un contrat de soutien et d’aide par le travail à un ESAT\\xa0;\\nLes intérimaires ;\\nAyant une rémunération brute inférieure à 3 SMIC conformément aux dispositions légales au cours des 12 mois précédant la date de versement de la prime. \\n\\nLe salaire annuel brut s’entend de la rémunération annuelle brute (variable et primes inclus) reconstituée en équivalent temps plein sur la période allant de février 2022 à janvier 2023, soit 12 mois. \\nIl convient de préciser que la prime versée est calculée au prorata\\xa0de la durée de présence effective et du temps de travail contractuel sur la période précitée. \\nPar ailleurs et conformément aux dispositions légales, les absences pour congé de maternité, de paternité et d'accueil de l'enfant ou d'adoption, les absences pour congé parental d'éducation, pour enfant malade et pour congé de présence parentale, ainsi que les absences pour accident du travail et maladie professionnelle, sont assimilées à des périodes de présence effective et ne seront donc pas décomptées dans le calcul du temps de travail effectif. \\nLa prime sera versée en seule fois avec la paie du mois de février 2023 et figurera sur le bulletin de salaire du mois de versement.\\nLa prime ne se substituera à aucun des éléments de rémunération, ni à des augmentations salariales ou prime prévues par un accord, par contrat de travail ou usages en vigueur.\", '2-2\\xa0: Prime «\\xa0bas salaires\\xa0»\\xa0:\\n\\nLe 28 juin 2022 le Ministre de la transformation et de la fonction publique a annoncé une hausse du point d’indice pour les trois versants de la fonction publique applicable en une fois dès le 1er juillet 2022. Les partenaires sociaux de la branche se sont réunis afin de transposer dans la CCN51 la revalorisation intervenue dans la fonction publique. A l’issue des différentes réunions de négociation qui se sont tenues, aucune organisation syndicale n’a été signataire des textes mis à la signature. La FEHAP a pris une recommandation patronale réévaluant la valeur du point dans la CCN51 en date du 23 novembre 2022. \\nDans le contexte inflationniste des derniers mois, compte tenu de la concurrence accrue avec le secteur public, des tensions en matière de recrutement et de la nécessité de fidélisation des professionnels, il est décidé de mettre en en place, par accord d’entreprise, une mesure ciblée pour les «\\xa0bas salaires\\xa0», en sus de l’augmentation de la valeur du point CCN51.\\n\\n\\nLe conseil d’administration de la structure, conscient que la revalorisation de la valeur du point conventionnel à effet rétroactif au 1er juillet 2022 ne bénéficiera pas au personnel dont le coefficient et donc la rémunération reste à la valeur du SMIC, a répondu favorablement pour le versement d’une prime de 150 euros brute exceptionnelle pour les personnels concernés par ces coefficients au prorata de leur temps de travail contractuel. Cette prime permettra de «\\xa0compenser\\xa0» la régularisation de la différence sur la valeur du point du 1er juillet au 31 décembre 2022 dont ils ne pourront bénéficier, et sera versée en une fois, en même temps que la régularisation de la valeur du point faite pour les autres membres du personnel sur la paie de janvier 2023.\\n\\nLes bénéficiaires de la mesure sont tous les professionnels qu’ils soient à temps complet ou à temps partiel, en contrat à durée indéterminée ou en contrat à durée déterminée, qui, au 1er juillet 2022, après application de la valeur du point résultant de la recommandation patronale FEHAP du 23 novembre 2022, sont concernés par l’application de l’article 08-02 de la CCN51 relatif au salaire minimum conventionnel.\\n\\nCette prime est exclue de l’assiette de calcul de toutes les primes et indemnités prévues par la Convention Collective nationale du 31 octobre 1951.', '2-3\\xa0: Récupération des heures de fériés et fixation du jour de solidarité pour 2023\\xa0:\\n\\nLa recommandation patronale du 4 septembre 2012\\xa0de la CCN51 avait créé 2 catégories de personnel concernant l’avantage du férié récupéré\\xa0: le personnel présent au 1er décembre 2011 ayant pu continuer à bénéficier des anciennes dispositions de la convention du fait d’avantages individuels acquis, et le personnel arrivé après le 1er décembre 2011 qui a dû se voir attribuer les nouveaux critères prévus dans la recommandation patronale. Cela a engendré un souci d’équité.\\n\\nA compter du 1er janvier 2023, tous les salariés, sans condition d’ancienneté, récupéreront les heures de fériés qu’elles soient travaillées ou non selon les modalités prévues dans la recommandation patronale du 4 septembre 2012.\\n\\nAu 1er janvier 2023, le don de la journée de solidarité se fera par le biais de la suppression d’une récupération de jour férié (hormis celle due au titre du 1er mai éventuellement générée).\\nSi le salarié apporte la preuve (bulletin de salaire faisant mention, attestation, …) qu’il a déjà effectué sous quelque forme que ce soit la journée solidarité au titre de l’année concernée auprès d’un autre employeur, il n’aura pas à l’effectuer au sein de la structure.\\nLe salarié ayant plusieurs employeurs effectue sa journée de solidarité chez chacun d’eux au prorata de sa durée contractuelle de travail, de ce fait si le salarié apporte la preuve (bulletin de salaire faisant mention, attestation, …) qu’il a effectué au prorata sa journée ou son don pour la journée solidarité, il ne l’effectuera qu’au prorata au sein de la structure.\\nLa journée de solidarité sera évoquée sur le bulletin de salaire de manière à pouvoir apporter la preuve qu’elle a été effectuée dans la structure.\\nCas du salarié qui n’a pas pu obtenir de récupération de férié\\xa0(pas de férié tombant sur un repos, suspension de contrat ou congé payé durant un férié)\\xa0: celui-ci donnera un RTT s’il est concerné par ce dispositif. S’il n’en a pas, il pourra donner un repos conventionnel (tel qu’un repos compensateur de nuit par exemple), sinon il effectuera 7 heures supplémentaires (ou moins selon son temps contractuel) selon les modalités à convenir avec son supérieur hiérarchique de manière à valider son don pour la journée de solidarité.', '2-4 : Revalorisation des heures supplémentaires\\xa0:\\n\\nAfin de récompenser les salariés qui accepteraient de remplacer un collègue absent au «\\xa0pied levé\\xa0», les parties ont convenu de valoriser les heures supplémentaires à hauteur de 150% au lieu de 125% pour toute demande effectuée le vendredi pour le week-end et le lundi, et 24h avant en semaine.', '2-5\\xa0: Prime parrainage\\xa0:\\n\\nLa prime de parrainage accordée en 2022 pour toute aide au recrutement de la part des salariés par présentation d’un candidat n’est pas reconduite pour l’année 2023.\\nToutefois, une prime de parrainage de 2\\xa0500€ brut, est accordée pour toute aide au recrutement d’un médecin praticien d’HAD (0,80 à 1 ETP) et versée à la fin de la période d’essai du professionnel.', 'Article 3\\xa0: conditions de travail\\n\\n3-1\\xa0: Casiers nominatifs sur chaque antenne\\xa0:\\n\\nDe nouvelles antennes et locaux ont été aménagés en 2022. Pour répondre à la problématique d’accueil de nouveaux collaborateurs et le travail en mobilité sur plusieurs antennes, les parties se sont accordées sur l’agencement de bureaux partagés nécessitant la mise à disposition de casiers nominatifs au sein de chaque antenne.\\nLa direction s’engage à réaliser les achats nécessaires pour la mise à disposition de ces casiers nominatifs au sein de chaque antenne dès l’agencement terminé.', '3-3\\xa0: utilisation voitures de service\\xa0:\\n\\nLe personnel soignant pourra garder le véhicule de service en cas de travail sur 2 jours consécutifs, par nécessité de service. En contrepartie, le salarié s’engage, par tout moyen, à restituer le véhicule de service en cas d’absence non programmée. Cf modalités dans le règlement intérieur des véhicules de service signé par le personnel avec attestation de remisage.', 'Article 4 – Information du Comité Social et Economique\\nLe CSE sera informé du présent accord lors de réunion du 19 janvier 2023, dans le cadre de sa mission au titre de l’article L2312-8 du code du travail.']\n"
     ]
    }
   ],
   "source": [
    "print(get_valid_chunks_filtered(dict, skip_titles=[\"préambule\", \"annexe\"], seuil_sim=0.85))"
   ]
  },
  {
   "cell_type": "code",
   "execution_count": 28,
   "id": "b373e614-2b35-4db2-9209-9b9f75eae331",
   "metadata": {},
   "outputs": [],
   "source": [
    "def lda_model(processed_texts, num_topics=5, passes=10):\n",
    "    os.environ[\"TOKENIZERS_PARALLELISM\"] = \"false\"\n",
    "    warnings.filterwarnings('ignore')\n",
    "    dictionary = corpora.Dictionary(processed_texts)\n",
    "    corpus = [dictionary.doc2bow(text) for text in processed_texts]\n",
    "    model = LdaModel(corpus=corpus, id2word=dictionary, num_topics=num_topics, random_state=42, passes=passes)\n",
    "    for topic in model.print_topics(num_words=5):\n",
    "        print(topic)\n",
    "    return model, corpus, dictionary\n",
    "    \n",
    "def visualize_lda(model, corpus, dictionary):\n",
    "    pyLDAvis.enable_notebook()\n",
    "    vis_data = gensimvis.prepare(model, corpus, dictionary)\n",
    "    return pyLDAvis.display(vis_data)"
   ]
  },
  {
   "cell_type": "code",
   "execution_count": 29,
   "id": "2142c28d-3503-44ec-b1c1-6b33fba3b52b",
   "metadata": {},
   "outputs": [],
   "source": [
    "def compute_coherence_values(dictionary, corpus, texts, max_topics=10):\n",
    "    coherence_scores = []\n",
    "    for num_topics in range(2, max_topics + 1):\n",
    "        lda_model = LdaModel(corpus=corpus, id2word=dictionary, num_topics=num_topics, passes=10, random_state=42)\n",
    "        coherence_model = CoherenceModel(model=lda_model, texts=texts, dictionary=dictionary, coherence='c_v')\n",
    "        coherence_score = coherence_model.get_coherence()\n",
    "        coherence_scores.append((num_topics, coherence_score))\n",
    "        print(f\"Num Topics: {num_topics}, Coherence Score: {coherence_score:.4f}\")\n",
    "    \n",
    "    return coherence_scores"
   ]
  },
  {
   "cell_type": "markdown",
   "id": "c5c06391-ae80-4f5c-a70c-290cec46a898",
   "metadata": {},
   "source": [
    "# Pour HS"
   ]
  },
  {
   "cell_type": "code",
   "execution_count": 30,
   "id": "76c835a3-733e-4935-aead-ecb75e2359b4",
   "metadata": {},
   "outputs": [],
   "source": [
    "sommaire_hs = pd.read_parquet(\"data/echantillon_1000_hs_accords_TOC.parquet\")\n",
    "df_hs = pd.read_parquet(\"data/echantillon_1000_hs_accords.parquet\")\n",
    "#sommaire_hs"
   ]
  },
  {
   "cell_type": "code",
   "execution_count": 33,
   "id": "e53ac9e9-96bd-424c-855c-ba79fdd89469",
   "metadata": {},
   "outputs": [
    {
     "data": {
      "text/plain": [
       "array(['ACCORD D’ENTREPRISE RELATIF',\n",
       "       'AU CONTINGENT ANNUEL D’HEURES SUPPLEMENTAIRES',\n",
       "       'ET A LA DUREE MAXIMALE JOURNALIERE DE TRAVAIL', 'PREAMBULE',\n",
       "       'Article 1\\xa0: Objet', 'Article 2\\xa0: Champ d’application',\n",
       "       'Article\\xa03\\xa0: Définition du temps de travail effectif',\n",
       "       'Article 4\\xa0: Accomplissement d’heures supplémentaires',\n",
       "       'Article 5\\xa0: Contingent annuel d’heures supplémentaires',\n",
       "       'Article 6\\xa0: Durée maximale journalière de travail',\n",
       "       'Article 7\\xa0: Durée de l’accord',\n",
       "       'Article 8 – Révision de l’accord',\n",
       "       'Article 9 – Dénonciation de l’accord',\n",
       "       'Article 10 – Interprétation de l’accord ',\n",
       "       'Article 11 – Suivi de l’accord',\n",
       "       'Article 12\\xa0: Formalités de publicité et de dépôt'],\n",
       "      dtype=object)"
      ]
     },
     "execution_count": 33,
     "metadata": {},
     "output_type": "execute_result"
    }
   ],
   "source": [
    "df_hs[\"summary\"] = sommaire_hs[\"extracted_summary\"]\n",
    "\n",
    "df_hs[\"summary\"][50]"
   ]
  },
  {
   "cell_type": "code",
   "execution_count": 36,
   "id": "6da5cd9a-2f5e-44b6-9fd7-883633872180",
   "metadata": {},
   "outputs": [],
   "source": [
    "df_hs[\"section_dict\"] = df_hs.apply(\n",
    "    lambda row: split_text_with_titles(row[\"accorddocx\"], row[\"summary\"]),\n",
    "    axis=1\n",
    ")\n",
    "\n",
    "#df_hs[\"section_dict\"][0]"
   ]
  },
  {
   "cell_type": "code",
   "execution_count": 37,
   "id": "72406b6a-514c-417d-8d01-0f944719e0a2",
   "metadata": {},
   "outputs": [],
   "source": [
    "# Application dans le DataFrame\n",
    "df_hs[\"lda_documents\"] = df_hs[\"section_dict\"].apply(get_valid_chunks_filtered)\n",
    "# Nettoyage NLP + lemming\n",
    "all_chunks_hs = [chunk for doc_chunks in df_hs[\"lda_documents\"] for chunk in doc_chunks]\n",
    "processed_texts_hs = [preprocess_text(doc) for doc in all_chunks_hs]"
   ]
  },
  {
   "cell_type": "code",
   "execution_count": null,
   "id": "8f953e59-7727-4a06-8a40-18f3b8babe66",
   "metadata": {
    "scrolled": true
   },
   "outputs": [],
   "source": [
    "#df_hs[\"lda_documents\"][0]\n",
    "# toujours \"Article 4 – Information du Comité Social et Economique\" mais le reste a été filtré"
   ]
  },
  {
   "cell_type": "code",
   "execution_count": 38,
   "id": "07ee78f9-d699-46cc-adef-723905ff6657",
   "metadata": {},
   "outputs": [
    {
     "name": "stdout",
     "output_type": "stream",
     "text": [
      "(0, '0.022*\"salarie\" + 0.012*\"salary\" + 0.011*\"delai\" + 0.010*\"ca\" + 0.010*\"jours\"')\n",
      "(1, '0.031*\"temp\" + 0.021*\"salary\" + 0.009*\"service\" + 0.009*\"prime\" + 0.008*\"nuit\"')\n",
      "(2, '0.108*\"heures\" + 0.037*\"duree\" + 0.033*\"supplementaires\" + 0.031*\"temp\" + 0.022*\"repos\"')\n",
      "(3, '0.063*\"jours\" + 0.029*\"conge\" + 0.025*\"periode\" + 0.024*\"nombre\" + 0.024*\"salarie\"')\n",
      "(4, '0.013*\"depot\" + 0.012*\"personnel\" + 0.012*\"part\" + 0.011*\"social\" + 0.010*\"duree\"')\n"
     ]
    }
   ],
   "source": [
    "model_hs, corpus_hs, dictionary_hs = lda_model(processed_texts_hs)"
   ]
  },
  {
   "cell_type": "code",
   "execution_count": 39,
   "id": "25d4d8d9-0b91-467a-ae3f-192dd6c4bbfb",
   "metadata": {},
   "outputs": [
    {
     "data": {
      "text/html": [
       "\n",
       "<link rel=\"stylesheet\" type=\"text/css\" href=\"https://cdn.jsdelivr.net/gh/bmabey/pyLDAvis@3.4.0/pyLDAvis/js/ldavis.v1.0.0.css\">\n",
       "\n",
       "\n",
       "<div id=\"ldavis_el15411397297187843361516590744\" style=\"background-color:white;\"></div>\n",
       "<script type=\"text/javascript\">\n",
       "\n",
       "var ldavis_el15411397297187843361516590744_data = {\"mdsDat\": {\"x\": [-0.16719911813102542, -0.1534562865444655, -0.0055687460724463045, -0.0036502578621163896, 0.32987440861005357], \"y\": [0.06121995340914326, 0.12992971330999173, -0.11202600088747262, -0.1668586681993981, 0.08773500236773558], \"topics\": [1, 2, 3, 4, 5], \"cluster\": [1, 1, 1, 1, 1], \"Freq\": [25.532288074007738, 23.388549777663865, 21.396755921342688, 20.58017784587661, 9.102228381109091]}, \"tinfo\": {\"Term\": [\"heures\", \"jours\", \"supplementaires\", \"conge\", \"nombre\", \"periode\", \"duree\", \"paye\", \"repos\", \"absence\", \"reference\", \"annee\", \"hebdomadaire\", \"temp\", \"remuneration\", \"contingent\", \"personnel\", \"salarie\", \"au-dela\", \"prime\", \"forfait\", \"depot\", \"nuit\", \"delai\", \"semaine\", \"part\", \"travailles\", \"suivi\", \"effectuees\", \"cours\", \"paye\", \"rtt\", \"lissee\", \"rupture\", \"jrtt\", \"regularisation\", \"lissage\", \"fractionnement\", \"chomes\", \"jnt\", \"renonciation\", \"independante\", \"arrivees\", \"temporis\", \"proportionnellement\", \"tombant\", \"lisse\", \"perdus\", \"renoncer\", \"regularisee\", \"operee\", \"paternite\", \"reportes\", \"arrondi\", \"soldes\", \"dus\", \"proportionnelle\", \"complets\", \"calcules\", \"accoles\", \"conge\", \"prorata\", \"nombre\", \"acquis\", \"acquisition\", \"solde\", \"travailles\", \"feries\", \"maladie\", \"jours\", \"absence\", \"departs\", \"incidence\", \"remuneration\", \"reel\", \"ouvrables\", \"annee\", \"pris\", \"reellement\", \"cours\", \"forfait\", \"depart\", \"reference\", \"periode\", \"solidarite\", \"ouvres\", \"travaillees\", \"non\", \"base\", \"prise\", \"salarie\", \"1er\", \"compte\", \"repos\", \"mois\", \"salaire\", \"ca\", \"journee\", \"decembre\", \"annuelle\", \"jour\", \"salary\", \"annuel\", \"chaque\", \"temp\", \"duree\", \"compensateur\", \"majorations\", \"majorees\", \"compensees\", \"deshabillage\", \"coupures\", \"afferentes\", \"3121-1\", \"cor\", \"compensent\", \"complementaires\", \"3121-33\", \"36eme\", \"43eme\", \"1.607\", \"l.3121-1\", \"44eme\", \"l.3121-33\", \"maximale\", \"amenage\", \"3121-30\", \"iii-\", \"contingent\", \"35h00\", \"11h\", \"differees\", \"reglees\", \"l3121-33\", \"appreciees\", \"heures\", \"supplementaires\", \"constituent\", \"effectuees\", \"modulation\", \"haute\", \"au-dela\", \"realisees\", \"accomplies\", \"ouvrent\", \"demandees\", \"majoration\", \"consecutives\", \"heure\", \"quotidienne\", \"minimale\", \"declenchement\", \"hebdomadaire\", \"paiement\", \"moyenne\", \"seuil\", \"remplacement\", \"semaine\", \"legale\", \"duree\", \"pause\", \"effectif\", \"payee\", \"semaines\", \"repos\", \"temp\", \"contrepartie\", \"hebdomadaires\", \"horaire\", \"periode\", \"annuel\", \"conformement\", \"salarie\", \"partiel\", \"salary\", \"disposition\", \"reference\", \"ca\", \"mois\", \"prime\", \"nuit\", \"astreinte\", \"trajet\", \"deplacement\", \"rendre\", \"chantier\", \"frais\", \"travailleurs\", \"travailleur\", \"bruts\", \"chantiers\", \"classification\", \"emplois\", \"revalorisation\", \"category\", \"conducteur\", \"coefficient\", \"vehicule\", \"ouvrier\", \"age\", \"participation\", \"carriere\", \"enfants\", \"garde\", \"livraison\", \"vente\", \"promotion\", \"vrp\", \"panier\", \"domicile\", \"astreintes\", \"equipes\", \"EUR\", \"matin\", \"equipe\", \"intervention\", \"deplacements\", \"postes\", \"poste\", \"formation\", \"enfant\", \"repas\", \"cadre\", \"emploi\", \"montant\", \"indemnite\", \"an\", \"client\", \"service\", \"autonomie\", \"temp\", \"salary\", \"personnel\", \"plage\", \"dimanche\", \"concernes\", \"jour\", \"dont\", \"sein\", \"comme\", \"titre\", \"disposition\", \"plus\", \"partiel\", \"journee\", \"horaire\", \"salarie\", \"condition\", \"compte\", \"denonciation\", \"deconnexion\", \"teletravail\", \"outils\", \"numeriques\", \"denonce\", \"articulation\", \"difficultes\", \"entretiens\", \"familiale\", \"teletravailleur\", \"privee\", \"message\", \"raisonnable\", \"alerte\", \"revise\", \"difficulte\", \"messagerie\", \"reponse\", \"personnelle\", \"notifiee\", \"mail\", \"portable\", \"envoi\", \"adressee\", \"courriel\", \"appels\", \"courriels\", \"raisonnables\", \"surcharge\", \"modification\", \"entretien\", \"veiller\", \"revision\", \"vie\", \"reception\", \"suivi\", \"lettre\", \"delai\", \"delais\", \"programmation\", \"prevenance\", \"recommandee\", \"charge\", \"hierarchique\", \"communication\", \"urgence\", \"ecrit\", \"planning\", \"demande\", \"devra\", \"respect\", \"pourra\", \"afin\", \"signataires\", \"salarie\", \"professionnelle\", \"droit\", \"ca\", \"horaires\", \"disposition\", \"salary\", \"direction\", \"condition\", \"chaque\", \"mois\", \"jours\", \"objet\", \"repos\", \"temp\", \"plus\", \"employeur\", \"duree\", \"representee\", \"depose\", \"prud\", \"monsieur\", \"publicite\", \"delegue\", \"greffe\", \"version\", \"majorite\", \"syndicale\", \"plateforme\", \"proces-verbal\", \"rue\", \"numero\", \"president\", \"paris\", \"syndicat\", \"sa\", \"immatriculee\", \"soussignes\", \"direccte\", \"vote\", \"ministere\", \"cfdt\", \"denommee\", \"election\", \"teleprocedure\", \"cgt\", \"madame\", \"registre\", \"syndicales\", \"conseil\", \"hommes\", \"organisation\", \"entrera\", \"exemplaire\", \"depot\", \"exemplaires\", \"social\", \"part\", \"relatif\", \"comite\", \"siege\", \"negociation\", \"qualite\", \"consultation\", \"representative\", \"situe\", \"conclu\", \"personnel\", \"vigueur\", \"ete\", \"dont\", \"fait\", \"autre\", \"aupres\", \"duree\", \"ensemble\", \"application\", \"disposition\", \"salary\", \"direction\"], \"Freq\": [31698.0, 22718.0, 10071.0, 9270.0, 7826.0, 12632.0, 15554.0, 4472.0, 13319.0, 5532.0, 6493.0, 8955.0, 4979.0, 21862.0, 5756.0, 3178.0, 4397.0, 18018.0, 3119.0, 2389.0, 5523.0, 1621.0, 2207.0, 3194.0, 4560.0, 1694.0, 2518.0, 2230.0, 2436.0, 4904.0, 4471.3314133637805, 1528.3420451713525, 797.5899091958014, 798.291044531443, 751.6381007297858, 612.9720560273842, 472.449382183538, 399.68761388947854, 373.45985331239706, 369.395662415125, 286.5265348500396, 276.02912069314345, 263.7383773760474, 259.3224144872987, 219.85357149735944, 203.01535679776163, 195.05660216541102, 167.40131661492973, 160.3332140680639, 150.51177218133338, 136.2865748683657, 133.41088719346362, 136.82505352115518, 133.73426634238723, 117.24968486173417, 108.84575928893021, 106.05629936305411, 104.13841394111444, 98.56577117023514, 95.79972256633563, 8974.87096662234, 774.0164779562112, 7574.181535804618, 1224.9380273716033, 851.9319851095239, 1078.069443733182, 2443.965818154799, 1534.7216030389789, 1000.0412410814071, 19821.989035815423, 5014.380364943254, 373.3523035604641, 365.95425282655185, 4885.7574306695715, 403.33186077742164, 373.5679869788298, 6958.007511628237, 1967.14094565628, 588.8346728649506, 3797.534954603082, 4222.199036791215, 1188.1025110444905, 4602.835673736754, 7966.052979683666, 1103.746426958322, 999.613304742362, 1132.9658734751574, 2705.7780440692686, 2172.035959723572, 2216.3225170254545, 7421.966703995288, 1953.2249493182876, 2270.410663121074, 5190.369275612169, 3027.833166864559, 1659.3974212726002, 3213.1325942328745, 2027.7172577164897, 1286.2421888558206, 1558.4177293128405, 1848.0968367946589, 3018.252005794499, 1814.3480384921436, 1815.563164566239, 2461.842214587723, 1602.073221019058, 1765.2340184999955, 810.5694070099062, 470.4103541548405, 207.53744573015027, 172.9682222569402, 165.13425327361654, 143.41860464808966, 106.63038177990151, 94.80709306667829, 92.27103047897657, 1724.1420537184601, 80.14320665184175, 74.22620923687182, 69.49925812349443, 114.04593466072589, 62.09577365214611, 61.09232802809637, 58.172721525249074, 1018.8951605784221, 129.4428097987467, 50.130430398850564, 54.36681403922536, 3122.728832962791, 43.79034496940272, 45.29106923876065, 43.18047658845975, 41.16064773795796, 40.201409767594896, 40.45340885521393, 31060.158309104125, 9561.680611807285, 538.9235170823131, 2334.7974219951548, 597.4118768253442, 310.2591504969351, 2954.478222174083, 918.356417130673, 967.6312315639312, 215.29183341497608, 163.56220085974797, 1741.4389929508943, 1377.9992093150918, 1969.8500566592638, 668.4130376432216, 723.5040899729987, 302.8533258907853, 4296.882242773263, 987.1075717674531, 1644.8561470935053, 371.220999294602, 1120.7905804620634, 3572.1438319839913, 1032.9428560695396, 10509.767371814476, 1424.5181472841734, 3484.923664884222, 617.7188980223867, 1672.8242347425414, 6395.4284808652465, 9039.045870454445, 1177.502610738308, 1062.3027221764896, 2213.4239903831335, 4154.240730031741, 2243.07336459552, 1545.9627189941589, 3783.9760435390003, 1563.0054527261611, 2989.746059461769, 1906.3493621850064, 1890.214065868012, 1351.6446111811586, 1304.979381356489, 2388.808065626462, 2206.9048712834683, 1234.90346446836, 1019.9317775772992, 686.635753463023, 452.2315424082138, 446.413394663415, 446.0284398927394, 392.26095960313125, 342.9264382545212, 283.4546114993455, 279.5799853059007, 238.62351352262556, 223.76056488528934, 204.2775014541585, 271.7868761508257, 197.25216099401004, 192.72306275678415, 189.95903122965598, 188.01234428394554, 186.06285894612287, 177.92291737849155, 196.1585095979686, 178.9261791801315, 176.30315297358806, 160.37129500817548, 159.21717999239735, 152.8313715263378, 145.87871280230675, 142.21681028467302, 700.9450486314198, 546.7304609383441, 511.56858758919645, 1163.2771044712154, 322.4942917280547, 838.7354907237307, 977.9995691607012, 471.60323594998135, 296.3545874663837, 1237.400180735848, 982.5997587909862, 539.9131495836326, 494.8742060025978, 1613.0022662195097, 1239.6102682505934, 749.8425926412349, 998.9830448085603, 709.8332313162326, 672.1977628409833, 2398.106923822567, 688.5443486341345, 8065.147855932401, 5617.171933159546, 2143.7599331504493, 627.7779520459624, 879.1251887078352, 967.8926943568862, 1413.9715664746866, 1257.3368436490853, 902.7156036305324, 1044.4174333077517, 1117.56550694355, 1363.169158483243, 1085.5542255270245, 1039.7355856781257, 1056.5627609100945, 1020.170084367885, 1293.3823360682543, 916.6533090266477, 862.9353740400104, 1133.573208446937, 1073.2508810670342, 1038.492766793698, 912.3422553180883, 504.8422009178144, 464.28450775467564, 412.573461473619, 396.71767077021735, 381.1930198277272, 369.08675372988864, 330.97432340458676, 333.6106159668048, 324.52299604336594, 299.8874568509839, 265.00002833859935, 257.1922546190991, 253.3754548395816, 252.9703035624177, 306.78264739532574, 701.210167698612, 234.70863850300032, 226.70523140160952, 206.3517849769495, 205.36835254229433, 193.6232602904602, 182.87391121237164, 179.44636317721424, 177.43194679120202, 167.55951357370267, 163.29805636983247, 1797.1791719594733, 1423.039073101424, 284.2539654434167, 1560.6076553558241, 1540.003508157213, 813.325907116927, 2077.9132073459555, 649.1057072608146, 2694.924038264844, 450.74101802366533, 589.4866657833611, 1051.1845063446253, 433.714250997744, 2228.9362360643963, 1419.2640151110807, 748.6433130406692, 555.195330023496, 782.732558531594, 1091.0460029437158, 2211.944886314138, 1320.2187212294773, 1201.242326052226, 2012.7136504769235, 1633.8477574579117, 947.3279344124613, 5518.664355742113, 1065.6116924030357, 1731.972555168382, 2609.703954420749, 1354.6613746521416, 2035.0752476067685, 2910.0568072171345, 1457.8194261292463, 1444.9881354522847, 1671.034837915665, 1859.1374009458264, 2481.9191298211526, 1283.7209244954229, 1733.7289461113069, 1822.0978728591072, 1269.6675613100392, 1275.32008790662, 1511.6092076279072, 835.5549526808411, 702.6756714487436, 702.6725489770422, 585.2795824777916, 644.7082333002093, 544.6952565383382, 490.61248543356413, 477.5106462155211, 470.2393984055752, 450.9518386645915, 405.5840942433137, 389.67033915513736, 365.16109600843475, 324.2117531270832, 319.38222614646753, 316.1436245183325, 310.5380332169217, 308.66036087985884, 295.98749723239854, 290.3490158957326, 272.6507161889888, 254.75278645813302, 252.22954309679767, 249.39308980321047, 248.08433181014985, 220.30380516483717, 219.36698559261293, 190.08058191778753, 183.75745962968475, 180.06901391176243, 532.4579256520336, 759.4451212878258, 890.3836302338939, 590.3967931844998, 283.08854061315657, 615.7691135300777, 1458.4608395729226, 473.80937234302536, 1185.6506951829779, 1336.7027617174504, 600.871436754147, 601.9491058207037, 702.978290997808, 645.7736206447403, 759.1597794155093, 615.9945039457265, 433.295380078647, 468.85624752422774, 801.5568563012331, 1386.3467311338488, 1026.0401418796414, 898.9661600348592, 993.0793305992513, 802.6787603835601, 733.7193371456451, 609.6139932298111, 1134.2864520238668, 675.8037840685497, 728.9065674298271, 766.6698963106154, 848.5422492286363, 606.880009049226], \"Total\": [31698.0, 22718.0, 10071.0, 9270.0, 7826.0, 12632.0, 15554.0, 4472.0, 13319.0, 5532.0, 6493.0, 8955.0, 4979.0, 21862.0, 5756.0, 3178.0, 4397.0, 18018.0, 3119.0, 2389.0, 5523.0, 1621.0, 2207.0, 3194.0, 4560.0, 1694.0, 2518.0, 2230.0, 2436.0, 4904.0, 4472.144007449178, 1529.1440622188977, 798.3873378681642, 799.0924470922097, 752.4397448708042, 613.7722548285966, 473.252827012086, 400.4889087094699, 374.2609599119093, 370.1957456516418, 287.333495926509, 276.82916003334253, 264.5448963468932, 260.12799406468764, 220.65284386280032, 203.81310258983842, 195.8553096872092, 168.19898500815052, 161.13371963811653, 151.30927382691297, 137.08293306257, 134.20960494006684, 137.64577385178805, 134.537157456633, 118.04977341395718, 109.64723262211064, 106.86261220624156, 104.95324948041252, 99.37258735344132, 96.60424936129284, 9270.669116690491, 780.7506783715996, 7826.650505859364, 1243.6182488106547, 862.5687141437312, 1098.5685216039603, 2518.5913877774055, 1614.7145700999433, 1047.6356737369717, 22718.943493244733, 5532.134881009683, 383.6885768085373, 376.0759569568076, 5756.6945037389605, 417.537702980318, 386.87329400419503, 8955.227259391137, 2321.6564709507666, 629.590777431813, 4904.4106303894505, 5523.818138161838, 1404.2704500300786, 6493.662274287279, 12632.151892620055, 1347.062039822584, 1205.2314390141473, 1420.1889498544933, 4220.4176820888715, 3259.2579028979767, 3488.6534097329327, 18018.18904022265, 3021.3696433145965, 3757.7740930505133, 13319.928948398538, 6601.962500204244, 2594.301011700118, 7894.134596841553, 3996.823302250259, 1776.6975016872768, 2808.8211006930032, 4307.976611435691, 15383.769054861585, 4760.599577204208, 5116.7477156582045, 21862.820600724805, 15554.934551541313, 1766.0375613228082, 811.3750463099584, 471.2107038851864, 208.33633486137805, 173.78051480258182, 165.94819703335114, 144.22492459026404, 107.43218313434274, 95.60576939775976, 93.07401983016081, 1740.1410904108895, 80.94568055294161, 75.02562449447919, 70.29498196561977, 115.48988705305526, 62.897487804834626, 61.88697359371077, 58.96915294427821, 1034.6726465581987, 131.48187850036643, 50.93186890600779, 55.29351149056583, 3178.0489063934206, 44.59025300536048, 46.134042534819045, 44.01716868597828, 41.9784889168475, 41.0062839517798, 41.275301880324434, 31698.41625186227, 10071.799503098593, 552.1995236365196, 2436.4592181502003, 617.7174619931349, 320.1071454247097, 3119.388449077902, 968.1088123441042, 1021.6022812455798, 222.6619321202272, 168.22626202864112, 1880.559292806313, 1487.75007486536, 2168.980557376207, 713.4008119391938, 776.0876678224737, 316.41968701820696, 4979.402834712229, 1086.6031277596126, 1870.1535137537442, 396.5944574013896, 1289.7189285550523, 4560.700266906474, 1202.7826990785234, 15554.934551541313, 1802.6551282495002, 5055.936123775135, 709.090309738066, 2295.090133219398, 13319.928948398538, 21862.820600724805, 1620.1604649229214, 1437.8808541230246, 4256.542328681266, 12632.151892620055, 4760.599577204208, 2929.220354467903, 18018.18904022265, 3090.9490886112176, 15383.769054861585, 6409.102616719826, 6493.662274287279, 7894.134596841553, 6601.962500204244, 2389.6070990132876, 2207.9472592091297, 1235.7077640620564, 1020.7736794283317, 687.618626870742, 453.0346385264153, 447.208817053346, 446.82401080392225, 393.0688230357103, 343.72536095933896, 284.2551672803613, 280.3782563119051, 239.4287996652179, 224.5876501312295, 205.07308651666045, 272.88045927050683, 198.0643851192309, 193.52537854468554, 190.7597138095349, 188.80698104362256, 186.87052177877388, 178.7199442200273, 197.04721407870463, 179.74039092285992, 177.11561445482508, 161.17194059679625, 160.02391666903176, 153.63350830250704, 146.68400068041018, 143.01089082605301, 705.276456845647, 558.1621507578392, 527.3114980802886, 1235.893914198843, 330.4520873975545, 897.6122585052314, 1057.5512480730836, 494.09352038799807, 304.1197518262101, 1372.6827420784778, 1095.2520045478993, 579.8539582725682, 529.7956651763034, 1888.270488901975, 1527.19293865799, 871.0466747384174, 1253.0063694942992, 850.8076510380283, 824.6629314048984, 4130.953751263945, 879.7477322843363, 21862.820600724805, 15383.769054861585, 4397.964171727043, 800.327911973619, 1439.8126422613063, 1841.6264421369242, 4307.976611435691, 3514.365830152049, 1824.2819197838157, 2555.537866709931, 3194.3398072313594, 6409.102616719826, 3498.188443051261, 3090.9490886112176, 3996.823302250259, 4256.542328681266, 18018.18904022265, 3648.443704214653, 3757.7740930505133, 1134.377820851701, 1074.0522944837583, 1039.2952046800362, 913.144896202642, 505.64228659910657, 465.08959089694144, 413.39279744359095, 397.5485197248093, 381.9977831485663, 369.88923758755794, 331.77442528783325, 334.4186257256494, 325.32390755947665, 300.7023656330061, 265.80052757010475, 258.0007319558283, 254.17717572019282, 253.77104020077647, 307.8153841871701, 703.6004777859112, 235.52036599102954, 227.5481804311754, 207.15514859708958, 206.1699421325969, 194.4268398481226, 183.6753154849012, 180.24685062814436, 178.23194661393384, 168.3625384121483, 164.10410017290798, 1808.2385505371515, 1454.255203477006, 285.98675202847016, 1604.4893487997615, 1599.6836848522628, 842.2884179980844, 2230.141421759851, 684.1806935452568, 3194.9984422926764, 474.7961788311443, 639.4462458325709, 1211.8108605725301, 459.2268663859588, 2850.658559676802, 1729.0092842109552, 855.1771741338746, 608.8669755024365, 924.0382713487057, 1440.328646225077, 3525.6378160996433, 1956.7408310054352, 1730.8230926647818, 3578.2780716888137, 2774.0108348329527, 1330.9309752002198, 18018.18904022265, 1723.0774079919215, 3738.7753728771586, 7894.134596841553, 2907.559958421857, 6409.102616719826, 15383.769054861585, 3588.3724810960775, 3648.443704214653, 5116.7477156582045, 6601.962500204244, 22718.943493244733, 3187.1421913981176, 13319.928948398538, 21862.820600724805, 3498.188443051261, 3776.9501339297526, 15554.934551541313, 836.3500743398167, 703.4775636149235, 703.4754317069588, 586.078304304983, 645.6047533417584, 545.498588860225, 491.415280894082, 478.3136551753248, 471.0422729684863, 451.8315284562955, 406.3908449096845, 390.5012274383028, 365.95594263214775, 325.01356216173576, 320.1867340095121, 316.9502161455977, 311.33495122672247, 309.46088695510684, 296.78220355566884, 291.1439051164931, 273.4830716364803, 255.55863517633935, 253.03137747120772, 250.1923232261776, 248.88269512033125, 221.10350427326404, 220.16712702298312, 190.8801397173468, 184.55596086025884, 180.86561162953103, 535.7274020968347, 771.9355866740609, 915.3148892529603, 614.0436903582993, 286.9555120035667, 647.9715360175945, 1621.6522510517273, 491.8094028289796, 1320.2503511390075, 1694.5077824969599, 680.9679567394617, 705.7081675344281, 869.8245617102297, 783.2740759422014, 998.505661241127, 782.3787342923098, 493.06098323318923, 553.9234841593806, 1263.840734188259, 4397.964171727043, 2795.3167432187906, 2255.2943386896645, 3514.365830152049, 2527.570427849528, 2068.691099783254, 1154.3636377534822, 15554.934551541313, 2123.758618845271, 3125.9004192418247, 6409.102616719826, 15383.769054861585, 3588.3724810960775], \"Category\": [\"Default\", \"Default\", \"Default\", \"Default\", \"Default\", \"Default\", \"Default\", \"Default\", \"Default\", \"Default\", \"Default\", \"Default\", \"Default\", \"Default\", \"Default\", \"Default\", \"Default\", \"Default\", \"Default\", \"Default\", \"Default\", \"Default\", \"Default\", \"Default\", \"Default\", \"Default\", \"Default\", \"Default\", \"Default\", \"Default\", \"Topic1\", \"Topic1\", \"Topic1\", \"Topic1\", \"Topic1\", \"Topic1\", \"Topic1\", \"Topic1\", \"Topic1\", \"Topic1\", \"Topic1\", \"Topic1\", \"Topic1\", \"Topic1\", \"Topic1\", \"Topic1\", \"Topic1\", \"Topic1\", \"Topic1\", \"Topic1\", \"Topic1\", \"Topic1\", \"Topic1\", \"Topic1\", \"Topic1\", \"Topic1\", \"Topic1\", \"Topic1\", \"Topic1\", \"Topic1\", \"Topic1\", \"Topic1\", \"Topic1\", \"Topic1\", \"Topic1\", \"Topic1\", \"Topic1\", \"Topic1\", \"Topic1\", \"Topic1\", \"Topic1\", \"Topic1\", \"Topic1\", \"Topic1\", \"Topic1\", \"Topic1\", \"Topic1\", \"Topic1\", \"Topic1\", \"Topic1\", \"Topic1\", \"Topic1\", \"Topic1\", \"Topic1\", \"Topic1\", \"Topic1\", \"Topic1\", \"Topic1\", \"Topic1\", \"Topic1\", \"Topic1\", \"Topic1\", \"Topic1\", \"Topic1\", \"Topic1\", \"Topic1\", \"Topic1\", \"Topic1\", \"Topic1\", \"Topic1\", \"Topic1\", \"Topic1\", \"Topic1\", \"Topic1\", \"Topic1\", \"Topic1\", \"Topic2\", \"Topic2\", \"Topic2\", \"Topic2\", \"Topic2\", \"Topic2\", \"Topic2\", \"Topic2\", \"Topic2\", \"Topic2\", \"Topic2\", \"Topic2\", \"Topic2\", \"Topic2\", \"Topic2\", \"Topic2\", \"Topic2\", \"Topic2\", \"Topic2\", \"Topic2\", \"Topic2\", \"Topic2\", \"Topic2\", \"Topic2\", \"Topic2\", \"Topic2\", \"Topic2\", \"Topic2\", \"Topic2\", \"Topic2\", \"Topic2\", \"Topic2\", \"Topic2\", \"Topic2\", \"Topic2\", \"Topic2\", \"Topic2\", \"Topic2\", \"Topic2\", \"Topic2\", \"Topic2\", \"Topic2\", \"Topic2\", \"Topic2\", \"Topic2\", \"Topic2\", \"Topic2\", \"Topic2\", \"Topic2\", \"Topic2\", \"Topic2\", \"Topic2\", \"Topic2\", \"Topic2\", \"Topic2\", \"Topic2\", \"Topic2\", \"Topic2\", \"Topic2\", \"Topic2\", \"Topic2\", \"Topic2\", \"Topic2\", \"Topic2\", \"Topic2\", \"Topic2\", \"Topic2\", \"Topic2\", \"Topic2\", \"Topic2\", \"Topic2\", \"Topic2\", \"Topic2\", \"Topic3\", \"Topic3\", \"Topic3\", \"Topic3\", \"Topic3\", \"Topic3\", \"Topic3\", \"Topic3\", \"Topic3\", \"Topic3\", \"Topic3\", \"Topic3\", \"Topic3\", \"Topic3\", \"Topic3\", \"Topic3\", \"Topic3\", \"Topic3\", \"Topic3\", \"Topic3\", \"Topic3\", \"Topic3\", \"Topic3\", \"Topic3\", \"Topic3\", \"Topic3\", \"Topic3\", \"Topic3\", \"Topic3\", \"Topic3\", \"Topic3\", \"Topic3\", \"Topic3\", \"Topic3\", \"Topic3\", \"Topic3\", \"Topic3\", \"Topic3\", \"Topic3\", \"Topic3\", \"Topic3\", \"Topic3\", \"Topic3\", \"Topic3\", \"Topic3\", \"Topic3\", \"Topic3\", \"Topic3\", \"Topic3\", \"Topic3\", \"Topic3\", \"Topic3\", \"Topic3\", \"Topic3\", \"Topic3\", \"Topic3\", \"Topic3\", \"Topic3\", \"Topic3\", \"Topic3\", \"Topic3\", \"Topic3\", \"Topic3\", \"Topic3\", \"Topic3\", \"Topic3\", \"Topic3\", \"Topic3\", \"Topic3\", \"Topic3\", \"Topic4\", \"Topic4\", \"Topic4\", \"Topic4\", \"Topic4\", \"Topic4\", \"Topic4\", \"Topic4\", \"Topic4\", \"Topic4\", \"Topic4\", \"Topic4\", \"Topic4\", \"Topic4\", \"Topic4\", \"Topic4\", \"Topic4\", \"Topic4\", \"Topic4\", \"Topic4\", \"Topic4\", \"Topic4\", \"Topic4\", \"Topic4\", \"Topic4\", \"Topic4\", \"Topic4\", \"Topic4\", \"Topic4\", \"Topic4\", \"Topic4\", \"Topic4\", \"Topic4\", \"Topic4\", \"Topic4\", \"Topic4\", \"Topic4\", \"Topic4\", \"Topic4\", \"Topic4\", \"Topic4\", \"Topic4\", \"Topic4\", \"Topic4\", \"Topic4\", \"Topic4\", \"Topic4\", \"Topic4\", \"Topic4\", \"Topic4\", \"Topic4\", \"Topic4\", \"Topic4\", \"Topic4\", \"Topic4\", \"Topic4\", \"Topic4\", \"Topic4\", \"Topic4\", \"Topic4\", \"Topic4\", \"Topic4\", \"Topic4\", \"Topic4\", \"Topic4\", \"Topic4\", \"Topic4\", \"Topic4\", \"Topic4\", \"Topic4\", \"Topic4\", \"Topic4\", \"Topic4\", \"Topic5\", \"Topic5\", \"Topic5\", \"Topic5\", \"Topic5\", \"Topic5\", \"Topic5\", \"Topic5\", \"Topic5\", \"Topic5\", \"Topic5\", \"Topic5\", \"Topic5\", \"Topic5\", \"Topic5\", \"Topic5\", \"Topic5\", \"Topic5\", \"Topic5\", \"Topic5\", \"Topic5\", \"Topic5\", \"Topic5\", \"Topic5\", \"Topic5\", \"Topic5\", \"Topic5\", \"Topic5\", \"Topic5\", \"Topic5\", \"Topic5\", \"Topic5\", \"Topic5\", \"Topic5\", \"Topic5\", \"Topic5\", \"Topic5\", \"Topic5\", \"Topic5\", \"Topic5\", \"Topic5\", \"Topic5\", \"Topic5\", \"Topic5\", \"Topic5\", \"Topic5\", \"Topic5\", \"Topic5\", \"Topic5\", \"Topic5\", \"Topic5\", \"Topic5\", \"Topic5\", \"Topic5\", \"Topic5\", \"Topic5\", \"Topic5\", \"Topic5\", \"Topic5\", \"Topic5\", \"Topic5\", \"Topic5\"], \"logprob\": [30.0, 29.0, 28.0, 27.0, 26.0, 25.0, 24.0, 23.0, 22.0, 21.0, 20.0, 19.0, 18.0, 17.0, 16.0, 15.0, 14.0, 13.0, 12.0, 11.0, 10.0, 9.0, 8.0, 7.0, 6.0, 5.0, 4.0, 3.0, 2.0, 1.0, -4.2501, -5.3236, -5.9739, -5.973, -6.0333, -6.2372, -6.4976, -6.6648, -6.7327, -6.7436, -6.9977, -7.035, -7.0806, -7.0974, -7.2626, -7.3422, -7.3822, -7.5351, -7.5783, -7.6415, -7.7408, -7.7621, -7.7368, -7.7597, -7.8912, -7.9656, -7.9915, -8.0098, -8.0648, -8.0933, -3.5533, -6.0039, -3.723, -5.5449, -5.908, -5.6726, -4.8541, -5.3194, -5.7477, -2.761, -4.1354, -6.733, -6.753, -4.1614, -6.6558, -6.7324, -3.8079, -5.0712, -6.2774, -4.4134, -4.3074, -5.5754, -4.2211, -3.6726, -5.649, -5.7481, -5.6229, -4.7524, -4.9721, -4.9519, -3.7433, -5.0783, -4.9278, -4.101, -4.6399, -5.2413, -4.5805, -5.0408, -5.496, -5.3041, -5.1336, -4.6431, -5.152, -5.1514, -4.8468, -5.2765, -5.0918, -5.8701, -6.4142, -7.2325, -7.4147, -7.4611, -7.602, -7.8984, -8.016, -8.0431, -5.1153, -8.184, -8.2607, -8.3265, -7.8312, -8.4391, -8.4554, -8.5044, -5.6413, -7.7046, -8.6532, -8.5721, -4.5214, -8.7884, -8.7547, -8.8024, -8.8503, -8.8739, -8.8677, -2.2241, -3.4023, -6.2782, -4.8121, -6.1752, -6.8304, -4.5767, -5.7452, -5.693, -7.1958, -7.4706, -5.1053, -5.3394, -4.9821, -6.0629, -5.9837, -6.8546, -4.2022, -5.673, -5.1624, -6.651, -5.546, -4.3869, -5.6276, -3.3078, -5.3062, -4.4116, -6.1418, -5.1455, -3.8045, -3.4585, -5.4967, -5.5996, -4.8655, -4.2359, -4.8522, -5.2244, -4.3293, -5.2134, -4.5649, -5.0149, -5.0234, -5.3587, -5.3939, -4.7003, -4.7795, -5.3601, -5.5513, -5.947, -6.3646, -6.3776, -6.3784, -6.5069, -6.6413, -6.8318, -6.8455, -7.0039, -7.0682, -7.1593, -6.8738, -7.1943, -7.2176, -7.232, -7.2423, -7.2527, -7.2975, -7.1999, -7.2918, -7.3066, -7.4013, -7.4085, -7.4495, -7.496, -7.5215, -5.9264, -6.1749, -6.2413, -5.4198, -6.7027, -5.7469, -5.5933, -6.3227, -6.7873, -5.358, -5.5886, -6.1874, -6.2745, -5.093, -5.3563, -5.8589, -5.5721, -5.9138, -5.9683, -4.6964, -5.9442, -3.4835, -3.8452, -4.8085, -6.0366, -5.6999, -5.6037, -5.2246, -5.3421, -5.6734, -5.5276, -5.4599, -5.2612, -5.489, -5.5321, -5.516, -5.5511, -5.3138, -5.6581, -5.7185, -5.4068, -5.4614, -5.4944, -5.6239, -6.2157, -6.2994, -6.4175, -6.4567, -6.4966, -6.5289, -6.6379, -6.6299, -6.6575, -6.7365, -6.8602, -6.8901, -6.905, -6.9066, -6.7138, -5.8871, -6.9816, -7.0162, -7.1103, -7.1151, -7.174, -7.2311, -7.25, -7.2613, -7.3186, -7.3443, -4.9459, -5.1793, -6.79, -5.0871, -5.1004, -5.7388, -4.8008, -5.9643, -4.5408, -6.329, -6.0606, -5.4822, -6.3675, -4.7306, -5.182, -5.8216, -6.1206, -5.7771, -5.445, -4.7383, -5.2543, -5.3488, -4.8327, -5.0412, -5.5863, -3.824, -5.4686, -4.9829, -4.5729, -5.2286, -4.8216, -4.464, -5.1552, -5.164, -5.0187, -4.912, -4.6231, -5.2824, -4.9819, -4.9322, -5.2934, -5.2889, -5.119, -4.896, -5.0692, -5.0692, -5.252, -5.1553, -5.3239, -5.4284, -5.4555, -5.4708, -5.5127, -5.6188, -5.6588, -5.7237, -5.8427, -5.8577, -5.8679, -5.8858, -5.8918, -5.9338, -5.953, -6.0159, -6.0838, -6.0937, -6.1051, -6.1103, -6.2291, -6.2333, -6.3766, -6.4105, -6.4307, -5.3466, -4.9915, -4.8324, -5.2433, -5.9783, -5.2012, -4.339, -5.4633, -4.546, -4.4261, -5.2257, -5.2239, -5.0688, -5.1536, -4.9919, -5.2008, -5.5527, -5.4738, -4.9375, -4.3897, -4.6906, -4.8228, -4.7233, -4.9361, -5.026, -5.2113, -4.5903, -5.1082, -5.0325, -4.982, -4.8806, -5.2158], \"loglift\": [30.0, 29.0, 28.0, 27.0, 26.0, 25.0, 24.0, 23.0, 22.0, 21.0, 20.0, 19.0, 18.0, 17.0, 16.0, 15.0, 14.0, 13.0, 12.0, 11.0, 10.0, 9.0, 8.0, 7.0, 6.0, 5.0, 4.0, 3.0, 2.0, 1.0, 1.365, 1.3647, 1.3642, 1.3642, 1.3642, 1.3639, 1.3635, 1.3632, 1.3631, 1.3631, 1.3624, 1.3623, 1.3622, 1.3621, 1.3616, 1.3613, 1.3611, 1.3605, 1.3602, 1.3599, 1.3594, 1.3593, 1.3592, 1.3592, 1.3584, 1.3579, 1.3577, 1.3574, 1.3571, 1.3569, 1.3328, 1.3566, 1.3324, 1.3501, 1.3528, 1.3464, 1.3351, 1.3144, 1.3187, 1.2288, 1.267, 1.3379, 1.3379, 1.2012, 1.3306, 1.3302, 1.1129, 1.1995, 1.2983, 1.1094, 1.0965, 1.1981, 1.0211, 0.9042, 1.166, 1.1782, 1.1393, 0.9207, 0.9594, 0.9116, 0.4783, 0.929, 0.8614, 0.4228, 0.5857, 0.9184, 0.4664, 0.6866, 1.0422, 0.7761, 0.5189, -0.2634, 0.4006, 0.3291, -0.8187, -0.9079, 1.4525, 1.4519, 1.4512, 1.4491, 1.4482, 1.448, 1.4473, 1.4454, 1.4445, 1.4443, 1.4437, 1.443, 1.4422, 1.4415, 1.4403, 1.4401, 1.44, 1.4393, 1.4376, 1.4373, 1.4371, 1.436, 1.4354, 1.4348, 1.4345, 1.4337, 1.4332, 1.4331, 1.4328, 1.4326, 1.4009, 1.4286, 1.4103, 1.4195, 1.4217, 1.3986, 1.4002, 1.3986, 1.4193, 1.4248, 1.3761, 1.3763, 1.3566, 1.3878, 1.3828, 1.4091, 1.3055, 1.3569, 1.3246, 1.3868, 1.3125, 1.2086, 1.3007, 1.0609, 1.2175, 1.0808, 1.315, 1.1367, 0.7192, 0.5697, 1.1338, 1.1502, 0.799, 0.3408, 0.7004, 0.8138, -0.1077, 0.7711, -0.1852, 0.2404, 0.2188, -0.3119, -0.1683, 1.5416, 1.5415, 1.5413, 1.5411, 1.5405, 1.5402, 1.5402, 1.5401, 1.5399, 1.5396, 1.5391, 1.5391, 1.5386, 1.5382, 1.538, 1.5379, 1.5378, 1.5378, 1.5377, 1.5377, 1.5376, 1.5375, 1.5374, 1.5374, 1.5373, 1.537, 1.5369, 1.5367, 1.5364, 1.5364, 1.5358, 1.5212, 1.5116, 1.4814, 1.5176, 1.4741, 1.4637, 1.4953, 1.5161, 1.4382, 1.4334, 1.4706, 1.4737, 1.3844, 1.3333, 1.3921, 1.3154, 1.3608, 1.3375, 0.9981, 1.2969, 0.5447, 0.5344, 0.8234, 1.2991, 1.0486, 0.8986, 0.4279, 0.5141, 0.8384, 0.6471, 0.4917, -0.006, 0.3718, 0.4524, 0.2115, 0.1134, -1.0922, 0.1606, 0.0707, 1.5801, 1.5801, 1.5801, 1.58, 1.5793, 1.5791, 1.5789, 1.5787, 1.5787, 1.5787, 1.5784, 1.5784, 1.5784, 1.5781, 1.5778, 1.5777, 1.5777, 1.5777, 1.5775, 1.5774, 1.5774, 1.5771, 1.577, 1.5769, 1.5767, 1.5765, 1.5764, 1.5763, 1.5761, 1.5759, 1.5747, 1.5591, 1.5748, 1.5531, 1.5428, 1.5459, 1.5101, 1.5282, 1.4106, 1.5288, 1.4995, 1.4386, 1.5237, 1.3348, 1.3834, 1.4478, 1.4886, 1.4149, 1.3031, 1.1147, 1.1874, 1.2156, 1.0054, 1.0515, 1.2409, 0.3976, 1.1003, 0.8113, 0.474, 0.8171, 0.4337, -0.0843, 0.6801, 0.6546, 0.4618, 0.3136, -0.6333, 0.6715, -0.4581, -0.904, 0.5674, 0.4951, -0.7504, 2.3957, 2.3955, 2.3955, 2.3953, 2.3953, 2.3952, 2.395, 2.395, 2.3949, 2.3947, 2.3947, 2.3945, 2.3945, 2.3942, 2.3941, 2.3941, 2.3941, 2.3941, 2.394, 2.3939, 2.3936, 2.3935, 2.3935, 2.3935, 2.3934, 2.393, 2.393, 2.3925, 2.3923, 2.3922, 2.3905, 2.3803, 2.369, 2.3574, 2.3831, 2.3457, 2.2906, 2.3594, 2.2891, 2.1595, 2.2715, 2.2376, 2.1837, 2.2036, 2.1226, 2.1576, 2.2674, 2.2299, 1.9413, 1.2422, 1.3944, 1.4769, 1.1328, 1.2496, 1.3601, 1.7582, -0.2217, 1.2516, 0.9407, 0.2732, -0.5009, 0.6195]}, \"token.table\": {\"Topic\": [1, 2, 2, 1, 2, 3, 4, 5, 2, 2, 2, 2, 2, 2, 2, 3, 5, 1, 2, 3, 4, 1, 1, 2, 5, 1, 2, 1, 2, 3, 4, 2, 1, 2, 3, 4, 3, 4, 1, 2, 1, 3, 4, 1, 2, 3, 4, 5, 1, 2, 3, 4, 5, 1, 2, 3, 4, 5, 4, 1, 2, 3, 4, 5, 2, 1, 1, 4, 3, 3, 4, 5, 1, 2, 3, 1, 3, 4, 5, 1, 3, 4, 1, 2, 3, 4, 5, 1, 2, 3, 5, 3, 1, 2, 3, 4, 1, 3, 4, 1, 3, 3, 5, 5, 3, 3, 1, 2, 3, 4, 5, 1, 3, 4, 1, 3, 2, 3, 4, 3, 2, 3, 4, 5, 1, 2, 3, 4, 4, 5, 2, 2, 2, 1, 2, 1, 1, 2, 3, 4, 1, 2, 3, 4, 5, 1, 4, 5, 1, 2, 3, 4, 5, 3, 1, 2, 3, 4, 5, 1, 3, 4, 1, 2, 4, 4, 5, 2, 4, 2, 4, 5, 2, 5, 1, 2, 3, 4, 2, 2, 4, 4, 1, 2, 3, 4, 5, 1, 2, 3, 5, 1, 2, 4, 1, 2, 4, 5, 1, 3, 4, 5, 1, 2, 3, 4, 2, 3, 5, 4, 4, 1, 3, 1, 3, 3, 3, 4, 5, 5, 3, 4, 5, 2, 1, 2, 3, 4, 5, 2, 4, 4, 1, 2, 3, 5, 1, 2, 3, 4, 5, 1, 2, 3, 4, 5, 3, 4, 1, 2, 3, 4, 5, 1, 2, 3, 4, 1, 2, 3, 4, 5, 1, 1, 2, 3, 4, 1, 2, 3, 4, 5, 1, 2, 5, 5, 1, 3, 4, 5, 3, 1, 2, 3, 4, 5, 1, 3, 3, 1, 2, 3, 4, 5, 4, 5, 3, 4, 4, 4, 2, 3, 4, 3, 4, 1, 2, 3, 4, 5, 4, 5, 4, 5, 1, 2, 3, 4, 5, 4, 1, 3, 4, 1, 3, 4, 1, 3, 4, 5, 1, 3, 3, 5, 2, 3, 4, 5, 1, 2, 4, 1, 2, 4, 2, 3, 1, 2, 1, 2, 3, 4, 3, 5, 1, 2, 3, 4, 1, 2, 3, 4, 2, 5, 1, 3, 1, 3, 1, 2, 3, 4, 1, 1, 2, 3, 4, 5, 1, 2, 3, 1, 2, 3, 4, 1, 2, 2, 2, 1, 2, 3, 4, 5, 4, 5, 1, 1, 1, 3, 5, 4, 1, 2, 3, 2, 2, 5, 1, 3, 4, 3, 4, 2, 4, 4, 4, 1, 2, 3, 4, 5, 2, 3, 4, 1, 2, 5, 1, 2, 3, 4, 5, 1, 3, 1, 2, 3, 4, 5, 1, 2, 3, 4, 5, 1, 2, 3, 4, 5, 4, 3, 4, 5, 1, 2, 3, 4, 5, 1, 4, 5, 4, 1, 4, 1, 2, 1, 4, 3, 1, 2, 3, 3, 5, 1, 3, 4, 5, 3, 1, 2, 3, 4, 1, 2, 3, 1, 1, 2, 1, 1, 2, 3, 4, 1, 2, 3, 4, 5, 3, 4, 2, 3, 4, 1, 2, 3, 4, 5, 1, 2, 3, 4, 5, 4, 2, 3, 4, 5, 2, 3, 5, 1, 2, 3, 4, 5, 1, 2, 4, 3, 1, 2, 3, 4, 1, 2, 3, 4, 5, 4, 5, 1, 3, 4, 5, 1, 2, 4, 3, 1, 1, 1, 3, 5, 5, 3, 4, 5, 2, 3, 4, 4, 4, 1, 2, 3, 5, 4, 5, 4, 5, 1, 3, 1, 2, 3, 1, 2, 5, 2, 1, 1, 3, 4, 5, 2, 4, 1, 2, 3, 4, 5, 3, 1, 1, 2, 3, 4, 1, 1, 2, 4, 4, 5, 5, 1, 2, 3, 4, 5, 3, 4, 4, 5, 1, 5, 1, 5, 1, 2, 3, 1, 2, 3, 4, 1, 2, 3, 4, 5, 1, 2, 3, 4, 5, 1, 2, 3, 4, 1, 2, 3, 4, 1, 2, 3, 4, 5, 1, 2, 3, 5, 4, 5, 3, 5, 3, 4, 5, 1, 2, 1, 1, 2, 3, 5, 1, 4, 1, 2, 5, 4, 5, 4, 5, 5, 5, 4, 4, 1, 2, 3, 4, 5, 1, 1, 2, 3, 4, 5, 1, 3, 1, 2, 4, 1, 4, 3, 3, 2, 4, 3, 3, 4, 3, 5, 3, 4, 1, 2, 3, 4, 5, 5, 3], \"Freq\": [0.008658766802158244, 0.9870994154460397, 0.9754185310345794, 0.6463955856316407, 0.025485130616301248, 0.14761517214117345, 0.0019858543337377597, 0.17872689003639836, 0.9959771539427594, 0.9817036184608204, 0.9883170967680839, 0.986762734777721, 0.9863296773417106, 0.9815778889273615, 0.985667846685576, 0.9410192789515467, 0.05825742741574494, 0.9063408806628523, 0.0012653342968966825, 0.0012653342968966825, 0.09110406937656114, 0.9937451057765275, 0.04600616195051528, 0.9475311652786976, 0.0068519815670980205, 0.9850289678295888, 0.014473895037496, 0.9877473945316662, 0.004637311711416273, 0.0069559675671244095, 0.9978046248735204, 0.9915068453407482, 0.15248678724986758, 0.07317923832558657, 0.18493078453707346, 0.5890387951921598, 0.9953415778449828, 0.9969882393484204, 0.007605610837064615, 0.9811237979813354, 0.02115636827905707, 0.8345011932294734, 0.14456851657355665, 0.776976373514509, 0.12763495184350154, 0.06320330948680829, 0.0259066568921193, 0.006253330973959831, 0.3810444400083993, 0.4711591394370671, 0.020795699868154098, 0.1262446022299052, 0.0006301727232773969, 0.5546811078909953, 0.3919793965263067, 0.012460743758783593, 0.006408382504517276, 0.03417804002409214, 0.9930825386196808, 0.11420709303548096, 0.20346137582791565, 0.20090211323888527, 0.2482484711359474, 0.23321280342539388, 0.9691025426289527, 0.9979402500126908, 0.996007367282112, 0.9990498203016115, 0.9994272399327412, 0.9800019568817343, 0.007166376284327125, 0.012541158497572468, 0.03398101959098228, 0.9469804893562419, 0.018913963734603342, 0.0069302252239761076, 0.06930225223976107, 0.3958891159196351, 0.5284296733281781, 0.11253225938183264, 0.783179057718007, 0.10457543296089498, 0.14598602953898818, 0.12036596475234455, 0.08217756629678141, 0.2968060335660223, 0.3548137274225739, 0.6664093682395497, 0.14512506039470854, 0.136534147728637, 0.05185229430593181, 0.9955843642443856, 0.4070110485936638, 0.17126639828777887, 0.0910802813379534, 0.3306252215466737, 0.12974836043879864, 0.8542208383174784, 0.01588755433944473, 0.9962506022700593, 0.9946854662036158, 0.9967734616364229, 0.9952343732581287, 0.9953890450905469, 0.99729697401471, 0.9986509071106987, 0.3549129448854202, 0.2065765323479566, 0.0848195033481676, 0.3265746315548112, 0.027165693468652757, 0.046305089591285785, 0.17153930916771779, 0.7819245810528486, 0.9966308003052039, 0.9982090723178771, 0.015764016430146993, 0.8148783877737522, 0.16855371413772555, 0.9972852214596536, 0.007085081666928666, 0.0014170163333857332, 0.13886760067180184, 0.8530438326982114, 0.13226178504455124, 0.41478547972551577, 0.40852456682399857, 0.04421769736696536, 0.8758418987955203, 0.12395092292700287, 0.999412491927957, 0.9983856159243569, 0.9884605840370851, 0.008619990690788261, 0.9907242633945974, 0.9909173895507597, 0.6040810181213535, 0.1029864995651823, 0.22965723288049697, 0.06306925167170079, 0.20851134150442968, 0.09285270676369134, 0.5256223400424165, 0.17158745811302026, 0.0016289948555033569, 0.0878275220898725, 0.2777248671490563, 0.6345736280727725, 0.13402975066741776, 0.14691195574179125, 0.25134004368511675, 0.39605928366956783, 0.0718114410528905, 0.994626065061671, 0.06144979831423344, 0.5277854899655827, 0.10651298374467129, 0.15669698570129525, 0.14747951595416026, 0.9681070359680747, 0.00075506955451549, 0.031173585893568084, 0.008065870876253184, 0.9262308389564072, 0.06587127882273433, 0.01554533850641975, 0.9832426605310493, 0.9760964595738983, 0.023542215165975284, 0.008947073448170542, 0.20322638260844517, 0.7873424634390076, 0.9826783954511599, 0.01730621573801274, 0.166650159564809, 0.7270884739531297, 0.1012245413652914, 0.005555005318826967, 0.9936638824040053, 0.9942861865913459, 0.9963233193142019, 0.993087958487025, 0.7744049767093845, 0.14537934396887603, 0.04077961962661319, 0.036497759565818806, 0.0030584714719959893, 0.7238148299182748, 0.0568470434072673, 0.06078693750480068, 0.15815860591526845, 0.04108467498500488, 0.9575889631120368, 0.999020257682831, 0.004694837969697493, 0.13677627951718696, 0.8435058885556495, 0.014710492305052144, 0.014743168357488968, 0.03369867053140336, 0.9498812756039321, 0.9990859942254539, 0.06949097235150478, 0.2490329539780457, 0.05417459477198944, 0.6274042075164431, 0.9748775133104867, 0.023777500324646015, 0.9964533688454937, 0.9976572451453061, 0.9996669356146108, 0.8459908844300995, 0.15381652444183627, 0.9721425722458479, 0.02606280354546509, 0.9991003343327721, 0.9552847396771189, 0.006071725040320671, 0.03845425858869758, 0.9993211388114932, 0.06413212199628526, 0.03576599111331294, 0.8990830179863839, 0.9955086172723766, 0.17375832027039434, 0.12060871642297961, 0.0051105388314821865, 0.6745911257556486, 0.025552694157410932, 0.9768915467227156, 0.995368680461346, 0.9986202445799849, 0.10418022150744322, 0.2854538069303944, 0.6104960980336173, 0.9982336324014877, 0.08861956267785949, 0.1111924701524086, 0.22489304113532266, 0.40631233454188403, 0.16915746712409027, 0.05273749231573205, 0.29738952767392096, 0.2126662781844461, 0.3175171504808128, 0.11967354025493042, 0.9939364814972367, 0.005671534844492078, 0.12918404683565846, 0.14625682835578951, 0.357674772846746, 0.08422572216597995, 0.2825545341581693, 0.2811080889278479, 0.24767468158628655, 0.008024017761974726, 0.4632532921246742, 0.10298982581326646, 0.6756698310221164, 0.05123775978350398, 0.09720388054285824, 0.07290291040714368, 0.9940971367299231, 0.10172738826369138, 0.03895942529247755, 0.01190426883936814, 0.8473675001113867, 0.17523955570436422, 0.689288771591094, 0.1147166391744145, 0.011669451226362855, 0.009098216210384598, 0.032424101093708475, 0.9583579247317631, 0.009029496507108688, 0.9950091054554242, 0.02684664063207918, 0.8119471800921508, 0.10083860139854131, 0.06089603850691131, 0.997383426333166, 0.22584359595780273, 0.29494697057091707, 0.09743311056561713, 0.33757395644337457, 0.04395080530949033, 0.06725831469045093, 0.931268972637013, 0.9958807760511789, 0.05744532307835143, 0.06733345246069061, 0.38281186608770257, 0.17421942245073793, 0.31830359345053744, 0.010454582241872781, 0.9862155914833324, 0.021316753707245825, 0.9785077588842196, 0.997387987070652, 0.9943253506282479, 0.03787827057600489, 0.934702029802003, 0.027851669541180065, 0.970963087025352, 0.02844618419019586, 0.2673708658136151, 0.12769951800053256, 0.13612413897973435, 0.07050077556279402, 0.39861759264749574, 0.04938488532485646, 0.9506590425034868, 0.03456623623341242, 0.9637879985080875, 0.3659640854348005, 0.08070991722021546, 0.1364947129459526, 0.09930484912879452, 0.3176963898423187, 0.9975959354931286, 0.9506324079957925, 0.027868702514534632, 0.021056353010981722, 0.7643263942438474, 0.0839998690026398, 0.15170665996597446, 0.06573829557127388, 0.8975103409244752, 0.0292170202538995, 0.008217286946409235, 0.9987792203508323, 0.9981558493187515, 0.9937012077774225, 0.999154928814329, 0.968425742539112, 0.0031239540081906838, 0.0062479080163813676, 0.021867678057334788, 0.07772016300873669, 0.8629548848799523, 0.059244051905884554, 0.16969417132187745, 0.738586925999319, 0.09110629689822108, 0.9082607925186238, 0.09174817142700818, 0.02012718852988492, 0.9798596798404791, 0.08906834764064261, 0.07692266387146407, 0.012724049662948943, 0.8207012032602069, 0.026220484646095665, 0.9723429722927143, 0.21637280423459063, 0.5199055545832237, 0.23963111869628928, 0.02396311186962893, 0.0017196549930182218, 0.2373123890365146, 0.29509279680192685, 0.4660265031079381, 0.9766064506359571, 0.9973643852417784, 0.9732076545431357, 0.026590373074949065, 0.20191437662213024, 0.7972824594684115, 0.9970047951839949, 0.0009455806532516083, 0.9247778788800729, 0.07375529095362544, 0.9967699638213373, 0.42897168826181936, 0.12558099748357374, 0.3282283372306345, 0.08101251039143666, 0.036211895762361376, 0.5074029664654457, 0.22818121568860278, 0.26446002739347935, 0.8724877548066391, 0.002508919484611968, 0.01575777500861552, 0.10924803790889306, 0.9994155746373024, 0.9857309435375312, 0.9835650862206892, 0.9754602501176866, 0.12471080612891929, 0.8588417515411575, 0.008314053741927953, 0.007482648367735157, 0.0008314053741927953, 0.9485798212706661, 0.04969447445793936, 0.9973527321115104, 0.9956329512405093, 0.999514849685369, 0.9927286313457745, 0.9969875757051283, 0.9975909258859522, 0.06168377697195392, 0.9257884112773429, 0.012230404054783968, 0.9995377645496197, 0.9974306528370345, 0.9977873048167886, 0.9545303057817297, 0.041044803148614376, 0.0038181212231269187, 0.9744226539341356, 0.02118310117248121, 0.9848525554335149, 0.01449733889254438, 0.9990043536550801, 0.9969616698573389, 0.027058798729428655, 0.9328842990526832, 0.0012885142252108883, 0.03994394098153754, 0.995923914727433, 0.001659073134520236, 0.004424195025387296, 0.9937848075776213, 0.0275206725501131, 0.9664612654363248, 0.004856589273549371, 0.4586514994452518, 0.1976684962932806, 0.062102745961873596, 0.28158293839786097, 0.9981601361165181, 0.13891333668926215, 0.8610330786524514, 0.12031097893583258, 0.8796069348864204, 0.005106769294245306, 0.1698000790336564, 0.8247432410206169, 0.9677192043173234, 0.020826278096609942, 0.0001277685772798156, 0.0015332229273577872, 0.0098381804505458, 0.6411687666564512, 0.06634414436947757, 0.18244639701606333, 0.08837987803505405, 0.021798790292828347, 0.9977905690285427, 0.9995709774292938, 0.998729760907802, 0.9968814773297633, 0.1408785592346086, 0.18009864810838605, 0.11954283088727367, 0.402868752911442, 0.15656659478411958, 0.9921001612791893, 0.03745661808947067, 0.960843681425552, 0.9987462053312643, 0.9667247799119072, 0.033602732991590355, 0.03143779420821841, 0.965589393538137, 0.8297161587636461, 0.17009181254654746, 0.995725894036534, 0.09018932257452546, 0.9083353202148636, 0.0009202992099441373, 0.9929313717283071, 0.9970020019006354, 0.055473336251949994, 0.07376773437759308, 0.08143957875286276, 0.7890196869027356, 0.9959716626861692, 0.05985216666351552, 0.5056699270004041, 0.33646623421651967, 0.09802814323808218, 0.9909871954350287, 0.7905006219263755, 0.2096906912899438, 0.9997441926182894, 0.12833344180604428, 0.8715391981992896, 0.9928716275660497, 0.6306130632148185, 0.32884341759909064, 0.0015832615194948997, 0.03894823337957453, 0.004774936579747869, 0.10595811648392892, 0.4874982869990206, 0.0866309922325685, 0.3151458142633594, 0.0028425222312150737, 0.9963040420408833, 0.029987708339217718, 0.7846783682095303, 0.18492420142517593, 0.028465725588014877, 0.14788291585968705, 0.06665145503535191, 0.7574660150371764, 0.9990382536551201, 0.12006214268824783, 0.1655142395630845, 0.3104463975224694, 0.36304505050970176, 0.041164163207399254, 0.9944237514495171, 0.0007285004534156436, 0.9011550608751512, 0.023312014509300594, 0.07430704624839565, 0.016440892016961993, 0.9733008074041499, 0.006576356806784796, 0.13162755676439242, 0.2755515307212122, 0.030461578953967675, 0.5625610865535497, 0.9962936190558199, 0.03548408534619362, 0.09654972059313148, 0.8672970627639418, 0.9997459419108948, 0.8472399016011497, 0.09346774715172826, 0.05125650650256066, 0.00818381196259372, 0.6352021080161246, 0.14704814143153067, 0.0905793619734185, 0.10720468790524848, 0.019491761437317904, 0.9987481985348722, 0.9987164510555041, 0.07660712129806932, 0.29656241654025317, 0.6186605401798628, 0.008124997713431593, 0.031277062193022384, 0.04535174017988246, 0.9211094815845092, 0.9958764965435818, 0.9919278390408729, 0.9970413077331274, 0.9913536054996719, 0.007684911670540092, 0.9993241672906683, 0.9990632761939436, 0.2002993150298248, 0.03905836643081583, 0.760135900538185, 0.9363600220529837, 0.009812155919716896, 0.05186425271850359, 0.9976642497257129, 0.9978466800538442, 0.022724718254274426, 0.9482405162465419, 0.01962589303778246, 0.008263533910645247, 0.9652275665054307, 0.03324276981814522, 0.9450666582630713, 0.0544393236326654, 0.9651822988042752, 0.03352990616193512, 0.9355283163495687, 0.05876833226644149, 0.004764999913495257, 0.7088449946382851, 0.2910530175681857, 0.9952140618565785, 0.9766907065476862, 0.9987417892833682, 0.997956015390922, 0.09692086000054126, 0.019090472424349036, 0.8825672251564439, 0.8691816295632119, 0.1302609400237463, 0.8487509623494096, 0.0637518631154796, 0.07521677582834514, 0.006601010349831676, 0.005906167155112552, 0.9977162043728475, 0.9929641068259164, 0.9988393419798356, 0.06417568552337174, 0.9343224804137946, 0.9973510609636252, 0.9953084367669479, 0.38964171806817305, 0.4801076660974888, 0.13018087459156302, 0.11966065457687294, 0.8781875157929828, 0.9995814260671967, 0.04910958281076183, 0.16870586094991122, 0.06182029836178254, 0.693889517126176, 0.025999190899815085, 0.9947672971871261, 0.996121204973947, 0.9728952087888313, 0.026799803957668, 0.9992518283612614, 0.9973878204428869, 0.9986328902291782, 0.9985106778448105, 0.6394786081175718, 0.2339743912762906, 0.126430972551274, 0.4119170901932266, 0.21001000664122466, 0.07176081886551361, 0.30630159266726187, 0.19618079218670087, 0.1943606920603829, 0.3651250860545721, 0.1891604059851887, 0.05518803597299835, 0.05426792806877781, 0.14800344018757583, 0.49498928329400366, 0.14800344018757583, 0.1545813708625792, 0.118622134395813, 0.7832130574156082, 0.06928760530328448, 0.028723659160538824, 0.20696354932854072, 0.7289474063718919, 0.03921414618856561, 0.024835625919424887, 0.049141194073617556, 0.10506048388152718, 0.5804954846725857, 0.24038032371971543, 0.02493370930828871, 0.06303668529259784, 0.9354644097421521, 0.19084308182056217, 0.8082089549388869, 0.711532016044286, 0.2877684922333279, 0.151645493289522, 0.8466873375331646, 0.02120809888506662, 0.08104523502507602, 0.898314474203179, 0.9812769789053036, 0.018205509812714352, 0.9911073661253376, 0.8195613619588028, 0.06606971124486725, 0.11432287114280401, 0.9960709975500418, 0.0681571126014303, 0.9317794735906063, 0.04994142306399684, 0.9493834738328784, 0.0006950098637136737, 0.9932719525487502, 0.9981596493296153, 0.0055998628934379934, 0.9930423531030041, 0.9989241451195804, 0.994698904242588, 0.998753766327215, 0.9976658077633278, 0.11261127029137213, 0.4134416215124747, 0.36889110272133074, 0.08333782878589766, 0.02172638236734434, 0.9956636959864953, 0.32150618342953785, 0.1665445857687577, 0.34999407310050956, 0.16028351111579686, 0.0018783223958882445, 0.996010547999582, 0.9992420656567429, 0.7977811685663957, 0.17462465119546877, 0.02746113466380356, 0.9703836882237453, 0.029381502834925185, 0.9978897077675197, 0.997280824697681, 0.08704692836438443, 0.911529155513837, 0.9960174305446199, 0.0034966654675684045, 0.9930529927894269, 0.9936014772644924, 0.9993442479178023, 0.03688229151718134, 0.9626903209569366, 0.06761308909213902, 0.23932887091344449, 0.094443680001718, 0.23145856424663466, 0.36704248364304043, 0.9978140626085521, 0.9953369101112776], \"Term\": [\"1.607\", \"1.607\", \"11h\", \"1er\", \"1er\", \"1er\", \"1er\", \"1er\", \"3121-1\", \"3121-30\", \"3121-33\", \"35h00\", \"36eme\", \"43eme\", \"44eme\", \"EUR\", \"EUR\", \"absence\", \"absence\", \"absence\", \"absence\", \"accoles\", \"accomplies\", \"accomplies\", \"accomplies\", \"acquis\", \"acquis\", \"acquisition\", \"acquisition\", \"acquisition\", \"adressee\", \"afferentes\", \"afin\", \"afin\", \"afin\", \"afin\", \"age\", \"alerte\", \"amenage\", \"amenage\", \"an\", \"an\", \"an\", \"annee\", \"annee\", \"annee\", \"annee\", \"annee\", \"annuel\", \"annuel\", \"annuel\", \"annuel\", \"annuel\", \"annuelle\", \"annuelle\", \"annuelle\", \"annuelle\", \"annuelle\", \"appels\", \"application\", \"application\", \"application\", \"application\", \"application\", \"appreciees\", \"arrivees\", \"arrondi\", \"articulation\", \"astreinte\", \"astreintes\", \"astreintes\", \"astreintes\", \"au-dela\", \"au-dela\", \"au-dela\", \"aupres\", \"aupres\", \"aupres\", \"aupres\", \"autonomie\", \"autonomie\", \"autonomie\", \"autre\", \"autre\", \"autre\", \"autre\", \"autre\", \"base\", \"base\", \"base\", \"base\", \"bruts\", \"ca\", \"ca\", \"ca\", \"ca\", \"cadre\", \"cadre\", \"cadre\", \"calcules\", \"carriere\", \"category\", \"cfdt\", \"cgt\", \"chantier\", \"chantiers\", \"chaque\", \"chaque\", \"chaque\", \"chaque\", \"chaque\", \"charge\", \"charge\", \"charge\", \"chomes\", \"classification\", \"client\", \"client\", \"client\", \"coefficient\", \"comite\", \"comite\", \"comite\", \"comite\", \"comme\", \"comme\", \"comme\", \"comme\", \"communication\", \"communication\", \"compensateur\", \"compensees\", \"compensent\", \"complementaires\", \"complementaires\", \"complets\", \"compte\", \"compte\", \"compte\", \"compte\", \"concernes\", \"concernes\", \"concernes\", \"concernes\", \"concernes\", \"conclu\", \"conclu\", \"conclu\", \"condition\", \"condition\", \"condition\", \"condition\", \"condition\", \"conducteur\", \"conformement\", \"conformement\", \"conformement\", \"conformement\", \"conformement\", \"conge\", \"conge\", \"conge\", \"consecutives\", \"consecutives\", \"consecutives\", \"conseil\", \"conseil\", \"constituent\", \"constituent\", \"consultation\", \"consultation\", \"consultation\", \"contingent\", \"contingent\", \"contrepartie\", \"contrepartie\", \"contrepartie\", \"contrepartie\", \"cor\", \"coupures\", \"courriel\", \"courriels\", \"cours\", \"cours\", \"cours\", \"cours\", \"cours\", \"decembre\", \"decembre\", \"decembre\", \"decembre\", \"declenchement\", \"declenchement\", \"deconnexion\", \"delai\", \"delai\", \"delai\", \"delai\", \"delais\", \"delais\", \"delais\", \"delegue\", \"demande\", \"demande\", \"demande\", \"demande\", \"demandees\", \"demandees\", \"denommee\", \"denonce\", \"denonciation\", \"depart\", \"depart\", \"departs\", \"departs\", \"deplacement\", \"deplacements\", \"deplacements\", \"deplacements\", \"depose\", \"depot\", \"depot\", \"depot\", \"deshabillage\", \"devra\", \"devra\", \"devra\", \"devra\", \"devra\", \"differees\", \"difficulte\", \"difficultes\", \"dimanche\", \"dimanche\", \"dimanche\", \"direccte\", \"direction\", \"direction\", \"direction\", \"direction\", \"direction\", \"disposition\", \"disposition\", \"disposition\", \"disposition\", \"disposition\", \"domicile\", \"domicile\", \"dont\", \"dont\", \"dont\", \"dont\", \"dont\", \"droit\", \"droit\", \"droit\", \"droit\", \"duree\", \"duree\", \"duree\", \"duree\", \"duree\", \"dus\", \"ecrit\", \"ecrit\", \"ecrit\", \"ecrit\", \"effectif\", \"effectif\", \"effectif\", \"effectif\", \"effectif\", \"effectuees\", \"effectuees\", \"effectuees\", \"election\", \"emploi\", \"emploi\", \"emploi\", \"emploi\", \"emplois\", \"employeur\", \"employeur\", \"employeur\", \"employeur\", \"employeur\", \"enfant\", \"enfant\", \"enfants\", \"ensemble\", \"ensemble\", \"ensemble\", \"ensemble\", \"ensemble\", \"entrera\", \"entrera\", \"entretien\", \"entretien\", \"entretiens\", \"envoi\", \"equipe\", \"equipe\", \"equipe\", \"equipes\", \"equipes\", \"ete\", \"ete\", \"ete\", \"ete\", \"ete\", \"exemplaire\", \"exemplaire\", \"exemplaires\", \"exemplaires\", \"fait\", \"fait\", \"fait\", \"fait\", \"fait\", \"familiale\", \"feries\", \"feries\", \"feries\", \"forfait\", \"forfait\", \"forfait\", \"formation\", \"formation\", \"formation\", \"formation\", \"fractionnement\", \"frais\", \"garde\", \"greffe\", \"haute\", \"haute\", \"haute\", \"haute\", \"hebdomadaire\", \"hebdomadaire\", \"hebdomadaire\", \"hebdomadaires\", \"hebdomadaires\", \"hebdomadaires\", \"heure\", \"heure\", \"heures\", \"heures\", \"hierarchique\", \"hierarchique\", \"hierarchique\", \"hierarchique\", \"hommes\", \"hommes\", \"horaire\", \"horaire\", \"horaire\", \"horaire\", \"horaires\", \"horaires\", \"horaires\", \"horaires\", \"iii-\", \"immatriculee\", \"incidence\", \"incidence\", \"indemnite\", \"indemnite\", \"independante\", \"intervention\", \"intervention\", \"intervention\", \"jnt\", \"jour\", \"jour\", \"jour\", \"jour\", \"jour\", \"journee\", \"journee\", \"journee\", \"jours\", \"jours\", \"jours\", \"jours\", \"jrtt\", \"l.3121-1\", \"l.3121-33\", \"l3121-33\", \"legale\", \"legale\", \"legale\", \"legale\", \"legale\", \"lettre\", \"lettre\", \"lissage\", \"lisse\", \"lissee\", \"livraison\", \"madame\", \"mail\", \"majoration\", \"majoration\", \"majoration\", \"majorations\", \"majorees\", \"majorite\", \"maladie\", \"maladie\", \"maladie\", \"matin\", \"matin\", \"maximale\", \"maximale\", \"message\", \"messagerie\", \"minimale\", \"minimale\", \"minimale\", \"minimale\", \"ministere\", \"modification\", \"modification\", \"modification\", \"modulation\", \"modulation\", \"modulation\", \"mois\", \"mois\", \"mois\", \"mois\", \"monsieur\", \"montant\", \"montant\", \"moyenne\", \"moyenne\", \"negociation\", \"negociation\", \"negociation\", \"nombre\", \"nombre\", \"nombre\", \"nombre\", \"nombre\", \"non\", \"non\", \"non\", \"non\", \"non\", \"notifiee\", \"nuit\", \"numeriques\", \"numero\", \"objet\", \"objet\", \"objet\", \"objet\", \"objet\", \"operee\", \"organisation\", \"organisation\", \"outils\", \"ouvrables\", \"ouvrables\", \"ouvrent\", \"ouvrent\", \"ouvres\", \"ouvres\", \"ouvrier\", \"paiement\", \"paiement\", \"paiement\", \"panier\", \"paris\", \"part\", \"part\", \"part\", \"part\", \"participation\", \"partiel\", \"partiel\", \"partiel\", \"partiel\", \"paternite\", \"pause\", \"pause\", \"paye\", \"payee\", \"payee\", \"perdus\", \"periode\", \"periode\", \"periode\", \"periode\", \"personnel\", \"personnel\", \"personnel\", \"personnel\", \"personnel\", \"personnelle\", \"personnelle\", \"plage\", \"plage\", \"plage\", \"planning\", \"planning\", \"planning\", \"planning\", \"plateforme\", \"plus\", \"plus\", \"plus\", \"plus\", \"plus\", \"portable\", \"poste\", \"poste\", \"poste\", \"poste\", \"postes\", \"postes\", \"postes\", \"pourra\", \"pourra\", \"pourra\", \"pourra\", \"president\", \"prevenance\", \"prevenance\", \"prevenance\", \"prime\", \"pris\", \"pris\", \"pris\", \"pris\", \"prise\", \"prise\", \"prise\", \"prise\", \"prise\", \"privee\", \"proces-verbal\", \"professionnelle\", \"professionnelle\", \"professionnelle\", \"professionnelle\", \"programmation\", \"programmation\", \"programmation\", \"promotion\", \"proportionnelle\", \"proportionnellement\", \"prorata\", \"prorata\", \"prud\", \"publicite\", \"qualite\", \"qualite\", \"qualite\", \"quotidienne\", \"quotidienne\", \"quotidienne\", \"raisonnable\", \"raisonnables\", \"realisees\", \"realisees\", \"realisees\", \"realisees\", \"reception\", \"reception\", \"recommandee\", \"recommandee\", \"reel\", \"reel\", \"reellement\", \"reellement\", \"reellement\", \"reference\", \"reference\", \"registre\", \"reglees\", \"regularisation\", \"regularisee\", \"relatif\", \"relatif\", \"relatif\", \"remplacement\", \"remplacement\", \"remuneration\", \"remuneration\", \"remuneration\", \"remuneration\", \"remuneration\", \"rendre\", \"renoncer\", \"renonciation\", \"repas\", \"repas\", \"reponse\", \"reportes\", \"repos\", \"repos\", \"repos\", \"representative\", \"representative\", \"representee\", \"respect\", \"respect\", \"respect\", \"respect\", \"respect\", \"revalorisation\", \"revise\", \"revision\", \"revision\", \"rtt\", \"rue\", \"rupture\", \"sa\", \"salaire\", \"salaire\", \"salaire\", \"salarie\", \"salarie\", \"salarie\", \"salarie\", \"salary\", \"salary\", \"salary\", \"salary\", \"salary\", \"sein\", \"sein\", \"sein\", \"sein\", \"sein\", \"semaine\", \"semaine\", \"semaine\", \"semaine\", \"semaines\", \"semaines\", \"semaines\", \"semaines\", \"service\", \"service\", \"service\", \"service\", \"service\", \"seuil\", \"seuil\", \"siege\", \"siege\", \"signataires\", \"signataires\", \"situe\", \"situe\", \"social\", \"social\", \"social\", \"solde\", \"solde\", \"soldes\", \"solidarite\", \"solidarite\", \"solidarite\", \"soussignes\", \"suivi\", \"suivi\", \"supplementaires\", \"supplementaires\", \"supplementaires\", \"surcharge\", \"syndicale\", \"syndicales\", \"syndicales\", \"syndicat\", \"teleprocedure\", \"teletravail\", \"teletravailleur\", \"temp\", \"temp\", \"temp\", \"temp\", \"temp\", \"temporis\", \"titre\", \"titre\", \"titre\", \"titre\", \"titre\", \"tombant\", \"trajet\", \"travaillees\", \"travaillees\", \"travaillees\", \"travailles\", \"travailles\", \"travailleur\", \"travailleurs\", \"urgence\", \"urgence\", \"vehicule\", \"veiller\", \"veiller\", \"vente\", \"version\", \"vie\", \"vie\", \"vigueur\", \"vigueur\", \"vigueur\", \"vigueur\", \"vigueur\", \"vote\", \"vrp\"]}, \"R\": 30, \"lambda.step\": 0.01, \"plot.opts\": {\"xlab\": \"PC1\", \"ylab\": \"PC2\"}, \"topic.order\": [4, 3, 2, 1, 5]};\n",
       "\n",
       "function LDAvis_load_lib(url, callback){\n",
       "  var s = document.createElement('script');\n",
       "  s.src = url;\n",
       "  s.async = true;\n",
       "  s.onreadystatechange = s.onload = callback;\n",
       "  s.onerror = function(){console.warn(\"failed to load library \" + url);};\n",
       "  document.getElementsByTagName(\"head\")[0].appendChild(s);\n",
       "}\n",
       "\n",
       "if(typeof(LDAvis) !== \"undefined\"){\n",
       "   // already loaded: just create the visualization\n",
       "   !function(LDAvis){\n",
       "       new LDAvis(\"#\" + \"ldavis_el15411397297187843361516590744\", ldavis_el15411397297187843361516590744_data);\n",
       "   }(LDAvis);\n",
       "}else if(typeof define === \"function\" && define.amd){\n",
       "   // require.js is available: use it to load d3/LDAvis\n",
       "   require.config({paths: {d3: \"https://d3js.org/d3.v5\"}});\n",
       "   require([\"d3\"], function(d3){\n",
       "      window.d3 = d3;\n",
       "      LDAvis_load_lib(\"https://cdn.jsdelivr.net/gh/bmabey/pyLDAvis@3.4.0/pyLDAvis/js/ldavis.v3.0.0.js\", function(){\n",
       "        new LDAvis(\"#\" + \"ldavis_el15411397297187843361516590744\", ldavis_el15411397297187843361516590744_data);\n",
       "      });\n",
       "    });\n",
       "}else{\n",
       "    // require.js not available: dynamically load d3 & LDAvis\n",
       "    LDAvis_load_lib(\"https://d3js.org/d3.v5.js\", function(){\n",
       "         LDAvis_load_lib(\"https://cdn.jsdelivr.net/gh/bmabey/pyLDAvis@3.4.0/pyLDAvis/js/ldavis.v3.0.0.js\", function(){\n",
       "                 new LDAvis(\"#\" + \"ldavis_el15411397297187843361516590744\", ldavis_el15411397297187843361516590744_data);\n",
       "            })\n",
       "         });\n",
       "}\n",
       "</script>"
      ],
      "text/plain": [
       "<IPython.core.display.HTML object>"
      ]
     },
     "execution_count": 39,
     "metadata": {},
     "output_type": "execute_result"
    }
   ],
   "source": [
    "visualize_lda(model_hs, corpus_hs, dictionary_hs)"
   ]
  },
  {
   "cell_type": "code",
   "execution_count": null,
   "id": "330192f3-f14b-420d-a50b-c71ad3cbf412",
   "metadata": {},
   "outputs": [
    {
     "name": "stdout",
     "output_type": "stream",
     "text": [
      "Num Topics: 2, Coherence Score: 0.4018\n",
      "Num Topics: 3, Coherence Score: 0.4909\n"
     ]
    }
   ],
   "source": [
    "compute_coherence_values(dictionary_hs, corpus_hs, processed_texts_hs, max_topics=20)"
   ]
  },
  {
   "cell_type": "code",
   "execution_count": null,
   "id": "f1494ff4-dba8-4f21-b3d7-81c2fc33ca81",
   "metadata": {},
   "outputs": [],
   "source": [
    "model_hs, corpus_hs, dictionary_hs = lda_model(processed_texts_hs, num_topics= 18)"
   ]
  },
  {
   "cell_type": "code",
   "execution_count": null,
   "id": "11d2ce8c-1305-412b-af36-fede6558a461",
   "metadata": {},
   "outputs": [],
   "source": [
    "visualize_lda(model_hs, corpus_hs, dictionary_hs)"
   ]
  },
  {
   "cell_type": "code",
   "execution_count": null,
   "id": "7cf76d8f-3bf3-4d59-bd69-236bb4cbe9ef",
   "metadata": {},
   "outputs": [],
   "source": [
    "# Application dans le DataFrame\n",
    "df_hs[\"lda_documents_bis\"] = df_hs[\"section_dict\"].apply(get_valid_chunks_filtered_bis)\n",
    "# Nettoyage NLP + lemming\n",
    "all_chunks_hs_bis = [chunk for doc_chunks in df_hs[\"lda_documents_bis\"] for chunk in doc_chunks]\n",
    "processed_texts_hs_bis = [preprocess_text(doc) for doc in all_chunks_hs_bis]\n"
   ]
  },
  {
   "cell_type": "code",
   "execution_count": null,
   "id": "780778e6-a71d-45f1-8110-5fa6c7f9df63",
   "metadata": {},
   "outputs": [],
   "source": [
    "model_hs_bis, corpus_hs_bis, dictionary_hs_bis = lda_model(processed_texts_hs_bis)"
   ]
  },
  {
   "cell_type": "code",
   "execution_count": null,
   "id": "c2372de0-04bf-4bbe-905f-ad5e9d3b8922",
   "metadata": {},
   "outputs": [],
   "source": [
    "visualize_lda(model_hs_bis, corpus_hs_bis, dictionary_hs_bis)"
   ]
  },
  {
   "cell_type": "markdown",
   "id": "d4eef58e-ff2f-46d4-a5a2-39685c6e1a9e",
   "metadata": {},
   "source": [
    "# Pour les données de santé"
   ]
  },
  {
   "cell_type": "code",
   "execution_count": null,
   "id": "eb2b74d3-2cef-46cb-b739-c481389e4316",
   "metadata": {},
   "outputs": [],
   "source": [
    "df_sante= pd.read_parquet(\"data/complementaire_sante_580.parquet\")\n",
    "df_sante"
   ]
  },
  {
   "cell_type": "code",
   "execution_count": null,
   "id": "f4833ea4-dda4-4fcf-b91d-537167a18f60",
   "metadata": {},
   "outputs": [],
   "source": [
    "df_sante[\"extracted_summary\"][0]"
   ]
  },
  {
   "cell_type": "code",
   "execution_count": null,
   "id": "951b2e23-a965-4c2b-b8b5-c85834eba868",
   "metadata": {},
   "outputs": [],
   "source": [
    "df_sante[\"section_dict\"] = df_sante.apply(\n",
    "    lambda row: split_text_with_titles(row[\"accorddocx\"], row[\"extracted_summary\"]),\n",
    "    axis=1\n",
    ")\n"
   ]
  },
  {
   "cell_type": "code",
   "execution_count": null,
   "id": "624e40fa-aacf-442d-8c83-3bf440fe64c1",
   "metadata": {},
   "outputs": [],
   "source": [
    "#df_sante[\"section_dict\"][5]"
   ]
  },
  {
   "cell_type": "code",
   "execution_count": null,
   "id": "2f379b5b-7b71-455a-984c-c743f5cca718",
   "metadata": {},
   "outputs": [],
   "source": [
    "# Application dans le DataFrame\n",
    "df_sante[\"lda_documents\"] = df_sante[\"section_dict\"].apply(get_valid_chunks_filtered)\n",
    "\n",
    "# Nettoyage NLP + lemming\n",
    "all_chunks_sante = [chunk for doc_chunks in df_sante[\"lda_documents\"] for chunk in doc_chunks]\n",
    "processed_texts_sante = [preprocess_text(doc) for doc in all_chunks_sante]\n"
   ]
  },
  {
   "cell_type": "code",
   "execution_count": null,
   "id": "6eaba208-740d-44cd-9514-93f450e483c5",
   "metadata": {},
   "outputs": [],
   "source": [
    "#df_sante[\"lda_documents\"][0]"
   ]
  },
  {
   "cell_type": "code",
   "execution_count": null,
   "id": "983c5d45-75c0-48dc-b5cb-06cb2aa1c7ad",
   "metadata": {},
   "outputs": [],
   "source": [
    "model_sante, corpus_sante, dictionary_sante = lda_model(processed_texts_sante)"
   ]
  },
  {
   "cell_type": "code",
   "execution_count": null,
   "id": "2cab406d-9bcc-4c9f-aabf-1db3f3c62723",
   "metadata": {},
   "outputs": [],
   "source": [
    "visualize_lda(model_sante, corpus_sante, dictionary_sante)"
   ]
  },
  {
   "cell_type": "code",
   "execution_count": null,
   "id": "3b5dd0c7-1934-48cc-8f8d-aa32bee213de",
   "metadata": {},
   "outputs": [],
   "source": [
    "compute_coherence_values(dictionary_sante, corpus_sante, processed_texts_sante, max_topics=20)"
   ]
  },
  {
   "cell_type": "code",
   "execution_count": null,
   "id": "6e5f6008-bef3-4208-a339-ce47052ff707",
   "metadata": {},
   "outputs": [],
   "source": [
    "model_sante, corpus_sante, dictionary_sante = lda_model(processed_texts_sante, num_topics= 17)"
   ]
  },
  {
   "cell_type": "code",
   "execution_count": null,
   "id": "f172ab58-98cf-46da-a56f-c4d9f424477f",
   "metadata": {},
   "outputs": [],
   "source": [
    "visualize_lda(model_sante, corpus_sante, dictionary_sante)"
   ]
  },
  {
   "cell_type": "code",
   "execution_count": null,
   "id": "d5df80ae-8424-4fdd-a6e7-3e531e12f77c",
   "metadata": {},
   "outputs": [],
   "source": [
    "# Application dans le DataFrame\n",
    "df_sante[\"lda_documents_bis\"] = df_sante[\"section_dict\"].apply(get_valid_chunks_filtered_bis)\n",
    "# Nettoyage NLP + lemming\n",
    "all_chunks_sante_bis = [chunk for doc_chunks in df_sante[\"lda_documents_bis\"] for chunk in doc_chunks]\n",
    "processed_texts_sante_bis = [preprocess_text(doc) for doc in all_chunks_sante_bis]"
   ]
  },
  {
   "cell_type": "code",
   "execution_count": null,
   "id": "e3e5f5a5-899a-4cc1-a6a6-673b37e03920",
   "metadata": {},
   "outputs": [],
   "source": [
    "model_sante_bis, corpus_sante_bis, dictionary_sante_bis = lda_model(processed_texts_sante_bis)"
   ]
  },
  {
   "cell_type": "code",
   "execution_count": null,
   "id": "edb11aa8-168b-48d4-b460-602addb8e276",
   "metadata": {},
   "outputs": [],
   "source": [
    "visualize_lda(model_sante_bis, corpus_sante_bis, dictionary_sante_bis)"
   ]
  }
 ],
 "metadata": {
  "kernelspec": {
   "display_name": "Python 3 (ipykernel)",
   "language": "python",
   "name": "python3"
  },
  "language_info": {
   "codemirror_mode": {
    "name": "ipython",
    "version": 3
   },
   "file_extension": ".py",
   "mimetype": "text/x-python",
   "name": "python",
   "nbconvert_exporter": "python",
   "pygments_lexer": "ipython3",
   "version": "3.12.9"
  }
 },
 "nbformat": 4,
 "nbformat_minor": 5
}
