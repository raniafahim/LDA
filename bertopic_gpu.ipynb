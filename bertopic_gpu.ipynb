{
 "cells": [
  {
   "cell_type": "code",
   "execution_count": 1,
   "id": "d0e3116e-da4a-44f1-9d4a-af940d82599e",
   "metadata": {},
   "outputs": [],
   "source": [
    "!uv pip install -q spacy"
   ]
  },
  {
   "cell_type": "code",
   "execution_count": 2,
   "id": "6a6b3c8f-cc26-47ce-87eb-587a569c9df6",
   "metadata": {},
   "outputs": [],
   "source": [
    "!uv pip install -q nltk gensim pyLDAvis unidecode matplotlib seaborn pandas pyarrow"
   ]
  },
  {
   "cell_type": "code",
   "execution_count": 3,
   "id": "69b728cf-e2d9-47b1-96d3-1ff5d143e467",
   "metadata": {},
   "outputs": [],
   "source": [
    "!uv pip install -q bertopic polars datasets hf_xet"
   ]
  },
  {
   "cell_type": "code",
   "execution_count": 4,
   "id": "a7ccdfca-6dd8-4865-a73c-234130ecf8d3",
   "metadata": {},
   "outputs": [],
   "source": [
    "!uv pip install -q https://github.com/explosion/spacy-models/releases/download/fr_core_news_sm-3.7.0/fr_core_news_sm-3.7.0-py3-none-any.whl"
   ]
  },
  {
   "cell_type": "code",
   "execution_count": 5,
   "id": "de153dd7-a477-4437-859f-399c79153860",
   "metadata": {},
   "outputs": [
    {
     "name": "stdout",
     "output_type": "stream",
     "text": [
      "\u001b[2K\u001b[2mResolved \u001b[1m55 packages\u001b[0m \u001b[2min 1.56s\u001b[0m\u001b[0m                                        \u001b[0m\n",
      "\u001b[2K\u001b[2mPrepared \u001b[1m33 packages\u001b[0m \u001b[2min 12.06s\u001b[0m\u001b[0m                                           \n",
      "\u001b[2mUninstalled \u001b[1m1 package\u001b[0m \u001b[2min 73ms\u001b[0m\u001b[0m\n",
      "\u001b[2K░░░░░░░░░░░░░░░░░░░░ [0/33] \u001b[2mInstalling wheels...                                \u001b[0m\u001b[1m\u001b[33mwarning\u001b[39m\u001b[0m\u001b[1m:\u001b[0m \u001b[1mFailed to hardlink files; falling back to full copy. This may lead to degraded performance.\n",
      "         If the cache and target directories are on different filesystems, hardlinking may not be supported.\n",
      "         If this is intentional, set `export UV_LINK_MODE=copy` or use `--link-mode=copy` to suppress this warning.\u001b[0m\n",
      "\u001b[2K\u001b[2mInstalled \u001b[1m33 packages\u001b[0m \u001b[2min 3.95s\u001b[0m\u001b[0m                              \u001b[0m\n",
      " \u001b[32m+\u001b[39m \u001b[1mcachetools\u001b[0m\u001b[2m==5.5.2\u001b[0m\n",
      " \u001b[32m+\u001b[39m \u001b[1mcloudpickle\u001b[0m\u001b[2m==3.1.1\u001b[0m\n",
      " \u001b[32m+\u001b[39m \u001b[1mcuda-bindings\u001b[0m\u001b[2m==12.9.0\u001b[0m\n",
      " \u001b[32m+\u001b[39m \u001b[1mcuda-python\u001b[0m\u001b[2m==12.9.0\u001b[0m\n",
      " \u001b[32m+\u001b[39m \u001b[1mcudf-cu12\u001b[0m\u001b[2m==25.4.0\u001b[0m\n",
      " \u001b[32m+\u001b[39m \u001b[1mcupy-cuda12x\u001b[0m\u001b[2m==13.4.1\u001b[0m\n",
      " \u001b[32m+\u001b[39m \u001b[1mdask\u001b[0m\u001b[2m==2025.2.0\u001b[0m\n",
      " \u001b[32m+\u001b[39m \u001b[1mdask-cudf-cu12\u001b[0m\u001b[2m==25.4.0\u001b[0m\n",
      " \u001b[32m+\u001b[39m \u001b[1mdistributed\u001b[0m\u001b[2m==2025.2.0\u001b[0m\n",
      " \u001b[32m+\u001b[39m \u001b[1mfastrlock\u001b[0m\u001b[2m==0.8.3\u001b[0m\n",
      " \u001b[32m+\u001b[39m \u001b[1mimportlib-metadata\u001b[0m\u001b[2m==8.7.0\u001b[0m\n",
      " \u001b[32m+\u001b[39m \u001b[1mlibcudf-cu12\u001b[0m\u001b[2m==25.4.0\u001b[0m\n",
      " \u001b[32m+\u001b[39m \u001b[1mlibkvikio-cu12\u001b[0m\u001b[2m==25.4.0\u001b[0m\n",
      " \u001b[32m+\u001b[39m \u001b[1mlibrmm-cu12\u001b[0m\u001b[2m==25.4.0\u001b[0m\n",
      " \u001b[32m+\u001b[39m \u001b[1mlocket\u001b[0m\u001b[2m==1.0.0\u001b[0m\n",
      " \u001b[32m+\u001b[39m \u001b[1mmsgpack\u001b[0m\u001b[2m==1.1.0\u001b[0m\n",
      " \u001b[32m+\u001b[39m \u001b[1mnumba-cuda\u001b[0m\u001b[2m==0.4.0\u001b[0m\n",
      " \u001b[32m+\u001b[39m \u001b[1mnvidia-ml-py\u001b[0m\u001b[2m==12.575.51\u001b[0m\n",
      " \u001b[32m+\u001b[39m \u001b[1mnvidia-nvcomp-cu12\u001b[0m\u001b[2m==4.2.0.11\u001b[0m\n",
      " \u001b[32m+\u001b[39m \u001b[1mnvtx\u001b[0m\u001b[2m==0.2.11\u001b[0m\n",
      " \u001b[32m+\u001b[39m \u001b[1mpartd\u001b[0m\u001b[2m==1.4.2\u001b[0m\n",
      " \u001b[31m-\u001b[39m \u001b[1mpyarrow\u001b[0m\u001b[2m==20.0.0\u001b[0m\n",
      " \u001b[32m+\u001b[39m \u001b[1mpyarrow\u001b[0m\u001b[2m==19.0.1\u001b[0m\n",
      " \u001b[32m+\u001b[39m \u001b[1mpylibcudf-cu12\u001b[0m\u001b[2m==25.4.0\u001b[0m\n",
      " \u001b[32m+\u001b[39m \u001b[1mpynvjitlink-cu12\u001b[0m\u001b[2m==0.2.3\u001b[0m\n",
      " \u001b[32m+\u001b[39m \u001b[1mpynvml\u001b[0m\u001b[2m==12.0.0\u001b[0m\n",
      " \u001b[32m+\u001b[39m \u001b[1mrapids-dask-dependency\u001b[0m\u001b[2m==25.4.0\u001b[0m\n",
      " \u001b[32m+\u001b[39m \u001b[1mrapids-logger\u001b[0m\u001b[2m==0.1.1\u001b[0m\n",
      " \u001b[32m+\u001b[39m \u001b[1mrmm-cu12\u001b[0m\u001b[2m==25.4.0\u001b[0m\n",
      " \u001b[32m+\u001b[39m \u001b[1msortedcontainers\u001b[0m\u001b[2m==2.4.0\u001b[0m\n",
      " \u001b[32m+\u001b[39m \u001b[1mtblib\u001b[0m\u001b[2m==3.1.0\u001b[0m\n",
      " \u001b[32m+\u001b[39m \u001b[1mtoolz\u001b[0m\u001b[2m==1.0.0\u001b[0m\n",
      " \u001b[32m+\u001b[39m \u001b[1mzict\u001b[0m\u001b[2m==3.0.0\u001b[0m\n",
      " \u001b[32m+\u001b[39m \u001b[1mzipp\u001b[0m\u001b[2m==3.21.0\u001b[0m\n",
      "\u001b[2K\u001b[2mResolved \u001b[1m77 packages\u001b[0m \u001b[2min 1.64s\u001b[0m\u001b[0m                                        \u001b[0m\n",
      "\u001b[2K\u001b[2mPrepared \u001b[1m16 packages\u001b[0m \u001b[2min 55.86s\u001b[0m\u001b[0m                                           \n",
      "\u001b[2mUninstalled \u001b[1m2 packages\u001b[0m \u001b[2min 53ms\u001b[0m\u001b[0m\n",
      "\u001b[2K░░░░░░░░░░░░░░░░░░░░ [0/16] \u001b[2mInstalling wheels...                                \u001b[0m\u001b[1m\u001b[33mwarning\u001b[39m\u001b[0m\u001b[1m:\u001b[0m \u001b[1mFailed to hardlink files; falling back to full copy. This may lead to degraded performance.\n",
      "         If the cache and target directories are on different filesystems, hardlinking may not be supported.\n",
      "         If this is intentional, set `export UV_LINK_MODE=copy` or use `--link-mode=copy` to suppress this warning.\u001b[0m\n",
      "\u001b[2K\u001b[2mInstalled \u001b[1m16 packages\u001b[0m \u001b[2min 3.25s\u001b[0m\u001b[0m                              \u001b[0m\n",
      " \u001b[32m+\u001b[39m \u001b[1mcuml-cu12\u001b[0m\u001b[2m==25.4.0\u001b[0m\n",
      " \u001b[32m+\u001b[39m \u001b[1mcuvs-cu12\u001b[0m\u001b[2m==25.4.0\u001b[0m\n",
      " \u001b[32m+\u001b[39m \u001b[1mdask-cuda\u001b[0m\u001b[2m==25.4.0\u001b[0m\n",
      " \u001b[32m+\u001b[39m \u001b[1mdistributed-ucxx-cu12\u001b[0m\u001b[2m==0.43.0\u001b[0m\n",
      " \u001b[32m+\u001b[39m \u001b[1mlibcuml-cu12\u001b[0m\u001b[2m==25.4.0\u001b[0m\n",
      " \u001b[32m+\u001b[39m \u001b[1mlibcuvs-cu12\u001b[0m\u001b[2m==25.4.0\u001b[0m\n",
      " \u001b[32m+\u001b[39m \u001b[1mlibraft-cu12\u001b[0m\u001b[2m==25.4.0\u001b[0m\n",
      " \u001b[32m+\u001b[39m \u001b[1mlibucx-cu12\u001b[0m\u001b[2m==1.18.1\u001b[0m\n",
      " \u001b[32m+\u001b[39m \u001b[1mlibucxx-cu12\u001b[0m\u001b[2m==0.43.0\u001b[0m\n",
      " \u001b[31m-\u001b[39m \u001b[1mllvmlite\u001b[0m\u001b[2m==0.44.0\u001b[0m\n",
      " \u001b[32m+\u001b[39m \u001b[1mllvmlite\u001b[0m\u001b[2m==0.43.0\u001b[0m\n",
      " \u001b[31m-\u001b[39m \u001b[1mnumba\u001b[0m\u001b[2m==0.61.2\u001b[0m\n",
      " \u001b[32m+\u001b[39m \u001b[1mnumba\u001b[0m\u001b[2m==0.60.0\u001b[0m\n",
      " \u001b[32m+\u001b[39m \u001b[1mpylibraft-cu12\u001b[0m\u001b[2m==25.4.0\u001b[0m\n",
      " \u001b[32m+\u001b[39m \u001b[1mraft-dask-cu12\u001b[0m\u001b[2m==25.4.0\u001b[0m\n",
      " \u001b[32m+\u001b[39m \u001b[1mtreelite\u001b[0m\u001b[2m==4.4.1\u001b[0m\n",
      " \u001b[32m+\u001b[39m \u001b[1mucx-py-cu12\u001b[0m\u001b[2m==0.43.0\u001b[0m\n",
      " \u001b[32m+\u001b[39m \u001b[1mucxx-cu12\u001b[0m\u001b[2m==0.43.0\u001b[0m\n",
      "\u001b[2K\u001b[2mResolved \u001b[1m81 packages\u001b[0m \u001b[2min 896ms\u001b[0m\u001b[0m                                        \u001b[0m\n",
      "\u001b[2K\u001b[2mPrepared \u001b[1m3 packages\u001b[0m \u001b[2min 23.42s\u001b[0m\u001b[0m                                            \n",
      "\u001b[2K░░░░░░░░░░░░░░░░░░░░ [0/3] \u001b[2mInstalling wheels...                                 \u001b[0m\u001b[1m\u001b[33mwarning\u001b[39m\u001b[0m\u001b[1m:\u001b[0m \u001b[1mFailed to hardlink files; falling back to full copy. This may lead to degraded performance.\n",
      "         If the cache and target directories are on different filesystems, hardlinking may not be supported.\n",
      "         If this is intentional, set `export UV_LINK_MODE=copy` or use `--link-mode=copy` to suppress this warning.\u001b[0m\n",
      "\u001b[2K\u001b[2mInstalled \u001b[1m3 packages\u001b[0m \u001b[2min 6.01s\u001b[0m\u001b[0m1                              \u001b[0m\n",
      " \u001b[32m+\u001b[39m \u001b[1mcugraph-cu12\u001b[0m\u001b[2m==25.4.1\u001b[0m\n",
      " \u001b[32m+\u001b[39m \u001b[1mlibcugraph-cu12\u001b[0m\u001b[2m==25.4.1\u001b[0m\n",
      " \u001b[32m+\u001b[39m \u001b[1mpylibcugraph-cu12\u001b[0m\u001b[2m==25.4.1\u001b[0m\n",
      "\u001b[2mAudited \u001b[1m1 package\u001b[0m \u001b[2min 5ms\u001b[0m\u001b[0m\n"
     ]
    }
   ],
   "source": [
    "#compaatible uniquement avec verison python 3.11 et moins et mettre la mémoire au max\n",
    "!uv pip install cudf-cu12 dask-cudf-cu12 --extra-index-url=https://pypi.nvidia.com\n",
    "!uv pip install cuml-cu12 --extra-index-url=https://pypi.nvidia.com\n",
    "!uv pip install cugraph-cu12 --extra-index-url=https://pypi.nvidia.com\n",
    "!uv pip install cupy-cuda12x -f https://pip.cupy.dev/aarch64"
   ]
  },
  {
   "cell_type": "code",
   "execution_count": 6,
   "id": "bd684570-9b09-4aaa-b69d-3e72d538106e",
   "metadata": {},
   "outputs": [],
   "source": [
    "!uv pip install -q langchain-huggingface==0.0.3"
   ]
  },
  {
   "cell_type": "code",
   "execution_count": 7,
   "id": "656026cc-3086-4497-a74a-e22da77315e9",
   "metadata": {},
   "outputs": [
    {
     "name": "stderr",
     "output_type": "stream",
     "text": [
      "/home/onyxia/work/TopicModeling/.venv/lib/python3.11/site-packages/tqdm/auto.py:21: TqdmWarning: IProgress not found. Please update jupyter and ipywidgets. See https://ipywidgets.readthedocs.io/en/stable/user_install.html\n",
      "  from .autonotebook import tqdm as notebook_tqdm\n"
     ]
    }
   ],
   "source": [
    "from bertopic import BERTopic\n",
    "from bertopic.representation import KeyBERTInspired, MaximalMarginalRelevance, PartOfSpeech\n",
    "from cuml.cluster import HDBSCAN\n",
    "from scipy.cluster import hierarchy as sch\n",
    "from sentence_transformers import SentenceTransformer\n",
    "from sklearn.feature_extraction.text import CountVectorizer\n",
    "from spacy.lang.fr.stop_words import STOP_WORDS as fr_stop\n",
    "from cuml.manifold import UMAP\n",
    "import polars as pl\n",
    "import spacy\n",
    "import pandas as pd\n",
    "import numpy as np\n",
    "import time\n",
    "from sklearn.decomposition import PCA\n",
    "from langchain_huggingface import HuggingFaceEmbeddings\n",
    "from sklearn.metrics.pairwise import cosine_similarity\n",
    "import tqdm as notebook_tqdm"
   ]
  },
  {
   "cell_type": "code",
   "execution_count": 8,
   "id": "d403ec21-262f-4c05-8208-d489b6772779",
   "metadata": {},
   "outputs": [
    {
     "name": "stderr",
     "output_type": "stream",
     "text": [
      "[nltk_data] Downloading package punkt to /home/onyxia/nltk_data...\n",
      "[nltk_data]   Unzipping tokenizers/punkt.zip.\n",
      "[nltk_data] Downloading package punkt_tab to /home/onyxia/nltk_data...\n",
      "[nltk_data]   Unzipping tokenizers/punkt_tab.zip.\n",
      "[nltk_data] Downloading package stopwords to /home/onyxia/nltk_data...\n",
      "[nltk_data]   Unzipping corpora/stopwords.zip.\n",
      "[nltk_data] Downloading package wordnet to /home/onyxia/nltk_data...\n"
     ]
    },
    {
     "data": {
      "text/plain": [
       "True"
      ]
     },
     "execution_count": 8,
     "metadata": {},
     "output_type": "execute_result"
    }
   ],
   "source": [
    "from nltk.corpus import stopwords\n",
    "from nltk.stem import WordNetLemmatizer, SnowballStemmer\n",
    "from nltk.stem.porter import *\n",
    "from nltk.tokenize import word_tokenize\n",
    "from pathlib import Path\n",
    "from sklearn.metrics.pairwise import cosine_similarity\n",
    "from tqdm import tqdm\n",
    "import html \n",
    "import json\n",
    "import matplotlib.pyplot  as plt\n",
    "import nltk\n",
    "import numpy as np\n",
    "import os\n",
    "import pandas as pd\n",
    "import unidecode\n",
    "import re\n",
    "import requests\n",
    "import seaborn as sns\n",
    "import string\n",
    "import unidecode\n",
    "import warnings\n",
    "import torch\n",
    "nltk.download('punkt')\n",
    "nltk.download('punkt_tab')\n",
    "nltk.download('stopwords')\n",
    "nltk.download('wordnet')"
   ]
  },
  {
   "cell_type": "code",
   "execution_count": 9,
   "id": "d1555bc2-300d-4d29-bfb1-8fbcda4afaf7",
   "metadata": {},
   "outputs": [],
   "source": [
    "stop_words = set(stopwords.words('french'))"
   ]
  },
  {
   "cell_type": "code",
   "execution_count": 10,
   "id": "0ed10cca-aae5-4f19-bb07-156f2a89c128",
   "metadata": {},
   "outputs": [],
   "source": [
    "class CachedLemmatizer:\n",
    "    def __init__(self):\n",
    "        self.lemmatizer = WordNetLemmatizer()\n",
    "        self.cache = {}  # Manual cache as a dictionary\n",
    "\n",
    "    def lemmatize(self, word, pos='n'):\n",
    "        if word in self.cache:\n",
    "            return self.cache[word]\n",
    "        else:\n",
    "            lemmatized_word = self.lemmatizer.lemmatize(word, pos)\n",
    "            self.cache[word] = lemmatized_word  # Store in cache\n",
    "            return lemmatized_word\n",
    "\n",
    "\n",
    "cached_lemmatizer = CachedLemmatizer()"
   ]
  },
  {
   "cell_type": "code",
   "execution_count": 11,
   "id": "96760d9b-1595-40b3-9ca2-71872fc33b4b",
   "metadata": {},
   "outputs": [],
   "source": [
    "import os\n",
    "os.environ[\"TOKENIZERS_PARALLELISM\"] = \"false\""
   ]
  },
  {
   "cell_type": "code",
   "execution_count": 12,
   "id": "ecab0f10-cf21-4f02-8426-e00ef4d823d5",
   "metadata": {
    "scrolled": true
   },
   "outputs": [],
   "source": [
    "nlp = spacy.load(\"fr_core_news_sm\")  "
   ]
  },
  {
   "cell_type": "code",
   "execution_count": 13,
   "id": "4651fb00-9f7f-4607-95b3-ad4779f270fb",
   "metadata": {},
   "outputs": [],
   "source": [
    "def preprocess(docs):\n",
    "    cleaned = []\n",
    "    for doc in nlp.pipe(docs, batch_size=100, n_process=4):\n",
    "        tokens = [token.lemma_.lower() for token in doc if not token.is_stop and not token.is_punct]\n",
    "        cleaned.append(' '.join(tokens))\n",
    "    return cleaned"
   ]
  },
  {
   "cell_type": "code",
   "execution_count": 14,
   "id": "866cae73-656c-44a9-b29b-84ad0dfca928",
   "metadata": {},
   "outputs": [],
   "source": [
    "DICTIONNARY =  ['accord','entreprise', 'preambule', 'sommaire',  'code', 'syndical', 'responsable', 'representant', \n",
    "                'present', 'ca', 'organisation', 'preambule', 'peut', 'etre', 'contrat','travail', 'ressources','humaines', 'mise',\n",
    "                'ainsi', 'et', 'ou', 'alors','collaborateur', 'ci', 'apres', 'party', 'signataire', 'tout', 'etat', 'cause', 'societe', \n",
    "                'notamment','article','activite', 'cette', 'donc', 'si', 'sous', 'disposition', 'convention', 'collective', 'dans', 'a', 'cadre',\n",
    "                'signataire', 'partie', 'parties', 'entre', 'doit', 'mme', 'mr', 'madame', 'monsieur'\n",
    "               ]\n",
    "\n",
    "DICTIONNARY_STEM = ['part', 'signatair', 'organis', 'syndical', \n",
    "                    'dont', 'sieg', 'social', 'conseil', 'prud', 'homm', \n",
    "                   'vi', 'professionnel', 'disposit', 'legal', 'conventionnel']"
   ]
  },
  {
   "cell_type": "code",
   "execution_count": 15,
   "id": "fe062458-7ede-4962-866e-a03370dac064",
   "metadata": {},
   "outputs": [],
   "source": [
    "def preprocess_text(text, lang=\"french\"):\n",
    "    # décoage HTML\n",
    "    text = html.unescape(text)\n",
    "    \n",
    "    # nettoyage de tous les cractères spéciaux\n",
    "    text = re.sub(r\"&[a-z]+;\", \" \", text)\n",
    "    text = re.sub(r\"&#\\d+;\", \" \", text)\n",
    "    text = re.sub(r\"[<>{}\\[\\]\\|\\^\\~`\\\"'=]+\", \" \", text)\n",
    "    text = re.sub(r\"[–—•«»]+\", \" \", text)  # Tirets longs, puces, guillemets français\n",
    "\n",
    "    # tokenisation\n",
    "    words = word_tokenize(text)\n",
    "\n",
    "    # lemming\n",
    "    #stemmer = SnowballStemmer(lang)\n",
    "                  \n",
    "    wnl = cached_lemmatizer\n",
    "   \n",
    "    words_cleaned = []\n",
    "    for w in words:\n",
    "        #w_norm = unidecode.unidecode(w.lower())\n",
    "        w_norm = w.lower()\n",
    "        if (\n",
    "            w_norm not in stop_words\n",
    "            and w_norm not in DICTIONNARY\n",
    "            and w_norm not in string.punctuation\n",
    "            and not re.search(r\"[<>]|--+|__+|xx+|==+\", w_norm)\n",
    "            and not w_norm.isnumeric()\n",
    "            and len(w_norm) > 2\n",
    "        ):\n",
    "            words_cleaned.append(wnl.lemmatize(w_norm))\n",
    "            #words_cleaned.append(stemmer.stem(w_norm))\n",
    "\n",
    "    return words_cleaned"
   ]
  },
  {
   "cell_type": "code",
   "execution_count": 16,
   "id": "68e0c94a-9bf1-4d0a-9ebb-4e93ff8c32a0",
   "metadata": {},
   "outputs": [],
   "source": [
    "import re\n",
    "\n",
    "def normalize(text):\n",
    "    return text.lower().strip()\n",
    "\n",
    "def split_text_by_sentences(text, flagged_sentences):\n",
    "    split_texts = []\n",
    "    positions = []\n",
    "\n",
    "    normalized_text = normalize(text)\n",
    "\n",
    "    # On garde un mapping (titre original, position) pour préserver les titres initiaux\n",
    "    for sentence in flagged_sentences:\n",
    "        norm_sentence = normalize(sentence)\n",
    "        pos = normalized_text.find(norm_sentence)\n",
    "        if pos != -1:\n",
    "            # On retrouve la position réelle dans le texte original\n",
    "            real_pos = text.lower().find(sentence.lower())\n",
    "            if real_pos != -1:\n",
    "                positions.append(real_pos)\n",
    "\n",
    "    # Si aucune position trouvée, retourner le texte complet\n",
    "    if not positions:\n",
    "        return [text]\n",
    "\n",
    "    positions = sorted(set(positions))\n",
    "    positions.insert(0, 0)\n",
    "    positions.append(len(text))\n",
    "\n",
    "    for i in range(len(positions) - 1):\n",
    "        start = positions[i]\n",
    "        end = positions[i + 1]\n",
    "        split_texts.append(text[start:end].strip())\n",
    "\n",
    "    return split_texts\n",
    "\n"
   ]
  },
  {
   "cell_type": "code",
   "execution_count": 17,
   "id": "789cfbb5-3204-412f-8fa9-c1c06bef4a04",
   "metadata": {},
   "outputs": [],
   "source": [
    "def split_text_with_titles(text, summary_titles):\n",
    "    chunks = split_text_by_sentences(text, summary_titles)\n",
    "    result = {}\n",
    "    for title in summary_titles:\n",
    "        for chunk in chunks:\n",
    "            if normalize(title) in normalize(chunk[:len(title)+30]):\n",
    "                result[title] = chunk.strip()\n",
    "                break\n",
    "    return result\n"
   ]
  },
  {
   "cell_type": "code",
   "execution_count": 18,
   "id": "34f4a6a8-83ed-4cb3-97fc-40103a85a017",
   "metadata": {},
   "outputs": [
    {
     "name": "stderr",
     "output_type": "stream",
     "text": [
      "Batches: 100%|██████████| 1/1 [00:00<00:00,  3.62it/s]\n"
     ]
    }
   ],
   "source": [
    "model_kwargs = {'device': 'cuda'} \n",
    "#model_kwargs = {'device': 'cpu'}  \n",
    "MODEL_NAME_EMBEDDER=\"BAAI/bge-small-en-v1.5\"  #petit modèle en anglais\n",
    "#MODEL_NAME_EMBEDDER=\"BAAI/bge-m3\" #gros modèle multilingue\n",
    "\n",
    "embedder = HuggingFaceEmbeddings(\n",
    "    model_name=MODEL_NAME_EMBEDDER, \n",
    "    model_kwargs=model_kwargs,\n",
    "    show_progress=True\n",
    ")\n",
    "\n",
    "phrases_non_metier = [\n",
    "    \"Révision de l’accord\",\n",
    "    \"Dénonciation de l’accord\",\n",
    "    \"Interprétation de l’accord\",\n",
    "    \"Suivi de l’accord\",\n",
    "    \"Durée de l’accord\",\n",
    "    \"Formalités de publicité et de dépôt\",\n",
    "    \"Publicité et dépôt\",\n",
    "    \"Date d'effet et durée\",\n",
    "    \"Champ d'application\",\n",
    "    \"Clause de revoyure\", \n",
    "    \"Information des représentants du personnel\", \n",
    "    \"Dispositions relatives à l’accord\",\n",
    "    \"Champ d’application\",\n",
    "    \"Commission de suivi\", \n",
    "    \"Pause déjeuner du personnel\", \n",
    "    \"Modification de l'accord\",\n",
    "    \"Adhésion\"\n",
    "    \n",
    "]\n",
    "\n",
    "# Embeddings des phrases non-métier\n",
    "ref_embeddings = embedder.embed_documents(phrases_non_metier)\n",
    "\n",
    "def filtre_par_similarite(phrases, seuil=0.85):##torp long utiliser version vectoisée\n",
    "    results = []\n",
    "    for phrase in phrases:\n",
    "        emb = embedder.embed_query(phrase)\n",
    "        sims = cosine_similarity([emb], ref_embeddings)[0]\n",
    "        if max(sims) < seuil:\n",
    "            results.append(phrase) \n",
    "    return results\n",
    "\n",
    "def filtre_par_similarite_vectorise(phrases, seuil=0.85):\n",
    "    if not phrases:\n",
    "        return []\n",
    "\n",
    "    phrase_embeddings = embedder.embed_documents(phrases)  \n",
    "    sims = cosine_similarity(phrase_embeddings, ref_embeddings)\n",
    "\n",
    "    # On garde les phrases dont la similarité max avec une phrase non-métier est < seuil\n",
    "    keep_idx = np.max(sims, axis=1) < seuil\n",
    "    return [phrase for phrase, keep in zip(phrases, keep_idx) if keep]\n",
    "\n",
    "    \n",
    "def filtre_chunks_par_titre(section_dict, phrases_non_metier, seuil=0.85): #seuil arbitraire : en tester plsr\n",
    "    \"\"\"\n",
    "    Ne garde que les chunks dont le titre est peu similaire aux phrases non métier.\n",
    "    \"\"\"\n",
    "    if not section_dict:\n",
    "        return []\n",
    "\n",
    "    titres = list(section_dict.keys())\n",
    "    chunks = list(section_dict.values())\n",
    "\n",
    "    # Embeddings des titres de section\n",
    "    titre_embeddings = embedder.embed_documents(titres)\n",
    "    ref_embeddings = embedder.embed_documents(phrases_non_metier)\n",
    "\n",
    "    sims = cosine_similarity(titre_embeddings, ref_embeddings)\n",
    "\n",
    "    # On garde les chunks dont le titre est peu similaire aux phrases non métier\n",
    "    keep_idx = np.max(sims, axis=1) < seuil\n",
    "    return [chunk.strip() for chunk, keep in zip(chunks, keep_idx) if keep]\n",
    "\n"
   ]
  },
  {
   "cell_type": "code",
   "execution_count": 19,
   "id": "7fed77fd-7c52-4312-ab55-2b979f4f3943",
   "metadata": {},
   "outputs": [],
   "source": [
    "sommaire_hs = pd.read_parquet(\"data/echantillon_1000_hs_accords_TOC.parquet\")\n",
    "df_hs = pd.read_parquet(\"data/echantillon_1000_hs_accords.parquet\")\n",
    "df_hs = df_hs.set_index(\"numdossier_new\")\n",
    "df_hs = df_hs.merge(sommaire_hs,how=\"inner\",left_index=True,right_index=True)\n",
    "df_hs = df_hs.rename(columns={\"extracted_summary\":\"summary\"})"
   ]
  },
  {
   "cell_type": "code",
   "execution_count": 20,
   "id": "f71e5407-d0ee-4ad0-b57a-eb045f7675ab",
   "metadata": {},
   "outputs": [],
   "source": [
    "df_hs[\"section_dict\"] = df_hs.apply(\n",
    "    lambda row: split_text_with_titles(row[\"accorddocx\"], row[\"summary\"]),\n",
    "    axis=1\n",
    ")"
   ]
  },
  {
   "cell_type": "code",
   "execution_count": 21,
   "id": "83080475-ddc9-4ee3-ab90-31268c509b1f",
   "metadata": {},
   "outputs": [],
   "source": [
    "def get_all_chunks(section_dict):\n",
    "    chunks = list(section_dict.values())\n",
    "    return [chunk.strip() for chunk in chunks]"
   ]
  },
  {
   "cell_type": "code",
   "execution_count": 22,
   "id": "845c6ec4-de10-4041-a241-adc376ac6a0e",
   "metadata": {},
   "outputs": [],
   "source": [
    "def get_valid_chunks_filtered(section_dict, skip_titles=[\"préambule\", \"annexe\"], seuil_sim=0.85):\n",
    "    skip_titles_norm = [normalize(t) for t in skip_titles]\n",
    "\n",
    "    # supprimer le préambule et avant \n",
    "    titles = list(section_dict.keys())\n",
    "    preamble_idx = next((i for i, t in enumerate(titles) if \"préambule\" in normalize(t)), -1)\n",
    "    if preamble_idx != -1:\n",
    "        titles = titles[preamble_idx + 1:]\n",
    "\n",
    "    # garder les titres valides uniquement\n",
    "    valid_titles = [\n",
    "        t for t in titles if all(skip_kw not in normalize(t) for skip_kw in skip_titles_norm)\n",
    "    ]\n",
    "    candidate_dict = {t: section_dict[t] for t in valid_titles}\n",
    "\n",
    "    # filtrer par similarité des titres\n",
    "    return filtre_chunks_par_titre(candidate_dict, phrases_non_metier, seuil=seuil_sim)\n"
   ]
  },
  {
   "cell_type": "markdown",
   "id": "e97e6d3f-9a6d-46c4-84f8-2e4cf36eaccb",
   "metadata": {},
   "source": [
    "# Modèle en filtrant les chunks"
   ]
  },
  {
   "cell_type": "code",
   "execution_count": 23,
   "id": "e269f50f-4b5e-4337-b26c-caa49859b86f",
   "metadata": {
    "scrolled": true
   },
   "outputs": [
    {
     "name": "stderr",
     "output_type": "stream",
     "text": [
      "Batches: 100%|██████████| 1/1 [00:00<00:00, 24.39it/s]\n",
      "Batches: 100%|██████████| 1/1 [00:00<00:00, 59.19it/s]\n",
      "Batches: 100%|██████████| 1/1 [00:00<00:00, 55.84it/s]\n",
      "Batches: 100%|██████████| 1/1 [00:00<00:00, 58.64it/s]\n",
      "Batches: 100%|██████████| 1/1 [00:00<00:00, 66.38it/s]\n",
      "Batches: 100%|██████████| 1/1 [00:00<00:00, 42.23it/s]\n",
      "Batches: 100%|██████████| 1/1 [00:00<00:00, 40.06it/s]\n",
      "Batches: 100%|██████████| 1/1 [00:00<00:00, 42.01it/s]\n",
      "Batches: 100%|██████████| 1/1 [00:00<00:00, 42.11it/s]\n",
      "Batches: 100%|██████████| 1/1 [00:00<00:00, 46.98it/s]\n",
      "Batches: 100%|██████████| 1/1 [00:00<00:00, 44.03it/s]\n",
      "Batches: 100%|██████████| 1/1 [00:00<00:00, 46.66it/s]\n",
      "Batches: 100%|██████████| 2/2 [00:00<00:00, 21.90it/s]\n",
      "Batches: 100%|██████████| 1/1 [00:00<00:00, 47.00it/s]\n",
      "Batches: 100%|██████████| 1/1 [00:00<00:00, 50.31it/s]\n",
      "Batches: 100%|██████████| 1/1 [00:00<00:00, 58.08it/s]\n",
      "Batches: 100%|██████████| 2/2 [00:00<00:00, 30.68it/s]\n",
      "Batches: 100%|██████████| 1/1 [00:00<00:00, 42.33it/s]\n",
      "Batches: 100%|██████████| 1/1 [00:00<00:00, 41.79it/s]\n",
      "Batches: 100%|██████████| 1/1 [00:00<00:00, 44.04it/s]\n",
      "Batches: 100%|██████████| 2/2 [00:00<00:00, 32.11it/s]\n",
      "Batches: 100%|██████████| 1/1 [00:00<00:00, 43.57it/s]\n",
      "Batches: 100%|██████████| 1/1 [00:00<00:00, 48.10it/s]\n",
      "Batches: 100%|██████████| 1/1 [00:00<00:00, 45.42it/s]\n",
      "Batches: 100%|██████████| 2/2 [00:00<00:00, 42.34it/s]\n",
      "Batches: 100%|██████████| 1/1 [00:00<00:00, 36.55it/s]\n",
      "Batches: 100%|██████████| 1/1 [00:00<00:00, 34.80it/s]\n",
      "Batches: 100%|██████████| 1/1 [00:00<00:00, 46.66it/s]\n",
      "Batches: 100%|██████████| 1/1 [00:00<00:00, 32.34it/s]\n",
      "Batches: 100%|██████████| 1/1 [00:00<00:00, 51.52it/s]\n",
      "Batches: 100%|██████████| 1/1 [00:00<00:00, 49.28it/s]\n",
      "Batches: 100%|██████████| 1/1 [00:00<00:00, 53.44it/s]\n",
      "Batches: 100%|██████████| 1/1 [00:00<00:00, 49.70it/s]\n",
      "Batches: 100%|██████████| 1/1 [00:00<00:00, 51.12it/s]\n",
      "Batches: 100%|██████████| 2/2 [00:00<00:00, 29.16it/s]\n",
      "Batches: 100%|██████████| 1/1 [00:00<00:00, 45.92it/s]\n",
      "Batches: 100%|██████████| 1/1 [00:00<00:00, 32.75it/s]\n",
      "Batches: 100%|██████████| 1/1 [00:00<00:00, 45.09it/s]\n",
      "Batches: 100%|██████████| 2/2 [00:00<00:00, 30.43it/s]\n",
      "Batches: 100%|██████████| 1/1 [00:00<00:00, 44.82it/s]\n",
      "Batches: 100%|██████████| 1/1 [00:00<00:00, 42.89it/s]\n",
      "Batches: 100%|██████████| 1/1 [00:00<00:00, 48.60it/s]\n",
      "Batches: 100%|██████████| 1/1 [00:00<00:00, 39.66it/s]\n",
      "Batches: 100%|██████████| 1/1 [00:00<00:00, 68.06it/s]\n",
      "Batches: 100%|██████████| 1/1 [00:00<00:00, 67.36it/s]\n",
      "Batches: 100%|██████████| 1/1 [00:00<00:00, 64.95it/s]\n",
      "Batches: 100%|██████████| 1/1 [00:00<00:00, 31.44it/s]\n",
      "Batches: 100%|██████████| 1/1 [00:00<00:00, 71.10it/s]\n",
      "Batches: 100%|██████████| 1/1 [00:00<00:00, 72.02it/s]\n",
      "Batches: 100%|██████████| 1/1 [00:00<00:00, 69.77it/s]\n",
      "Batches: 100%|██████████| 1/1 [00:00<00:00, 43.04it/s]\n",
      "Batches: 100%|██████████| 1/1 [00:00<00:00, 73.16it/s]\n",
      "Batches: 100%|██████████| 1/1 [00:00<00:00, 72.22it/s]\n",
      "Batches: 100%|██████████| 1/1 [00:00<00:00, 51.75it/s]\n",
      "Batches: 100%|██████████| 1/1 [00:00<00:00, 58.60it/s]\n",
      "Batches: 100%|██████████| 1/1 [00:00<00:00, 45.52it/s]\n",
      "Batches: 100%|██████████| 2/2 [00:00<00:00, 28.95it/s]\n",
      "Batches: 100%|██████████| 1/1 [00:00<00:00, 44.36it/s]\n",
      "Batches: 100%|██████████| 1/1 [00:00<00:00, 31.64it/s]\n",
      "Batches: 100%|██████████| 1/1 [00:00<00:00, 68.21it/s]\n",
      "Batches: 100%|██████████| 1/1 [00:00<00:00, 35.46it/s]\n",
      "Batches: 100%|██████████| 1/1 [00:00<00:00, 62.55it/s]\n",
      "Batches: 100%|██████████| 2/2 [00:00<00:00, 33.20it/s]\n",
      "Batches: 100%|██████████| 1/1 [00:00<00:00, 63.22it/s]\n",
      "Batches: 100%|██████████| 1/1 [00:00<00:00, 48.54it/s]\n",
      "Batches: 100%|██████████| 1/1 [00:00<00:00, 46.68it/s]\n",
      "Batches: 100%|██████████| 1/1 [00:00<00:00, 39.27it/s]\n",
      "Batches: 100%|██████████| 1/1 [00:00<00:00, 43.93it/s]\n",
      "Batches: 100%|██████████| 1/1 [00:00<00:00, 64.26it/s]\n",
      "Batches: 100%|██████████| 1/1 [00:00<00:00, 64.83it/s]\n",
      "Batches: 100%|██████████| 1/1 [00:00<00:00, 60.82it/s]\n",
      "Batches: 100%|██████████| 1/1 [00:00<00:00, 61.19it/s]\n",
      "Batches: 100%|██████████| 1/1 [00:00<00:00, 65.72it/s]\n",
      "Batches: 100%|██████████| 1/1 [00:00<00:00, 67.85it/s]\n",
      "Batches: 100%|██████████| 1/1 [00:00<00:00, 56.80it/s]\n",
      "Batches: 100%|██████████| 1/1 [00:00<00:00, 67.64it/s]\n",
      "Batches: 100%|██████████| 2/2 [00:00<00:00, 50.85it/s]\n",
      "Batches: 100%|██████████| 1/1 [00:00<00:00, 81.97it/s]\n",
      "Batches: 100%|██████████| 1/1 [00:00<00:00, 77.87it/s]\n",
      "Batches: 100%|██████████| 1/1 [00:00<00:00, 68.70it/s]\n",
      "Batches: 100%|██████████| 1/1 [00:00<00:00, 76.42it/s]\n",
      "Batches: 100%|██████████| 1/1 [00:00<00:00, 69.98it/s]\n",
      "Batches: 100%|██████████| 1/1 [00:00<00:00, 74.72it/s]\n",
      "Batches: 100%|██████████| 1/1 [00:00<00:00, 77.28it/s]\n",
      "Batches: 100%|██████████| 1/1 [00:00<00:00, 62.11it/s]\n",
      "Batches: 100%|██████████| 1/1 [00:00<00:00, 75.15it/s]\n",
      "Batches: 100%|██████████| 1/1 [00:00<00:00, 71.44it/s]\n",
      "Batches: 100%|██████████| 1/1 [00:00<00:00, 75.77it/s]\n",
      "Batches: 100%|██████████| 2/2 [00:00<00:00, 61.31it/s]\n",
      "Batches: 100%|██████████| 1/1 [00:00<00:00, 77.17it/s]\n",
      "Batches: 100%|██████████| 1/1 [00:00<00:00, 56.38it/s]\n",
      "Batches: 100%|██████████| 1/1 [00:00<00:00, 62.32it/s]\n",
      "Batches: 100%|██████████| 2/2 [00:00<00:00, 32.93it/s]\n",
      "Batches: 100%|██████████| 1/1 [00:00<00:00, 70.62it/s]\n",
      "Batches: 100%|██████████| 1/1 [00:00<00:00, 54.15it/s]\n",
      "Batches: 100%|██████████| 1/1 [00:00<00:00, 74.89it/s]\n",
      "Batches: 100%|██████████| 1/1 [00:00<00:00, 83.63it/s]\n",
      "Batches: 100%|██████████| 1/1 [00:00<00:00, 62.40it/s]\n",
      "Batches: 100%|██████████| 1/1 [00:00<00:00, 48.28it/s]\n",
      "Batches: 100%|██████████| 1/1 [00:00<00:00, 67.58it/s]\n",
      "Batches: 100%|██████████| 1/1 [00:00<00:00, 65.23it/s]\n",
      "Batches: 100%|██████████| 1/1 [00:00<00:00, 69.99it/s]\n",
      "Batches: 100%|██████████| 1/1 [00:00<00:00, 41.38it/s]\n",
      "Batches: 100%|██████████| 1/1 [00:00<00:00, 46.62it/s]\n",
      "Batches: 100%|██████████| 1/1 [00:00<00:00, 40.65it/s]\n",
      "Batches: 100%|██████████| 1/1 [00:00<00:00, 41.79it/s]\n",
      "Batches: 100%|██████████| 1/1 [00:00<00:00, 46.65it/s]\n",
      "Batches: 100%|██████████| 1/1 [00:00<00:00, 46.29it/s]\n",
      "Batches: 100%|██████████| 2/2 [00:00<00:00, 41.21it/s]\n",
      "Batches: 100%|██████████| 1/1 [00:00<00:00, 43.84it/s]\n",
      "Batches: 100%|██████████| 1/1 [00:00<00:00, 47.08it/s]\n",
      "Batches: 100%|██████████| 1/1 [00:00<00:00, 48.01it/s]\n",
      "Batches: 100%|██████████| 2/2 [00:00<00:00, 53.32it/s]\n",
      "Batches: 100%|██████████| 1/1 [00:00<00:00, 79.25it/s]\n",
      "Batches: 100%|██████████| 1/1 [00:00<00:00, 67.47it/s]\n",
      "Batches: 100%|██████████| 1/1 [00:00<00:00, 73.63it/s]\n",
      "Batches: 100%|██████████| 1/1 [00:00<00:00, 81.61it/s]\n",
      "Batches: 100%|██████████| 1/1 [00:00<00:00, 73.84it/s]\n",
      "Batches: 100%|██████████| 2/2 [00:00<00:00, 51.16it/s]\n",
      "Batches: 100%|██████████| 1/1 [00:00<00:00, 83.70it/s]\n",
      "Batches: 100%|██████████| 2/2 [00:00<00:00, 56.75it/s]\n",
      "Batches: 100%|██████████| 1/1 [00:00<00:00, 67.09it/s]\n",
      "Batches: 100%|██████████| 1/1 [00:00<00:00, 68.17it/s]\n",
      "Batches: 100%|██████████| 1/1 [00:00<00:00, 69.10it/s]\n",
      "Batches: 100%|██████████| 2/2 [00:00<00:00, 49.43it/s]\n",
      "Batches: 100%|██████████| 1/1 [00:00<00:00, 76.32it/s]\n",
      "Batches: 100%|██████████| 1/1 [00:00<00:00, 74.30it/s]\n",
      "Batches: 100%|██████████| 1/1 [00:00<00:00, 69.03it/s]\n",
      "Batches: 100%|██████████| 2/2 [00:00<00:00, 40.99it/s]\n",
      "Batches: 100%|██████████| 1/1 [00:00<00:00, 77.78it/s]\n",
      "Batches: 100%|██████████| 1/1 [00:00<00:00, 64.64it/s]\n",
      "Batches: 100%|██████████| 1/1 [00:00<00:00, 78.60it/s]\n",
      "Batches: 100%|██████████| 2/2 [00:00<00:00, 49.31it/s]\n",
      "Batches: 100%|██████████| 1/1 [00:00<00:00, 70.13it/s]\n",
      "Batches: 100%|██████████| 1/1 [00:00<00:00, 46.94it/s]\n",
      "Batches: 100%|██████████| 1/1 [00:00<00:00, 74.10it/s]\n",
      "Batches: 100%|██████████| 1/1 [00:00<00:00, 51.83it/s]\n",
      "Batches: 100%|██████████| 1/1 [00:00<00:00, 72.13it/s]\n",
      "Batches: 100%|██████████| 1/1 [00:00<00:00, 39.85it/s]\n",
      "Batches: 100%|██████████| 1/1 [00:00<00:00, 68.68it/s]\n",
      "Batches: 100%|██████████| 1/1 [00:00<00:00, 68.51it/s]\n",
      "Batches: 100%|██████████| 1/1 [00:00<00:00, 71.84it/s]\n",
      "Batches: 100%|██████████| 2/2 [00:00<00:00, 34.03it/s]\n",
      "Batches: 100%|██████████| 1/1 [00:00<00:00, 53.99it/s]\n",
      "Batches: 100%|██████████| 1/1 [00:00<00:00, 36.30it/s]\n",
      "Batches: 100%|██████████| 1/1 [00:00<00:00, 45.81it/s]\n",
      "Batches: 100%|██████████| 2/2 [00:00<00:00, 42.11it/s]\n",
      "Batches: 100%|██████████| 1/1 [00:00<00:00, 48.17it/s]\n",
      "Batches: 100%|██████████| 1/1 [00:00<00:00, 52.45it/s]\n",
      "Batches: 100%|██████████| 1/1 [00:00<00:00, 85.87it/s]\n",
      "Batches: 100%|██████████| 2/2 [00:00<00:00, 54.56it/s]\n",
      "Batches: 100%|██████████| 1/1 [00:00<00:00, 73.63it/s]\n",
      "Batches: 100%|██████████| 2/2 [00:00<00:00, 44.02it/s]\n",
      "Batches: 100%|██████████| 1/1 [00:00<00:00, 81.08it/s]\n",
      "Batches: 100%|██████████| 1/1 [00:00<00:00, 44.29it/s]\n",
      "Batches: 100%|██████████| 1/1 [00:00<00:00, 61.47it/s]\n",
      "Batches: 100%|██████████| 2/2 [00:00<00:00, 42.73it/s]\n",
      "Batches: 100%|██████████| 1/1 [00:00<00:00, 54.30it/s]\n",
      "Batches: 100%|██████████| 1/1 [00:00<00:00, 33.29it/s]\n",
      "Batches: 100%|██████████| 1/1 [00:00<00:00, 57.27it/s]\n",
      "Batches: 100%|██████████| 1/1 [00:00<00:00, 58.57it/s]\n",
      "Batches: 100%|██████████| 1/1 [00:00<00:00, 56.15it/s]\n",
      "Batches: 100%|██████████| 1/1 [00:00<00:00, 54.58it/s]\n",
      "Batches: 100%|██████████| 1/1 [00:00<00:00, 58.45it/s]\n",
      "Batches: 100%|██████████| 1/1 [00:00<00:00, 51.39it/s]\n",
      "Batches: 100%|██████████| 1/1 [00:00<00:00, 50.89it/s]\n",
      "Batches: 100%|██████████| 1/1 [00:00<00:00, 38.39it/s]\n",
      "Batches: 100%|██████████| 1/1 [00:00<00:00, 53.79it/s]\n",
      "Batches: 100%|██████████| 2/2 [00:00<00:00, 47.36it/s]\n",
      "Batches: 100%|██████████| 1/1 [00:00<00:00, 53.30it/s]\n",
      "Batches: 100%|██████████| 1/1 [00:00<00:00, 58.07it/s]\n",
      "Batches: 100%|██████████| 1/1 [00:00<00:00, 59.59it/s]\n",
      "Batches: 100%|██████████| 1/1 [00:00<00:00, 34.01it/s]\n",
      "Batches: 100%|██████████| 1/1 [00:00<00:00, 61.69it/s]\n",
      "Batches: 100%|██████████| 1/1 [00:00<00:00, 65.41it/s]\n",
      "Batches: 100%|██████████| 1/1 [00:00<00:00, 57.11it/s]\n",
      "Batches: 100%|██████████| 2/2 [00:00<00:00, 49.71it/s]\n",
      "Batches: 100%|██████████| 1/1 [00:00<00:00, 53.32it/s]\n",
      "Batches: 100%|██████████| 1/1 [00:00<00:00, 54.99it/s]\n",
      "Batches: 100%|██████████| 1/1 [00:00<00:00, 55.84it/s]\n",
      "Batches: 100%|██████████| 1/1 [00:00<00:00, 51.27it/s]\n",
      "Batches: 100%|██████████| 1/1 [00:00<00:00, 51.42it/s]\n",
      "Batches: 100%|██████████| 1/1 [00:00<00:00, 71.19it/s]\n",
      "Batches: 100%|██████████| 1/1 [00:00<00:00, 65.64it/s]\n",
      "Batches: 100%|██████████| 2/2 [00:00<00:00, 51.96it/s]\n",
      "Batches: 100%|██████████| 1/1 [00:00<00:00, 52.01it/s]\n",
      "Batches: 100%|██████████| 2/2 [00:00<00:00, 64.48it/s]\n",
      "Batches: 100%|██████████| 1/1 [00:00<00:00, 75.83it/s]\n",
      "Batches: 100%|██████████| 1/1 [00:00<00:00, 45.64it/s]\n",
      "Batches: 100%|██████████| 1/1 [00:00<00:00, 44.00it/s]\n",
      "Batches: 100%|██████████| 2/2 [00:00<00:00, 43.76it/s]\n",
      "Batches: 100%|██████████| 1/1 [00:00<00:00, 48.05it/s]\n",
      "Batches: 100%|██████████| 1/1 [00:00<00:00, 36.50it/s]\n",
      "Batches: 100%|██████████| 1/1 [00:00<00:00, 47.98it/s]\n",
      "Batches: 100%|██████████| 2/2 [00:00<00:00, 40.77it/s]\n",
      "Batches: 100%|██████████| 1/1 [00:00<00:00, 65.95it/s]\n",
      "Batches: 100%|██████████| 1/1 [00:00<00:00, 75.24it/s]\n",
      "Batches: 100%|██████████| 1/1 [00:00<00:00, 83.59it/s]\n",
      "Batches: 100%|██████████| 2/2 [00:00<00:00, 45.65it/s]\n",
      "Batches: 100%|██████████| 1/1 [00:00<00:00, 77.78it/s]\n",
      "Batches: 100%|██████████| 2/2 [00:00<00:00, 46.87it/s]\n",
      "Batches: 100%|██████████| 1/1 [00:00<00:00, 69.96it/s]\n",
      "Batches: 100%|██████████| 2/2 [00:00<00:00, 56.67it/s]\n",
      "Batches: 100%|██████████| 1/1 [00:00<00:00, 79.65it/s]\n",
      "Batches: 100%|██████████| 2/2 [00:00<00:00, 55.76it/s]\n",
      "Batches: 100%|██████████| 1/1 [00:00<00:00, 67.32it/s]\n",
      "Batches: 100%|██████████| 1/1 [00:00<00:00, 77.46it/s]\n",
      "Batches: 100%|██████████| 1/1 [00:00<00:00, 71.06it/s]\n",
      "Batches: 100%|██████████| 2/2 [00:00<00:00, 42.82it/s]\n",
      "Batches: 100%|██████████| 1/1 [00:00<00:00, 78.84it/s]\n",
      "Batches: 100%|██████████| 2/2 [00:00<00:00, 61.28it/s]\n",
      "Batches: 100%|██████████| 1/1 [00:00<00:00, 46.32it/s]\n",
      "Batches: 100%|██████████| 1/1 [00:00<00:00, 43.68it/s]\n",
      "Batches: 100%|██████████| 1/1 [00:00<00:00, 44.93it/s]\n",
      "Batches: 100%|██████████| 2/2 [00:00<00:00, 45.31it/s]\n",
      "Batches: 100%|██████████| 1/1 [00:00<00:00, 54.47it/s]\n",
      "Batches: 100%|██████████| 2/2 [00:00<00:00, 45.46it/s]\n",
      "Batches: 100%|██████████| 1/1 [00:00<00:00, 46.18it/s]\n",
      "Batches: 100%|██████████| 1/1 [00:00<00:00, 44.54it/s]\n",
      "Batches: 100%|██████████| 1/1 [00:00<00:00, 47.95it/s]\n",
      "Batches: 100%|██████████| 1/1 [00:00<00:00, 52.33it/s]\n",
      "Batches: 100%|██████████| 1/1 [00:00<00:00, 69.21it/s]\n",
      "Batches: 100%|██████████| 1/1 [00:00<00:00, 51.94it/s]\n",
      "Batches: 100%|██████████| 1/1 [00:00<00:00, 56.28it/s]\n",
      "Batches: 100%|██████████| 2/2 [00:00<00:00, 46.07it/s]\n",
      "Batches: 100%|██████████| 1/1 [00:00<00:00, 68.72it/s]\n",
      "Batches: 100%|██████████| 1/1 [00:00<00:00, 58.59it/s]\n",
      "Batches: 100%|██████████| 1/1 [00:00<00:00, 74.62it/s]\n",
      "Batches: 100%|██████████| 2/2 [00:00<00:00, 49.24it/s]\n",
      "Batches: 100%|██████████| 1/1 [00:00<00:00, 72.38it/s]\n",
      "Batches: 100%|██████████| 2/2 [00:00<00:00, 44.83it/s]\n",
      "Batches: 100%|██████████| 1/1 [00:00<00:00, 62.03it/s]\n",
      "Batches: 100%|██████████| 1/1 [00:00<00:00, 31.95it/s]\n",
      "Batches: 100%|██████████| 1/1 [00:00<00:00, 74.31it/s]\n",
      "Batches: 100%|██████████| 2/2 [00:00<00:00, 54.92it/s]\n",
      "Batches: 100%|██████████| 1/1 [00:00<00:00, 66.16it/s]\n",
      "Batches: 100%|██████████| 2/2 [00:00<00:00, 60.42it/s]\n",
      "Batches: 100%|██████████| 1/1 [00:00<00:00, 91.02it/s]\n",
      "Batches: 100%|██████████| 1/1 [00:00<00:00, 95.29it/s]\n",
      "Batches: 100%|██████████| 1/1 [00:00<00:00, 96.03it/s]\n",
      "Batches: 100%|██████████| 1/1 [00:00<00:00, 43.98it/s]\n",
      "Batches: 100%|██████████| 1/1 [00:00<00:00, 57.97it/s]\n",
      "Batches: 100%|██████████| 1/1 [00:00<00:00, 43.70it/s]\n",
      "Batches: 100%|██████████| 1/1 [00:00<00:00, 57.86it/s]\n",
      "Batches: 100%|██████████| 1/1 [00:00<00:00, 85.04it/s]\n",
      "Batches: 100%|██████████| 1/1 [00:00<00:00, 92.55it/s]\n",
      "Batches: 100%|██████████| 1/1 [00:00<00:00, 56.61it/s]\n",
      "Batches: 100%|██████████| 1/1 [00:00<00:00, 51.81it/s]\n",
      "Batches: 100%|██████████| 1/1 [00:00<00:00, 48.54it/s]\n",
      "Batches: 100%|██████████| 1/1 [00:00<00:00, 69.01it/s]\n",
      "Batches: 100%|██████████| 1/1 [00:00<00:00, 36.45it/s]\n",
      "Batches: 100%|██████████| 1/1 [00:00<00:00, 61.92it/s]\n",
      "Batches: 100%|██████████| 1/1 [00:00<00:00, 50.23it/s]\n",
      "Batches: 100%|██████████| 1/1 [00:00<00:00, 53.99it/s]\n",
      "Batches: 100%|██████████| 1/1 [00:00<00:00, 46.86it/s]\n",
      "Batches: 100%|██████████| 1/1 [00:00<00:00, 91.24it/s]\n",
      "Batches: 100%|██████████| 1/1 [00:00<00:00, 86.91it/s]\n",
      "Batches: 100%|██████████| 1/1 [00:00<00:00, 78.58it/s]\n",
      "Batches: 100%|██████████| 1/1 [00:00<00:00, 73.37it/s]\n",
      "Batches: 100%|██████████| 1/1 [00:00<00:00, 49.70it/s]\n",
      "Batches: 100%|██████████| 1/1 [00:00<00:00, 76.11it/s]\n",
      "Batches: 100%|██████████| 1/1 [00:00<00:00, 87.02it/s]\n",
      "Batches: 100%|██████████| 2/2 [00:00<00:00, 60.62it/s]\n",
      "Batches: 100%|██████████| 1/1 [00:00<00:00, 91.67it/s]\n",
      "Batches: 100%|██████████| 1/1 [00:00<00:00, 69.44it/s]\n",
      "Batches: 100%|██████████| 1/1 [00:00<00:00, 92.50it/s]\n",
      "Batches: 100%|██████████| 1/1 [00:00<00:00, 44.51it/s]\n",
      "Batches: 100%|██████████| 1/1 [00:00<00:00, 92.00it/s]\n",
      "Batches: 100%|██████████| 1/1 [00:00<00:00, 45.59it/s]\n",
      "Batches: 100%|██████████| 1/1 [00:00<00:00, 75.38it/s]\n",
      "Batches: 100%|██████████| 1/1 [00:00<00:00, 44.55it/s]\n",
      "Batches: 100%|██████████| 1/1 [00:00<00:00, 76.35it/s]\n",
      "Batches: 100%|██████████| 2/2 [00:00<00:00, 68.93it/s]\n",
      "Batches: 100%|██████████| 1/1 [00:00<00:00, 82.66it/s]\n",
      "Batches: 100%|██████████| 2/2 [00:00<00:00, 65.06it/s]\n",
      "Batches: 100%|██████████| 1/1 [00:00<00:00, 94.29it/s]\n",
      "Batches: 100%|██████████| 1/1 [00:00<00:00, 92.59it/s]\n",
      "Batches: 100%|██████████| 1/1 [00:00<00:00, 89.77it/s]\n",
      "Batches: 100%|██████████| 1/1 [00:00<00:00, 26.13it/s]\n",
      "Batches: 100%|██████████| 1/1 [00:00<00:00, 74.53it/s]\n",
      "Batches: 100%|██████████| 1/1 [00:00<00:00, 67.45it/s]\n",
      "Batches: 100%|██████████| 1/1 [00:00<00:00, 84.81it/s]\n",
      "Batches: 100%|██████████| 1/1 [00:00<00:00, 70.86it/s]\n",
      "Batches: 100%|██████████| 1/1 [00:00<00:00, 77.28it/s]\n",
      "Batches: 100%|██████████| 1/1 [00:00<00:00, 63.56it/s]\n",
      "Batches: 100%|██████████| 1/1 [00:00<00:00, 76.44it/s]\n",
      "Batches: 100%|██████████| 1/1 [00:00<00:00, 86.56it/s]\n",
      "Batches: 100%|██████████| 1/1 [00:00<00:00, 87.83it/s]\n",
      "Batches: 100%|██████████| 2/2 [00:00<00:00, 47.57it/s]\n",
      "Batches: 100%|██████████| 1/1 [00:00<00:00, 51.31it/s]\n",
      "Batches: 100%|██████████| 2/2 [00:00<00:00, 23.26it/s]\n",
      "Batches: 100%|██████████| 1/1 [00:00<00:00, 92.11it/s]\n",
      "Batches: 100%|██████████| 2/2 [00:00<00:00, 42.28it/s]\n",
      "Batches: 100%|██████████| 1/1 [00:00<00:00, 85.99it/s]\n",
      "Batches: 100%|██████████| 1/1 [00:00<00:00, 38.26it/s]\n",
      "Batches: 100%|██████████| 1/1 [00:00<00:00, 81.66it/s]\n",
      "Batches: 100%|██████████| 2/2 [00:00<00:00, 51.60it/s]\n",
      "Batches: 100%|██████████| 1/1 [00:00<00:00, 102.85it/s]\n",
      "Batches: 100%|██████████| 1/1 [00:00<00:00, 79.44it/s]\n",
      "Batches: 100%|██████████| 1/1 [00:00<00:00, 87.33it/s]\n",
      "Batches: 100%|██████████| 1/1 [00:00<00:00, 63.66it/s]\n",
      "Batches: 100%|██████████| 1/1 [00:00<00:00, 80.82it/s]\n",
      "Batches: 100%|██████████| 1/1 [00:00<00:00, 83.20it/s]\n",
      "Batches: 100%|██████████| 1/1 [00:00<00:00, 81.87it/s]\n",
      "Batches: 100%|██████████| 2/2 [00:00<00:00, 30.56it/s]\n",
      "Batches: 100%|██████████| 1/1 [00:00<00:00, 52.09it/s]\n",
      "Batches: 100%|██████████| 2/2 [00:00<00:00, 41.48it/s]\n",
      "Batches: 100%|██████████| 1/1 [00:00<00:00, 52.65it/s]\n",
      "Batches: 100%|██████████| 1/1 [00:00<00:00, 61.36it/s]\n",
      "Batches: 100%|██████████| 1/1 [00:00<00:00, 87.95it/s]\n",
      "Batches: 100%|██████████| 1/1 [00:00<00:00, 87.13it/s]\n",
      "Batches: 100%|██████████| 1/1 [00:00<00:00, 81.22it/s]\n",
      "Batches: 100%|██████████| 1/1 [00:00<00:00, 75.49it/s]\n",
      "Batches: 100%|██████████| 1/1 [00:00<00:00, 85.27it/s]\n",
      "Batches: 100%|██████████| 2/2 [00:00<00:00, 47.06it/s]\n",
      "Batches: 100%|██████████| 1/1 [00:00<00:00, 53.51it/s]\n",
      "Batches: 100%|██████████| 2/2 [00:00<00:00, 29.67it/s]\n",
      "Batches: 100%|██████████| 1/1 [00:00<00:00, 49.36it/s]\n",
      "Batches: 100%|██████████| 2/2 [00:00<00:00, 46.10it/s]\n",
      "Batches: 100%|██████████| 1/1 [00:00<00:00, 54.00it/s]\n",
      "Batches: 100%|██████████| 1/1 [00:00<00:00, 49.13it/s]\n",
      "Batches: 100%|██████████| 1/1 [00:00<00:00, 49.86it/s]\n",
      "Batches: 100%|██████████| 1/1 [00:00<00:00, 78.40it/s]\n",
      "Batches: 100%|██████████| 1/1 [00:00<00:00, 89.17it/s]\n",
      "Batches: 100%|██████████| 2/2 [00:00<00:00, 47.60it/s]\n",
      "Batches: 100%|██████████| 1/1 [00:00<00:00, 52.05it/s]\n",
      "Batches: 100%|██████████| 1/1 [00:00<00:00, 54.40it/s]\n",
      "Batches: 100%|██████████| 1/1 [00:00<00:00, 52.97it/s]\n",
      "Batches: 100%|██████████| 1/1 [00:00<00:00, 54.42it/s]\n",
      "Batches: 100%|██████████| 1/1 [00:00<00:00, 46.88it/s]\n",
      "Batches: 100%|██████████| 1/1 [00:00<00:00, 56.00it/s]\n",
      "Batches: 100%|██████████| 1/1 [00:00<00:00, 54.24it/s]\n",
      "Batches: 100%|██████████| 1/1 [00:00<00:00, 37.81it/s]\n",
      "Batches: 100%|██████████| 1/1 [00:00<00:00, 53.77it/s]\n",
      "Batches: 100%|██████████| 1/1 [00:00<00:00, 55.31it/s]\n",
      "Batches: 100%|██████████| 1/1 [00:00<00:00, 53.35it/s]\n",
      "Batches: 100%|██████████| 2/2 [00:00<00:00, 48.83it/s]\n",
      "Batches: 100%|██████████| 1/1 [00:00<00:00, 47.47it/s]\n",
      "Batches: 100%|██████████| 1/1 [00:00<00:00, 55.31it/s]\n",
      "Batches: 100%|██████████| 1/1 [00:00<00:00, 52.13it/s]\n",
      "Batches: 100%|██████████| 2/2 [00:00<00:00, 44.33it/s]\n",
      "Batches: 100%|██████████| 1/1 [00:00<00:00, 50.61it/s]\n",
      "Batches: 100%|██████████| 2/2 [00:00<00:00, 45.74it/s]\n",
      "Batches: 100%|██████████| 1/1 [00:00<00:00, 64.96it/s]\n",
      "Batches: 100%|██████████| 2/2 [00:00<00:00, 56.89it/s]\n",
      "Batches: 100%|██████████| 1/1 [00:00<00:00, 89.08it/s]\n",
      "Batches: 100%|██████████| 2/2 [00:00<00:00, 74.07it/s]\n",
      "Batches: 100%|██████████| 1/1 [00:00<00:00, 80.34it/s]\n",
      "Batches: 100%|██████████| 1/1 [00:00<00:00, 57.55it/s]\n",
      "Batches: 100%|██████████| 1/1 [00:00<00:00, 77.53it/s]\n",
      "Batches: 100%|██████████| 2/2 [00:00<00:00, 58.38it/s]\n",
      "Batches: 100%|██████████| 1/1 [00:00<00:00, 100.22it/s]\n",
      "Batches: 100%|██████████| 2/2 [00:00<00:00, 48.97it/s]\n",
      "Batches: 100%|██████████| 1/1 [00:00<00:00, 89.35it/s]\n",
      "Batches: 100%|██████████| 1/1 [00:00<00:00, 80.85it/s]\n",
      "Batches: 100%|██████████| 1/1 [00:00<00:00, 67.07it/s]\n",
      "Batches: 100%|██████████| 1/1 [00:00<00:00, 49.26it/s]\n",
      "Batches: 100%|██████████| 1/1 [00:00<00:00, 51.72it/s]\n",
      "Batches: 100%|██████████| 1/1 [00:00<00:00, 50.18it/s]\n",
      "Batches: 100%|██████████| 1/1 [00:00<00:00, 52.61it/s]\n",
      "Batches: 100%|██████████| 1/1 [00:00<00:00, 52.15it/s]\n",
      "Batches: 100%|██████████| 1/1 [00:00<00:00, 52.10it/s]\n",
      "Batches: 100%|██████████| 1/1 [00:00<00:00, 46.79it/s]\n",
      "Batches: 100%|██████████| 1/1 [00:00<00:00, 52.50it/s]\n",
      "Batches: 100%|██████████| 1/1 [00:00<00:00, 51.68it/s]\n",
      "Batches: 100%|██████████| 1/1 [00:00<00:00, 52.13it/s]\n",
      "Batches: 100%|██████████| 1/1 [00:00<00:00, 55.08it/s]\n",
      "Batches: 100%|██████████| 1/1 [00:00<00:00, 51.83it/s]\n",
      "Batches: 100%|██████████| 2/2 [00:00<00:00, 47.23it/s]\n",
      "Batches: 100%|██████████| 1/1 [00:00<00:00, 51.63it/s]\n",
      "Batches: 100%|██████████| 2/2 [00:00<00:00, 44.56it/s]\n",
      "Batches: 100%|██████████| 1/1 [00:00<00:00, 51.61it/s]\n",
      "Batches: 100%|██████████| 1/1 [00:00<00:00, 47.50it/s]\n",
      "Batches: 100%|██████████| 1/1 [00:00<00:00, 54.40it/s]\n",
      "Batches: 100%|██████████| 1/1 [00:00<00:00, 47.83it/s]\n",
      "Batches: 100%|██████████| 1/1 [00:00<00:00, 51.47it/s]\n",
      "Batches: 100%|██████████| 2/2 [00:00<00:00, 47.26it/s]\n",
      "Batches: 100%|██████████| 1/1 [00:00<00:00, 51.20it/s]\n",
      "Batches: 100%|██████████| 1/1 [00:00<00:00, 41.13it/s]\n",
      "Batches: 100%|██████████| 1/1 [00:00<00:00, 52.22it/s]\n",
      "Batches: 100%|██████████| 1/1 [00:00<00:00, 50.34it/s]\n",
      "Batches: 100%|██████████| 1/1 [00:00<00:00, 49.65it/s]\n",
      "Batches: 100%|██████████| 1/1 [00:00<00:00, 44.31it/s]\n",
      "Batches: 100%|██████████| 1/1 [00:00<00:00, 46.02it/s]\n",
      "Batches: 100%|██████████| 1/1 [00:00<00:00, 46.94it/s]\n",
      "Batches: 100%|██████████| 1/1 [00:00<00:00, 50.42it/s]\n",
      "Batches: 100%|██████████| 1/1 [00:00<00:00, 54.23it/s]\n",
      "Batches: 100%|██████████| 1/1 [00:00<00:00, 50.41it/s]\n",
      "Batches: 100%|██████████| 1/1 [00:00<00:00, 46.55it/s]\n",
      "Batches: 100%|██████████| 1/1 [00:00<00:00, 50.61it/s]\n",
      "Batches: 100%|██████████| 1/1 [00:00<00:00, 49.31it/s]\n",
      "Batches: 100%|██████████| 1/1 [00:00<00:00, 50.98it/s]\n",
      "Batches: 100%|██████████| 2/2 [00:00<00:00, 44.03it/s]\n",
      "Batches: 100%|██████████| 1/1 [00:00<00:00, 50.27it/s]\n",
      "Batches: 100%|██████████| 1/1 [00:00<00:00, 48.21it/s]\n",
      "Batches: 100%|██████████| 1/1 [00:00<00:00, 50.58it/s]\n",
      "Batches: 100%|██████████| 2/2 [00:00<00:00, 44.59it/s]\n",
      "Batches: 100%|██████████| 1/1 [00:00<00:00, 51.12it/s]\n",
      "Batches: 100%|██████████| 1/1 [00:00<00:00, 43.17it/s]\n",
      "Batches: 100%|██████████| 1/1 [00:00<00:00, 62.53it/s]\n",
      "Batches: 100%|██████████| 1/1 [00:00<00:00, 59.30it/s]\n",
      "Batches: 100%|██████████| 1/1 [00:00<00:00, 88.99it/s]\n",
      "Batches: 100%|██████████| 1/1 [00:00<00:00, 53.23it/s]\n",
      "Batches: 100%|██████████| 1/1 [00:00<00:00, 89.59it/s]\n",
      "Batches: 100%|██████████| 2/2 [00:00<00:00, 48.30it/s]\n",
      "Batches: 100%|██████████| 1/1 [00:00<00:00, 50.95it/s]\n",
      "Batches: 100%|██████████| 1/1 [00:00<00:00, 43.94it/s]\n",
      "Batches: 100%|██████████| 1/1 [00:00<00:00, 51.59it/s]\n",
      "Batches: 100%|██████████| 2/2 [00:00<00:00, 55.24it/s]\n",
      "Batches: 100%|██████████| 1/1 [00:00<00:00, 50.43it/s]\n",
      "Batches: 100%|██████████| 1/1 [00:00<00:00, 81.41it/s]\n",
      "Batches: 100%|██████████| 1/1 [00:00<00:00, 95.07it/s]\n",
      "Batches: 100%|██████████| 1/1 [00:00<00:00, 36.13it/s]\n",
      "Batches: 100%|██████████| 1/1 [00:00<00:00, 78.84it/s]\n",
      "Batches: 100%|██████████| 1/1 [00:00<00:00, 46.85it/s]\n",
      "Batches: 100%|██████████| 1/1 [00:00<00:00, 52.80it/s]\n",
      "Batches: 100%|██████████| 2/2 [00:00<00:00, 47.18it/s]\n",
      "Batches: 100%|██████████| 1/1 [00:00<00:00, 52.02it/s]\n",
      "Batches: 100%|██████████| 2/2 [00:00<00:00, 45.54it/s]\n",
      "Batches: 100%|██████████| 1/1 [00:00<00:00, 51.80it/s]\n",
      "Batches: 100%|██████████| 1/1 [00:00<00:00, 27.56it/s]\n",
      "Batches: 100%|██████████| 1/1 [00:00<00:00, 73.56it/s]\n",
      "Batches: 100%|██████████| 1/1 [00:00<00:00, 76.44it/s]\n",
      "Batches: 100%|██████████| 1/1 [00:00<00:00, 58.59it/s]\n",
      "Batches: 100%|██████████| 1/1 [00:00<00:00, 55.05it/s]\n",
      "Batches: 100%|██████████| 1/1 [00:00<00:00, 58.78it/s]\n",
      "Batches: 100%|██████████| 1/1 [00:00<00:00, 45.98it/s]\n",
      "Batches: 100%|██████████| 1/1 [00:00<00:00, 59.64it/s]\n",
      "Batches: 100%|██████████| 1/1 [00:00<00:00, 57.34it/s]\n",
      "Batches: 100%|██████████| 1/1 [00:00<00:00, 59.74it/s]\n",
      "Batches: 100%|██████████| 1/1 [00:00<00:00, 58.40it/s]\n",
      "Batches: 100%|██████████| 1/1 [00:00<00:00, 51.26it/s]\n",
      "Batches: 100%|██████████| 1/1 [00:00<00:00, 48.34it/s]\n",
      "Batches: 100%|██████████| 1/1 [00:00<00:00, 50.92it/s]\n",
      "Batches: 100%|██████████| 1/1 [00:00<00:00, 46.21it/s]\n",
      "Batches: 100%|██████████| 1/1 [00:00<00:00, 51.53it/s]\n",
      "Batches: 100%|██████████| 1/1 [00:00<00:00, 43.34it/s]\n",
      "Batches: 100%|██████████| 1/1 [00:00<00:00, 51.49it/s]\n",
      "Batches: 100%|██████████| 1/1 [00:00<00:00, 55.28it/s]\n",
      "Batches: 100%|██████████| 1/1 [00:00<00:00, 49.64it/s]\n",
      "Batches: 100%|██████████| 1/1 [00:00<00:00, 44.71it/s]\n",
      "Batches: 100%|██████████| 1/1 [00:00<00:00, 50.99it/s]\n",
      "Batches: 100%|██████████| 1/1 [00:00<00:00, 35.40it/s]\n",
      "Batches: 100%|██████████| 1/1 [00:00<00:00, 67.30it/s]\n",
      "Batches: 100%|██████████| 1/1 [00:00<00:00, 44.13it/s]\n",
      "Batches: 100%|██████████| 1/1 [00:00<00:00, 75.52it/s]\n",
      "Batches: 100%|██████████| 1/1 [00:00<00:00, 21.92it/s]\n",
      "Batches: 100%|██████████| 1/1 [00:00<00:00, 88.59it/s]\n",
      "Batches: 100%|██████████| 1/1 [00:00<00:00, 92.81it/s]\n",
      "Batches: 100%|██████████| 1/1 [00:00<00:00, 89.13it/s]\n",
      "Batches: 100%|██████████| 1/1 [00:00<00:00, 72.94it/s]\n",
      "Batches: 100%|██████████| 1/1 [00:00<00:00, 83.69it/s]\n",
      "Batches: 100%|██████████| 1/1 [00:00<00:00, 93.20it/s]\n",
      "Batches: 100%|██████████| 1/1 [00:00<00:00, 71.05it/s]\n",
      "Batches: 100%|██████████| 2/2 [00:00<00:00, 62.95it/s]\n",
      "Batches: 100%|██████████| 1/1 [00:00<00:00, 76.11it/s]\n",
      "Batches: 100%|██████████| 1/1 [00:00<00:00, 59.13it/s]\n",
      "Batches: 100%|██████████| 1/1 [00:00<00:00, 51.44it/s]\n",
      "Batches: 100%|██████████| 1/1 [00:00<00:00, 52.48it/s]\n",
      "Batches: 100%|██████████| 1/1 [00:00<00:00, 65.66it/s]\n",
      "Batches: 100%|██████████| 1/1 [00:00<00:00, 77.55it/s]\n",
      "Batches: 100%|██████████| 1/1 [00:00<00:00, 78.73it/s]\n",
      "Batches: 100%|██████████| 1/1 [00:00<00:00, 87.64it/s]\n",
      "Batches: 100%|██████████| 1/1 [00:00<00:00, 81.42it/s]\n",
      "Batches: 100%|██████████| 1/1 [00:00<00:00, 89.48it/s]\n",
      "Batches: 100%|██████████| 1/1 [00:00<00:00, 85.37it/s]\n",
      "Batches: 100%|██████████| 1/1 [00:00<00:00, 85.09it/s]\n",
      "Batches: 100%|██████████| 1/1 [00:00<00:00, 67.07it/s]\n",
      "Batches: 100%|██████████| 1/1 [00:00<00:00, 61.20it/s]\n",
      "Batches: 100%|██████████| 1/1 [00:00<00:00, 74.82it/s]\n",
      "Batches: 100%|██████████| 1/1 [00:00<00:00, 48.63it/s]\n",
      "Batches: 100%|██████████| 1/1 [00:00<00:00, 50.06it/s]\n",
      "Batches: 100%|██████████| 1/1 [00:00<00:00, 77.62it/s]\n",
      "Batches: 100%|██████████| 1/1 [00:00<00:00, 49.50it/s]\n",
      "Batches: 100%|██████████| 1/1 [00:00<00:00, 48.06it/s]\n",
      "Batches: 100%|██████████| 1/1 [00:00<00:00, 50.96it/s]\n",
      "Batches: 100%|██████████| 1/1 [00:00<00:00, 73.02it/s]\n",
      "Batches: 100%|██████████| 1/1 [00:00<00:00, 85.91it/s]\n",
      "Batches: 100%|██████████| 2/2 [00:00<00:00, 81.71it/s]\n",
      "Batches: 100%|██████████| 1/1 [00:00<00:00, 81.13it/s]\n",
      "Batches: 100%|██████████| 1/1 [00:00<00:00, 56.01it/s]\n",
      "Batches: 100%|██████████| 1/1 [00:00<00:00, 83.55it/s]\n",
      "Batches: 100%|██████████| 1/1 [00:00<00:00, 74.29it/s]\n",
      "Batches: 100%|██████████| 1/1 [00:00<00:00, 69.54it/s]\n",
      "Batches: 100%|██████████| 1/1 [00:00<00:00, 33.64it/s]\n",
      "Batches: 100%|██████████| 1/1 [00:00<00:00, 83.83it/s]\n",
      "Batches: 100%|██████████| 2/2 [00:00<00:00, 65.74it/s]\n",
      "Batches: 100%|██████████| 1/1 [00:00<00:00, 76.10it/s]\n",
      "Batches: 100%|██████████| 1/1 [00:00<00:00, 89.94it/s]\n",
      "Batches: 100%|██████████| 1/1 [00:00<00:00, 83.07it/s]\n",
      "Batches: 100%|██████████| 1/1 [00:00<00:00, 49.74it/s]\n",
      "Batches: 100%|██████████| 1/1 [00:00<00:00, 85.77it/s]\n",
      "Batches: 100%|██████████| 2/2 [00:00<00:00, 68.52it/s]\n",
      "Batches: 100%|██████████| 1/1 [00:00<00:00, 71.63it/s]\n",
      "Batches: 100%|██████████| 2/2 [00:00<00:00, 60.88it/s]\n",
      "Batches: 100%|██████████| 1/1 [00:00<00:00, 76.65it/s]\n",
      "Batches: 100%|██████████| 1/1 [00:00<00:00, 77.75it/s]\n",
      "Batches: 100%|██████████| 1/1 [00:00<00:00, 84.80it/s]\n",
      "Batches: 100%|██████████| 2/2 [00:00<00:00, 63.96it/s]\n",
      "Batches: 100%|██████████| 1/1 [00:00<00:00, 50.47it/s]\n",
      "Batches: 100%|██████████| 1/1 [00:00<00:00, 56.14it/s]\n",
      "Batches: 100%|██████████| 1/1 [00:00<00:00, 51.65it/s]\n",
      "Batches: 100%|██████████| 1/1 [00:00<00:00, 50.41it/s]\n",
      "Batches: 100%|██████████| 1/1 [00:00<00:00, 50.78it/s]\n",
      "Batches: 100%|██████████| 2/2 [00:00<00:00, 44.62it/s]\n",
      "Batches: 100%|██████████| 1/1 [00:00<00:00, 53.76it/s]\n",
      "Batches: 100%|██████████| 1/1 [00:00<00:00, 53.78it/s]\n",
      "Batches: 100%|██████████| 1/1 [00:00<00:00, 53.58it/s]\n",
      "Batches: 100%|██████████| 1/1 [00:00<00:00, 50.62it/s]\n",
      "Batches: 100%|██████████| 1/1 [00:00<00:00, 52.23it/s]\n",
      "Batches: 100%|██████████| 1/1 [00:00<00:00, 48.78it/s]\n",
      "Batches: 100%|██████████| 1/1 [00:00<00:00, 99.21it/s]\n",
      "Batches: 100%|██████████| 1/1 [00:00<00:00, 85.57it/s]\n",
      "Batches: 100%|██████████| 1/1 [00:00<00:00, 84.37it/s]\n",
      "Batches: 100%|██████████| 1/1 [00:00<00:00, 89.49it/s]\n",
      "Batches: 100%|██████████| 1/1 [00:00<00:00, 75.14it/s]\n",
      "Batches: 100%|██████████| 1/1 [00:00<00:00, 81.05it/s]\n",
      "Batches: 100%|██████████| 1/1 [00:00<00:00, 83.77it/s]\n",
      "Batches: 100%|██████████| 1/1 [00:00<00:00, 79.36it/s]\n",
      "Batches: 100%|██████████| 1/1 [00:00<00:00, 75.93it/s]\n",
      "Batches: 100%|██████████| 1/1 [00:00<00:00, 66.14it/s]\n",
      "Batches: 100%|██████████| 1/1 [00:00<00:00, 86.95it/s]\n",
      "Batches: 100%|██████████| 1/1 [00:00<00:00, 79.28it/s]\n",
      "Batches: 100%|██████████| 1/1 [00:00<00:00, 88.11it/s]\n",
      "Batches: 100%|██████████| 1/1 [00:00<00:00, 74.74it/s]\n",
      "Batches: 100%|██████████| 1/1 [00:00<00:00, 84.63it/s]\n",
      "Batches: 100%|██████████| 1/1 [00:00<00:00, 89.47it/s]\n",
      "Batches: 100%|██████████| 1/1 [00:00<00:00, 49.53it/s]\n",
      "Batches: 100%|██████████| 1/1 [00:00<00:00, 95.76it/s]\n",
      "Batches: 100%|██████████| 1/1 [00:00<00:00, 70.58it/s]\n",
      "Batches: 100%|██████████| 1/1 [00:00<00:00, 73.42it/s]\n",
      "Batches: 100%|██████████| 1/1 [00:00<00:00, 88.89it/s]\n",
      "Batches: 100%|██████████| 1/1 [00:00<00:00, 61.27it/s]\n",
      "Batches: 100%|██████████| 1/1 [00:00<00:00, 82.37it/s]\n",
      "Batches: 100%|██████████| 1/1 [00:00<00:00, 65.65it/s]\n",
      "Batches: 100%|██████████| 1/1 [00:00<00:00, 71.62it/s]\n",
      "Batches: 100%|██████████| 1/1 [00:00<00:00, 86.70it/s]\n",
      "Batches: 100%|██████████| 1/1 [00:00<00:00, 89.25it/s]\n",
      "Batches: 100%|██████████| 2/2 [00:00<00:00, 62.69it/s]\n",
      "Batches: 100%|██████████| 1/1 [00:00<00:00, 95.40it/s]\n",
      "Batches: 100%|██████████| 1/1 [00:00<00:00, 58.59it/s]\n",
      "Batches: 100%|██████████| 1/1 [00:00<00:00, 96.18it/s]\n",
      "Batches: 100%|██████████| 1/1 [00:00<00:00, 88.94it/s]\n",
      "Batches: 100%|██████████| 1/1 [00:00<00:00, 85.82it/s]\n",
      "Batches: 100%|██████████| 1/1 [00:00<00:00, 61.54it/s]\n",
      "Batches: 100%|██████████| 1/1 [00:00<00:00, 83.29it/s]\n",
      "Batches: 100%|██████████| 2/2 [00:00<00:00, 59.01it/s]\n",
      "Batches: 100%|██████████| 1/1 [00:00<00:00, 87.52it/s]\n",
      "Batches: 100%|██████████| 1/1 [00:00<00:00, 88.64it/s]\n",
      "Batches: 100%|██████████| 1/1 [00:00<00:00, 89.15it/s]\n",
      "Batches: 100%|██████████| 1/1 [00:00<00:00, 83.12it/s]\n",
      "Batches: 100%|██████████| 1/1 [00:00<00:00, 89.00it/s]\n",
      "Batches: 100%|██████████| 1/1 [00:00<00:00, 92.09it/s]\n",
      "Batches: 100%|██████████| 1/1 [00:00<00:00, 91.76it/s]\n",
      "Batches: 100%|██████████| 2/2 [00:00<00:00, 60.05it/s]\n",
      "Batches: 100%|██████████| 1/1 [00:00<00:00, 91.98it/s]\n",
      "Batches: 100%|██████████| 1/1 [00:00<00:00, 70.57it/s]\n",
      "Batches: 100%|██████████| 1/1 [00:00<00:00, 91.98it/s]\n",
      "Batches: 100%|██████████| 1/1 [00:00<00:00, 33.62it/s]\n",
      "Batches: 100%|██████████| 1/1 [00:00<00:00, 89.76it/s]\n",
      "Batches: 100%|██████████| 1/1 [00:00<00:00, 62.55it/s]\n",
      "Batches: 100%|██████████| 1/1 [00:00<00:00, 87.96it/s]\n",
      "Batches: 100%|██████████| 2/2 [00:00<00:00, 28.69it/s]\n",
      "Batches: 100%|██████████| 1/1 [00:00<00:00, 88.94it/s]\n",
      "Batches: 100%|██████████| 2/2 [00:00<00:00, 28.43it/s]\n",
      "Batches: 100%|██████████| 1/1 [00:00<00:00, 68.17it/s]\n",
      "Batches: 100%|██████████| 2/2 [00:00<00:00, 70.33it/s]\n",
      "Batches: 100%|██████████| 1/1 [00:00<00:00, 85.39it/s]\n",
      "Batches: 100%|██████████| 1/1 [00:00<00:00, 99.96it/s]\n",
      "Batches: 100%|██████████| 1/1 [00:00<00:00, 94.69it/s]\n",
      "Batches: 100%|██████████| 1/1 [00:00<00:00, 97.07it/s]\n",
      "Batches: 100%|██████████| 1/1 [00:00<00:00, 98.29it/s]\n",
      "Batches: 100%|██████████| 2/2 [00:00<00:00, 48.24it/s]\n",
      "Batches: 100%|██████████| 1/1 [00:00<00:00, 53.77it/s]\n",
      "Batches: 100%|██████████| 1/1 [00:00<00:00, 53.36it/s]\n",
      "Batches: 100%|██████████| 1/1 [00:00<00:00, 85.76it/s]\n",
      "Batches: 100%|██████████| 1/1 [00:00<00:00, 83.52it/s]\n",
      "Batches: 100%|██████████| 1/1 [00:00<00:00, 86.98it/s]\n",
      "Batches: 100%|██████████| 1/1 [00:00<00:00, 81.81it/s]\n",
      "Batches: 100%|██████████| 1/1 [00:00<00:00, 83.60it/s]\n",
      "Batches: 100%|██████████| 1/1 [00:00<00:00, 49.28it/s]\n",
      "Batches: 100%|██████████| 1/1 [00:00<00:00, 81.22it/s]\n",
      "Batches: 100%|██████████| 2/2 [00:00<00:00, 64.22it/s]\n",
      "Batches: 100%|██████████| 1/1 [00:00<00:00, 90.58it/s]\n",
      "Batches: 100%|██████████| 1/1 [00:00<00:00, 85.88it/s]\n",
      "Batches: 100%|██████████| 1/1 [00:00<00:00, 83.71it/s]\n",
      "Batches: 100%|██████████| 2/2 [00:00<00:00, 52.54it/s]\n",
      "Batches: 100%|██████████| 1/1 [00:00<00:00, 89.50it/s]\n",
      "Batches: 100%|██████████| 1/1 [00:00<00:00, 75.63it/s]\n",
      "Batches: 100%|██████████| 1/1 [00:00<00:00, 101.14it/s]\n",
      "Batches: 100%|██████████| 2/2 [00:00<00:00, 79.53it/s]\n",
      "Batches: 100%|██████████| 1/1 [00:00<00:00, 88.85it/s]\n",
      "Batches: 100%|██████████| 2/2 [00:00<00:00, 65.32it/s]\n",
      "Batches: 100%|██████████| 1/1 [00:00<00:00, 82.18it/s]\n",
      "Batches: 100%|██████████| 1/1 [00:00<00:00, 77.61it/s]\n",
      "Batches: 100%|██████████| 1/1 [00:00<00:00, 61.88it/s]\n",
      "Batches: 100%|██████████| 1/1 [00:00<00:00, 42.83it/s]\n",
      "Batches: 100%|██████████| 1/1 [00:00<00:00, 53.46it/s]\n",
      "Batches: 100%|██████████| 1/1 [00:00<00:00, 47.76it/s]\n",
      "Batches: 100%|██████████| 1/1 [00:00<00:00, 54.22it/s]\n",
      "Batches: 100%|██████████| 2/2 [00:00<00:00, 51.47it/s]\n",
      "Batches: 100%|██████████| 1/1 [00:00<00:00, 103.55it/s]\n",
      "Batches: 100%|██████████| 1/1 [00:00<00:00, 91.74it/s]\n",
      "Batches: 100%|██████████| 1/1 [00:00<00:00, 71.59it/s]\n",
      "Batches: 100%|██████████| 1/1 [00:00<00:00, 66.00it/s]\n",
      "Batches: 100%|██████████| 1/1 [00:00<00:00, 75.56it/s]\n",
      "Batches: 100%|██████████| 1/1 [00:00<00:00, 73.61it/s]\n",
      "Batches: 100%|██████████| 1/1 [00:00<00:00, 70.84it/s]\n",
      "Batches: 100%|██████████| 1/1 [00:00<00:00, 68.39it/s]\n",
      "Batches: 100%|██████████| 1/1 [00:00<00:00, 64.55it/s]\n",
      "Batches: 100%|██████████| 1/1 [00:00<00:00, 60.14it/s]\n",
      "Batches: 100%|██████████| 1/1 [00:00<00:00, 64.04it/s]\n",
      "Batches: 100%|██████████| 2/2 [00:00<00:00, 59.22it/s]\n",
      "Batches: 100%|██████████| 1/1 [00:00<00:00, 63.56it/s]\n",
      "Batches: 100%|██████████| 1/1 [00:00<00:00, 47.68it/s]\n",
      "Batches: 100%|██████████| 1/1 [00:00<00:00, 69.82it/s]\n",
      "Batches: 100%|██████████| 1/1 [00:00<00:00, 50.19it/s]\n",
      "Batches: 100%|██████████| 1/1 [00:00<00:00, 54.75it/s]\n",
      "Batches: 100%|██████████| 1/1 [00:00<00:00, 50.48it/s]\n",
      "Batches: 100%|██████████| 1/1 [00:00<00:00, 54.91it/s]\n",
      "Batches: 100%|██████████| 2/2 [00:00<00:00, 63.12it/s]\n",
      "Batches: 100%|██████████| 1/1 [00:00<00:00, 77.53it/s]\n",
      "Batches: 100%|██████████| 1/1 [00:00<00:00, 68.99it/s]\n",
      "Batches: 100%|██████████| 1/1 [00:00<00:00, 51.44it/s]\n",
      "Batches: 100%|██████████| 1/1 [00:00<00:00, 46.63it/s]\n",
      "Batches: 100%|██████████| 1/1 [00:00<00:00, 52.51it/s]\n",
      "Batches: 100%|██████████| 1/1 [00:00<00:00, 47.29it/s]\n",
      "Batches: 100%|██████████| 1/1 [00:00<00:00, 52.66it/s]\n",
      "Batches: 100%|██████████| 1/1 [00:00<00:00, 53.71it/s]\n",
      "Batches: 100%|██████████| 1/1 [00:00<00:00, 45.91it/s]\n",
      "Batches: 100%|██████████| 1/1 [00:00<00:00, 44.32it/s]\n",
      "Batches: 100%|██████████| 1/1 [00:00<00:00, 51.24it/s]\n",
      "Batches: 100%|██████████| 1/1 [00:00<00:00, 53.74it/s]\n",
      "Batches: 100%|██████████| 1/1 [00:00<00:00, 51.38it/s]\n",
      "Batches: 100%|██████████| 1/1 [00:00<00:00, 51.42it/s]\n",
      "Batches: 100%|██████████| 1/1 [00:00<00:00, 52.67it/s]\n",
      "Batches: 100%|██████████| 1/1 [00:00<00:00, 55.09it/s]\n",
      "Batches: 100%|██████████| 1/1 [00:00<00:00, 53.83it/s]\n",
      "Batches: 100%|██████████| 1/1 [00:00<00:00, 40.98it/s]\n",
      "Batches: 100%|██████████| 1/1 [00:00<00:00, 81.96it/s]\n",
      "Batches: 100%|██████████| 1/1 [00:00<00:00, 93.20it/s]\n",
      "Batches: 100%|██████████| 1/1 [00:00<00:00, 82.91it/s]\n",
      "Batches: 100%|██████████| 2/2 [00:00<00:00, 70.69it/s]\n",
      "Batches: 100%|██████████| 1/1 [00:00<00:00, 54.44it/s]\n",
      "Batches: 100%|██████████| 1/1 [00:00<00:00, 54.28it/s]\n",
      "Batches: 100%|██████████| 1/1 [00:00<00:00, 80.84it/s]\n",
      "Batches: 100%|██████████| 1/1 [00:00<00:00, 78.10it/s]\n",
      "Batches: 100%|██████████| 1/1 [00:00<00:00, 52.63it/s]\n",
      "Batches: 100%|██████████| 1/1 [00:00<00:00, 42.76it/s]\n",
      "Batches: 100%|██████████| 1/1 [00:00<00:00, 52.31it/s]\n",
      "Batches: 100%|██████████| 1/1 [00:00<00:00, 49.08it/s]\n",
      "Batches: 100%|██████████| 1/1 [00:00<00:00, 54.90it/s]\n",
      "Batches: 100%|██████████| 1/1 [00:00<00:00, 88.62it/s]\n",
      "Batches: 100%|██████████| 1/1 [00:00<00:00, 80.93it/s]\n",
      "Batches: 100%|██████████| 1/1 [00:00<00:00, 51.29it/s]\n",
      "Batches: 100%|██████████| 1/1 [00:00<00:00, 52.84it/s]\n",
      "Batches: 100%|██████████| 2/2 [00:00<00:00, 46.88it/s]\n",
      "Batches: 100%|██████████| 1/1 [00:00<00:00, 53.32it/s]\n",
      "Batches: 100%|██████████| 1/1 [00:00<00:00, 55.58it/s]\n",
      "Batches: 100%|██████████| 1/1 [00:00<00:00, 53.47it/s]\n",
      "Batches: 100%|██████████| 1/1 [00:00<00:00, 72.43it/s]\n",
      "Batches: 100%|██████████| 1/1 [00:00<00:00, 67.94it/s]\n",
      "Batches: 100%|██████████| 1/1 [00:00<00:00, 80.89it/s]\n",
      "Batches: 100%|██████████| 1/1 [00:00<00:00, 84.02it/s]\n",
      "Batches: 100%|██████████| 2/2 [00:00<00:00, 60.73it/s]\n",
      "Batches: 100%|██████████| 1/1 [00:00<00:00, 80.81it/s]\n",
      "Batches: 100%|██████████| 2/2 [00:00<00:00, 56.45it/s]\n",
      "Batches: 100%|██████████| 1/1 [00:00<00:00, 51.39it/s]\n",
      "Batches: 100%|██████████| 1/1 [00:00<00:00, 48.75it/s]\n",
      "Batches: 100%|██████████| 1/1 [00:00<00:00, 52.83it/s]\n",
      "Batches: 100%|██████████| 1/1 [00:00<00:00, 41.54it/s]\n",
      "Batches: 100%|██████████| 1/1 [00:00<00:00, 86.23it/s]\n",
      "Batches: 100%|██████████| 1/1 [00:00<00:00, 72.26it/s]\n",
      "Batches: 100%|██████████| 1/1 [00:00<00:00, 81.68it/s]\n",
      "Batches: 100%|██████████| 1/1 [00:00<00:00, 85.63it/s]\n",
      "Batches: 100%|██████████| 1/1 [00:00<00:00, 85.11it/s]\n",
      "Batches: 100%|██████████| 2/2 [00:00<00:00, 39.58it/s]\n",
      "Batches: 100%|██████████| 1/1 [00:00<00:00, 85.85it/s]\n",
      "Batches: 100%|██████████| 1/1 [00:00<00:00, 67.13it/s]\n",
      "Batches: 100%|██████████| 1/1 [00:00<00:00, 85.13it/s]\n",
      "Batches: 100%|██████████| 1/1 [00:00<00:00, 41.94it/s]\n",
      "Batches: 100%|██████████| 1/1 [00:00<00:00, 92.61it/s]\n",
      "Batches: 100%|██████████| 1/1 [00:00<00:00, 84.58it/s]\n",
      "Batches: 100%|██████████| 1/1 [00:00<00:00, 76.45it/s]\n",
      "Batches: 100%|██████████| 1/1 [00:00<00:00, 93.06it/s]\n",
      "Batches: 100%|██████████| 1/1 [00:00<00:00, 82.19it/s]\n",
      "Batches: 100%|██████████| 1/1 [00:00<00:00, 60.14it/s]\n",
      "Batches: 100%|██████████| 1/1 [00:00<00:00, 94.75it/s]\n",
      "Batches: 100%|██████████| 1/1 [00:00<00:00, 67.60it/s]\n",
      "Batches: 100%|██████████| 1/1 [00:00<00:00, 86.93it/s]\n",
      "Batches: 100%|██████████| 1/1 [00:00<00:00, 83.15it/s]\n",
      "Batches: 100%|██████████| 1/1 [00:00<00:00, 83.61it/s]\n",
      "Batches: 100%|██████████| 1/1 [00:00<00:00, 31.77it/s]\n",
      "Batches: 100%|██████████| 1/1 [00:00<00:00, 50.39it/s]\n",
      "Batches: 100%|██████████| 1/1 [00:00<00:00, 76.55it/s]\n",
      "Batches: 100%|██████████| 1/1 [00:00<00:00, 87.48it/s]\n",
      "Batches: 100%|██████████| 1/1 [00:00<00:00, 47.99it/s]\n",
      "Batches: 100%|██████████| 1/1 [00:00<00:00, 51.61it/s]\n",
      "Batches: 100%|██████████| 1/1 [00:00<00:00, 52.59it/s]\n",
      "Batches: 100%|██████████| 1/1 [00:00<00:00, 52.20it/s]\n",
      "Batches: 100%|██████████| 1/1 [00:00<00:00, 50.64it/s]\n",
      "Batches: 100%|██████████| 1/1 [00:00<00:00, 51.78it/s]\n",
      "Batches: 100%|██████████| 2/2 [00:00<00:00, 50.82it/s]\n",
      "Batches: 100%|██████████| 1/1 [00:00<00:00, 72.47it/s]\n",
      "Batches: 100%|██████████| 2/2 [00:00<00:00, 51.17it/s]\n",
      "Batches: 100%|██████████| 1/1 [00:00<00:00, 53.13it/s]\n",
      "Batches: 100%|██████████| 1/1 [00:00<00:00, 88.47it/s]\n",
      "Batches: 100%|██████████| 1/1 [00:00<00:00, 73.75it/s]\n",
      "Batches: 100%|██████████| 1/1 [00:00<00:00, 47.48it/s]\n",
      "Batches: 100%|██████████| 1/1 [00:00<00:00, 62.46it/s]\n",
      "Batches: 100%|██████████| 2/2 [00:00<00:00, 44.42it/s]\n",
      "Batches: 100%|██████████| 1/1 [00:00<00:00, 50.86it/s]\n",
      "Batches: 100%|██████████| 1/1 [00:00<00:00, 51.49it/s]\n",
      "Batches: 100%|██████████| 1/1 [00:00<00:00, 50.34it/s]\n",
      "Batches: 100%|██████████| 2/2 [00:00<00:00, 47.02it/s]\n",
      "Batches: 100%|██████████| 1/1 [00:00<00:00, 72.42it/s]\n",
      "Batches: 100%|██████████| 1/1 [00:00<00:00, 45.59it/s]\n",
      "Batches: 100%|██████████| 1/1 [00:00<00:00, 49.52it/s]\n",
      "Batches: 100%|██████████| 1/1 [00:00<00:00, 50.03it/s]\n",
      "Batches: 100%|██████████| 1/1 [00:00<00:00, 50.27it/s]\n",
      "Batches: 100%|██████████| 2/2 [00:00<00:00, 58.04it/s]\n",
      "Batches: 100%|██████████| 1/1 [00:00<00:00, 49.97it/s]\n",
      "Batches: 100%|██████████| 1/1 [00:00<00:00, 44.37it/s]\n",
      "Batches: 100%|██████████| 1/1 [00:00<00:00, 51.78it/s]\n",
      "Batches: 100%|██████████| 1/1 [00:00<00:00, 52.11it/s]\n",
      "Batches: 100%|██████████| 1/1 [00:00<00:00, 50.11it/s]\n",
      "Batches: 100%|██████████| 2/2 [00:00<00:00, 47.18it/s]\n",
      "Batches: 100%|██████████| 1/1 [00:00<00:00, 56.95it/s]\n",
      "Batches: 100%|██████████| 2/2 [00:00<00:00, 31.32it/s]\n",
      "Batches: 100%|██████████| 1/1 [00:00<00:00, 76.34it/s]\n",
      "Batches: 100%|██████████| 1/1 [00:00<00:00, 80.31it/s]\n",
      "Batches: 100%|██████████| 1/1 [00:00<00:00, 90.15it/s]\n",
      "Batches: 100%|██████████| 1/1 [00:00<00:00, 71.05it/s]\n",
      "Batches: 100%|██████████| 1/1 [00:00<00:00, 98.68it/s]\n",
      "Batches: 100%|██████████| 1/1 [00:00<00:00, 107.30it/s]\n",
      "Batches: 100%|██████████| 1/1 [00:00<00:00, 89.80it/s]\n",
      "Batches: 100%|██████████| 2/2 [00:00<00:00, 82.78it/s]\n",
      "Batches: 100%|██████████| 1/1 [00:00<00:00, 52.05it/s]\n",
      "Batches: 100%|██████████| 2/2 [00:00<00:00, 38.20it/s]\n",
      "Batches: 100%|██████████| 1/1 [00:00<00:00, 51.02it/s]\n",
      "Batches: 100%|██████████| 1/1 [00:00<00:00, 46.80it/s]\n",
      "Batches: 100%|██████████| 1/1 [00:00<00:00, 51.15it/s]\n",
      "Batches: 100%|██████████| 1/1 [00:00<00:00, 51.05it/s]\n",
      "Batches: 100%|██████████| 1/1 [00:00<00:00, 50.60it/s]\n",
      "Batches: 100%|██████████| 1/1 [00:00<00:00, 39.67it/s]\n",
      "Batches: 100%|██████████| 1/1 [00:00<00:00, 49.62it/s]\n",
      "Batches: 100%|██████████| 1/1 [00:00<00:00, 41.50it/s]\n",
      "Batches: 100%|██████████| 1/1 [00:00<00:00, 50.20it/s]\n",
      "Batches: 100%|██████████| 1/1 [00:00<00:00, 56.27it/s]\n",
      "Batches: 100%|██████████| 1/1 [00:00<00:00, 51.06it/s]\n",
      "Batches: 100%|██████████| 1/1 [00:00<00:00, 47.85it/s]\n",
      "Batches: 100%|██████████| 1/1 [00:00<00:00, 49.07it/s]\n",
      "Batches: 100%|██████████| 2/2 [00:00<00:00, 48.71it/s]\n",
      "Batches: 100%|██████████| 1/1 [00:00<00:00, 50.81it/s]\n",
      "Batches: 100%|██████████| 1/1 [00:00<00:00, 54.01it/s]\n",
      "Batches: 100%|██████████| 1/1 [00:00<00:00, 52.00it/s]\n",
      "Batches: 100%|██████████| 1/1 [00:00<00:00, 51.96it/s]\n",
      "Batches: 100%|██████████| 1/1 [00:00<00:00, 53.81it/s]\n",
      "Batches: 100%|██████████| 2/2 [00:00<00:00, 50.81it/s]\n",
      "Batches: 100%|██████████| 1/1 [00:00<00:00, 61.88it/s]\n",
      "Batches: 100%|██████████| 1/1 [00:00<00:00, 45.14it/s]\n",
      "Batches: 100%|██████████| 1/1 [00:00<00:00, 52.72it/s]\n",
      "Batches: 100%|██████████| 2/2 [00:00<00:00, 47.86it/s]\n",
      "Batches: 100%|██████████| 1/1 [00:00<00:00, 52.39it/s]\n",
      "Batches: 100%|██████████| 1/1 [00:00<00:00, 53.31it/s]\n",
      "Batches: 100%|██████████| 1/1 [00:00<00:00, 52.35it/s]\n",
      "Batches: 100%|██████████| 2/2 [00:00<00:00, 27.66it/s]\n",
      "Batches: 100%|██████████| 1/1 [00:00<00:00, 52.53it/s]\n",
      "Batches: 100%|██████████| 1/1 [00:00<00:00, 51.02it/s]\n",
      "Batches: 100%|██████████| 1/1 [00:00<00:00, 49.56it/s]\n",
      "Batches: 100%|██████████| 1/1 [00:00<00:00, 52.00it/s]\n",
      "Batches: 100%|██████████| 1/1 [00:00<00:00, 54.56it/s]\n",
      "Batches: 100%|██████████| 1/1 [00:00<00:00, 54.36it/s]\n",
      "Batches: 100%|██████████| 1/1 [00:00<00:00, 46.03it/s]\n",
      "Batches: 100%|██████████| 2/2 [00:00<00:00, 24.28it/s]\n",
      "Batches: 100%|██████████| 1/1 [00:00<00:00, 51.60it/s]\n",
      "Batches: 100%|██████████| 2/2 [00:00<00:00, 47.41it/s]\n",
      "Batches: 100%|██████████| 1/1 [00:00<00:00, 51.77it/s]\n",
      "Batches: 100%|██████████| 1/1 [00:00<00:00, 56.40it/s]\n",
      "Batches: 100%|██████████| 1/1 [00:00<00:00, 53.07it/s]\n",
      "Batches: 100%|██████████| 1/1 [00:00<00:00, 44.79it/s]\n",
      "Batches: 100%|██████████| 1/1 [00:00<00:00, 53.31it/s]\n",
      "Batches: 100%|██████████| 2/2 [00:00<00:00, 44.81it/s]\n",
      "Batches: 100%|██████████| 1/1 [00:00<00:00, 84.62it/s]\n",
      "Batches: 100%|██████████| 1/1 [00:00<00:00, 86.31it/s]\n",
      "Batches: 100%|██████████| 1/1 [00:00<00:00, 62.30it/s]\n",
      "Batches: 100%|██████████| 1/1 [00:00<00:00, 58.31it/s]\n",
      "Batches: 100%|██████████| 1/1 [00:00<00:00, 57.40it/s]\n",
      "Batches: 100%|██████████| 2/2 [00:00<00:00, 57.61it/s]\n",
      "Batches: 100%|██████████| 1/1 [00:00<00:00, 56.34it/s]\n",
      "Batches: 100%|██████████| 2/2 [00:00<00:00, 42.46it/s]\n",
      "Batches: 100%|██████████| 1/1 [00:00<00:00, 62.30it/s]\n",
      "Batches: 100%|██████████| 2/2 [00:00<00:00, 48.53it/s]\n",
      "Batches: 100%|██████████| 1/1 [00:00<00:00, 61.76it/s]\n",
      "Batches: 100%|██████████| 1/1 [00:00<00:00, 50.17it/s]\n",
      "Batches: 100%|██████████| 1/1 [00:00<00:00, 58.52it/s]\n",
      "Batches: 100%|██████████| 2/2 [00:00<00:00, 40.75it/s]\n",
      "Batches: 100%|██████████| 1/1 [00:00<00:00, 57.31it/s]\n",
      "Batches: 100%|██████████| 1/1 [00:00<00:00, 60.63it/s]\n",
      "Batches: 100%|██████████| 1/1 [00:00<00:00, 58.76it/s]\n",
      "Batches: 100%|██████████| 1/1 [00:00<00:00, 36.65it/s]\n",
      "Batches: 100%|██████████| 1/1 [00:00<00:00, 60.70it/s]\n",
      "Batches: 100%|██████████| 2/2 [00:00<00:00, 48.45it/s]\n",
      "Batches: 100%|██████████| 1/1 [00:00<00:00, 59.05it/s]\n",
      "Batches: 100%|██████████| 2/2 [00:00<00:00, 53.86it/s]\n",
      "Batches: 100%|██████████| 1/1 [00:00<00:00, 51.47it/s]\n",
      "Batches: 100%|██████████| 1/1 [00:00<00:00, 48.98it/s]\n",
      "Batches: 100%|██████████| 1/1 [00:00<00:00, 52.65it/s]\n",
      "Batches: 100%|██████████| 2/2 [00:00<00:00, 41.32it/s]\n",
      "Batches: 100%|██████████| 1/1 [00:00<00:00, 52.75it/s]\n",
      "Batches: 100%|██████████| 1/1 [00:00<00:00, 52.61it/s]\n",
      "Batches: 100%|██████████| 1/1 [00:00<00:00, 52.36it/s]\n",
      "Batches: 100%|██████████| 1/1 [00:00<00:00, 54.14it/s]\n",
      "Batches: 100%|██████████| 1/1 [00:00<00:00, 51.82it/s]\n",
      "Batches: 100%|██████████| 1/1 [00:00<00:00, 71.94it/s]\n",
      "Batches: 100%|██████████| 1/1 [00:00<00:00, 71.42it/s]\n",
      "Batches: 100%|██████████| 1/1 [00:00<00:00, 29.96it/s]\n",
      "Batches: 100%|██████████| 1/1 [00:00<00:00, 62.41it/s]\n",
      "Batches: 100%|██████████| 2/2 [00:00<00:00, 43.76it/s]\n",
      "Batches: 100%|██████████| 1/1 [00:00<00:00, 63.43it/s]\n",
      "Batches: 100%|██████████| 1/1 [00:00<00:00, 63.17it/s]\n",
      "Batches: 100%|██████████| 1/1 [00:00<00:00, 70.30it/s]\n",
      "Batches: 100%|██████████| 1/1 [00:00<00:00, 67.21it/s]\n",
      "Batches: 100%|██████████| 1/1 [00:00<00:00, 62.82it/s]\n",
      "Batches: 100%|██████████| 1/1 [00:00<00:00, 66.83it/s]\n",
      "Batches: 100%|██████████| 1/1 [00:00<00:00, 62.66it/s]\n",
      "Batches: 100%|██████████| 2/2 [00:00<00:00, 35.76it/s]\n",
      "Batches: 100%|██████████| 1/1 [00:00<00:00, 60.89it/s]\n",
      "Batches: 100%|██████████| 1/1 [00:00<00:00, 56.44it/s]\n",
      "Batches: 100%|██████████| 1/1 [00:00<00:00, 67.19it/s]\n",
      "Batches: 100%|██████████| 1/1 [00:00<00:00, 57.17it/s]\n",
      "Batches: 100%|██████████| 1/1 [00:00<00:00, 66.51it/s]\n",
      "Batches: 100%|██████████| 1/1 [00:00<00:00, 67.33it/s]\n",
      "Batches: 100%|██████████| 1/1 [00:00<00:00, 66.27it/s]\n",
      "Batches: 100%|██████████| 1/1 [00:00<00:00, 62.14it/s]\n",
      "Batches: 100%|██████████| 1/1 [00:00<00:00, 61.58it/s]\n",
      "Batches: 100%|██████████| 2/2 [00:00<00:00, 48.75it/s]\n",
      "Batches: 100%|██████████| 1/1 [00:00<00:00, 62.13it/s]\n",
      "Batches: 100%|██████████| 1/1 [00:00<00:00, 44.89it/s]\n",
      "Batches: 100%|██████████| 1/1 [00:00<00:00, 68.55it/s]\n",
      "Batches: 100%|██████████| 2/2 [00:00<00:00, 56.62it/s]\n",
      "Batches: 100%|██████████| 1/1 [00:00<00:00, 65.16it/s]\n",
      "Batches: 100%|██████████| 1/1 [00:00<00:00, 75.30it/s]\n",
      "Batches: 100%|██████████| 1/1 [00:00<00:00, 88.40it/s]\n",
      "Batches: 100%|██████████| 1/1 [00:00<00:00, 77.07it/s]\n",
      "Batches: 100%|██████████| 1/1 [00:00<00:00, 67.46it/s]\n",
      "Batches: 100%|██████████| 1/1 [00:00<00:00, 41.59it/s]\n",
      "Batches: 100%|██████████| 1/1 [00:00<00:00, 51.46it/s]\n",
      "Batches: 100%|██████████| 1/1 [00:00<00:00, 49.89it/s]\n",
      "Batches: 100%|██████████| 1/1 [00:00<00:00, 50.26it/s]\n",
      "Batches: 100%|██████████| 2/2 [00:00<00:00, 54.22it/s]\n",
      "Batches: 100%|██████████| 1/1 [00:00<00:00, 84.53it/s]\n",
      "Batches: 100%|██████████| 1/1 [00:00<00:00, 78.23it/s]\n",
      "Batches: 100%|██████████| 1/1 [00:00<00:00, 99.65it/s]\n",
      "Batches: 100%|██████████| 2/2 [00:00<00:00, 65.76it/s]\n",
      "Batches: 100%|██████████| 1/1 [00:00<00:00, 91.65it/s]\n",
      "Batches: 100%|██████████| 2/2 [00:00<00:00, 59.13it/s]\n",
      "Batches: 100%|██████████| 1/1 [00:00<00:00, 93.37it/s]\n",
      "Batches: 100%|██████████| 2/2 [00:00<00:00, 60.20it/s]\n",
      "Batches: 100%|██████████| 1/1 [00:00<00:00, 86.76it/s]\n",
      "Batches: 100%|██████████| 1/1 [00:00<00:00, 98.35it/s]\n",
      "Batches: 100%|██████████| 1/1 [00:00<00:00, 90.11it/s]\n",
      "Batches: 100%|██████████| 1/1 [00:00<00:00, 92.53it/s]\n",
      "Batches: 100%|██████████| 1/1 [00:00<00:00, 82.96it/s]\n",
      "Batches: 100%|██████████| 1/1 [00:00<00:00, 87.06it/s]\n",
      "Batches: 100%|██████████| 1/1 [00:00<00:00, 79.78it/s]\n",
      "Batches: 100%|██████████| 1/1 [00:00<00:00, 88.33it/s]\n",
      "Batches: 100%|██████████| 1/1 [00:00<00:00, 100.04it/s]\n",
      "Batches: 100%|██████████| 1/1 [00:00<00:00, 91.25it/s]\n",
      "Batches: 100%|██████████| 1/1 [00:00<00:00, 81.02it/s]\n",
      "Batches: 100%|██████████| 1/1 [00:00<00:00, 89.35it/s]\n",
      "Batches: 100%|██████████| 1/1 [00:00<00:00, 86.71it/s]\n",
      "Batches: 100%|██████████| 1/1 [00:00<00:00, 60.74it/s]\n",
      "Batches: 100%|██████████| 1/1 [00:00<00:00, 52.56it/s]\n",
      "Batches: 100%|██████████| 2/2 [00:00<00:00, 51.06it/s]\n",
      "Batches: 100%|██████████| 1/1 [00:00<00:00, 52.63it/s]\n",
      "Batches: 100%|██████████| 1/1 [00:00<00:00, 50.31it/s]\n",
      "Batches: 100%|██████████| 1/1 [00:00<00:00, 53.77it/s]\n",
      "Batches: 100%|██████████| 2/2 [00:00<00:00, 40.73it/s]\n",
      "Batches: 100%|██████████| 1/1 [00:00<00:00, 60.16it/s]\n",
      "Batches: 100%|██████████| 1/1 [00:00<00:00, 77.43it/s]\n",
      "Batches: 100%|██████████| 1/1 [00:00<00:00, 78.36it/s]\n",
      "Batches: 100%|██████████| 2/2 [00:00<00:00, 46.01it/s]\n",
      "Batches: 100%|██████████| 1/1 [00:00<00:00, 51.92it/s]\n",
      "Batches: 100%|██████████| 2/2 [00:00<00:00, 38.97it/s]\n",
      "Batches: 100%|██████████| 1/1 [00:00<00:00, 65.94it/s]\n",
      "Batches: 100%|██████████| 1/1 [00:00<00:00, 96.47it/s]\n",
      "Batches: 100%|██████████| 1/1 [00:00<00:00, 90.29it/s]\n",
      "Batches: 100%|██████████| 1/1 [00:00<00:00, 50.39it/s]\n",
      "Batches: 100%|██████████| 1/1 [00:00<00:00, 53.31it/s]\n",
      "Batches: 100%|██████████| 2/2 [00:00<00:00, 33.69it/s]\n",
      "Batches: 100%|██████████| 1/1 [00:00<00:00, 54.21it/s]\n",
      "Batches: 100%|██████████| 1/1 [00:00<00:00, 49.97it/s]\n",
      "Batches: 100%|██████████| 1/1 [00:00<00:00, 53.73it/s]\n",
      "Batches: 100%|██████████| 1/1 [00:00<00:00, 55.73it/s]\n",
      "Batches: 100%|██████████| 1/1 [00:00<00:00, 52.15it/s]\n",
      "Batches: 100%|██████████| 2/2 [00:00<00:00, 69.75it/s]\n",
      "Batches: 100%|██████████| 1/1 [00:00<00:00, 71.94it/s]\n",
      "Batches: 100%|██████████| 1/1 [00:00<00:00, 61.60it/s]\n",
      "Batches: 100%|██████████| 1/1 [00:00<00:00, 91.62it/s]\n",
      "Batches: 100%|██████████| 2/2 [00:00<00:00, 66.58it/s]\n",
      "Batches: 100%|██████████| 1/1 [00:00<00:00, 86.79it/s]\n",
      "Batches: 100%|██████████| 2/2 [00:00<00:00, 68.40it/s]\n",
      "Batches: 100%|██████████| 1/1 [00:00<00:00, 86.16it/s]\n",
      "Batches: 100%|██████████| 1/1 [00:00<00:00, 83.82it/s]\n",
      "Batches: 100%|██████████| 1/1 [00:00<00:00, 50.53it/s]\n",
      "Batches: 100%|██████████| 1/1 [00:00<00:00, 45.00it/s]\n",
      "Batches: 100%|██████████| 1/1 [00:00<00:00, 53.42it/s]\n",
      "Batches: 100%|██████████| 2/2 [00:00<00:00, 48.85it/s]\n",
      "Batches: 100%|██████████| 1/1 [00:00<00:00, 80.24it/s]\n",
      "Batches: 100%|██████████| 1/1 [00:00<00:00, 83.68it/s]\n",
      "Batches: 100%|██████████| 1/1 [00:00<00:00, 52.03it/s]\n",
      "Batches: 100%|██████████| 1/1 [00:00<00:00, 45.69it/s]\n",
      "Batches: 100%|██████████| 1/1 [00:00<00:00, 59.69it/s]\n",
      "Batches: 100%|██████████| 1/1 [00:00<00:00, 71.72it/s]\n",
      "Batches: 100%|██████████| 1/1 [00:00<00:00, 78.22it/s]\n",
      "Batches: 100%|██████████| 1/1 [00:00<00:00, 38.93it/s]\n",
      "Batches: 100%|██████████| 1/1 [00:00<00:00, 73.29it/s]\n",
      "Batches: 100%|██████████| 1/1 [00:00<00:00, 61.82it/s]\n",
      "Batches: 100%|██████████| 1/1 [00:00<00:00, 60.52it/s]\n",
      "Batches: 100%|██████████| 1/1 [00:00<00:00, 47.28it/s]\n",
      "Batches: 100%|██████████| 1/1 [00:00<00:00, 45.22it/s]\n",
      "Batches: 100%|██████████| 2/2 [00:00<00:00, 35.05it/s]\n",
      "Batches: 100%|██████████| 1/1 [00:00<00:00, 50.04it/s]\n",
      "Batches: 100%|██████████| 2/2 [00:00<00:00, 39.74it/s]\n",
      "Batches: 100%|██████████| 1/1 [00:00<00:00, 49.57it/s]\n",
      "Batches: 100%|██████████| 1/1 [00:00<00:00, 56.95it/s]\n",
      "Batches: 100%|██████████| 1/1 [00:00<00:00, 62.77it/s]\n",
      "Batches: 100%|██████████| 1/1 [00:00<00:00, 59.64it/s]\n",
      "Batches: 100%|██████████| 1/1 [00:00<00:00, 50.46it/s]\n",
      "Batches: 100%|██████████| 1/1 [00:00<00:00, 51.00it/s]\n",
      "Batches: 100%|██████████| 1/1 [00:00<00:00, 73.97it/s]\n",
      "Batches: 100%|██████████| 2/2 [00:00<00:00, 46.38it/s]\n",
      "Batches: 100%|██████████| 1/1 [00:00<00:00, 82.97it/s]\n",
      "Batches: 100%|██████████| 1/1 [00:00<00:00, 84.70it/s]\n",
      "Batches: 100%|██████████| 1/1 [00:00<00:00, 83.20it/s]\n",
      "Batches: 100%|██████████| 1/1 [00:00<00:00, 50.75it/s]\n",
      "Batches: 100%|██████████| 1/1 [00:00<00:00, 50.89it/s]\n",
      "Batches: 100%|██████████| 2/2 [00:00<00:00, 46.48it/s]\n",
      "Batches: 100%|██████████| 1/1 [00:00<00:00, 73.26it/s]\n",
      "Batches: 100%|██████████| 1/1 [00:00<00:00, 71.78it/s]\n",
      "Batches: 100%|██████████| 1/1 [00:00<00:00, 85.29it/s]\n",
      "Batches: 100%|██████████| 1/1 [00:00<00:00, 80.89it/s]\n",
      "Batches: 100%|██████████| 1/1 [00:00<00:00, 91.61it/s]\n",
      "Batches: 100%|██████████| 1/1 [00:00<00:00, 91.61it/s]\n",
      "Batches: 100%|██████████| 1/1 [00:00<00:00, 64.57it/s]\n",
      "Batches: 100%|██████████| 2/2 [00:00<00:00, 44.54it/s]\n",
      "Batches: 100%|██████████| 1/1 [00:00<00:00, 49.53it/s]\n",
      "Batches: 100%|██████████| 1/1 [00:00<00:00, 49.53it/s]\n",
      "Batches: 100%|██████████| 1/1 [00:00<00:00, 46.18it/s]\n",
      "Batches: 100%|██████████| 1/1 [00:00<00:00, 46.05it/s]\n",
      "Batches: 100%|██████████| 1/1 [00:00<00:00, 48.96it/s]\n",
      "Batches: 100%|██████████| 1/1 [00:00<00:00, 50.93it/s]\n",
      "Batches: 100%|██████████| 1/1 [00:00<00:00, 47.55it/s]\n",
      "Batches: 100%|██████████| 1/1 [00:00<00:00, 29.01it/s]\n",
      "Batches: 100%|██████████| 1/1 [00:00<00:00, 48.83it/s]\n",
      "Batches: 100%|██████████| 2/2 [00:00<00:00, 45.32it/s]\n",
      "Batches: 100%|██████████| 1/1 [00:00<00:00, 50.59it/s]\n",
      "Batches: 100%|██████████| 1/1 [00:00<00:00, 53.03it/s]\n",
      "Batches: 100%|██████████| 1/1 [00:00<00:00, 51.04it/s]\n",
      "Batches: 100%|██████████| 1/1 [00:00<00:00, 51.18it/s]\n",
      "Batches: 100%|██████████| 1/1 [00:00<00:00, 48.96it/s]\n",
      "Batches: 100%|██████████| 2/2 [00:00<00:00, 36.94it/s]\n",
      "Batches: 100%|██████████| 1/1 [00:00<00:00, 56.63it/s]\n",
      "Batches: 100%|██████████| 1/1 [00:00<00:00, 45.52it/s]\n",
      "Batches: 100%|██████████| 1/1 [00:00<00:00, 48.57it/s]\n",
      "Batches: 100%|██████████| 1/1 [00:00<00:00, 47.82it/s]\n",
      "Batches: 100%|██████████| 1/1 [00:00<00:00, 50.58it/s]\n",
      "Batches: 100%|██████████| 1/1 [00:00<00:00, 50.80it/s]\n",
      "Batches: 100%|██████████| 1/1 [00:00<00:00, 47.52it/s]\n",
      "Batches: 100%|██████████| 1/1 [00:00<00:00, 49.75it/s]\n",
      "Batches: 100%|██████████| 1/1 [00:00<00:00, 49.78it/s]\n",
      "Batches: 100%|██████████| 1/1 [00:00<00:00, 45.51it/s]\n",
      "Batches: 100%|██████████| 1/1 [00:00<00:00, 50.52it/s]\n",
      "Batches: 100%|██████████| 1/1 [00:00<00:00, 39.18it/s]\n",
      "Batches: 100%|██████████| 1/1 [00:00<00:00, 77.54it/s]\n",
      "Batches: 100%|██████████| 1/1 [00:00<00:00, 57.87it/s]\n",
      "Batches: 100%|██████████| 1/1 [00:00<00:00, 49.63it/s]\n",
      "Batches: 100%|██████████| 1/1 [00:00<00:00, 78.95it/s]\n",
      "Batches: 100%|██████████| 1/1 [00:00<00:00, 79.29it/s]\n",
      "Batches: 100%|██████████| 1/1 [00:00<00:00, 26.12it/s]\n",
      "Batches: 100%|██████████| 1/1 [00:00<00:00, 47.60it/s]\n",
      "Batches: 100%|██████████| 1/1 [00:00<00:00, 51.36it/s]\n",
      "Batches: 100%|██████████| 1/1 [00:00<00:00, 51.86it/s]\n",
      "Batches: 100%|██████████| 1/1 [00:00<00:00, 49.70it/s]\n",
      "Batches: 100%|██████████| 1/1 [00:00<00:00, 52.19it/s]\n",
      "Batches: 100%|██████████| 1/1 [00:00<00:00, 50.73it/s]\n",
      "Batches: 100%|██████████| 1/1 [00:00<00:00, 45.21it/s]\n",
      "Batches: 100%|██████████| 2/2 [00:00<00:00, 39.13it/s]\n",
      "Batches: 100%|██████████| 1/1 [00:00<00:00, 51.51it/s]\n",
      "Batches: 100%|██████████| 1/1 [00:00<00:00, 39.83it/s]\n",
      "Batches: 100%|██████████| 1/1 [00:00<00:00, 51.84it/s]\n",
      "Batches: 100%|██████████| 1/1 [00:00<00:00, 42.80it/s]\n",
      "Batches: 100%|██████████| 1/1 [00:00<00:00, 51.11it/s]\n",
      "Batches: 100%|██████████| 2/2 [00:00<00:00, 14.48it/s]\n",
      "Batches: 100%|██████████| 1/1 [00:00<00:00, 47.67it/s]\n",
      "Batches: 100%|██████████| 1/1 [00:00<00:00, 76.01it/s]\n",
      "Batches: 100%|██████████| 1/1 [00:00<00:00, 53.06it/s]\n",
      "Batches: 100%|██████████| 1/1 [00:00<00:00, 96.00it/s]\n",
      "Batches: 100%|██████████| 1/1 [00:00<00:00, 74.94it/s]\n",
      "Batches: 100%|██████████| 2/2 [00:00<00:00, 50.54it/s]\n",
      "Batches: 100%|██████████| 1/1 [00:00<00:00, 64.21it/s]\n",
      "Batches: 100%|██████████| 2/2 [00:00<00:00, 47.23it/s]\n",
      "Batches: 100%|██████████| 1/1 [00:00<00:00, 54.65it/s]\n",
      "Batches: 100%|██████████| 1/1 [00:00<00:00, 55.41it/s]\n",
      "Batches: 100%|██████████| 1/1 [00:00<00:00, 65.11it/s]\n",
      "Batches: 100%|██████████| 1/1 [00:00<00:00, 63.27it/s]\n",
      "Batches: 100%|██████████| 1/1 [00:00<00:00, 53.73it/s]\n",
      "Batches: 100%|██████████| 1/1 [00:00<00:00, 47.49it/s]\n",
      "Batches: 100%|██████████| 1/1 [00:00<00:00, 51.25it/s]\n",
      "Batches: 100%|██████████| 1/1 [00:00<00:00, 37.56it/s]\n",
      "Batches: 100%|██████████| 1/1 [00:00<00:00, 80.69it/s]\n",
      "Batches: 100%|██████████| 1/1 [00:00<00:00, 51.22it/s]\n",
      "Batches: 100%|██████████| 1/1 [00:00<00:00, 50.79it/s]\n",
      "Batches: 100%|██████████| 2/2 [00:00<00:00, 46.09it/s]\n",
      "Batches: 100%|██████████| 1/1 [00:00<00:00, 54.91it/s]\n",
      "Batches: 100%|██████████| 1/1 [00:00<00:00, 45.22it/s]\n",
      "Batches: 100%|██████████| 1/1 [00:00<00:00, 54.13it/s]\n",
      "Batches: 100%|██████████| 2/2 [00:00<00:00, 48.94it/s]\n",
      "Batches: 100%|██████████| 1/1 [00:00<00:00, 49.49it/s]\n",
      "Batches: 100%|██████████| 1/1 [00:00<00:00, 42.10it/s]\n",
      "Batches: 100%|██████████| 1/1 [00:00<00:00, 47.73it/s]\n",
      "Batches: 100%|██████████| 1/1 [00:00<00:00, 47.40it/s]\n",
      "Batches: 100%|██████████| 1/1 [00:00<00:00, 43.60it/s]\n",
      "Batches: 100%|██████████| 1/1 [00:00<00:00, 50.54it/s]\n",
      "Batches: 100%|██████████| 1/1 [00:00<00:00, 52.11it/s]\n",
      "Batches: 100%|██████████| 1/1 [00:00<00:00, 36.82it/s]\n",
      "Batches: 100%|██████████| 1/1 [00:00<00:00, 44.61it/s]\n",
      "Batches: 100%|██████████| 1/1 [00:00<00:00, 44.19it/s]\n",
      "Batches: 100%|██████████| 1/1 [00:00<00:00, 37.08it/s]\n",
      "Batches: 100%|██████████| 2/2 [00:00<00:00, 42.05it/s]\n",
      "Batches: 100%|██████████| 1/1 [00:00<00:00, 41.45it/s]\n",
      "Batches: 100%|██████████| 2/2 [00:00<00:00, 41.15it/s]\n",
      "Batches: 100%|██████████| 1/1 [00:00<00:00, 59.15it/s]\n",
      "Batches: 100%|██████████| 1/1 [00:00<00:00, 62.76it/s]\n",
      "Batches: 100%|██████████| 1/1 [00:00<00:00, 65.69it/s]\n",
      "Batches: 100%|██████████| 1/1 [00:00<00:00, 46.72it/s]\n",
      "Batches: 100%|██████████| 1/1 [00:00<00:00, 49.94it/s]\n",
      "Batches: 100%|██████████| 1/1 [00:00<00:00, 23.73it/s]\n",
      "Batches: 100%|██████████| 1/1 [00:00<00:00, 55.96it/s]\n",
      "Batches: 100%|██████████| 1/1 [00:00<00:00, 43.73it/s]\n",
      "Batches: 100%|██████████| 1/1 [00:00<00:00, 49.32it/s]\n",
      "Batches: 100%|██████████| 1/1 [00:00<00:00, 51.57it/s]\n",
      "Batches: 100%|██████████| 1/1 [00:00<00:00, 62.74it/s]\n",
      "Batches: 100%|██████████| 1/1 [00:00<00:00, 43.12it/s]\n",
      "Batches: 100%|██████████| 1/1 [00:00<00:00, 69.31it/s]\n",
      "Batches: 100%|██████████| 1/1 [00:00<00:00, 79.98it/s]\n",
      "Batches: 100%|██████████| 1/1 [00:00<00:00, 73.66it/s]\n",
      "Batches: 100%|██████████| 1/1 [00:00<00:00, 41.24it/s]\n",
      "Batches: 100%|██████████| 1/1 [00:00<00:00, 45.06it/s]\n",
      "Batches: 100%|██████████| 2/2 [00:00<00:00, 38.92it/s]\n",
      "Batches: 100%|██████████| 1/1 [00:00<00:00, 37.74it/s]\n",
      "Batches: 100%|██████████| 1/1 [00:00<00:00, 39.78it/s]\n",
      "Batches: 100%|██████████| 1/1 [00:00<00:00, 42.59it/s]\n",
      "Batches: 100%|██████████| 2/2 [00:00<00:00, 37.76it/s]\n",
      "Batches: 100%|██████████| 1/1 [00:00<00:00, 76.37it/s]\n",
      "Batches: 100%|██████████| 2/2 [00:00<00:00, 45.72it/s]\n",
      "Batches: 100%|██████████| 1/1 [00:00<00:00, 44.48it/s]\n",
      "Batches: 100%|██████████| 1/1 [00:00<00:00, 42.34it/s]\n",
      "Batches: 100%|██████████| 1/1 [00:00<00:00, 46.72it/s]\n",
      "Batches: 100%|██████████| 2/2 [00:00<00:00, 39.79it/s]\n",
      "Batches: 100%|██████████| 1/1 [00:00<00:00, 45.91it/s]\n",
      "Batches: 100%|██████████| 2/2 [00:00<00:00, 41.57it/s]\n",
      "Batches: 100%|██████████| 1/1 [00:00<00:00, 38.01it/s]\n",
      "Batches: 100%|██████████| 2/2 [00:00<00:00, 39.56it/s]\n",
      "Batches: 100%|██████████| 1/1 [00:00<00:00, 43.63it/s]\n",
      "Batches: 100%|██████████| 1/1 [00:00<00:00, 44.62it/s]\n",
      "Batches: 100%|██████████| 1/1 [00:00<00:00, 41.76it/s]\n",
      "Batches: 100%|██████████| 2/2 [00:00<00:00, 32.23it/s]\n",
      "Batches: 100%|██████████| 1/1 [00:00<00:00, 66.30it/s]\n",
      "Batches: 100%|██████████| 2/2 [00:00<00:00, 56.08it/s]\n",
      "Batches: 100%|██████████| 1/1 [00:00<00:00, 42.68it/s]\n",
      "Batches: 100%|██████████| 2/2 [00:00<00:00, 46.02it/s]\n",
      "Batches: 100%|██████████| 1/1 [00:00<00:00, 48.27it/s]\n",
      "Batches: 100%|██████████| 2/2 [00:00<00:00, 37.49it/s]\n",
      "Batches: 100%|██████████| 1/1 [00:00<00:00, 66.53it/s]\n",
      "Batches: 100%|██████████| 1/1 [00:00<00:00, 39.02it/s]\n",
      "Batches: 100%|██████████| 1/1 [00:00<00:00, 39.91it/s]\n",
      "Batches: 100%|██████████| 2/2 [00:00<00:00, 32.14it/s]\n",
      "Batches: 100%|██████████| 1/1 [00:00<00:00, 46.03it/s]\n",
      "Batches: 100%|██████████| 2/2 [00:00<00:00, 39.58it/s]\n",
      "Batches: 100%|██████████| 1/1 [00:00<00:00, 53.03it/s]\n",
      "Batches: 100%|██████████| 1/1 [00:00<00:00, 70.37it/s]\n",
      "Batches: 100%|██████████| 1/1 [00:00<00:00, 67.39it/s]\n",
      "Batches: 100%|██████████| 2/2 [00:00<00:00, 28.60it/s]\n",
      "Batches: 100%|██████████| 1/1 [00:00<00:00, 44.36it/s]\n",
      "Batches: 100%|██████████| 2/2 [00:00<00:00, 35.93it/s]\n",
      "Batches: 100%|██████████| 1/1 [00:00<00:00, 44.11it/s]\n",
      "Batches: 100%|██████████| 1/1 [00:00<00:00, 47.49it/s]\n",
      "Batches: 100%|██████████| 1/1 [00:00<00:00, 45.94it/s]\n",
      "Batches: 100%|██████████| 2/2 [00:00<00:00, 43.90it/s]\n",
      "Batches: 100%|██████████| 1/1 [00:00<00:00, 39.26it/s]\n",
      "Batches: 100%|██████████| 1/1 [00:00<00:00, 38.20it/s]\n",
      "Batches: 100%|██████████| 1/1 [00:00<00:00, 45.23it/s]\n",
      "Batches: 100%|██████████| 1/1 [00:00<00:00, 45.15it/s]\n",
      "Batches: 100%|██████████| 1/1 [00:00<00:00, 46.41it/s]\n",
      "Batches: 100%|██████████| 2/2 [00:00<00:00, 42.99it/s]\n",
      "Batches: 100%|██████████| 1/1 [00:00<00:00, 47.59it/s]\n",
      "Batches: 100%|██████████| 1/1 [00:00<00:00, 47.62it/s]\n",
      "Batches: 100%|██████████| 1/1 [00:00<00:00, 39.17it/s]\n",
      "Batches: 100%|██████████| 1/1 [00:00<00:00, 46.32it/s]\n",
      "Batches: 100%|██████████| 1/1 [00:00<00:00, 46.43it/s]\n",
      "Batches: 100%|██████████| 1/1 [00:00<00:00, 41.86it/s]\n",
      "Batches: 100%|██████████| 1/1 [00:00<00:00, 42.53it/s]\n",
      "Batches: 100%|██████████| 1/1 [00:00<00:00, 44.26it/s]\n",
      "Batches: 100%|██████████| 1/1 [00:00<00:00, 45.00it/s]\n",
      "Batches: 100%|██████████| 1/1 [00:00<00:00, 45.50it/s]\n",
      "Batches: 100%|██████████| 1/1 [00:00<00:00, 47.76it/s]\n",
      "Batches: 100%|██████████| 2/2 [00:00<00:00, 42.60it/s]\n",
      "Batches: 100%|██████████| 1/1 [00:00<00:00, 44.95it/s]\n",
      "Batches: 100%|██████████| 1/1 [00:00<00:00, 39.22it/s]\n",
      "Batches: 100%|██████████| 1/1 [00:00<00:00, 45.90it/s]\n",
      "Batches: 100%|██████████| 1/1 [00:00<00:00, 45.53it/s]\n",
      "Batches: 100%|██████████| 1/1 [00:00<00:00, 46.96it/s]\n",
      "Batches: 100%|██████████| 1/1 [00:00<00:00, 42.76it/s]\n",
      "Batches: 100%|██████████| 1/1 [00:00<00:00, 47.85it/s]\n",
      "Batches: 100%|██████████| 1/1 [00:00<00:00, 24.82it/s]\n",
      "Batches: 100%|██████████| 1/1 [00:00<00:00, 44.78it/s]\n",
      "Batches: 100%|██████████| 1/1 [00:00<00:00, 41.34it/s]\n",
      "Batches: 100%|██████████| 1/1 [00:00<00:00, 48.31it/s]\n",
      "Batches: 100%|██████████| 1/1 [00:00<00:00, 37.14it/s]\n",
      "Batches: 100%|██████████| 1/1 [00:00<00:00, 46.16it/s]\n",
      "Batches: 100%|██████████| 1/1 [00:00<00:00, 42.55it/s]\n",
      "Batches: 100%|██████████| 1/1 [00:00<00:00, 46.73it/s]\n",
      "Batches: 100%|██████████| 2/2 [00:00<00:00, 41.32it/s]\n",
      "Batches: 100%|██████████| 1/1 [00:00<00:00, 46.03it/s]\n",
      "Batches: 100%|██████████| 1/1 [00:00<00:00, 39.28it/s]\n",
      "Batches: 100%|██████████| 1/1 [00:00<00:00, 44.12it/s]\n",
      "Batches: 100%|██████████| 1/1 [00:00<00:00, 40.98it/s]\n",
      "Batches: 100%|██████████| 1/1 [00:00<00:00, 46.02it/s]\n",
      "Batches: 100%|██████████| 1/1 [00:00<00:00, 72.62it/s]\n",
      "Batches: 100%|██████████| 1/1 [00:00<00:00, 89.51it/s]\n",
      "Batches: 100%|██████████| 2/2 [00:00<00:00, 44.49it/s]\n",
      "Batches: 100%|██████████| 1/1 [00:00<00:00, 46.14it/s]\n",
      "Batches: 100%|██████████| 1/1 [00:00<00:00, 10.58it/s]\n",
      "Batches: 100%|██████████| 1/1 [00:00<00:00, 62.69it/s]\n",
      "Batches: 100%|██████████| 1/1 [00:00<00:00, 57.13it/s]\n",
      "Batches: 100%|██████████| 1/1 [00:00<00:00, 67.15it/s]\n",
      "Batches: 100%|██████████| 1/1 [00:00<00:00, 58.49it/s]\n",
      "Batches: 100%|██████████| 1/1 [00:00<00:00, 71.72it/s]\n",
      "Batches: 100%|██████████| 1/1 [00:00<00:00, 63.03it/s]\n",
      "Batches: 100%|██████████| 1/1 [00:00<00:00, 66.98it/s]\n",
      "Batches: 100%|██████████| 2/2 [00:00<00:00, 42.14it/s]\n",
      "Batches: 100%|██████████| 1/1 [00:00<00:00, 65.47it/s]\n",
      "Batches: 100%|██████████| 2/2 [00:00<00:00, 40.69it/s]\n",
      "Batches: 100%|██████████| 1/1 [00:00<00:00, 50.82it/s]\n",
      "Batches: 100%|██████████| 2/2 [00:00<00:00, 37.20it/s]\n",
      "Batches: 100%|██████████| 1/1 [00:00<00:00, 43.28it/s]\n",
      "Batches: 100%|██████████| 1/1 [00:00<00:00, 42.50it/s]\n",
      "Batches: 100%|██████████| 1/1 [00:00<00:00, 43.78it/s]\n",
      "Batches: 100%|██████████| 1/1 [00:00<00:00, 60.21it/s]\n",
      "Batches: 100%|██████████| 1/1 [00:00<00:00, 45.75it/s]\n",
      "Batches: 100%|██████████| 1/1 [00:00<00:00, 44.53it/s]\n",
      "Batches: 100%|██████████| 1/1 [00:00<00:00, 46.45it/s]\n",
      "Batches: 100%|██████████| 2/2 [00:00<00:00, 43.19it/s]\n",
      "Batches: 100%|██████████| 1/1 [00:00<00:00, 44.42it/s]\n",
      "Batches: 100%|██████████| 2/2 [00:00<00:00, 40.67it/s]\n",
      "Batches: 100%|██████████| 1/1 [00:00<00:00, 76.11it/s]\n",
      "Batches: 100%|██████████| 1/1 [00:00<00:00, 49.96it/s]\n",
      "Batches: 100%|██████████| 1/1 [00:00<00:00, 51.52it/s]\n",
      "Batches: 100%|██████████| 1/1 [00:00<00:00, 50.99it/s]\n",
      "Batches: 100%|██████████| 1/1 [00:00<00:00, 58.75it/s]\n",
      "Batches: 100%|██████████| 1/1 [00:00<00:00, 82.73it/s]\n",
      "Batches: 100%|██████████| 1/1 [00:00<00:00, 48.59it/s]\n",
      "Batches: 100%|██████████| 1/1 [00:00<00:00, 44.33it/s]\n",
      "Batches: 100%|██████████| 1/1 [00:00<00:00, 49.12it/s]\n",
      "Batches: 100%|██████████| 1/1 [00:00<00:00, 41.53it/s]\n",
      "Batches: 100%|██████████| 1/1 [00:00<00:00, 46.77it/s]\n",
      "Batches: 100%|██████████| 2/2 [00:00<00:00, 63.22it/s]\n",
      "Batches: 100%|██████████| 1/1 [00:00<00:00, 67.22it/s]\n",
      "Batches: 100%|██████████| 1/1 [00:00<00:00, 57.53it/s]\n",
      "Batches: 100%|██████████| 1/1 [00:00<00:00, 73.74it/s]\n",
      "Batches: 100%|██████████| 2/2 [00:00<00:00, 45.21it/s]\n",
      "Batches: 100%|██████████| 1/1 [00:00<00:00, 45.28it/s]\n",
      "Batches: 100%|██████████| 1/1 [00:00<00:00, 94.48it/s]\n",
      "Batches: 100%|██████████| 1/1 [00:00<00:00, 68.19it/s]\n",
      "Batches: 100%|██████████| 1/1 [00:00<00:00, 52.05it/s]\n",
      "Batches: 100%|██████████| 1/1 [00:00<00:00, 72.37it/s]\n",
      "Batches: 100%|██████████| 1/1 [00:00<00:00, 68.35it/s]\n",
      "Batches: 100%|██████████| 1/1 [00:00<00:00, 73.09it/s]\n",
      "Batches: 100%|██████████| 1/1 [00:00<00:00, 72.24it/s]\n",
      "Batches: 100%|██████████| 1/1 [00:00<00:00, 73.19it/s]\n",
      "Batches: 100%|██████████| 1/1 [00:00<00:00, 50.71it/s]\n",
      "Batches: 100%|██████████| 1/1 [00:00<00:00, 44.62it/s]\n",
      "Batches: 100%|██████████| 1/1 [00:00<00:00, 51.17it/s]\n",
      "Batches: 100%|██████████| 1/1 [00:00<00:00, 53.26it/s]\n",
      "Batches: 100%|██████████| 1/1 [00:00<00:00, 69.38it/s]\n",
      "Batches: 100%|██████████| 1/1 [00:00<00:00, 46.60it/s]\n",
      "Batches: 100%|██████████| 1/1 [00:00<00:00, 47.30it/s]\n",
      "Batches: 100%|██████████| 1/1 [00:00<00:00, 46.97it/s]\n",
      "Batches: 100%|██████████| 1/1 [00:00<00:00, 46.69it/s]\n",
      "Batches: 100%|██████████| 1/1 [00:00<00:00, 45.41it/s]\n",
      "Batches: 100%|██████████| 1/1 [00:00<00:00, 54.34it/s]\n",
      "Batches: 100%|██████████| 1/1 [00:00<00:00, 57.81it/s]\n",
      "Batches: 100%|██████████| 2/2 [00:00<00:00, 53.57it/s]\n",
      "Batches: 100%|██████████| 1/1 [00:00<00:00, 82.46it/s]\n",
      "Batches: 100%|██████████| 1/1 [00:00<00:00, 38.98it/s]\n",
      "Batches: 100%|██████████| 1/1 [00:00<00:00, 48.39it/s]\n",
      "Batches: 100%|██████████| 1/1 [00:00<00:00, 43.71it/s]\n",
      "Batches: 100%|██████████| 1/1 [00:00<00:00, 63.65it/s]\n",
      "Batches: 100%|██████████| 1/1 [00:00<00:00, 67.77it/s]\n",
      "Batches: 100%|██████████| 1/1 [00:00<00:00, 51.03it/s]\n",
      "Batches: 100%|██████████| 1/1 [00:00<00:00, 39.31it/s]\n",
      "Batches: 100%|██████████| 1/1 [00:00<00:00, 42.37it/s]\n",
      "Batches: 100%|██████████| 1/1 [00:00<00:00, 27.15it/s]\n",
      "Batches: 100%|██████████| 1/1 [00:00<00:00, 44.82it/s]\n",
      "Batches: 100%|██████████| 2/2 [00:00<00:00, 43.00it/s]\n",
      "Batches: 100%|██████████| 1/1 [00:00<00:00, 46.60it/s]\n",
      "Batches: 100%|██████████| 1/1 [00:00<00:00, 36.95it/s]\n",
      "Batches: 100%|██████████| 1/1 [00:00<00:00, 71.77it/s]\n",
      "Batches: 100%|██████████| 1/1 [00:00<00:00, 40.13it/s]\n",
      "Batches: 100%|██████████| 1/1 [00:00<00:00, 77.49it/s]\n",
      "Batches: 100%|██████████| 1/1 [00:00<00:00, 11.84it/s]\n",
      "Batches: 100%|██████████| 1/1 [00:00<00:00, 51.22it/s]\n",
      "Batches: 100%|██████████| 1/1 [00:00<00:00, 24.83it/s]\n",
      "Batches: 100%|██████████| 1/1 [00:00<00:00, 68.49it/s]\n",
      "Batches: 100%|██████████| 2/2 [00:00<00:00, 54.12it/s]\n",
      "Batches: 100%|██████████| 1/1 [00:00<00:00, 67.16it/s]\n",
      "Batches: 100%|██████████| 1/1 [00:00<00:00, 50.34it/s]\n",
      "Batches: 100%|██████████| 1/1 [00:00<00:00, 55.09it/s]\n",
      "Batches: 100%|██████████| 1/1 [00:00<00:00, 56.07it/s]\n",
      "Batches: 100%|██████████| 1/1 [00:00<00:00, 46.52it/s]\n",
      "Batches: 100%|██████████| 1/1 [00:00<00:00, 78.84it/s]\n",
      "Batches: 100%|██████████| 1/1 [00:00<00:00, 75.83it/s]\n",
      "Batches: 100%|██████████| 1/1 [00:00<00:00, 66.61it/s]\n",
      "Batches: 100%|██████████| 1/1 [00:00<00:00, 44.71it/s]\n",
      "Batches: 100%|██████████| 1/1 [00:00<00:00, 45.24it/s]\n",
      "Batches: 100%|██████████| 1/1 [00:00<00:00, 44.20it/s]\n",
      "Batches: 100%|██████████| 1/1 [00:00<00:00, 46.61it/s]\n",
      "Batches: 100%|██████████| 1/1 [00:00<00:00, 49.90it/s]\n",
      "Batches: 100%|██████████| 1/1 [00:00<00:00, 48.27it/s]\n",
      "Batches: 100%|██████████| 1/1 [00:00<00:00, 49.70it/s]\n",
      "Batches: 100%|██████████| 1/1 [00:00<00:00, 45.34it/s]\n",
      "Batches: 100%|██████████| 1/1 [00:00<00:00, 47.01it/s]\n",
      "Batches: 100%|██████████| 1/1 [00:00<00:00, 49.00it/s]\n",
      "Batches: 100%|██████████| 1/1 [00:00<00:00, 56.97it/s]\n",
      "Batches: 100%|██████████| 2/2 [00:00<00:00, 50.13it/s]\n",
      "Batches: 100%|██████████| 1/1 [00:00<00:00, 53.54it/s]\n",
      "Batches: 100%|██████████| 1/1 [00:00<00:00, 57.62it/s]\n",
      "Batches: 100%|██████████| 1/1 [00:00<00:00, 55.07it/s]\n",
      "Batches: 100%|██████████| 1/1 [00:00<00:00, 46.88it/s]\n",
      "Batches: 100%|██████████| 1/1 [00:00<00:00, 37.79it/s]\n",
      "Batches: 100%|██████████| 2/2 [00:00<00:00, 37.81it/s]\n",
      "Batches: 100%|██████████| 1/1 [00:00<00:00, 47.75it/s]\n",
      "Batches: 100%|██████████| 2/2 [00:00<00:00, 41.12it/s]\n",
      "Batches: 100%|██████████| 1/1 [00:00<00:00, 51.76it/s]\n",
      "Batches: 100%|██████████| 1/1 [00:00<00:00, 50.95it/s]\n",
      "Batches: 100%|██████████| 1/1 [00:00<00:00, 54.38it/s]\n",
      "Batches: 100%|██████████| 2/2 [00:00<00:00, 50.55it/s]\n",
      "Batches: 100%|██████████| 1/1 [00:00<00:00, 56.53it/s]\n",
      "Batches: 100%|██████████| 1/1 [00:00<00:00, 41.89it/s]\n",
      "Batches: 100%|██████████| 1/1 [00:00<00:00, 53.02it/s]\n",
      "Batches: 100%|██████████| 2/2 [00:00<00:00, 43.83it/s]\n",
      "Batches: 100%|██████████| 1/1 [00:00<00:00, 99.13it/s]\n",
      "Batches: 100%|██████████| 1/1 [00:00<00:00, 79.53it/s]\n",
      "Batches: 100%|██████████| 1/1 [00:00<00:00, 94.01it/s]\n",
      "Batches: 100%|██████████| 1/1 [00:00<00:00, 75.03it/s]\n",
      "Batches: 100%|██████████| 1/1 [00:00<00:00, 80.69it/s]\n",
      "Batches: 100%|██████████| 1/1 [00:00<00:00, 54.60it/s]\n",
      "Batches: 100%|██████████| 1/1 [00:00<00:00, 87.87it/s]\n",
      "Batches: 100%|██████████| 2/2 [00:00<00:00, 38.87it/s]\n",
      "Batches: 100%|██████████| 1/1 [00:00<00:00, 69.75it/s]\n",
      "Batches: 100%|██████████| 1/1 [00:00<00:00, 69.48it/s]\n",
      "Batches: 100%|██████████| 1/1 [00:00<00:00, 54.83it/s]\n",
      "Batches: 100%|██████████| 2/2 [00:00<00:00, 74.30it/s]\n",
      "Batches: 100%|██████████| 1/1 [00:00<00:00, 52.45it/s]\n",
      "Batches: 100%|██████████| 1/1 [00:00<00:00, 44.42it/s]\n",
      "Batches: 100%|██████████| 1/1 [00:00<00:00, 52.25it/s]\n",
      "Batches: 100%|██████████| 1/1 [00:00<00:00, 44.46it/s]\n",
      "Batches: 100%|██████████| 1/1 [00:00<00:00, 51.09it/s]\n",
      "Batches: 100%|██████████| 2/2 [00:00<00:00, 59.52it/s]\n",
      "Batches: 100%|██████████| 1/1 [00:00<00:00, 99.75it/s]\n",
      "Batches: 100%|██████████| 1/1 [00:00<00:00, 56.19it/s]\n",
      "Batches: 100%|██████████| 1/1 [00:00<00:00, 88.46it/s]\n",
      "Batches: 100%|██████████| 1/1 [00:00<00:00, 41.61it/s]\n",
      "Batches: 100%|██████████| 1/1 [00:00<00:00, 51.18it/s]\n",
      "Batches: 100%|██████████| 1/1 [00:00<00:00, 48.29it/s]\n",
      "Batches: 100%|██████████| 1/1 [00:00<00:00, 51.58it/s]\n",
      "Batches: 100%|██████████| 2/2 [00:00<00:00, 48.84it/s]\n",
      "Batches: 100%|██████████| 1/1 [00:00<00:00, 49.85it/s]\n",
      "Batches: 100%|██████████| 1/1 [00:00<00:00, 43.09it/s]\n",
      "Batches: 100%|██████████| 1/1 [00:00<00:00, 52.91it/s]\n",
      "Batches: 100%|██████████| 1/1 [00:00<00:00, 45.18it/s]\n",
      "Batches: 100%|██████████| 1/1 [00:00<00:00, 53.34it/s]\n",
      "Batches: 100%|██████████| 1/1 [00:00<00:00, 50.50it/s]\n",
      "Batches: 100%|██████████| 1/1 [00:00<00:00, 52.17it/s]\n",
      "Batches: 100%|██████████| 1/1 [00:00<00:00, 64.33it/s]\n",
      "Batches: 100%|██████████| 1/1 [00:00<00:00, 55.12it/s]\n",
      "Batches: 100%|██████████| 2/2 [00:00<00:00, 47.26it/s]\n",
      "Batches: 100%|██████████| 1/1 [00:00<00:00, 47.11it/s]\n",
      "Batches: 100%|██████████| 2/2 [00:00<00:00, 71.27it/s]\n",
      "Batches: 100%|██████████| 1/1 [00:00<00:00, 74.61it/s]\n",
      "Batches: 100%|██████████| 1/1 [00:00<00:00, 51.35it/s]\n",
      "Batches: 100%|██████████| 1/1 [00:00<00:00, 54.12it/s]\n",
      "Batches: 100%|██████████| 1/1 [00:00<00:00, 49.57it/s]\n",
      "Batches: 100%|██████████| 1/1 [00:00<00:00, 53.84it/s]\n",
      "Batches: 100%|██████████| 2/2 [00:00<00:00, 36.54it/s]\n",
      "Batches: 100%|██████████| 1/1 [00:00<00:00, 51.52it/s]\n",
      "Batches: 100%|██████████| 1/1 [00:00<00:00, 48.42it/s]\n",
      "Batches: 100%|██████████| 1/1 [00:00<00:00, 52.46it/s]\n",
      "Batches: 100%|██████████| 1/1 [00:00<00:00, 56.90it/s]\n",
      "Batches: 100%|██████████| 1/1 [00:00<00:00, 83.51it/s]\n",
      "Batches: 100%|██████████| 1/1 [00:00<00:00, 94.86it/s]\n",
      "Batches: 100%|██████████| 1/1 [00:00<00:00, 49.53it/s]\n",
      "Batches: 100%|██████████| 2/2 [00:00<00:00, 45.77it/s]\n",
      "Batches: 100%|██████████| 1/1 [00:00<00:00, 53.40it/s]\n",
      "Batches: 100%|██████████| 1/1 [00:00<00:00, 24.42it/s]\n",
      "Batches: 100%|██████████| 1/1 [00:00<00:00, 53.07it/s]\n",
      "Batches: 100%|██████████| 2/2 [00:00<00:00, 43.14it/s]\n",
      "Batches: 100%|██████████| 1/1 [00:00<00:00, 52.63it/s]\n",
      "Batches: 100%|██████████| 1/1 [00:00<00:00, 35.72it/s]\n",
      "Batches: 100%|██████████| 1/1 [00:00<00:00, 52.76it/s]\n",
      "Batches: 100%|██████████| 1/1 [00:00<00:00, 29.13it/s]\n",
      "Batches: 100%|██████████| 1/1 [00:00<00:00, 53.16it/s]\n",
      "Batches: 100%|██████████| 1/1 [00:00<00:00, 53.45it/s]\n",
      "Batches: 100%|██████████| 1/1 [00:00<00:00, 51.84it/s]\n",
      "Batches: 100%|██████████| 1/1 [00:00<00:00, 69.44it/s]\n",
      "Batches: 100%|██████████| 1/1 [00:00<00:00, 100.34it/s]\n",
      "Batches: 100%|██████████| 1/1 [00:00<00:00, 70.04it/s]\n",
      "Batches: 100%|██████████| 1/1 [00:00<00:00, 105.51it/s]\n",
      "Batches: 100%|██████████| 2/2 [00:00<00:00, 78.41it/s]\n",
      "Batches: 100%|██████████| 1/1 [00:00<00:00, 104.51it/s]\n",
      "Batches: 100%|██████████| 1/1 [00:00<00:00, 102.84it/s]\n",
      "Batches: 100%|██████████| 1/1 [00:00<00:00, 105.51it/s]\n",
      "Batches: 100%|██████████| 1/1 [00:00<00:00, 29.37it/s]\n",
      "Batches: 100%|██████████| 1/1 [00:00<00:00, 84.71it/s]\n",
      "Batches: 100%|██████████| 1/1 [00:00<00:00, 79.45it/s]\n",
      "Batches: 100%|██████████| 1/1 [00:00<00:00, 74.74it/s]\n",
      "Batches: 100%|██████████| 1/1 [00:00<00:00, 75.09it/s]\n",
      "Batches: 100%|██████████| 1/1 [00:00<00:00, 91.18it/s]\n",
      "Batches: 100%|██████████| 1/1 [00:00<00:00, 95.30it/s]\n",
      "Batches: 100%|██████████| 1/1 [00:00<00:00, 100.09it/s]\n",
      "Batches: 100%|██████████| 1/1 [00:00<00:00, 82.18it/s]\n",
      "Batches: 100%|██████████| 1/1 [00:00<00:00, 96.84it/s]\n",
      "Batches: 100%|██████████| 1/1 [00:00<00:00, 90.55it/s]\n",
      "Batches: 100%|██████████| 1/1 [00:00<00:00, 102.61it/s]\n",
      "Batches: 100%|██████████| 1/1 [00:00<00:00, 90.44it/s]\n",
      "Batches: 100%|██████████| 1/1 [00:00<00:00, 95.17it/s]\n",
      "Batches: 100%|██████████| 1/1 [00:00<00:00, 85.45it/s]\n",
      "Batches: 100%|██████████| 1/1 [00:00<00:00, 60.48it/s]\n",
      "Batches: 100%|██████████| 1/1 [00:00<00:00, 71.24it/s]\n",
      "Batches: 100%|██████████| 1/1 [00:00<00:00, 81.70it/s]\n",
      "Batches: 100%|██████████| 1/1 [00:00<00:00, 48.66it/s]\n",
      "Batches: 100%|██████████| 1/1 [00:00<00:00, 51.44it/s]\n",
      "Batches: 100%|██████████| 1/1 [00:00<00:00, 44.83it/s]\n",
      "Batches: 100%|██████████| 1/1 [00:00<00:00, 87.70it/s]\n",
      "Batches: 100%|██████████| 2/2 [00:00<00:00, 52.18it/s]\n",
      "Batches: 100%|██████████| 1/1 [00:00<00:00, 55.20it/s]\n",
      "Batches: 100%|██████████| 2/2 [00:00<00:00, 72.57it/s]\n",
      "Batches: 100%|██████████| 1/1 [00:00<00:00, 77.12it/s]\n",
      "Batches: 100%|██████████| 2/2 [00:00<00:00, 58.45it/s]\n",
      "Batches: 100%|██████████| 1/1 [00:00<00:00, 88.44it/s]\n",
      "Batches: 100%|██████████| 1/1 [00:00<00:00, 44.70it/s]\n",
      "Batches: 100%|██████████| 1/1 [00:00<00:00, 75.29it/s]\n",
      "Batches: 100%|██████████| 2/2 [00:00<00:00, 60.45it/s]\n",
      "Batches: 100%|██████████| 1/1 [00:00<00:00, 50.20it/s]\n",
      "Batches: 100%|██████████| 1/1 [00:00<00:00, 32.36it/s]\n",
      "Batches: 100%|██████████| 1/1 [00:00<00:00, 68.74it/s]\n",
      "Batches: 100%|██████████| 1/1 [00:00<00:00, 69.26it/s]\n",
      "Batches: 100%|██████████| 1/1 [00:00<00:00, 68.14it/s]\n",
      "Batches: 100%|██████████| 2/2 [00:00<00:00, 51.60it/s]\n",
      "Batches: 100%|██████████| 1/1 [00:00<00:00, 65.47it/s]\n",
      "Batches: 100%|██████████| 1/1 [00:00<00:00, 49.70it/s]\n",
      "Batches: 100%|██████████| 1/1 [00:00<00:00, 71.53it/s]\n",
      "Batches: 100%|██████████| 1/1 [00:00<00:00, 52.58it/s]\n",
      "Batches: 100%|██████████| 1/1 [00:00<00:00, 51.26it/s]\n",
      "Batches: 100%|██████████| 1/1 [00:00<00:00, 41.37it/s]\n",
      "Batches: 100%|██████████| 1/1 [00:00<00:00, 49.92it/s]\n",
      "Batches: 100%|██████████| 1/1 [00:00<00:00, 47.96it/s]\n",
      "Batches: 100%|██████████| 1/1 [00:00<00:00, 47.93it/s]\n",
      "Batches: 100%|██████████| 1/1 [00:00<00:00, 52.57it/s]\n",
      "Batches: 100%|██████████| 1/1 [00:00<00:00, 51.86it/s]\n",
      "Batches: 100%|██████████| 1/1 [00:00<00:00, 44.94it/s]\n",
      "Batches: 100%|██████████| 1/1 [00:00<00:00, 50.09it/s]\n",
      "Batches: 100%|██████████| 2/2 [00:00<00:00, 37.94it/s]\n",
      "Batches: 100%|██████████| 1/1 [00:00<00:00, 49.88it/s]\n",
      "Batches: 100%|██████████| 1/1 [00:00<00:00, 53.26it/s]\n",
      "Batches: 100%|██████████| 1/1 [00:00<00:00, 67.92it/s]\n",
      "Batches: 100%|██████████| 1/1 [00:00<00:00, 49.02it/s]\n",
      "Batches: 100%|██████████| 1/1 [00:00<00:00, 49.94it/s]\n",
      "Batches: 100%|██████████| 2/2 [00:00<00:00, 41.06it/s]\n",
      "Batches: 100%|██████████| 1/1 [00:00<00:00, 50.51it/s]\n",
      "Batches: 100%|██████████| 1/1 [00:00<00:00, 51.28it/s]\n",
      "Batches: 100%|██████████| 1/1 [00:00<00:00, 48.08it/s]\n",
      "Batches: 100%|██████████| 1/1 [00:00<00:00, 52.39it/s]\n",
      "Batches: 100%|██████████| 1/1 [00:00<00:00, 51.26it/s]\n",
      "Batches: 100%|██████████| 1/1 [00:00<00:00, 47.00it/s]\n",
      "Batches: 100%|██████████| 1/1 [00:00<00:00, 50.07it/s]\n",
      "Batches: 100%|██████████| 1/1 [00:00<00:00, 26.24it/s]\n",
      "Batches: 100%|██████████| 1/1 [00:00<00:00, 51.12it/s]\n",
      "Batches: 100%|██████████| 1/1 [00:00<00:00, 49.67it/s]\n",
      "Batches: 100%|██████████| 1/1 [00:00<00:00, 51.60it/s]\n",
      "Batches: 100%|██████████| 1/1 [00:00<00:00, 46.44it/s]\n",
      "Batches: 100%|██████████| 1/1 [00:00<00:00, 45.26it/s]\n",
      "Batches: 100%|██████████| 2/2 [00:00<00:00, 27.62it/s]\n",
      "Batches: 100%|██████████| 1/1 [00:00<00:00, 49.36it/s]\n",
      "Batches: 100%|██████████| 2/2 [00:00<00:00, 42.85it/s]\n",
      "Batches: 100%|██████████| 1/1 [00:00<00:00, 51.26it/s]\n",
      "Batches: 100%|██████████| 1/1 [00:00<00:00, 54.43it/s]\n",
      "Batches: 100%|██████████| 1/1 [00:00<00:00, 90.41it/s]\n",
      "Batches: 100%|██████████| 1/1 [00:00<00:00, 81.01it/s]\n",
      "Batches: 100%|██████████| 1/1 [00:00<00:00, 93.66it/s]\n",
      "Batches: 100%|██████████| 1/1 [00:00<00:00, 48.05it/s]\n",
      "Batches: 100%|██████████| 1/1 [00:00<00:00, 49.91it/s]\n",
      "Batches: 100%|██████████| 2/2 [00:00<00:00, 41.53it/s]\n",
      "Batches: 100%|██████████| 1/1 [00:00<00:00, 52.26it/s]\n",
      "Batches: 100%|██████████| 2/2 [00:00<00:00, 47.91it/s]\n",
      "Batches: 100%|██████████| 1/1 [00:00<00:00, 51.70it/s]\n",
      "Batches: 100%|██████████| 2/2 [00:00<00:00, 45.96it/s]\n",
      "Batches: 100%|██████████| 1/1 [00:00<00:00, 49.70it/s]\n",
      "Batches: 100%|██████████| 1/1 [00:00<00:00, 49.74it/s]\n",
      "Batches: 100%|██████████| 1/1 [00:00<00:00, 52.10it/s]\n",
      "Batches: 100%|██████████| 1/1 [00:00<00:00, 54.21it/s]\n",
      "Batches: 100%|██████████| 1/1 [00:00<00:00, 51.93it/s]\n",
      "Batches: 100%|██████████| 1/1 [00:00<00:00, 47.86it/s]\n",
      "Batches: 100%|██████████| 1/1 [00:00<00:00, 50.60it/s]\n",
      "Batches: 100%|██████████| 1/1 [00:00<00:00, 52.48it/s]\n",
      "Batches: 100%|██████████| 1/1 [00:00<00:00, 50.82it/s]\n",
      "Batches: 100%|██████████| 2/2 [00:00<00:00, 47.56it/s]\n",
      "Batches: 100%|██████████| 1/1 [00:00<00:00, 47.45it/s]\n",
      "Batches: 100%|██████████| 1/1 [00:00<00:00, 36.74it/s]\n",
      "Batches: 100%|██████████| 1/1 [00:00<00:00, 83.13it/s]\n",
      "Batches: 100%|██████████| 1/1 [00:00<00:00, 60.35it/s]\n",
      "Batches: 100%|██████████| 1/1 [00:00<00:00, 93.15it/s]\n",
      "Batches: 100%|██████████| 2/2 [00:00<00:00, 43.31it/s]\n",
      "Batches: 100%|██████████| 1/1 [00:00<00:00, 49.94it/s]\n",
      "Batches: 100%|██████████| 1/1 [00:00<00:00, 50.18it/s]\n",
      "Batches: 100%|██████████| 1/1 [00:00<00:00, 48.90it/s]\n",
      "Batches: 100%|██████████| 1/1 [00:00<00:00, 51.29it/s]\n",
      "Batches: 100%|██████████| 1/1 [00:00<00:00, 83.66it/s]\n",
      "Batches: 100%|██████████| 1/1 [00:00<00:00, 57.71it/s]\n",
      "Batches: 100%|██████████| 1/1 [00:00<00:00, 93.27it/s]\n",
      "Batches: 100%|██████████| 2/2 [00:00<00:00, 60.12it/s]\n",
      "Batches: 100%|██████████| 1/1 [00:00<00:00, 50.22it/s]\n",
      "Batches: 100%|██████████| 2/2 [00:00<00:00, 62.57it/s]\n",
      "Batches: 100%|██████████| 1/1 [00:00<00:00, 85.18it/s]\n",
      "Batches: 100%|██████████| 1/1 [00:00<00:00, 87.05it/s]\n",
      "Batches: 100%|██████████| 1/1 [00:00<00:00, 85.38it/s]\n",
      "Batches: 100%|██████████| 1/1 [00:00<00:00, 50.08it/s]\n",
      "Batches: 100%|██████████| 1/1 [00:00<00:00, 49.09it/s]\n",
      "Batches: 100%|██████████| 2/2 [00:00<00:00, 43.02it/s]\n",
      "Batches: 100%|██████████| 1/1 [00:00<00:00, 71.23it/s]\n",
      "Batches: 100%|██████████| 2/2 [00:00<00:00, 55.11it/s]\n",
      "Batches: 100%|██████████| 1/1 [00:00<00:00, 82.50it/s]\n",
      "Batches: 100%|██████████| 1/1 [00:00<00:00, 87.51it/s]\n",
      "Batches: 100%|██████████| 1/1 [00:00<00:00, 88.24it/s]\n",
      "Batches: 100%|██████████| 1/1 [00:00<00:00, 68.56it/s]\n",
      "Batches: 100%|██████████| 1/1 [00:00<00:00, 87.26it/s]\n",
      "Batches: 100%|██████████| 1/1 [00:00<00:00, 83.97it/s]\n",
      "Batches: 100%|██████████| 1/1 [00:00<00:00, 69.55it/s]\n",
      "Batches: 100%|██████████| 1/1 [00:00<00:00, 65.98it/s]\n",
      "Batches: 100%|██████████| 1/1 [00:00<00:00, 60.30it/s]\n",
      "Batches: 100%|██████████| 1/1 [00:00<00:00, 80.71it/s]\n",
      "Batches: 100%|██████████| 1/1 [00:00<00:00, 66.33it/s]\n",
      "Batches: 100%|██████████| 1/1 [00:00<00:00, 69.83it/s]\n",
      "Batches: 100%|██████████| 1/1 [00:00<00:00, 78.78it/s]\n",
      "Batches: 100%|██████████| 2/2 [00:00<00:00, 63.30it/s]\n",
      "Batches: 100%|██████████| 1/1 [00:00<00:00, 75.47it/s]\n",
      "Batches: 100%|██████████| 2/2 [00:00<00:00, 43.75it/s]\n",
      "Batches: 100%|██████████| 1/1 [00:00<00:00, 53.96it/s]\n",
      "Batches: 100%|██████████| 1/1 [00:00<00:00, 48.47it/s]\n",
      "Batches: 100%|██████████| 1/1 [00:00<00:00, 49.25it/s]\n",
      "Batches: 100%|██████████| 2/2 [00:00<00:00, 52.35it/s]\n",
      "Batches: 100%|██████████| 1/1 [00:00<00:00, 49.19it/s]\n",
      "Batches: 100%|██████████| 1/1 [00:00<00:00, 45.26it/s]\n",
      "Batches: 100%|██████████| 1/1 [00:00<00:00, 49.69it/s]\n",
      "Batches: 100%|██████████| 1/1 [00:00<00:00, 51.25it/s]\n",
      "Batches: 100%|██████████| 1/1 [00:00<00:00, 49.80it/s]\n",
      "Batches: 100%|██████████| 1/1 [00:00<00:00, 50.12it/s]\n",
      "Batches: 100%|██████████| 1/1 [00:00<00:00, 50.05it/s]\n",
      "Batches: 100%|██████████| 1/1 [00:00<00:00, 42.22it/s]\n",
      "Batches: 100%|██████████| 1/1 [00:00<00:00, 73.55it/s]\n",
      "Batches: 100%|██████████| 2/2 [00:00<00:00, 52.85it/s]\n",
      "Batches: 100%|██████████| 1/1 [00:00<00:00, 80.27it/s]\n",
      "Batches: 100%|██████████| 1/1 [00:00<00:00, 44.10it/s]\n",
      "Batches: 100%|██████████| 1/1 [00:00<00:00, 48.98it/s]\n",
      "Batches: 100%|██████████| 1/1 [00:00<00:00, 49.07it/s]\n",
      "Batches: 100%|██████████| 1/1 [00:00<00:00, 49.11it/s]\n",
      "Batches: 100%|██████████| 1/1 [00:00<00:00, 47.88it/s]\n",
      "Batches: 100%|██████████| 1/1 [00:00<00:00, 77.20it/s]\n",
      "Batches: 100%|██████████| 2/2 [00:00<00:00, 59.78it/s]\n",
      "Batches: 100%|██████████| 1/1 [00:00<00:00, 47.90it/s]\n",
      "Batches: 100%|██████████| 2/2 [00:00<00:00, 38.31it/s]\n",
      "Batches: 100%|██████████| 1/1 [00:00<00:00, 49.07it/s]\n",
      "Batches: 100%|██████████| 1/1 [00:00<00:00, 49.85it/s]\n",
      "Batches: 100%|██████████| 1/1 [00:00<00:00, 49.75it/s]\n",
      "Batches: 100%|██████████| 1/1 [00:00<00:00, 46.89it/s]\n",
      "Batches: 100%|██████████| 1/1 [00:00<00:00, 50.30it/s]\n",
      "Batches: 100%|██████████| 1/1 [00:00<00:00, 51.75it/s]\n",
      "Batches: 100%|██████████| 1/1 [00:00<00:00, 50.51it/s]\n",
      "Batches: 100%|██████████| 1/1 [00:00<00:00, 53.13it/s]\n",
      "Batches: 100%|██████████| 1/1 [00:00<00:00, 48.80it/s]\n",
      "Batches: 100%|██████████| 2/2 [00:00<00:00, 38.68it/s]\n",
      "Batches: 100%|██████████| 1/1 [00:00<00:00, 48.73it/s]\n",
      "Batches: 100%|██████████| 2/2 [00:00<00:00, 33.98it/s]\n",
      "Batches: 100%|██████████| 1/1 [00:00<00:00, 50.97it/s]\n",
      "Batches: 100%|██████████| 1/1 [00:00<00:00, 52.64it/s]\n",
      "Batches: 100%|██████████| 1/1 [00:00<00:00, 50.90it/s]\n",
      "Batches: 100%|██████████| 1/1 [00:00<00:00, 52.70it/s]\n",
      "Batches: 100%|██████████| 1/1 [00:00<00:00, 51.52it/s]\n",
      "Batches: 100%|██████████| 1/1 [00:00<00:00, 49.49it/s]\n",
      "Batches: 100%|██████████| 1/1 [00:00<00:00, 50.56it/s]\n",
      "Batches: 100%|██████████| 2/2 [00:00<00:00, 32.78it/s]\n",
      "Batches: 100%|██████████| 1/1 [00:00<00:00, 49.52it/s]\n",
      "Batches: 100%|██████████| 2/2 [00:00<00:00, 48.01it/s]\n",
      "Batches: 100%|██████████| 1/1 [00:00<00:00, 50.84it/s]\n",
      "Batches: 100%|██████████| 1/1 [00:00<00:00, 49.73it/s]\n",
      "Batches: 100%|██████████| 1/1 [00:00<00:00, 50.54it/s]\n",
      "Batches: 100%|██████████| 2/2 [00:00<00:00, 36.42it/s]\n",
      "Batches: 100%|██████████| 1/1 [00:00<00:00, 49.99it/s]\n",
      "Batches: 100%|██████████| 2/2 [00:00<00:00, 44.41it/s]\n",
      "Batches: 100%|██████████| 1/1 [00:00<00:00, 50.49it/s]\n",
      "Batches: 100%|██████████| 1/1 [00:00<00:00, 47.82it/s]\n",
      "Batches: 100%|██████████| 1/1 [00:00<00:00, 50.67it/s]\n",
      "Batches: 100%|██████████| 2/2 [00:00<00:00, 22.07it/s]\n",
      "Batches: 100%|██████████| 1/1 [00:00<00:00, 51.04it/s]\n",
      "Batches: 100%|██████████| 1/1 [00:00<00:00, 53.41it/s]\n",
      "Batches: 100%|██████████| 1/1 [00:00<00:00, 52.37it/s]\n",
      "Batches: 100%|██████████| 2/2 [00:00<00:00, 49.26it/s]\n",
      "Batches: 100%|██████████| 1/1 [00:00<00:00, 52.02it/s]\n",
      "Batches: 100%|██████████| 1/1 [00:00<00:00, 50.11it/s]\n",
      "Batches: 100%|██████████| 1/1 [00:00<00:00, 52.50it/s]\n",
      "Batches: 100%|██████████| 1/1 [00:00<00:00, 51.83it/s]\n",
      "Batches: 100%|██████████| 1/1 [00:00<00:00, 51.73it/s]\n",
      "Batches: 100%|██████████| 2/2 [00:00<00:00, 39.92it/s]\n",
      "Batches: 100%|██████████| 1/1 [00:00<00:00, 48.69it/s]\n",
      "Batches: 100%|██████████| 2/2 [00:00<00:00, 46.60it/s]\n",
      "Batches: 100%|██████████| 1/1 [00:00<00:00, 50.03it/s]\n",
      "Batches: 100%|██████████| 1/1 [00:00<00:00, 50.10it/s]\n",
      "Batches: 100%|██████████| 1/1 [00:00<00:00, 50.63it/s]\n",
      "Batches: 100%|██████████| 1/1 [00:00<00:00, 44.66it/s]\n",
      "Batches: 100%|██████████| 1/1 [00:00<00:00, 50.21it/s]\n",
      "Batches: 100%|██████████| 1/1 [00:00<00:00, 52.71it/s]\n",
      "Batches: 100%|██████████| 1/1 [00:00<00:00, 52.37it/s]\n",
      "Batches: 100%|██████████| 1/1 [00:00<00:00, 48.37it/s]\n",
      "Batches: 100%|██████████| 1/1 [00:00<00:00, 50.69it/s]\n",
      "Batches: 100%|██████████| 1/1 [00:00<00:00, 47.47it/s]\n",
      "Batches: 100%|██████████| 1/1 [00:00<00:00, 51.01it/s]\n",
      "Batches: 100%|██████████| 2/2 [00:00<00:00, 41.29it/s]\n",
      "Batches: 100%|██████████| 1/1 [00:00<00:00, 48.78it/s]\n",
      "Batches: 100%|██████████| 1/1 [00:00<00:00, 46.38it/s]\n",
      "Batches: 100%|██████████| 1/1 [00:00<00:00, 50.32it/s]\n",
      "Batches: 100%|██████████| 1/1 [00:00<00:00, 39.65it/s]\n",
      "Batches: 100%|██████████| 1/1 [00:00<00:00, 52.46it/s]\n",
      "Batches: 100%|██████████| 1/1 [00:00<00:00, 38.11it/s]\n",
      "Batches: 100%|██████████| 1/1 [00:00<00:00, 53.04it/s]\n",
      "Batches: 100%|██████████| 1/1 [00:00<00:00, 54.70it/s]\n",
      "Batches: 100%|██████████| 1/1 [00:00<00:00, 51.77it/s]\n",
      "Batches: 100%|██████████| 1/1 [00:00<00:00, 48.45it/s]\n",
      "Batches: 100%|██████████| 1/1 [00:00<00:00, 53.69it/s]\n",
      "Batches: 100%|██████████| 2/2 [00:00<00:00, 46.00it/s]\n",
      "Batches: 100%|██████████| 1/1 [00:00<00:00, 53.21it/s]\n",
      "Batches: 100%|██████████| 1/1 [00:00<00:00, 46.29it/s]\n",
      "Batches: 100%|██████████| 1/1 [00:00<00:00, 52.91it/s]\n",
      "Batches: 100%|██████████| 2/2 [00:00<00:00, 32.90it/s]\n",
      "Batches: 100%|██████████| 1/1 [00:00<00:00, 53.50it/s]\n",
      "Batches: 100%|██████████| 2/2 [00:00<00:00, 47.79it/s]\n",
      "Batches: 100%|██████████| 1/1 [00:00<00:00, 54.25it/s]\n",
      "Batches: 100%|██████████| 1/1 [00:00<00:00, 51.92it/s]\n",
      "Batches: 100%|██████████| 1/1 [00:00<00:00, 54.57it/s]\n",
      "Batches: 100%|██████████| 1/1 [00:00<00:00, 55.70it/s]\n",
      "Batches: 100%|██████████| 1/1 [00:00<00:00, 54.22it/s]\n",
      "Batches: 100%|██████████| 2/2 [00:00<00:00, 42.70it/s]\n",
      "Batches: 100%|██████████| 1/1 [00:00<00:00, 54.46it/s]\n",
      "Batches: 100%|██████████| 1/1 [00:00<00:00, 57.48it/s]\n",
      "Batches: 100%|██████████| 1/1 [00:00<00:00, 49.88it/s]\n",
      "Batches: 100%|██████████| 1/1 [00:00<00:00, 46.63it/s]\n",
      "Batches: 100%|██████████| 1/1 [00:00<00:00, 49.88it/s]\n",
      "Batches: 100%|██████████| 1/1 [00:00<00:00, 43.54it/s]\n",
      "Batches: 100%|██████████| 1/1 [00:00<00:00, 49.67it/s]\n",
      "Batches: 100%|██████████| 1/1 [00:00<00:00, 48.12it/s]\n",
      "Batches: 100%|██████████| 1/1 [00:00<00:00, 48.98it/s]\n",
      "Batches: 100%|██████████| 2/2 [00:00<00:00, 43.51it/s]\n",
      "Batches: 100%|██████████| 1/1 [00:00<00:00, 50.09it/s]\n",
      "Batches: 100%|██████████| 1/1 [00:00<00:00, 45.84it/s]\n",
      "Batches: 100%|██████████| 1/1 [00:00<00:00, 49.69it/s]\n",
      "Batches: 100%|██████████| 2/2 [00:00<00:00, 43.44it/s]\n",
      "Batches: 100%|██████████| 1/1 [00:00<00:00, 51.57it/s]\n",
      "Batches: 100%|██████████| 1/1 [00:00<00:00, 38.10it/s]\n",
      "Batches: 100%|██████████| 1/1 [00:00<00:00, 53.05it/s]\n",
      "Batches: 100%|██████████| 1/1 [00:00<00:00, 50.51it/s]\n",
      "Batches: 100%|██████████| 1/1 [00:00<00:00, 61.88it/s]\n",
      "Batches: 100%|██████████| 2/2 [00:00<00:00, 20.07it/s]\n",
      "Batches: 100%|██████████| 1/1 [00:00<00:00, 55.96it/s]\n",
      "Batches: 100%|██████████| 1/1 [00:00<00:00, 57.99it/s]\n",
      "Batches: 100%|██████████| 1/1 [00:00<00:00, 55.30it/s]\n",
      "Batches: 100%|██████████| 2/2 [00:00<00:00, 44.74it/s]\n",
      "Batches: 100%|██████████| 1/1 [00:00<00:00, 62.39it/s]\n",
      "Batches: 100%|██████████| 1/1 [00:00<00:00, 55.97it/s]\n",
      "Batches: 100%|██████████| 1/1 [00:00<00:00, 54.85it/s]\n",
      "Batches: 100%|██████████| 2/2 [00:00<00:00, 40.35it/s]\n",
      "Batches: 100%|██████████| 1/1 [00:00<00:00, 58.43it/s]\n",
      "Batches: 100%|██████████| 1/1 [00:00<00:00, 54.80it/s]\n",
      "Batches: 100%|██████████| 1/1 [00:00<00:00, 53.06it/s]\n",
      "Batches: 100%|██████████| 1/1 [00:00<00:00, 49.43it/s]\n",
      "Batches: 100%|██████████| 1/1 [00:00<00:00, 52.94it/s]\n",
      "Batches: 100%|██████████| 2/2 [00:00<00:00, 54.57it/s]\n",
      "Batches: 100%|██████████| 1/1 [00:00<00:00, 54.67it/s]\n",
      "Batches: 100%|██████████| 2/2 [00:00<00:00, 52.67it/s]\n",
      "Batches: 100%|██████████| 1/1 [00:00<00:00, 54.13it/s]\n",
      "Batches: 100%|██████████| 1/1 [00:00<00:00, 55.76it/s]\n",
      "Batches: 100%|██████████| 1/1 [00:00<00:00, 56.92it/s]\n",
      "Batches: 100%|██████████| 1/1 [00:00<00:00, 57.44it/s]\n",
      "Batches: 100%|██████████| 1/1 [00:00<00:00, 54.81it/s]\n",
      "Batches: 100%|██████████| 2/2 [00:00<00:00, 36.51it/s]\n",
      "Batches: 100%|██████████| 1/1 [00:00<00:00, 61.75it/s]\n",
      "Batches: 100%|██████████| 1/1 [00:00<00:00, 59.02it/s]\n",
      "Batches: 100%|██████████| 1/1 [00:00<00:00, 46.44it/s]\n",
      "Batches: 100%|██████████| 1/1 [00:00<00:00, 53.04it/s]\n",
      "Batches: 100%|██████████| 1/1 [00:00<00:00, 52.50it/s]\n",
      "Batches: 100%|██████████| 2/2 [00:00<00:00, 49.59it/s]\n",
      "Batches: 100%|██████████| 1/1 [00:00<00:00, 54.72it/s]\n",
      "Batches: 100%|██████████| 1/1 [00:00<00:00, 54.24it/s]\n",
      "Batches: 100%|██████████| 1/1 [00:00<00:00, 54.43it/s]\n",
      "Batches: 100%|██████████| 1/1 [00:00<00:00, 54.26it/s]\n",
      "Batches: 100%|██████████| 1/1 [00:00<00:00, 52.57it/s]\n",
      "Batches: 100%|██████████| 2/2 [00:00<00:00, 50.76it/s]\n",
      "Batches: 100%|██████████| 1/1 [00:00<00:00, 51.54it/s]\n",
      "Batches: 100%|██████████| 1/1 [00:00<00:00, 49.34it/s]\n",
      "Batches: 100%|██████████| 1/1 [00:00<00:00, 48.99it/s]\n",
      "Batches: 100%|██████████| 1/1 [00:00<00:00, 49.59it/s]\n",
      "Batches: 100%|██████████| 1/1 [00:00<00:00, 48.22it/s]\n",
      "Batches: 100%|██████████| 1/1 [00:00<00:00, 50.01it/s]\n",
      "Batches: 100%|██████████| 1/1 [00:00<00:00, 49.09it/s]\n",
      "Batches: 100%|██████████| 1/1 [00:00<00:00, 43.76it/s]\n",
      "Batches: 100%|██████████| 1/1 [00:00<00:00, 47.80it/s]\n",
      "Batches: 100%|██████████| 1/1 [00:00<00:00, 41.06it/s]\n",
      "Batches: 100%|██████████| 1/1 [00:00<00:00, 51.13it/s]\n",
      "Batches: 100%|██████████| 1/1 [00:00<00:00, 52.99it/s]\n",
      "Batches: 100%|██████████| 1/1 [00:00<00:00, 50.60it/s]\n",
      "Batches: 100%|██████████| 2/2 [00:00<00:00, 42.56it/s]\n",
      "Batches: 100%|██████████| 1/1 [00:00<00:00, 51.02it/s]\n",
      "Batches: 100%|██████████| 2/2 [00:00<00:00, 86.57it/s]\n",
      "Batches: 100%|██████████| 1/1 [00:00<00:00, 88.67it/s]\n",
      "Batches: 100%|██████████| 1/1 [00:00<00:00, 72.15it/s]\n",
      "Batches: 100%|██████████| 1/1 [00:00<00:00, 71.98it/s]\n",
      "Batches: 100%|██████████| 2/2 [00:00<00:00, 60.22it/s]\n",
      "Batches: 100%|██████████| 1/1 [00:00<00:00, 80.93it/s]\n",
      "Batches: 100%|██████████| 1/1 [00:00<00:00, 53.03it/s]\n",
      "Batches: 100%|██████████| 1/1 [00:00<00:00, 50.21it/s]\n",
      "Batches: 100%|██████████| 1/1 [00:00<00:00, 48.00it/s]\n",
      "Batches: 100%|██████████| 1/1 [00:00<00:00, 49.65it/s]\n",
      "Batches: 100%|██████████| 2/2 [00:00<00:00, 41.54it/s]\n",
      "Batches: 100%|██████████| 1/1 [00:00<00:00, 50.46it/s]\n",
      "Batches: 100%|██████████| 2/2 [00:00<00:00, 46.59it/s]\n",
      "Batches: 100%|██████████| 1/1 [00:00<00:00, 49.28it/s]\n",
      "Batches: 100%|██████████| 1/1 [00:00<00:00, 34.01it/s]\n",
      "Batches: 100%|██████████| 1/1 [00:00<00:00, 73.17it/s]\n",
      "Batches: 100%|██████████| 1/1 [00:00<00:00, 51.27it/s]\n",
      "Batches: 100%|██████████| 1/1 [00:00<00:00, 70.63it/s]\n",
      "Batches: 100%|██████████| 1/1 [00:00<00:00, 70.66it/s]\n",
      "Batches: 100%|██████████| 1/1 [00:00<00:00, 96.10it/s]\n",
      "Batches: 100%|██████████| 1/1 [00:00<00:00, 90.07it/s]\n",
      "Batches: 100%|██████████| 1/1 [00:00<00:00, 93.51it/s]\n",
      "Batches: 100%|██████████| 1/1 [00:00<00:00, 94.26it/s]\n",
      "Batches: 100%|██████████| 1/1 [00:00<00:00, 99.55it/s]\n",
      "Batches: 100%|██████████| 1/1 [00:00<00:00, 73.70it/s]\n",
      "Batches: 100%|██████████| 1/1 [00:00<00:00, 80.87it/s]\n",
      "Batches: 100%|██████████| 1/1 [00:00<00:00, 49.62it/s]\n",
      "Batches: 100%|██████████| 1/1 [00:00<00:00, 50.15it/s]\n",
      "Batches: 100%|██████████| 1/1 [00:00<00:00, 49.36it/s]\n",
      "Batches: 100%|██████████| 1/1 [00:00<00:00, 43.76it/s]\n",
      "Batches: 100%|██████████| 1/1 [00:00<00:00, 72.77it/s]\n",
      "Batches: 100%|██████████| 1/1 [00:00<00:00, 89.26it/s]\n",
      "Batches: 100%|██████████| 2/2 [00:00<00:00, 63.85it/s]\n",
      "Batches: 100%|██████████| 1/1 [00:00<00:00, 79.23it/s]\n",
      "Batches: 100%|██████████| 2/2 [00:00<00:00, 58.29it/s]\n",
      "Batches: 100%|██████████| 1/1 [00:00<00:00, 92.13it/s]\n",
      "Batches: 100%|██████████| 2/2 [00:00<00:00, 65.85it/s]\n",
      "Batches: 100%|██████████| 1/1 [00:00<00:00, 84.02it/s]\n",
      "Batches: 100%|██████████| 2/2 [00:00<00:00, 55.99it/s]\n",
      "Batches: 100%|██████████| 1/1 [00:00<00:00, 80.95it/s]\n",
      "Batches: 100%|██████████| 1/1 [00:00<00:00, 47.93it/s]\n",
      "Batches: 100%|██████████| 1/1 [00:00<00:00, 84.38it/s]\n",
      "Batches: 100%|██████████| 2/2 [00:00<00:00, 58.49it/s]\n",
      "Batches: 100%|██████████| 1/1 [00:00<00:00, 82.70it/s]\n",
      "Batches: 100%|██████████| 1/1 [00:00<00:00, 93.33it/s]\n",
      "Batches: 100%|██████████| 1/1 [00:00<00:00, 94.24it/s]\n",
      "Batches: 100%|██████████| 2/2 [00:00<00:00, 77.02it/s]\n",
      "Batches: 100%|██████████| 1/1 [00:00<00:00, 96.21it/s]\n",
      "Batches: 100%|██████████| 1/1 [00:00<00:00, 69.54it/s]\n",
      "Batches: 100%|██████████| 1/1 [00:00<00:00, 88.57it/s]\n",
      "Batches: 100%|██████████| 1/1 [00:00<00:00, 71.93it/s]\n",
      "Batches: 100%|██████████| 1/1 [00:00<00:00, 82.99it/s]\n",
      "Batches: 100%|██████████| 1/1 [00:00<00:00, 45.21it/s]\n",
      "Batches: 100%|██████████| 1/1 [00:00<00:00, 83.41it/s]\n",
      "Batches: 100%|██████████| 1/1 [00:00<00:00, 80.08it/s]\n",
      "Batches: 100%|██████████| 1/1 [00:00<00:00, 79.97it/s]\n",
      "Batches: 100%|██████████| 1/1 [00:00<00:00, 80.00it/s]\n",
      "Batches: 100%|██████████| 1/1 [00:00<00:00, 79.45it/s]\n",
      "Batches: 100%|██████████| 1/1 [00:00<00:00, 56.76it/s]\n",
      "Batches: 100%|██████████| 1/1 [00:00<00:00, 83.16it/s]\n",
      "Batches: 100%|██████████| 1/1 [00:00<00:00, 81.32it/s]\n",
      "Batches: 100%|██████████| 1/1 [00:00<00:00, 83.97it/s]\n",
      "Batches: 100%|██████████| 2/2 [00:00<00:00, 54.40it/s]\n",
      "Batches: 100%|██████████| 1/1 [00:00<00:00, 80.89it/s]\n",
      "Batches: 100%|██████████| 2/2 [00:00<00:00, 25.16it/s]\n",
      "Batches: 100%|██████████| 1/1 [00:00<00:00, 79.16it/s]\n",
      "Batches: 100%|██████████| 1/1 [00:00<00:00, 52.35it/s]\n",
      "Batches: 100%|██████████| 1/1 [00:00<00:00, 78.08it/s]\n",
      "Batches: 100%|██████████| 2/2 [00:00<00:00, 26.94it/s]\n",
      "Batches: 100%|██████████| 1/1 [00:00<00:00, 70.56it/s]\n",
      "Batches: 100%|██████████| 2/2 [00:00<00:00, 62.95it/s]\n",
      "Batches: 100%|██████████| 1/1 [00:00<00:00, 71.82it/s]\n",
      "Batches: 100%|██████████| 1/1 [00:00<00:00, 42.93it/s]\n",
      "Batches: 100%|██████████| 1/1 [00:00<00:00, 47.92it/s]\n",
      "Batches: 100%|██████████| 2/2 [00:00<00:00, 51.81it/s]\n",
      "Batches: 100%|██████████| 1/1 [00:00<00:00, 49.56it/s]\n",
      "Batches: 100%|██████████| 2/2 [00:00<00:00, 44.54it/s]\n",
      "Batches: 100%|██████████| 1/1 [00:00<00:00, 50.58it/s]\n",
      "Batches: 100%|██████████| 1/1 [00:00<00:00, 40.69it/s]\n",
      "Batches: 100%|██████████| 1/1 [00:00<00:00, 51.00it/s]\n",
      "Batches: 100%|██████████| 2/2 [00:00<00:00, 44.80it/s]\n",
      "Batches: 100%|██████████| 1/1 [00:00<00:00, 51.59it/s]\n",
      "Batches: 100%|██████████| 1/1 [00:00<00:00, 50.58it/s]\n",
      "Batches: 100%|██████████| 1/1 [00:00<00:00, 50.23it/s]\n",
      "Batches: 100%|██████████| 1/1 [00:00<00:00, 58.01it/s]\n",
      "Batches: 100%|██████████| 1/1 [00:00<00:00, 50.25it/s]\n",
      "Batches: 100%|██████████| 2/2 [00:00<00:00, 41.96it/s]\n",
      "Batches: 100%|██████████| 1/1 [00:00<00:00, 51.33it/s]\n",
      "Batches: 100%|██████████| 1/1 [00:00<00:00, 52.22it/s]\n",
      "Batches: 100%|██████████| 1/1 [00:00<00:00, 50.77it/s]\n"
     ]
    }
   ],
   "source": [
    "df_hs[\"lda_documents\"] = df_hs[\"section_dict\"].apply(get_valid_chunks_filtered)"
   ]
  },
  {
   "cell_type": "code",
   "execution_count": 24,
   "id": "d0ffb133-58cd-4f13-9615-339ca6fba633",
   "metadata": {},
   "outputs": [],
   "source": [
    "filtered_chunks_hs = [chunk for doc_chunks in df_hs[\"lda_documents\"] for chunk in doc_chunks]\n",
    "filtered_docs_cleaned = preprocess(filtered_chunks_hs)"
   ]
  },
  {
   "cell_type": "code",
   "execution_count": 86,
   "id": "b73b5896-a331-470f-a235-5d14dd69eb05",
   "metadata": {},
   "outputs": [
    {
     "name": "stderr",
     "output_type": "stream",
     "text": [
      "Batches: 100%|██████████| 597/597 [00:26<00:00, 22.18it/s] \n"
     ]
    },
    {
     "name": "stdout",
     "output_type": "stream",
     "text": [
      "[1] Embedding en 28.77s\n"
     ]
    }
   ],
   "source": [
    "#Embeddings\n",
    "start = time.time()\n",
    "embedding_model = SentenceTransformer(\"all-MiniLM-L6-v2\",device='cuda')  \n",
    "embeddings = embedding_model.encode(filtered_docs_cleaned, show_progress_bar=True)\n",
    "print(f\"[1] Embedding en {time.time() - start:.2f}s\")"
   ]
  },
  {
   "cell_type": "code",
   "execution_count": 26,
   "id": "1c442dd0-7eb6-4ee8-a4c6-9eef4602d4ef",
   "metadata": {},
   "outputs": [
    {
     "name": "stdout",
     "output_type": "stream",
     "text": [
      "Shape des embeddings : (19074, 384)\n"
     ]
    }
   ],
   "source": [
    "print(\"Shape des embeddings :\", embeddings_filtered.shape)\n"
   ]
  },
  {
   "cell_type": "code",
   "execution_count": 95,
   "id": "f4ef7f96-3270-4ee6-8e7e-8a4ec253a94a",
   "metadata": {},
   "outputs": [
    {
     "name": "stdout",
     "output_type": "stream",
     "text": [
      "[2025-05-16 01:26:07.613] [CUML] [info] build_algo set to brute_force_knn because random_state is given\n",
      "[2025-05-16 01:26:07.624] [CUML] [debug] Computing KNN Graph\n",
      "[2025-05-16 01:26:07.769] [CUML] [debug] Computing fuzzy simplicial set\n",
      "[2] UMAP en 0.69s\n"
     ]
    }
   ],
   "source": [
    "#Réduction UMAP\n",
    "start = time.time()\n",
    "umap_model = UMAP(n_components=15, n_neighbors=30, random_state=42, metric=\"cosine\", verbose=True)\n",
    "#umap_model = UMAP(n_neighbors=, n_components=5, min_dist=0.0, metric='cosine', verbose=True)\n",
    "umap_embeddings = umap_model.fit_transform(embeddings)\n",
    "print(f\"[2] UMAP en {time.time() - start:.2f}s\")"
   ]
  },
  {
   "cell_type": "code",
   "execution_count": 28,
   "id": "59708a44-ec02-4479-8406-309c163404ef",
   "metadata": {},
   "outputs": [],
   "source": [
    "#umap_embeddings_filtered.shape"
   ]
  },
  {
   "cell_type": "code",
   "execution_count": 103,
   "id": "759ef4c6-8efb-43f6-8e48-8e5fadaef9b5",
   "metadata": {},
   "outputs": [
    {
     "name": "stdout",
     "output_type": "stream",
     "text": [
      "[3] HDBSCAN en 0.65s\n",
      "[3] Nombre de clusters trouvés : 29\n"
     ]
    }
   ],
   "source": [
    "# Clustering \n",
    "start = time.time()\n",
    "#hdbscan_model =  HDBSCAN(min_cluster_size=80, metric='euclidean', cluster_selection_method='eom', prediction_data=True, verbose=True)\n",
    "hdbscan_model =  HDBSCAN(min_cluster_size=80, metric='euclidean', cluster_selection_method='eom', prediction_data=True, verbose=True)\n",
    "\n",
    "clusters = hdbscan_model.fit_predict(umap_embeddings)\n",
    "print(f\"[3] HDBSCAN en {time.time() - start:.2f}s\")\n",
    "print(f\"[3] Nombre de clusters trouvés : {len(np.unique(clusters))}\")"
   ]
  },
  {
   "cell_type": "code",
   "execution_count": 104,
   "id": "44d384ea-7a31-4330-b0dc-0b42ed16c7d3",
   "metadata": {},
   "outputs": [
    {
     "name": "stderr",
     "output_type": "stream",
     "text": [
      "2025-05-16 01:28:02,333 - BERTopic - Embedding - Transforming documents to embeddings.\n",
      "Batches: 100%|██████████| 597/597 [00:27<00:00, 21.58it/s] \n",
      "2025-05-16 01:28:30,545 - BERTopic - Embedding - Completed ✓\n",
      "2025-05-16 01:28:30,546 - BERTopic - Dimensionality - Fitting the dimensionality reduction algorithm\n"
     ]
    },
    {
     "name": "stdout",
     "output_type": "stream",
     "text": [
      "[2025-05-16 01:28:30.561] [CUML] [debug] Computing KNN Graph\n",
      "[2025-05-16 01:28:30.649] [CUML] [debug] Computing fuzzy simplicial set\n"
     ]
    },
    {
     "name": "stderr",
     "output_type": "stream",
     "text": [
      "2025-05-16 01:28:31,272 - BERTopic - Dimensionality - Completed ✓\n",
      "2025-05-16 01:28:31,274 - BERTopic - Cluster - Start clustering the reduced embeddings\n"
     ]
    },
    {
     "name": "stdout",
     "output_type": "stream",
     "text": [
      "[2025-05-16 01:28:31.131] [CUML] [debug] Running transform\n",
      "[2025-05-16 01:28:31.131] [CUML] [debug] Building KNN Graph\n",
      "[2025-05-16 01:28:31.226] [CUML] [debug] Smoothing KNN distances\n",
      "[2025-05-16 01:28:31.227] [CUML] [debug] Executing fuzzy simplicial set\n",
      "[2025-05-16 01:28:31.228] [CUML] [debug] Performing L1 normalization\n",
      "[2025-05-16 01:28:31.237] [CUML] [debug] n_epochs=30\n",
      "[2025-05-16 01:28:31.240] [CUML] [debug] Computing # of epochs for training each sample\n",
      "[2025-05-16 01:28:31.240] [CUML] [debug] Performing optimization\n"
     ]
    },
    {
     "name": "stderr",
     "output_type": "stream",
     "text": [
      "2025-05-16 01:28:31,847 - BERTopic - Cluster - Completed ✓\n",
      "2025-05-16 01:28:31,854 - BERTopic - Representation - Fine-tuning topics using representation models.\n",
      "2025-05-16 01:28:32,924 - BERTopic - Representation - Completed ✓\n"
     ]
    },
    {
     "name": "stdout",
     "output_type": "stream",
     "text": [
      "[4] BERTopic final en 31.01s\n"
     ]
    }
   ],
   "source": [
    "start = time.time()\n",
    "topic_model = BERTopic(\n",
    "    language=\"french\",\n",
    "    embedding_model=embedding_model,\n",
    "    umap_model=umap_model,\n",
    "    hdbscan_model=hdbscan_model,\n",
    "    verbose=True\n",
    ")\n",
    "topics, probs = topic_model.fit_transform(filtered_docs_cleaned)\n",
    "print(f\"[4] BERTopic final en {time.time() - start:.2f}s\")\n"
   ]
  },
  {
   "cell_type": "code",
   "execution_count": 105,
   "id": "3e07523c-36c8-45ea-9247-497f27d28da0",
   "metadata": {
    "scrolled": true
   },
   "outputs": [
    {
     "data": {
      "text/html": [
       "<div>\n",
       "<style scoped>\n",
       "    .dataframe tbody tr th:only-of-type {\n",
       "        vertical-align: middle;\n",
       "    }\n",
       "\n",
       "    .dataframe tbody tr th {\n",
       "        vertical-align: top;\n",
       "    }\n",
       "\n",
       "    .dataframe thead th {\n",
       "        text-align: right;\n",
       "    }\n",
       "</style>\n",
       "<table border=\"1\" class=\"dataframe\">\n",
       "  <thead>\n",
       "    <tr style=\"text-align: right;\">\n",
       "      <th></th>\n",
       "      <th>Topic</th>\n",
       "      <th>Count</th>\n",
       "      <th>Name</th>\n",
       "      <th>Representation</th>\n",
       "      <th>Representative_Docs</th>\n",
       "    </tr>\n",
       "  </thead>\n",
       "  <tbody>\n",
       "    <tr>\n",
       "      <th>0</th>\n",
       "      <td>-1</td>\n",
       "      <td>11006</td>\n",
       "      <td>-1_travail_heure_temps_salarié</td>\n",
       "      <td>[travail, heure, temps, salarié, jour, article...</td>\n",
       "      <td>[article 3.2 2 principe temps partiel moduler ...</td>\n",
       "    </tr>\n",
       "    <tr>\n",
       "      <th>1</th>\n",
       "      <td>0</td>\n",
       "      <td>2425</td>\n",
       "      <td>0_heure_supplémentaire_jour_repos</td>\n",
       "      <td>[heure, supplémentaire, jour, repos, congé, an...</td>\n",
       "      <td>[article 4 solde fin période référence heure s...</td>\n",
       "    </tr>\n",
       "    <tr>\n",
       "      <th>2</th>\n",
       "      <td>1</td>\n",
       "      <td>948</td>\n",
       "      <td>1_rémunération_absence_période_salarié</td>\n",
       "      <td>[rémunération, absence, période, salarié, base...</td>\n",
       "      <td>[b incidence absence cours période \\n\\n cas pé...</td>\n",
       "    </tr>\n",
       "    <tr>\n",
       "      <th>3</th>\n",
       "      <td>2</td>\n",
       "      <td>764</td>\n",
       "      <td>2_article_chapitre_jour_forfait</td>\n",
       "      <td>[article, chapitre, jour, forfait, duree, trav...</td>\n",
       "      <td>[article 2, article 4, article 5]</td>\n",
       "    </tr>\n",
       "    <tr>\n",
       "      <th>4</th>\n",
       "      <td>3</td>\n",
       "      <td>563</td>\n",
       "      <td>3_révision_accord_party_dénonciation</td>\n",
       "      <td>[révision, accord, party, dénonciation, présen...</td>\n",
       "      <td>[denonciation revision \\n\\n présent accord pou...</td>\n",
       "    </tr>\n",
       "    <tr>\n",
       "      <th>5</th>\n",
       "      <td>4</td>\n",
       "      <td>414</td>\n",
       "      <td>4_temps_pause_effectif_travail</td>\n",
       "      <td>[temps, pause, effectif, travail, vaquer, occu...</td>\n",
       "      <td>[3.1 durée effectif travail \\n application cod...</td>\n",
       "    </tr>\n",
       "    <tr>\n",
       "      <th>6</th>\n",
       "      <td>5</td>\n",
       "      <td>352</td>\n",
       "      <td>5_exemplaire_déposer_accord_dépôt</td>\n",
       "      <td>[exemplaire, déposer, accord, dépôt, prud, con...</td>\n",
       "      <td>[article 7 dépôt publicité accord \\n présent a...</td>\n",
       "    </tr>\n",
       "    <tr>\n",
       "      <th>7</th>\n",
       "      <td>6</td>\n",
       "      <td>290</td>\n",
       "      <td>6_temps_article_aménagement_amenagement</td>\n",
       "      <td>[temps, article, aménagement, amenagement, tra...</td>\n",
       "      <td>[article 5 aménagement temps travail temps par...</td>\n",
       "    </tr>\n",
       "    <tr>\n",
       "      <th>8</th>\n",
       "      <td>7</td>\n",
       "      <td>260</td>\n",
       "      <td>7_vigueur_accord_indéterminé_conclure</td>\n",
       "      <td>[vigueur, accord, indéterminé, conclure, durée...</td>\n",
       "      <td>[4 1   durée entrée vigueur accord \\n\\n présen...</td>\n",
       "    </tr>\n",
       "    <tr>\n",
       "      <th>9</th>\n",
       "      <td>8</td>\n",
       "      <td>254</td>\n",
       "      <td>8_déconnexion_télétravail_outil_droit</td>\n",
       "      <td>[déconnexion, télétravail, outil, droit, profe...</td>\n",
       "      <td>[article 4   droit déconnexion \\n\\n droit déco...</td>\n",
       "    </tr>\n",
       "    <tr>\n",
       "      <th>10</th>\n",
       "      <td>9</td>\n",
       "      <td>246</td>\n",
       "      <td>9_planning_modification_programmation_horaire</td>\n",
       "      <td>[planning, modification, programmation, horair...</td>\n",
       "      <td>[3.2.2 \\t programmation indicatif variation ho...</td>\n",
       "    </tr>\n",
       "    <tr>\n",
       "      <th>11</th>\n",
       "      <td>10</td>\n",
       "      <td>239</td>\n",
       "      <td>10_charge_entretien_salarié_travail</td>\n",
       "      <td>[charge, entretien, salarié, travail, hiérarch...</td>\n",
       "      <td>[article 10 contrôle suivi organisation travai...</td>\n",
       "    </tr>\n",
       "    <tr>\n",
       "      <th>12</th>\n",
       "      <td>11</td>\n",
       "      <td>149</td>\n",
       "      <td>11_part_société_siège_social</td>\n",
       "      <td>[part, société, siège, social, représenter, im...</td>\n",
       "      <td>[suite negociation annuel obligatoire nao \\n\\n...</td>\n",
       "    </tr>\n",
       "    <tr>\n",
       "      <th>13</th>\n",
       "      <td>12</td>\n",
       "      <td>138</td>\n",
       "      <td>12_maximal_durée_quotidien_hebdomadaire</td>\n",
       "      <td>[maximal, durée, quotidien, hebdomadaire, trav...</td>\n",
       "      <td>[2.2 durée maximal travail \\n durée journalier...</td>\n",
       "    </tr>\n",
       "    <tr>\n",
       "      <th>14</th>\n",
       "      <td>13</td>\n",
       "      <td>134</td>\n",
       "      <td>13_disposition_titre_final_général</td>\n",
       "      <td>[disposition, titre, final, général, generale,...</td>\n",
       "      <td>[titre 3   disposition final, titre 5   dispos...</td>\n",
       "    </tr>\n",
       "    <tr>\n",
       "      <th>15</th>\n",
       "      <td>14</td>\n",
       "      <td>132</td>\n",
       "      <td>14_complémentaire_heure_durée_limite</td>\n",
       "      <td>[complémentaire, heure, durée, limite, contrac...</td>\n",
       "      <td>[11.5 \\t heure complémentaire \\n heure accompl...</td>\n",
       "    </tr>\n",
       "    <tr>\n",
       "      <th>16</th>\n",
       "      <td>15</td>\n",
       "      <td>102</td>\n",
       "      <td>15_convention_forfait_individuel_forfaire</td>\n",
       "      <td>[convention, forfait, individuel, forfaire, jo...</td>\n",
       "      <td>[article 2 convention individuel forfaire \\n\\n...</td>\n",
       "    </tr>\n",
       "    <tr>\n",
       "      <th>17</th>\n",
       "      <td>16</td>\n",
       "      <td>102</td>\n",
       "      <td>16_salariés_partiel_temps_concerner</td>\n",
       "      <td>[salariés, partiel, temps, concerner, présent,...</td>\n",
       "      <td>[article 7   salariés temps partiel \\n\\n salar...</td>\n",
       "    </tr>\n",
       "    <tr>\n",
       "      <th>18</th>\n",
       "      <td>17</td>\n",
       "      <td>100</td>\n",
       "      <td>17_référence_période_31_année</td>\n",
       "      <td>[référence, période, 31, année, premier, janvi...</td>\n",
       "      <td>[article 3.2   période référence \\n\\n période ...</td>\n",
       "    </tr>\n",
       "    <tr>\n",
       "      <th>19</th>\n",
       "      <td>18</td>\n",
       "      <td>99</td>\n",
       "      <td>18_accord_société_entreprise_travail</td>\n",
       "      <td>[accord, société, entreprise, travail, présent...</td>\n",
       "      <td>[preambule \\n\\n sarl ent xxx relève convention...</td>\n",
       "    </tr>\n",
       "    <tr>\n",
       "      <th>20</th>\n",
       "      <td>19</td>\n",
       "      <td>98</td>\n",
       "      <td>19_supplémentaire_heure_supplementaire_article</td>\n",
       "      <td>[supplémentaire, heure, supplementaire, articl...</td>\n",
       "      <td>[article 2 4 heure supplémentaire, article 5 h...</td>\n",
       "    </tr>\n",
       "    <tr>\n",
       "      <th>21</th>\n",
       "      <td>20</td>\n",
       "      <td>92</td>\n",
       "      <td>20_temps_durée_partiel_travail</td>\n",
       "      <td>[temps, durée, partiel, travail, salarier, heu...</td>\n",
       "      <td>[3.2 calcul durée annuel travail \\n salarier t...</td>\n",
       "    </tr>\n",
       "    <tr>\n",
       "      <th>22</th>\n",
       "      <td>21</td>\n",
       "      <td>86</td>\n",
       "      <td>21_autonomie_jour_cadre_disposer</td>\n",
       "      <td>[autonomie, jour, cadre, disposer, organisatio...</td>\n",
       "      <td>[article 3.1   salarié concerner \\n référence ...</td>\n",
       "    </tr>\n",
       "    <tr>\n",
       "      <th>23</th>\n",
       "      <td>22</td>\n",
       "      <td>81</td>\n",
       "      <td>22_organisation_temps_travail_article</td>\n",
       "      <td>[organisation, temps, travail, article, modali...</td>\n",
       "      <td>[article 2   organisation temps travail, artic...</td>\n",
       "    </tr>\n",
       "  </tbody>\n",
       "</table>\n",
       "</div>"
      ],
      "text/plain": [
       "    Topic  Count                                            Name  \\\n",
       "0      -1  11006                  -1_travail_heure_temps_salarié   \n",
       "1       0   2425               0_heure_supplémentaire_jour_repos   \n",
       "2       1    948          1_rémunération_absence_période_salarié   \n",
       "3       2    764                 2_article_chapitre_jour_forfait   \n",
       "4       3    563            3_révision_accord_party_dénonciation   \n",
       "5       4    414                  4_temps_pause_effectif_travail   \n",
       "6       5    352               5_exemplaire_déposer_accord_dépôt   \n",
       "7       6    290         6_temps_article_aménagement_amenagement   \n",
       "8       7    260           7_vigueur_accord_indéterminé_conclure   \n",
       "9       8    254           8_déconnexion_télétravail_outil_droit   \n",
       "10      9    246   9_planning_modification_programmation_horaire   \n",
       "11     10    239             10_charge_entretien_salarié_travail   \n",
       "12     11    149                    11_part_société_siège_social   \n",
       "13     12    138         12_maximal_durée_quotidien_hebdomadaire   \n",
       "14     13    134              13_disposition_titre_final_général   \n",
       "15     14    132            14_complémentaire_heure_durée_limite   \n",
       "16     15    102       15_convention_forfait_individuel_forfaire   \n",
       "17     16    102             16_salariés_partiel_temps_concerner   \n",
       "18     17    100                   17_référence_période_31_année   \n",
       "19     18     99            18_accord_société_entreprise_travail   \n",
       "20     19     98  19_supplémentaire_heure_supplementaire_article   \n",
       "21     20     92                  20_temps_durée_partiel_travail   \n",
       "22     21     86                21_autonomie_jour_cadre_disposer   \n",
       "23     22     81           22_organisation_temps_travail_article   \n",
       "\n",
       "                                       Representation  \\\n",
       "0   [travail, heure, temps, salarié, jour, article...   \n",
       "1   [heure, supplémentaire, jour, repos, congé, an...   \n",
       "2   [rémunération, absence, période, salarié, base...   \n",
       "3   [article, chapitre, jour, forfait, duree, trav...   \n",
       "4   [révision, accord, party, dénonciation, présen...   \n",
       "5   [temps, pause, effectif, travail, vaquer, occu...   \n",
       "6   [exemplaire, déposer, accord, dépôt, prud, con...   \n",
       "7   [temps, article, aménagement, amenagement, tra...   \n",
       "8   [vigueur, accord, indéterminé, conclure, durée...   \n",
       "9   [déconnexion, télétravail, outil, droit, profe...   \n",
       "10  [planning, modification, programmation, horair...   \n",
       "11  [charge, entretien, salarié, travail, hiérarch...   \n",
       "12  [part, société, siège, social, représenter, im...   \n",
       "13  [maximal, durée, quotidien, hebdomadaire, trav...   \n",
       "14  [disposition, titre, final, général, generale,...   \n",
       "15  [complémentaire, heure, durée, limite, contrac...   \n",
       "16  [convention, forfait, individuel, forfaire, jo...   \n",
       "17  [salariés, partiel, temps, concerner, présent,...   \n",
       "18  [référence, période, 31, année, premier, janvi...   \n",
       "19  [accord, société, entreprise, travail, présent...   \n",
       "20  [supplémentaire, heure, supplementaire, articl...   \n",
       "21  [temps, durée, partiel, travail, salarier, heu...   \n",
       "22  [autonomie, jour, cadre, disposer, organisatio...   \n",
       "23  [organisation, temps, travail, article, modali...   \n",
       "\n",
       "                                  Representative_Docs  \n",
       "0   [article 3.2 2 principe temps partiel moduler ...  \n",
       "1   [article 4 solde fin période référence heure s...  \n",
       "2   [b incidence absence cours période \\n\\n cas pé...  \n",
       "3                   [article 2, article 4, article 5]  \n",
       "4   [denonciation revision \\n\\n présent accord pou...  \n",
       "5   [3.1 durée effectif travail \\n application cod...  \n",
       "6   [article 7 dépôt publicité accord \\n présent a...  \n",
       "7   [article 5 aménagement temps travail temps par...  \n",
       "8   [4 1   durée entrée vigueur accord \\n\\n présen...  \n",
       "9   [article 4   droit déconnexion \\n\\n droit déco...  \n",
       "10  [3.2.2 \\t programmation indicatif variation ho...  \n",
       "11  [article 10 contrôle suivi organisation travai...  \n",
       "12  [suite negociation annuel obligatoire nao \\n\\n...  \n",
       "13  [2.2 durée maximal travail \\n durée journalier...  \n",
       "14  [titre 3   disposition final, titre 5   dispos...  \n",
       "15  [11.5 \\t heure complémentaire \\n heure accompl...  \n",
       "16  [article 2 convention individuel forfaire \\n\\n...  \n",
       "17  [article 7   salariés temps partiel \\n\\n salar...  \n",
       "18  [article 3.2   période référence \\n\\n période ...  \n",
       "19  [preambule \\n\\n sarl ent xxx relève convention...  \n",
       "20  [article 2 4 heure supplémentaire, article 5 h...  \n",
       "21  [3.2 calcul durée annuel travail \\n salarier t...  \n",
       "22  [article 3.1   salarié concerner \\n référence ...  \n",
       "23  [article 2   organisation temps travail, artic...  "
      ]
     },
     "execution_count": 105,
     "metadata": {},
     "output_type": "execute_result"
    }
   ],
   "source": [
    "topic_model.get_topic_info()"
   ]
  },
  {
   "cell_type": "code",
   "execution_count": 106,
   "id": "60c49061-d4f0-43ff-b0df-61efa56948c6",
   "metadata": {},
   "outputs": [],
   "source": [
    "fig = topic_model.visualize_barchart()\n",
    "fig.write_html(\"barchart_topics_bis.html\")"
   ]
  },
  {
   "cell_type": "code",
   "execution_count": 107,
   "id": "f8da6077-96c1-47bd-a6d0-dcd0c45ac4b1",
   "metadata": {},
   "outputs": [],
   "source": [
    "fig = topic_model.visualize_topics()\n",
    "fig.write_html(\"visualize_topics_bis.html\")"
   ]
  },
  {
   "cell_type": "markdown",
   "id": "687f6e2e-ea8d-4648-ac06-2fdfaffc4aac",
   "metadata": {},
   "source": [
    "# Modèle sur le topic principal "
   ]
  },
  {
   "cell_type": "markdown",
   "id": "555f4f5b-2b98-46e1-b351-059487c4a191",
   "metadata": {},
   "source": [
    "* On veut rediviser le topic 0\n",
    "* Pas mal de topic qui sont du bruit\n",
    "\n",
    "--> Relancer un Bertopic sur le topic 0 uniquement"
   ]
  },
  {
   "cell_type": "code",
   "execution_count": 1,
   "id": "fe5608b5-52f5-4960-969d-d6d629f69be8",
   "metadata": {},
   "outputs": [
    {
     "ename": "NameError",
     "evalue": "name 'topic_model_filtered' is not defined",
     "output_type": "error",
     "traceback": [
      "\u001b[31m---------------------------------------------------------------------------\u001b[39m",
      "\u001b[31mNameError\u001b[39m                                 Traceback (most recent call last)",
      "\u001b[36mCell\u001b[39m\u001b[36m \u001b[39m\u001b[32mIn[1]\u001b[39m\u001b[32m, line 5\u001b[39m\n\u001b[32m      2\u001b[39m topic_id = \u001b[32m0\u001b[39m\n\u001b[32m      4\u001b[39m \u001b[38;5;66;03m# 1. Récupérer les indices des documents de ce topic\u001b[39;00m\n\u001b[32m----> \u001b[39m\u001b[32m5\u001b[39m docs = \u001b[43mtopic_model_filtered\u001b[49m.get_document_info(filtered_docs_cleaned)\n\u001b[32m      6\u001b[39m docs_in_big_topic = docs[docs[\u001b[33m'\u001b[39m\u001b[33mTopic\u001b[39m\u001b[33m'\u001b[39m] == topic_id]\n\u001b[32m      8\u001b[39m \u001b[38;5;66;03m# 2. Extraire les textes concernés\u001b[39;00m\n",
      "\u001b[31mNameError\u001b[39m: name 'topic_model_filtered' is not defined"
     ]
    }
   ],
   "source": [
    "# Topic principal est le topic 0\n",
    "topic_id = 0\n",
    "\n",
    "# 1. Récupérer les indices des documents de ce topic\n",
    "docs = topic_model.get_document_info(filtered_docs_cleaned)\n",
    "docs_in_big_topic = docs[docs['Topic'] == topic_id]\n",
    "\n",
    "# 2. Extraire les textes concernés\n",
    "sub_docs = docs_in_big_topic['Document'].tolist()\n",
    "\n",
    "# 3. Recalculer les embeddings (si tu veux affiner)\n",
    "from sentence_transformers import SentenceTransformer\n",
    "embedding_model_sub = SentenceTransformer(\"all-MiniLM-L6-v2\")\n",
    "sub_embeddings = embedding_model.encode(sub_docs, show_progress_bar=True)\n",
    "\n",
    "#Réduction UMAP\n",
    "start = time.time()\n",
    "umap_model_sub = UMAP(n_components=15, n_neighbors=15, random_state=42, metric=\"cosine\", verbose=True)\n",
    "#umap_model = UMAP(n_neighbors=15, n_components=5, min_dist=0.0, metric='cosine', verbose=True)\n",
    "umap_embeddings_filtered_sub = umap_model.fit_transform(sub_embeddings)\n",
    "print(f\"[2] UMAP en {time.time() - start:.2f}s\")\n",
    "\n",
    "\n",
    "# Clustering \n",
    "start = time.time()\n",
    "#hdbscan_model =  HDBSCAN(min_cluster_size=80, metric='euclidean', cluster_selection_method='eom', prediction_data=True, verbose=True)\n",
    "hdbscan_model_sub =  HDBSCAN(min_cluster_size=100, metric='euclidean', cluster_selection_method='eom', prediction_data=True, verbose=True)\n",
    "clusters = hdbscan_model.fit_predict(umap_embeddings_filtered_sub)\n",
    "print(f\"[3] HDBSCAN en {time.time() - start:.2f}s\")\n",
    "print(f\"[3] Nombre de clusters trouvés : {len(np.unique(clusters))}\")\n",
    "\n",
    "# 4. Créer un nouveau BERTopic sur ces sous-documents\n",
    "\n",
    "sub_model = BERTopic(\n",
    "    language=\"french\",\n",
    "    embedding_model=embedding_model_sub,\n",
    "    umap_model=umap_model_sub,\n",
    "    hdbscan_model=hdbscan_model,\n",
    "    verbose=True\n",
    ")\n",
    "sub_model.fit(sub_docs, embeddings=sub_embeddings)\n",
    "\n",
    "# 5. Visualiser les nouveaux sous-topics\n",
    "fig = sub_model.visualize_topics()\n",
    "fig.write_html(\"sub_visualize_topics.html\")\n"
   ]
  },
  {
   "cell_type": "code",
   "execution_count": 110,
   "id": "3fd25b72-b767-40dc-871f-f6d16ccbefff",
   "metadata": {},
   "outputs": [],
   "source": [
    "fig_sub = sub_model.visualize_barchart()\n",
    "fig_sub.write_html(\"sub_visualize_barchart.html\")"
   ]
  },
  {
   "cell_type": "markdown",
   "id": "c2f8bdd6-b82a-4189-b2c5-c2cd11ea7535",
   "metadata": {},
   "source": [
    "# KeyBERTInspired"
   ]
  },
  {
   "cell_type": "code",
   "execution_count": 34,
   "id": "968bd331-5a76-464f-a025-fbf22a44607d",
   "metadata": {},
   "outputs": [
    {
     "name": "stderr",
     "output_type": "stream",
     "text": [
      "2025-05-16 00:23:01,319 - BERTopic - Embedding - Transforming documents to embeddings.\n",
      "Batches: 100%|██████████| 597/597 [00:28<00:00, 21.24it/s] \n",
      "2025-05-16 00:23:30,207 - BERTopic - Embedding - Completed ✓\n",
      "2025-05-16 00:23:30,209 - BERTopic - Dimensionality - Fitting the dimensionality reduction algorithm\n"
     ]
    },
    {
     "name": "stdout",
     "output_type": "stream",
     "text": [
      "[2025-05-16 00:23:30.229] [CUML] [debug] Computing KNN Graph\n",
      "[2025-05-16 00:23:30.322] [CUML] [debug] Computing fuzzy simplicial set\n"
     ]
    },
    {
     "name": "stderr",
     "output_type": "stream",
     "text": [
      "2025-05-16 00:23:31,246 - BERTopic - Dimensionality - Completed ✓\n",
      "2025-05-16 00:23:31,250 - BERTopic - Cluster - Start clustering the reduced embeddings\n"
     ]
    },
    {
     "name": "stdout",
     "output_type": "stream",
     "text": [
      "[2025-05-16 00:23:31.086] [CUML] [debug] Running transform\n",
      "[2025-05-16 00:23:31.086] [CUML] [debug] Building KNN Graph\n",
      "[2025-05-16 00:23:31.186] [CUML] [debug] Smoothing KNN distances\n",
      "[2025-05-16 00:23:31.188] [CUML] [debug] Executing fuzzy simplicial set\n",
      "[2025-05-16 00:23:31.190] [CUML] [debug] Performing L1 normalization\n",
      "[2025-05-16 00:23:31.206] [CUML] [debug] n_epochs=30\n",
      "[2025-05-16 00:23:31.212] [CUML] [debug] Computing # of epochs for training each sample\n",
      "[2025-05-16 00:23:31.212] [CUML] [debug] Performing optimization\n"
     ]
    },
    {
     "name": "stderr",
     "output_type": "stream",
     "text": [
      "2025-05-16 00:23:31,961 - BERTopic - Cluster - Completed ✓\n",
      "2025-05-16 00:23:31,972 - BERTopic - Representation - Fine-tuning topics using representation models.\n",
      "2025-05-16 00:23:33,657 - BERTopic - Representation - Completed ✓\n"
     ]
    }
   ],
   "source": [
    "representation_model = KeyBERTInspired()\n",
    "\n",
    "topic_model_KeyBERTInspired = BERTopic(representation_model=representation_model,\n",
    "                                       embedding_model=embedding_model,\n",
    "                                       umap_model=umap_model,\n",
    "                                       hdbscan_model=hdbscan_model,\n",
    "                                       verbose=True,\n",
    "                                       language=\"french\")\n",
    "topics_KeyBERTInspired, probs_KeyBERTInspired = topic_model_KeyBERTInspired.fit_transform(filtered_docs_cleaned)"
   ]
  },
  {
   "cell_type": "code",
   "execution_count": 35,
   "id": "12782f84-d045-4c30-8625-f79b5debe52f",
   "metadata": {},
   "outputs": [
    {
     "data": {
      "text/plain": [
       "19074"
      ]
     },
     "execution_count": 35,
     "metadata": {},
     "output_type": "execute_result"
    }
   ],
   "source": [
    "len(filtered_docs_cleaned)"
   ]
  },
  {
   "cell_type": "code",
   "execution_count": 36,
   "id": "3bd3130a-66dd-4880-9a17-db4707e88dd4",
   "metadata": {},
   "outputs": [
    {
     "data": {
      "text/html": [
       "<div>\n",
       "<style scoped>\n",
       "    .dataframe tbody tr th:only-of-type {\n",
       "        vertical-align: middle;\n",
       "    }\n",
       "\n",
       "    .dataframe tbody tr th {\n",
       "        vertical-align: top;\n",
       "    }\n",
       "\n",
       "    .dataframe thead th {\n",
       "        text-align: right;\n",
       "    }\n",
       "</style>\n",
       "<table border=\"1\" class=\"dataframe\">\n",
       "  <thead>\n",
       "    <tr style=\"text-align: right;\">\n",
       "      <th></th>\n",
       "      <th>Topic</th>\n",
       "      <th>Count</th>\n",
       "      <th>Name</th>\n",
       "      <th>Representation</th>\n",
       "      <th>Representative_Docs</th>\n",
       "    </tr>\n",
       "  </thead>\n",
       "  <tbody>\n",
       "    <tr>\n",
       "      <th>0</th>\n",
       "      <td>-1</td>\n",
       "      <td>549</td>\n",
       "      <td>-1_entreprendre_salarier_demande_salarié</td>\n",
       "      <td>[entreprendre, salarier, demande, salarié, rém...</td>\n",
       "      <td>[article 3.1 compartiment distribution distrib...</td>\n",
       "    </tr>\n",
       "    <tr>\n",
       "      <th>1</th>\n",
       "      <td>0</td>\n",
       "      <td>18385</td>\n",
       "      <td>0_salarier_salarié_demande_entreprendre</td>\n",
       "      <td>[salarier, salarié, demande, entreprendre, rém...</td>\n",
       "      <td>[durée journalier travail temps travail effect...</td>\n",
       "    </tr>\n",
       "    <tr>\n",
       "      <th>2</th>\n",
       "      <td>1</td>\n",
       "      <td>76</td>\n",
       "      <td>1_accord_entreprise_entreprendre_organisation</td>\n",
       "      <td>[accord, entreprise, entreprendre, organisatio...</td>\n",
       "      <td>[accord entreprise, accord entreprise, accord ...</td>\n",
       "    </tr>\n",
       "    <tr>\n",
       "      <th>3</th>\n",
       "      <td>2</td>\n",
       "      <td>23</td>\n",
       "      <td>2_preambule___</td>\n",
       "      <td>[preambule, , , , , , , , , ]</td>\n",
       "      <td>[preambule, preambule, preambule  ]</td>\n",
       "    </tr>\n",
       "    <tr>\n",
       "      <th>4</th>\n",
       "      <td>3</td>\n",
       "      <td>21</td>\n",
       "      <td>3_réserve_adaptation_déplacement_salarié</td>\n",
       "      <td>[réserve, adaptation, déplacement, salarié, pr...</td>\n",
       "      <td>[article 3 1   salarié concerner \\n ouvrier no...</td>\n",
       "    </tr>\n",
       "    <tr>\n",
       "      <th>5</th>\n",
       "      <td>4</td>\n",
       "      <td>20</td>\n",
       "      <td>4_deplacement_déplacement_petit_petits</td>\n",
       "      <td>[deplacement, déplacement, petit, petits, arti...</td>\n",
       "      <td>[article 2   petit déplacement, article 3   pe...</td>\n",
       "    </tr>\n",
       "  </tbody>\n",
       "</table>\n",
       "</div>"
      ],
      "text/plain": [
       "   Topic  Count                                           Name  \\\n",
       "0     -1    549       -1_entreprendre_salarier_demande_salarié   \n",
       "1      0  18385        0_salarier_salarié_demande_entreprendre   \n",
       "2      1     76  1_accord_entreprise_entreprendre_organisation   \n",
       "3      2     23                                 2_preambule___   \n",
       "4      3     21       3_réserve_adaptation_déplacement_salarié   \n",
       "5      4     20         4_deplacement_déplacement_petit_petits   \n",
       "\n",
       "                                      Representation  \\\n",
       "0  [entreprendre, salarier, demande, salarié, rém...   \n",
       "1  [salarier, salarié, demande, entreprendre, rém...   \n",
       "2  [accord, entreprise, entreprendre, organisatio...   \n",
       "3                      [preambule, , , , , , , , , ]   \n",
       "4  [réserve, adaptation, déplacement, salarié, pr...   \n",
       "5  [deplacement, déplacement, petit, petits, arti...   \n",
       "\n",
       "                                 Representative_Docs  \n",
       "0  [article 3.1 compartiment distribution distrib...  \n",
       "1  [durée journalier travail temps travail effect...  \n",
       "2  [accord entreprise, accord entreprise, accord ...  \n",
       "3                [preambule, preambule, preambule  ]  \n",
       "4  [article 3 1   salarié concerner \\n ouvrier no...  \n",
       "5  [article 2   petit déplacement, article 3   pe...  "
      ]
     },
     "execution_count": 36,
     "metadata": {},
     "output_type": "execute_result"
    }
   ],
   "source": [
    "topic_model_KeyBERTInspired.get_topic_info()"
   ]
  },
  {
   "cell_type": "code",
   "execution_count": 37,
   "id": "a502c615-443f-44dd-bb7f-d1c469b34537",
   "metadata": {},
   "outputs": [
    {
     "data": {
      "application/vnd.plotly.v1+json": {
       "config": {
        "plotlyServerURL": "https://plot.ly"
       },
       "data": [
        {
         "customdata": [
          [
           0,
           "salarier | salarié | demande | entreprendre | rémunération",
           18385
          ],
          [
           1,
           "accord | entreprise | entreprendre | organisation | agate",
           76
          ],
          [
           2,
           "preambule |  |  |  | ",
           23
          ],
          [
           3,
           "réserve | adaptation | déplacement | salarié | précision",
           21
          ],
          [
           4,
           "deplacement | déplacement | petit | petits | article",
           20
          ]
         ],
         "hovertemplate": "<b>Topic %{customdata[0]}</b><br>%{customdata[1]}<br>Size: %{customdata[2]}",
         "legendgroup": "",
         "marker": {
          "color": "#B0BEC5",
          "line": {
           "color": "DarkSlateGrey",
           "width": 2
          },
          "size": {
           "bdata": "0UdMABcAFQAUAA==",
           "dtype": "i2"
          },
          "sizemode": "area",
          "sizeref": 11.490625,
          "symbol": "circle"
         },
         "mode": "markers",
         "name": "",
         "orientation": "v",
         "showlegend": false,
         "type": "scatter",
         "x": {
          "bdata": "z6KMv7LK0r8dDAXAdykcvxqQtL0=",
          "dtype": "f4"
         },
         "xaxis": "x",
         "y": {
          "bdata": "0J6QQbPZi0E4I4hBENWUQZUQmUE=",
          "dtype": "f4"
         },
         "yaxis": "y"
        }
       ],
       "layout": {
        "annotations": [
         {
          "showarrow": false,
          "text": "D1",
          "x": -2.390693986415863,
          "y": 18.233839178085326,
          "yshift": 10
         },
         {
          "showarrow": false,
          "text": "D2",
          "x": -1.2328173208981752,
          "xshift": 10,
          "y": 22.00306119918823
         }
        ],
        "height": 650,
        "hoverlabel": {
         "bgcolor": "white",
         "font": {
          "family": "Rockwell",
          "size": 16
         }
        },
        "legend": {
         "itemsizing": "constant",
         "tracegroupgap": 0
        },
        "margin": {
         "t": 60
        },
        "shapes": [
         {
          "line": {
           "color": "#CFD8DC",
           "width": 2
          },
          "type": "line",
          "x0": -1.2328173208981752,
          "x1": -1.2328173208981752,
          "y0": 14.464617156982422,
          "y1": 22.00306119918823
         },
         {
          "line": {
           "color": "#9E9E9E",
           "width": 2
          },
          "type": "line",
          "x0": -2.390693986415863,
          "x1": -0.07494065538048744,
          "y0": 18.233839178085326,
          "y1": 18.233839178085326
         }
        ],
        "sliders": [
         {
          "active": 0,
          "pad": {
           "t": 50
          },
          "steps": [
           {
            "args": [
             {
              "marker.color": [
               [
                "red",
                "#B0BEC5",
                "#B0BEC5",
                "#B0BEC5",
                "#B0BEC5"
               ]
              ]
             }
            ],
            "label": "Topic 0",
            "method": "update"
           },
           {
            "args": [
             {
              "marker.color": [
               [
                "#B0BEC5",
                "red",
                "#B0BEC5",
                "#B0BEC5",
                "#B0BEC5"
               ]
              ]
             }
            ],
            "label": "Topic 1",
            "method": "update"
           },
           {
            "args": [
             {
              "marker.color": [
               [
                "#B0BEC5",
                "#B0BEC5",
                "red",
                "#B0BEC5",
                "#B0BEC5"
               ]
              ]
             }
            ],
            "label": "Topic 2",
            "method": "update"
           },
           {
            "args": [
             {
              "marker.color": [
               [
                "#B0BEC5",
                "#B0BEC5",
                "#B0BEC5",
                "red",
                "#B0BEC5"
               ]
              ]
             }
            ],
            "label": "Topic 3",
            "method": "update"
           },
           {
            "args": [
             {
              "marker.color": [
               [
                "#B0BEC5",
                "#B0BEC5",
                "#B0BEC5",
                "#B0BEC5",
                "red"
               ]
              ]
             }
            ],
            "label": "Topic 4",
            "method": "update"
           }
          ]
         }
        ],
        "template": {
         "data": {
          "bar": [
           {
            "error_x": {
             "color": "rgb(36,36,36)"
            },
            "error_y": {
             "color": "rgb(36,36,36)"
            },
            "marker": {
             "line": {
              "color": "white",
              "width": 0.5
             },
             "pattern": {
              "fillmode": "overlay",
              "size": 10,
              "solidity": 0.2
             }
            },
            "type": "bar"
           }
          ],
          "barpolar": [
           {
            "marker": {
             "line": {
              "color": "white",
              "width": 0.5
             },
             "pattern": {
              "fillmode": "overlay",
              "size": 10,
              "solidity": 0.2
             }
            },
            "type": "barpolar"
           }
          ],
          "carpet": [
           {
            "aaxis": {
             "endlinecolor": "rgb(36,36,36)",
             "gridcolor": "white",
             "linecolor": "white",
             "minorgridcolor": "white",
             "startlinecolor": "rgb(36,36,36)"
            },
            "baxis": {
             "endlinecolor": "rgb(36,36,36)",
             "gridcolor": "white",
             "linecolor": "white",
             "minorgridcolor": "white",
             "startlinecolor": "rgb(36,36,36)"
            },
            "type": "carpet"
           }
          ],
          "choropleth": [
           {
            "colorbar": {
             "outlinewidth": 1,
             "tickcolor": "rgb(36,36,36)",
             "ticks": "outside"
            },
            "type": "choropleth"
           }
          ],
          "contour": [
           {
            "colorbar": {
             "outlinewidth": 1,
             "tickcolor": "rgb(36,36,36)",
             "ticks": "outside"
            },
            "colorscale": [
             [
              0,
              "#440154"
             ],
             [
              0.1111111111111111,
              "#482878"
             ],
             [
              0.2222222222222222,
              "#3e4989"
             ],
             [
              0.3333333333333333,
              "#31688e"
             ],
             [
              0.4444444444444444,
              "#26828e"
             ],
             [
              0.5555555555555556,
              "#1f9e89"
             ],
             [
              0.6666666666666666,
              "#35b779"
             ],
             [
              0.7777777777777778,
              "#6ece58"
             ],
             [
              0.8888888888888888,
              "#b5de2b"
             ],
             [
              1,
              "#fde725"
             ]
            ],
            "type": "contour"
           }
          ],
          "contourcarpet": [
           {
            "colorbar": {
             "outlinewidth": 1,
             "tickcolor": "rgb(36,36,36)",
             "ticks": "outside"
            },
            "type": "contourcarpet"
           }
          ],
          "heatmap": [
           {
            "colorbar": {
             "outlinewidth": 1,
             "tickcolor": "rgb(36,36,36)",
             "ticks": "outside"
            },
            "colorscale": [
             [
              0,
              "#440154"
             ],
             [
              0.1111111111111111,
              "#482878"
             ],
             [
              0.2222222222222222,
              "#3e4989"
             ],
             [
              0.3333333333333333,
              "#31688e"
             ],
             [
              0.4444444444444444,
              "#26828e"
             ],
             [
              0.5555555555555556,
              "#1f9e89"
             ],
             [
              0.6666666666666666,
              "#35b779"
             ],
             [
              0.7777777777777778,
              "#6ece58"
             ],
             [
              0.8888888888888888,
              "#b5de2b"
             ],
             [
              1,
              "#fde725"
             ]
            ],
            "type": "heatmap"
           }
          ],
          "histogram": [
           {
            "marker": {
             "line": {
              "color": "white",
              "width": 0.6
             }
            },
            "type": "histogram"
           }
          ],
          "histogram2d": [
           {
            "colorbar": {
             "outlinewidth": 1,
             "tickcolor": "rgb(36,36,36)",
             "ticks": "outside"
            },
            "colorscale": [
             [
              0,
              "#440154"
             ],
             [
              0.1111111111111111,
              "#482878"
             ],
             [
              0.2222222222222222,
              "#3e4989"
             ],
             [
              0.3333333333333333,
              "#31688e"
             ],
             [
              0.4444444444444444,
              "#26828e"
             ],
             [
              0.5555555555555556,
              "#1f9e89"
             ],
             [
              0.6666666666666666,
              "#35b779"
             ],
             [
              0.7777777777777778,
              "#6ece58"
             ],
             [
              0.8888888888888888,
              "#b5de2b"
             ],
             [
              1,
              "#fde725"
             ]
            ],
            "type": "histogram2d"
           }
          ],
          "histogram2dcontour": [
           {
            "colorbar": {
             "outlinewidth": 1,
             "tickcolor": "rgb(36,36,36)",
             "ticks": "outside"
            },
            "colorscale": [
             [
              0,
              "#440154"
             ],
             [
              0.1111111111111111,
              "#482878"
             ],
             [
              0.2222222222222222,
              "#3e4989"
             ],
             [
              0.3333333333333333,
              "#31688e"
             ],
             [
              0.4444444444444444,
              "#26828e"
             ],
             [
              0.5555555555555556,
              "#1f9e89"
             ],
             [
              0.6666666666666666,
              "#35b779"
             ],
             [
              0.7777777777777778,
              "#6ece58"
             ],
             [
              0.8888888888888888,
              "#b5de2b"
             ],
             [
              1,
              "#fde725"
             ]
            ],
            "type": "histogram2dcontour"
           }
          ],
          "mesh3d": [
           {
            "colorbar": {
             "outlinewidth": 1,
             "tickcolor": "rgb(36,36,36)",
             "ticks": "outside"
            },
            "type": "mesh3d"
           }
          ],
          "parcoords": [
           {
            "line": {
             "colorbar": {
              "outlinewidth": 1,
              "tickcolor": "rgb(36,36,36)",
              "ticks": "outside"
             }
            },
            "type": "parcoords"
           }
          ],
          "pie": [
           {
            "automargin": true,
            "type": "pie"
           }
          ],
          "scatter": [
           {
            "fillpattern": {
             "fillmode": "overlay",
             "size": 10,
             "solidity": 0.2
            },
            "type": "scatter"
           }
          ],
          "scatter3d": [
           {
            "line": {
             "colorbar": {
              "outlinewidth": 1,
              "tickcolor": "rgb(36,36,36)",
              "ticks": "outside"
             }
            },
            "marker": {
             "colorbar": {
              "outlinewidth": 1,
              "tickcolor": "rgb(36,36,36)",
              "ticks": "outside"
             }
            },
            "type": "scatter3d"
           }
          ],
          "scattercarpet": [
           {
            "marker": {
             "colorbar": {
              "outlinewidth": 1,
              "tickcolor": "rgb(36,36,36)",
              "ticks": "outside"
             }
            },
            "type": "scattercarpet"
           }
          ],
          "scattergeo": [
           {
            "marker": {
             "colorbar": {
              "outlinewidth": 1,
              "tickcolor": "rgb(36,36,36)",
              "ticks": "outside"
             }
            },
            "type": "scattergeo"
           }
          ],
          "scattergl": [
           {
            "marker": {
             "colorbar": {
              "outlinewidth": 1,
              "tickcolor": "rgb(36,36,36)",
              "ticks": "outside"
             }
            },
            "type": "scattergl"
           }
          ],
          "scattermap": [
           {
            "marker": {
             "colorbar": {
              "outlinewidth": 1,
              "tickcolor": "rgb(36,36,36)",
              "ticks": "outside"
             }
            },
            "type": "scattermap"
           }
          ],
          "scattermapbox": [
           {
            "marker": {
             "colorbar": {
              "outlinewidth": 1,
              "tickcolor": "rgb(36,36,36)",
              "ticks": "outside"
             }
            },
            "type": "scattermapbox"
           }
          ],
          "scatterpolar": [
           {
            "marker": {
             "colorbar": {
              "outlinewidth": 1,
              "tickcolor": "rgb(36,36,36)",
              "ticks": "outside"
             }
            },
            "type": "scatterpolar"
           }
          ],
          "scatterpolargl": [
           {
            "marker": {
             "colorbar": {
              "outlinewidth": 1,
              "tickcolor": "rgb(36,36,36)",
              "ticks": "outside"
             }
            },
            "type": "scatterpolargl"
           }
          ],
          "scatterternary": [
           {
            "marker": {
             "colorbar": {
              "outlinewidth": 1,
              "tickcolor": "rgb(36,36,36)",
              "ticks": "outside"
             }
            },
            "type": "scatterternary"
           }
          ],
          "surface": [
           {
            "colorbar": {
             "outlinewidth": 1,
             "tickcolor": "rgb(36,36,36)",
             "ticks": "outside"
            },
            "colorscale": [
             [
              0,
              "#440154"
             ],
             [
              0.1111111111111111,
              "#482878"
             ],
             [
              0.2222222222222222,
              "#3e4989"
             ],
             [
              0.3333333333333333,
              "#31688e"
             ],
             [
              0.4444444444444444,
              "#26828e"
             ],
             [
              0.5555555555555556,
              "#1f9e89"
             ],
             [
              0.6666666666666666,
              "#35b779"
             ],
             [
              0.7777777777777778,
              "#6ece58"
             ],
             [
              0.8888888888888888,
              "#b5de2b"
             ],
             [
              1,
              "#fde725"
             ]
            ],
            "type": "surface"
           }
          ],
          "table": [
           {
            "cells": {
             "fill": {
              "color": "rgb(237,237,237)"
             },
             "line": {
              "color": "white"
             }
            },
            "header": {
             "fill": {
              "color": "rgb(217,217,217)"
             },
             "line": {
              "color": "white"
             }
            },
            "type": "table"
           }
          ]
         },
         "layout": {
          "annotationdefaults": {
           "arrowhead": 0,
           "arrowwidth": 1
          },
          "autotypenumbers": "strict",
          "coloraxis": {
           "colorbar": {
            "outlinewidth": 1,
            "tickcolor": "rgb(36,36,36)",
            "ticks": "outside"
           }
          },
          "colorscale": {
           "diverging": [
            [
             0,
             "rgb(103,0,31)"
            ],
            [
             0.1,
             "rgb(178,24,43)"
            ],
            [
             0.2,
             "rgb(214,96,77)"
            ],
            [
             0.3,
             "rgb(244,165,130)"
            ],
            [
             0.4,
             "rgb(253,219,199)"
            ],
            [
             0.5,
             "rgb(247,247,247)"
            ],
            [
             0.6,
             "rgb(209,229,240)"
            ],
            [
             0.7,
             "rgb(146,197,222)"
            ],
            [
             0.8,
             "rgb(67,147,195)"
            ],
            [
             0.9,
             "rgb(33,102,172)"
            ],
            [
             1,
             "rgb(5,48,97)"
            ]
           ],
           "sequential": [
            [
             0,
             "#440154"
            ],
            [
             0.1111111111111111,
             "#482878"
            ],
            [
             0.2222222222222222,
             "#3e4989"
            ],
            [
             0.3333333333333333,
             "#31688e"
            ],
            [
             0.4444444444444444,
             "#26828e"
            ],
            [
             0.5555555555555556,
             "#1f9e89"
            ],
            [
             0.6666666666666666,
             "#35b779"
            ],
            [
             0.7777777777777778,
             "#6ece58"
            ],
            [
             0.8888888888888888,
             "#b5de2b"
            ],
            [
             1,
             "#fde725"
            ]
           ],
           "sequentialminus": [
            [
             0,
             "#440154"
            ],
            [
             0.1111111111111111,
             "#482878"
            ],
            [
             0.2222222222222222,
             "#3e4989"
            ],
            [
             0.3333333333333333,
             "#31688e"
            ],
            [
             0.4444444444444444,
             "#26828e"
            ],
            [
             0.5555555555555556,
             "#1f9e89"
            ],
            [
             0.6666666666666666,
             "#35b779"
            ],
            [
             0.7777777777777778,
             "#6ece58"
            ],
            [
             0.8888888888888888,
             "#b5de2b"
            ],
            [
             1,
             "#fde725"
            ]
           ]
          },
          "colorway": [
           "#1F77B4",
           "#FF7F0E",
           "#2CA02C",
           "#D62728",
           "#9467BD",
           "#8C564B",
           "#E377C2",
           "#7F7F7F",
           "#BCBD22",
           "#17BECF"
          ],
          "font": {
           "color": "rgb(36,36,36)"
          },
          "geo": {
           "bgcolor": "white",
           "lakecolor": "white",
           "landcolor": "white",
           "showlakes": true,
           "showland": true,
           "subunitcolor": "white"
          },
          "hoverlabel": {
           "align": "left"
          },
          "hovermode": "closest",
          "mapbox": {
           "style": "light"
          },
          "paper_bgcolor": "white",
          "plot_bgcolor": "white",
          "polar": {
           "angularaxis": {
            "gridcolor": "rgb(232,232,232)",
            "linecolor": "rgb(36,36,36)",
            "showgrid": false,
            "showline": true,
            "ticks": "outside"
           },
           "bgcolor": "white",
           "radialaxis": {
            "gridcolor": "rgb(232,232,232)",
            "linecolor": "rgb(36,36,36)",
            "showgrid": false,
            "showline": true,
            "ticks": "outside"
           }
          },
          "scene": {
           "xaxis": {
            "backgroundcolor": "white",
            "gridcolor": "rgb(232,232,232)",
            "gridwidth": 2,
            "linecolor": "rgb(36,36,36)",
            "showbackground": true,
            "showgrid": false,
            "showline": true,
            "ticks": "outside",
            "zeroline": false,
            "zerolinecolor": "rgb(36,36,36)"
           },
           "yaxis": {
            "backgroundcolor": "white",
            "gridcolor": "rgb(232,232,232)",
            "gridwidth": 2,
            "linecolor": "rgb(36,36,36)",
            "showbackground": true,
            "showgrid": false,
            "showline": true,
            "ticks": "outside",
            "zeroline": false,
            "zerolinecolor": "rgb(36,36,36)"
           },
           "zaxis": {
            "backgroundcolor": "white",
            "gridcolor": "rgb(232,232,232)",
            "gridwidth": 2,
            "linecolor": "rgb(36,36,36)",
            "showbackground": true,
            "showgrid": false,
            "showline": true,
            "ticks": "outside",
            "zeroline": false,
            "zerolinecolor": "rgb(36,36,36)"
           }
          },
          "shapedefaults": {
           "fillcolor": "black",
           "line": {
            "width": 0
           },
           "opacity": 0.3
          },
          "ternary": {
           "aaxis": {
            "gridcolor": "rgb(232,232,232)",
            "linecolor": "rgb(36,36,36)",
            "showgrid": false,
            "showline": true,
            "ticks": "outside"
           },
           "baxis": {
            "gridcolor": "rgb(232,232,232)",
            "linecolor": "rgb(36,36,36)",
            "showgrid": false,
            "showline": true,
            "ticks": "outside"
           },
           "bgcolor": "white",
           "caxis": {
            "gridcolor": "rgb(232,232,232)",
            "linecolor": "rgb(36,36,36)",
            "showgrid": false,
            "showline": true,
            "ticks": "outside"
           }
          },
          "title": {
           "x": 0.05
          },
          "xaxis": {
           "automargin": true,
           "gridcolor": "rgb(232,232,232)",
           "linecolor": "rgb(36,36,36)",
           "showgrid": false,
           "showline": true,
           "ticks": "outside",
           "title": {
            "standoff": 15
           },
           "zeroline": false,
           "zerolinecolor": "rgb(36,36,36)"
          },
          "yaxis": {
           "automargin": true,
           "gridcolor": "rgb(232,232,232)",
           "linecolor": "rgb(36,36,36)",
           "showgrid": false,
           "showline": true,
           "ticks": "outside",
           "title": {
            "standoff": 15
           },
           "zeroline": false,
           "zerolinecolor": "rgb(36,36,36)"
          }
         }
        },
        "title": {
         "font": {
          "color": "Black",
          "size": 22
         },
         "text": "<b>Intertopic Distance Map</b>",
         "x": 0.5,
         "xanchor": "center",
         "y": 0.95,
         "yanchor": "top"
        },
        "width": 650,
        "xaxis": {
         "anchor": "y",
         "domain": [
          0,
          1
         ],
         "range": [
          -2.390693986415863,
          -0.07494065538048744
         ],
         "title": {
          "text": ""
         },
         "visible": false
        },
        "yaxis": {
         "anchor": "x",
         "domain": [
          0,
          1
         ],
         "range": [
          14.464617156982422,
          22.00306119918823
         ],
         "title": {
          "text": ""
         },
         "visible": false
        }
       }
      }
     },
     "metadata": {},
     "output_type": "display_data"
    }
   ],
   "source": [
    "topic_model_KeyBERTInspired.visualize_topics()"
   ]
  },
  {
   "cell_type": "code",
   "execution_count": 38,
   "id": "4d47ab6f-201c-415c-9f13-09701a38cc63",
   "metadata": {},
   "outputs": [
    {
     "data": {
      "application/vnd.plotly.v1+json": {
       "config": {
        "plotlyServerURL": "https://plot.ly"
       },
       "data": [
        {
         "marker": {
          "color": "#D55E00"
         },
         "orientation": "h",
         "type": "bar",
         "x": [
          0.2785414159297943,
          0.2851477265357971,
          0.3002222776412964,
          0.3361976146697998,
          0.35508012771606445
         ],
         "xaxis": "x",
         "y": [
          "rémunération  ",
          "entreprendre  ",
          "demande  ",
          "salarié  ",
          "salarier  "
         ],
         "yaxis": "y"
        },
        {
         "marker": {
          "color": "#0072B2"
         },
         "orientation": "h",
         "type": "bar",
         "x": [
          0.31362384557724,
          0.3543558120727539,
          0.49345624446868896,
          0.6249852776527405,
          0.7814066410064697
         ],
         "xaxis": "x2",
         "y": [
          "agate  ",
          "organisation  ",
          "entreprendre  ",
          "entreprise  ",
          "accord  "
         ],
         "yaxis": "y2"
        },
        {
         "marker": {
          "color": "#CC79A7"
         },
         "orientation": "h",
         "type": "bar",
         "x": [
          0.22335651516914368,
          0.22335651516914368,
          0.22335651516914368,
          0.22335651516914368,
          0.9868850708007812
         ],
         "xaxis": "x3",
         "y": [
          "  ",
          "  ",
          "  ",
          "  ",
          "preambule  "
         ],
         "yaxis": "y3"
        },
        {
         "marker": {
          "color": "#E69F00"
         },
         "orientation": "h",
         "type": "bar",
         "x": [
          0.3200424313545227,
          0.323322594165802,
          0.3348236083984375,
          0.40992844104766846,
          0.4353351593017578
         ],
         "xaxis": "x4",
         "y": [
          "précision  ",
          "salarié  ",
          "déplacement  ",
          "adaptation  ",
          "réserve  "
         ],
         "yaxis": "y4"
        },
        {
         "marker": {
          "color": "#56B4E9"
         },
         "orientation": "h",
         "type": "bar",
         "x": [
          0.42270249128341675,
          0.47685396671295166,
          0.5340383052825928,
          0.6335793733596802,
          0.6335793733596802
         ],
         "xaxis": "x5",
         "y": [
          "article  ",
          "petits  ",
          "petit  ",
          "déplacement  ",
          "deplacement  "
         ],
         "yaxis": "y5"
        }
       ],
       "layout": {
        "annotations": [
         {
          "font": {
           "size": 16
          },
          "showarrow": false,
          "text": "Topic 0",
          "x": 0.0875,
          "xanchor": "center",
          "xref": "paper",
          "y": 1,
          "yanchor": "bottom",
          "yref": "paper"
         },
         {
          "font": {
           "size": 16
          },
          "showarrow": false,
          "text": "Topic 1",
          "x": 0.36250000000000004,
          "xanchor": "center",
          "xref": "paper",
          "y": 1,
          "yanchor": "bottom",
          "yref": "paper"
         },
         {
          "font": {
           "size": 16
          },
          "showarrow": false,
          "text": "Topic 2",
          "x": 0.6375000000000001,
          "xanchor": "center",
          "xref": "paper",
          "y": 1,
          "yanchor": "bottom",
          "yref": "paper"
         },
         {
          "font": {
           "size": 16
          },
          "showarrow": false,
          "text": "Topic 3",
          "x": 0.9125,
          "xanchor": "center",
          "xref": "paper",
          "y": 1,
          "yanchor": "bottom",
          "yref": "paper"
         },
         {
          "font": {
           "size": 16
          },
          "showarrow": false,
          "text": "Topic 4",
          "x": 0.0875,
          "xanchor": "center",
          "xref": "paper",
          "y": 0.4,
          "yanchor": "bottom",
          "yref": "paper"
         }
        ],
        "height": 500,
        "hoverlabel": {
         "bgcolor": "white",
         "font": {
          "family": "Rockwell",
          "size": 16
         }
        },
        "showlegend": false,
        "template": {
         "data": {
          "bar": [
           {
            "error_x": {
             "color": "#2a3f5f"
            },
            "error_y": {
             "color": "#2a3f5f"
            },
            "marker": {
             "line": {
              "color": "white",
              "width": 0.5
             },
             "pattern": {
              "fillmode": "overlay",
              "size": 10,
              "solidity": 0.2
             }
            },
            "type": "bar"
           }
          ],
          "barpolar": [
           {
            "marker": {
             "line": {
              "color": "white",
              "width": 0.5
             },
             "pattern": {
              "fillmode": "overlay",
              "size": 10,
              "solidity": 0.2
             }
            },
            "type": "barpolar"
           }
          ],
          "carpet": [
           {
            "aaxis": {
             "endlinecolor": "#2a3f5f",
             "gridcolor": "#C8D4E3",
             "linecolor": "#C8D4E3",
             "minorgridcolor": "#C8D4E3",
             "startlinecolor": "#2a3f5f"
            },
            "baxis": {
             "endlinecolor": "#2a3f5f",
             "gridcolor": "#C8D4E3",
             "linecolor": "#C8D4E3",
             "minorgridcolor": "#C8D4E3",
             "startlinecolor": "#2a3f5f"
            },
            "type": "carpet"
           }
          ],
          "choropleth": [
           {
            "colorbar": {
             "outlinewidth": 0,
             "ticks": ""
            },
            "type": "choropleth"
           }
          ],
          "contour": [
           {
            "colorbar": {
             "outlinewidth": 0,
             "ticks": ""
            },
            "colorscale": [
             [
              0,
              "#0d0887"
             ],
             [
              0.1111111111111111,
              "#46039f"
             ],
             [
              0.2222222222222222,
              "#7201a8"
             ],
             [
              0.3333333333333333,
              "#9c179e"
             ],
             [
              0.4444444444444444,
              "#bd3786"
             ],
             [
              0.5555555555555556,
              "#d8576b"
             ],
             [
              0.6666666666666666,
              "#ed7953"
             ],
             [
              0.7777777777777778,
              "#fb9f3a"
             ],
             [
              0.8888888888888888,
              "#fdca26"
             ],
             [
              1,
              "#f0f921"
             ]
            ],
            "type": "contour"
           }
          ],
          "contourcarpet": [
           {
            "colorbar": {
             "outlinewidth": 0,
             "ticks": ""
            },
            "type": "contourcarpet"
           }
          ],
          "heatmap": [
           {
            "colorbar": {
             "outlinewidth": 0,
             "ticks": ""
            },
            "colorscale": [
             [
              0,
              "#0d0887"
             ],
             [
              0.1111111111111111,
              "#46039f"
             ],
             [
              0.2222222222222222,
              "#7201a8"
             ],
             [
              0.3333333333333333,
              "#9c179e"
             ],
             [
              0.4444444444444444,
              "#bd3786"
             ],
             [
              0.5555555555555556,
              "#d8576b"
             ],
             [
              0.6666666666666666,
              "#ed7953"
             ],
             [
              0.7777777777777778,
              "#fb9f3a"
             ],
             [
              0.8888888888888888,
              "#fdca26"
             ],
             [
              1,
              "#f0f921"
             ]
            ],
            "type": "heatmap"
           }
          ],
          "histogram": [
           {
            "marker": {
             "pattern": {
              "fillmode": "overlay",
              "size": 10,
              "solidity": 0.2
             }
            },
            "type": "histogram"
           }
          ],
          "histogram2d": [
           {
            "colorbar": {
             "outlinewidth": 0,
             "ticks": ""
            },
            "colorscale": [
             [
              0,
              "#0d0887"
             ],
             [
              0.1111111111111111,
              "#46039f"
             ],
             [
              0.2222222222222222,
              "#7201a8"
             ],
             [
              0.3333333333333333,
              "#9c179e"
             ],
             [
              0.4444444444444444,
              "#bd3786"
             ],
             [
              0.5555555555555556,
              "#d8576b"
             ],
             [
              0.6666666666666666,
              "#ed7953"
             ],
             [
              0.7777777777777778,
              "#fb9f3a"
             ],
             [
              0.8888888888888888,
              "#fdca26"
             ],
             [
              1,
              "#f0f921"
             ]
            ],
            "type": "histogram2d"
           }
          ],
          "histogram2dcontour": [
           {
            "colorbar": {
             "outlinewidth": 0,
             "ticks": ""
            },
            "colorscale": [
             [
              0,
              "#0d0887"
             ],
             [
              0.1111111111111111,
              "#46039f"
             ],
             [
              0.2222222222222222,
              "#7201a8"
             ],
             [
              0.3333333333333333,
              "#9c179e"
             ],
             [
              0.4444444444444444,
              "#bd3786"
             ],
             [
              0.5555555555555556,
              "#d8576b"
             ],
             [
              0.6666666666666666,
              "#ed7953"
             ],
             [
              0.7777777777777778,
              "#fb9f3a"
             ],
             [
              0.8888888888888888,
              "#fdca26"
             ],
             [
              1,
              "#f0f921"
             ]
            ],
            "type": "histogram2dcontour"
           }
          ],
          "mesh3d": [
           {
            "colorbar": {
             "outlinewidth": 0,
             "ticks": ""
            },
            "type": "mesh3d"
           }
          ],
          "parcoords": [
           {
            "line": {
             "colorbar": {
              "outlinewidth": 0,
              "ticks": ""
             }
            },
            "type": "parcoords"
           }
          ],
          "pie": [
           {
            "automargin": true,
            "type": "pie"
           }
          ],
          "scatter": [
           {
            "fillpattern": {
             "fillmode": "overlay",
             "size": 10,
             "solidity": 0.2
            },
            "type": "scatter"
           }
          ],
          "scatter3d": [
           {
            "line": {
             "colorbar": {
              "outlinewidth": 0,
              "ticks": ""
             }
            },
            "marker": {
             "colorbar": {
              "outlinewidth": 0,
              "ticks": ""
             }
            },
            "type": "scatter3d"
           }
          ],
          "scattercarpet": [
           {
            "marker": {
             "colorbar": {
              "outlinewidth": 0,
              "ticks": ""
             }
            },
            "type": "scattercarpet"
           }
          ],
          "scattergeo": [
           {
            "marker": {
             "colorbar": {
              "outlinewidth": 0,
              "ticks": ""
             }
            },
            "type": "scattergeo"
           }
          ],
          "scattergl": [
           {
            "marker": {
             "colorbar": {
              "outlinewidth": 0,
              "ticks": ""
             }
            },
            "type": "scattergl"
           }
          ],
          "scattermap": [
           {
            "marker": {
             "colorbar": {
              "outlinewidth": 0,
              "ticks": ""
             }
            },
            "type": "scattermap"
           }
          ],
          "scattermapbox": [
           {
            "marker": {
             "colorbar": {
              "outlinewidth": 0,
              "ticks": ""
             }
            },
            "type": "scattermapbox"
           }
          ],
          "scatterpolar": [
           {
            "marker": {
             "colorbar": {
              "outlinewidth": 0,
              "ticks": ""
             }
            },
            "type": "scatterpolar"
           }
          ],
          "scatterpolargl": [
           {
            "marker": {
             "colorbar": {
              "outlinewidth": 0,
              "ticks": ""
             }
            },
            "type": "scatterpolargl"
           }
          ],
          "scatterternary": [
           {
            "marker": {
             "colorbar": {
              "outlinewidth": 0,
              "ticks": ""
             }
            },
            "type": "scatterternary"
           }
          ],
          "surface": [
           {
            "colorbar": {
             "outlinewidth": 0,
             "ticks": ""
            },
            "colorscale": [
             [
              0,
              "#0d0887"
             ],
             [
              0.1111111111111111,
              "#46039f"
             ],
             [
              0.2222222222222222,
              "#7201a8"
             ],
             [
              0.3333333333333333,
              "#9c179e"
             ],
             [
              0.4444444444444444,
              "#bd3786"
             ],
             [
              0.5555555555555556,
              "#d8576b"
             ],
             [
              0.6666666666666666,
              "#ed7953"
             ],
             [
              0.7777777777777778,
              "#fb9f3a"
             ],
             [
              0.8888888888888888,
              "#fdca26"
             ],
             [
              1,
              "#f0f921"
             ]
            ],
            "type": "surface"
           }
          ],
          "table": [
           {
            "cells": {
             "fill": {
              "color": "#EBF0F8"
             },
             "line": {
              "color": "white"
             }
            },
            "header": {
             "fill": {
              "color": "#C8D4E3"
             },
             "line": {
              "color": "white"
             }
            },
            "type": "table"
           }
          ]
         },
         "layout": {
          "annotationdefaults": {
           "arrowcolor": "#2a3f5f",
           "arrowhead": 0,
           "arrowwidth": 1
          },
          "autotypenumbers": "strict",
          "coloraxis": {
           "colorbar": {
            "outlinewidth": 0,
            "ticks": ""
           }
          },
          "colorscale": {
           "diverging": [
            [
             0,
             "#8e0152"
            ],
            [
             0.1,
             "#c51b7d"
            ],
            [
             0.2,
             "#de77ae"
            ],
            [
             0.3,
             "#f1b6da"
            ],
            [
             0.4,
             "#fde0ef"
            ],
            [
             0.5,
             "#f7f7f7"
            ],
            [
             0.6,
             "#e6f5d0"
            ],
            [
             0.7,
             "#b8e186"
            ],
            [
             0.8,
             "#7fbc41"
            ],
            [
             0.9,
             "#4d9221"
            ],
            [
             1,
             "#276419"
            ]
           ],
           "sequential": [
            [
             0,
             "#0d0887"
            ],
            [
             0.1111111111111111,
             "#46039f"
            ],
            [
             0.2222222222222222,
             "#7201a8"
            ],
            [
             0.3333333333333333,
             "#9c179e"
            ],
            [
             0.4444444444444444,
             "#bd3786"
            ],
            [
             0.5555555555555556,
             "#d8576b"
            ],
            [
             0.6666666666666666,
             "#ed7953"
            ],
            [
             0.7777777777777778,
             "#fb9f3a"
            ],
            [
             0.8888888888888888,
             "#fdca26"
            ],
            [
             1,
             "#f0f921"
            ]
           ],
           "sequentialminus": [
            [
             0,
             "#0d0887"
            ],
            [
             0.1111111111111111,
             "#46039f"
            ],
            [
             0.2222222222222222,
             "#7201a8"
            ],
            [
             0.3333333333333333,
             "#9c179e"
            ],
            [
             0.4444444444444444,
             "#bd3786"
            ],
            [
             0.5555555555555556,
             "#d8576b"
            ],
            [
             0.6666666666666666,
             "#ed7953"
            ],
            [
             0.7777777777777778,
             "#fb9f3a"
            ],
            [
             0.8888888888888888,
             "#fdca26"
            ],
            [
             1,
             "#f0f921"
            ]
           ]
          },
          "colorway": [
           "#636efa",
           "#EF553B",
           "#00cc96",
           "#ab63fa",
           "#FFA15A",
           "#19d3f3",
           "#FF6692",
           "#B6E880",
           "#FF97FF",
           "#FECB52"
          ],
          "font": {
           "color": "#2a3f5f"
          },
          "geo": {
           "bgcolor": "white",
           "lakecolor": "white",
           "landcolor": "white",
           "showlakes": true,
           "showland": true,
           "subunitcolor": "#C8D4E3"
          },
          "hoverlabel": {
           "align": "left"
          },
          "hovermode": "closest",
          "mapbox": {
           "style": "light"
          },
          "paper_bgcolor": "white",
          "plot_bgcolor": "white",
          "polar": {
           "angularaxis": {
            "gridcolor": "#EBF0F8",
            "linecolor": "#EBF0F8",
            "ticks": ""
           },
           "bgcolor": "white",
           "radialaxis": {
            "gridcolor": "#EBF0F8",
            "linecolor": "#EBF0F8",
            "ticks": ""
           }
          },
          "scene": {
           "xaxis": {
            "backgroundcolor": "white",
            "gridcolor": "#DFE8F3",
            "gridwidth": 2,
            "linecolor": "#EBF0F8",
            "showbackground": true,
            "ticks": "",
            "zerolinecolor": "#EBF0F8"
           },
           "yaxis": {
            "backgroundcolor": "white",
            "gridcolor": "#DFE8F3",
            "gridwidth": 2,
            "linecolor": "#EBF0F8",
            "showbackground": true,
            "ticks": "",
            "zerolinecolor": "#EBF0F8"
           },
           "zaxis": {
            "backgroundcolor": "white",
            "gridcolor": "#DFE8F3",
            "gridwidth": 2,
            "linecolor": "#EBF0F8",
            "showbackground": true,
            "ticks": "",
            "zerolinecolor": "#EBF0F8"
           }
          },
          "shapedefaults": {
           "line": {
            "color": "#2a3f5f"
           }
          },
          "ternary": {
           "aaxis": {
            "gridcolor": "#DFE8F3",
            "linecolor": "#A2B1C6",
            "ticks": ""
           },
           "baxis": {
            "gridcolor": "#DFE8F3",
            "linecolor": "#A2B1C6",
            "ticks": ""
           },
           "bgcolor": "white",
           "caxis": {
            "gridcolor": "#DFE8F3",
            "linecolor": "#A2B1C6",
            "ticks": ""
           }
          },
          "title": {
           "x": 0.05
          },
          "xaxis": {
           "automargin": true,
           "gridcolor": "#EBF0F8",
           "linecolor": "#EBF0F8",
           "ticks": "",
           "title": {
            "standoff": 15
           },
           "zerolinecolor": "#EBF0F8",
           "zerolinewidth": 2
          },
          "yaxis": {
           "automargin": true,
           "gridcolor": "#EBF0F8",
           "linecolor": "#EBF0F8",
           "ticks": "",
           "title": {
            "standoff": 15
           },
           "zerolinecolor": "#EBF0F8",
           "zerolinewidth": 2
          }
         }
        },
        "title": {
         "font": {
          "color": "Black",
          "size": 22
         },
         "text": "Topic Word Scores",
         "x": 0.5,
         "xanchor": "center",
         "yanchor": "top"
        },
        "width": 1000,
        "xaxis": {
         "anchor": "y",
         "domain": [
          0,
          0.175
         ],
         "showgrid": true
        },
        "xaxis2": {
         "anchor": "y2",
         "domain": [
          0.275,
          0.45
         ],
         "showgrid": true
        },
        "xaxis3": {
         "anchor": "y3",
         "domain": [
          0.55,
          0.7250000000000001
         ],
         "showgrid": true
        },
        "xaxis4": {
         "anchor": "y4",
         "domain": [
          0.825,
          1
         ],
         "showgrid": true
        },
        "xaxis5": {
         "anchor": "y5",
         "domain": [
          0,
          0.175
         ],
         "showgrid": true
        },
        "xaxis6": {
         "anchor": "y6",
         "domain": [
          0.275,
          0.45
         ],
         "showgrid": true
        },
        "xaxis7": {
         "anchor": "y7",
         "domain": [
          0.55,
          0.7250000000000001
         ],
         "showgrid": true
        },
        "xaxis8": {
         "anchor": "y8",
         "domain": [
          0.825,
          1
         ],
         "showgrid": true
        },
        "yaxis": {
         "anchor": "x",
         "domain": [
          0.6000000000000001,
          1
         ],
         "showgrid": true
        },
        "yaxis2": {
         "anchor": "x2",
         "domain": [
          0.6000000000000001,
          1
         ],
         "showgrid": true
        },
        "yaxis3": {
         "anchor": "x3",
         "domain": [
          0.6000000000000001,
          1
         ],
         "showgrid": true
        },
        "yaxis4": {
         "anchor": "x4",
         "domain": [
          0.6000000000000001,
          1
         ],
         "showgrid": true
        },
        "yaxis5": {
         "anchor": "x5",
         "domain": [
          0,
          0.4
         ],
         "showgrid": true
        },
        "yaxis6": {
         "anchor": "x6",
         "domain": [
          0,
          0.4
         ],
         "showgrid": true
        },
        "yaxis7": {
         "anchor": "x7",
         "domain": [
          0,
          0.4
         ],
         "showgrid": true
        },
        "yaxis8": {
         "anchor": "x8",
         "domain": [
          0,
          0.4
         ],
         "showgrid": true
        }
       }
      }
     },
     "metadata": {},
     "output_type": "display_data"
    }
   ],
   "source": [
    "topic_model_KeyBERTInspired.visualize_barchart()"
   ]
  },
  {
   "cell_type": "markdown",
   "id": "fb890422-1c29-481e-86a9-b7844d9268d7",
   "metadata": {},
   "source": [
    "# BERTopic (MMR)"
   ]
  },
  {
   "cell_type": "code",
   "execution_count": 39,
   "id": "902c071c-ff90-4bfb-8dc0-b88b2d83e1d7",
   "metadata": {},
   "outputs": [
    {
     "name": "stderr",
     "output_type": "stream",
     "text": [
      "2025-05-16 00:23:34,127 - BERTopic - Embedding - Transforming documents to embeddings.\n",
      "Batches: 100%|██████████| 597/597 [00:28<00:00, 20.80it/s] \n",
      "2025-05-16 00:24:03,865 - BERTopic - Embedding - Completed ✓\n",
      "2025-05-16 00:24:03,866 - BERTopic - Dimensionality - Fitting the dimensionality reduction algorithm\n",
      "2025-05-16 00:24:04,876 - BERTopic - Dimensionality - Completed ✓\n",
      "2025-05-16 00:24:04,879 - BERTopic - Cluster - Start clustering the reduced embeddings\n"
     ]
    },
    {
     "name": "stdout",
     "output_type": "stream",
     "text": [
      "[2025-05-16 00:24:03.885] [CUML] [debug] Computing KNN Graph\n",
      "[2025-05-16 00:24:03.979] [CUML] [debug] Computing fuzzy simplicial set\n",
      "[2025-05-16 00:24:04.704] [CUML] [debug] Running transform\n",
      "[2025-05-16 00:24:04.704] [CUML] [debug] Building KNN Graph\n",
      "[2025-05-16 00:24:04.814] [CUML] [debug] Smoothing KNN distances\n",
      "[2025-05-16 00:24:04.816] [CUML] [debug] Executing fuzzy simplicial set\n",
      "[2025-05-16 00:24:04.818] [CUML] [debug] Performing L1 normalization\n",
      "[2025-05-16 00:24:04.834] [CUML] [debug] n_epochs=30\n",
      "[2025-05-16 00:24:04.839] [CUML] [debug] Computing # of epochs for training each sample\n",
      "[2025-05-16 00:24:04.840] [CUML] [debug] Performing optimization\n"
     ]
    },
    {
     "name": "stderr",
     "output_type": "stream",
     "text": [
      "2025-05-16 00:24:05,427 - BERTopic - Cluster - Completed ✓\n",
      "2025-05-16 00:24:05,437 - BERTopic - Representation - Fine-tuning topics using representation models.\n",
      "2025-05-16 00:24:08,781 - BERTopic - Representation - Completed ✓\n"
     ]
    }
   ],
   "source": [
    "representation_model = MaximalMarginalRelevance(diversity=0.3)\n",
    "\n",
    "topic_model_MMR = BERTopic(representation_model=representation_model,\n",
    "                                       embedding_model=embedding_model,\n",
    "                                       umap_model=umap_model,\n",
    "                                       hdbscan_model=hdbscan_model,\n",
    "                                       verbose=True,\n",
    "                                       language=\"french\")\n",
    "topics_MMR, probs_MMR = topic_model_MMR.fit_transform(filtered_docs_cleaned)"
   ]
  },
  {
   "cell_type": "code",
   "execution_count": 40,
   "id": "ea9917cc-d81e-4ba9-8ccd-9264923f62a2",
   "metadata": {},
   "outputs": [
    {
     "data": {
      "text/html": [
       "<div>\n",
       "<style scoped>\n",
       "    .dataframe tbody tr th:only-of-type {\n",
       "        vertical-align: middle;\n",
       "    }\n",
       "\n",
       "    .dataframe tbody tr th {\n",
       "        vertical-align: top;\n",
       "    }\n",
       "\n",
       "    .dataframe thead th {\n",
       "        text-align: right;\n",
       "    }\n",
       "</style>\n",
       "<table border=\"1\" class=\"dataframe\">\n",
       "  <thead>\n",
       "    <tr style=\"text-align: right;\">\n",
       "      <th></th>\n",
       "      <th>Topic</th>\n",
       "      <th>Count</th>\n",
       "      <th>Name</th>\n",
       "      <th>Representation</th>\n",
       "      <th>Representative_Docs</th>\n",
       "    </tr>\n",
       "  </thead>\n",
       "  <tbody>\n",
       "    <tr>\n",
       "      <th>0</th>\n",
       "      <td>-1</td>\n",
       "      <td>11249</td>\n",
       "      <td>-1_travail_heure_jour_salarié</td>\n",
       "      <td>[travail, heure, jour, salarié, accord, supplé...</td>\n",
       "      <td>[article 8.3 congé payer   \\t 18 \\n 8.3.1 défi...</td>\n",
       "    </tr>\n",
       "    <tr>\n",
       "      <th>1</th>\n",
       "      <td>0</td>\n",
       "      <td>520</td>\n",
       "      <td>0_révision_signataire_accord_recommander</td>\n",
       "      <td>[révision, signataire, accord, recommander, 22...</td>\n",
       "      <td>[article 5 dénonciation révision  \\n\\n présent...</td>\n",
       "    </tr>\n",
       "    <tr>\n",
       "      <th>2</th>\n",
       "      <td>1</td>\n",
       "      <td>374</td>\n",
       "      <td>1_pause_temps_occupation_travail</td>\n",
       "      <td>[pause, temps, occupation, travail, directive,...</td>\n",
       "      <td>[2 1 temps travail effectif \\n rappeler temps ...</td>\n",
       "    </tr>\n",
       "    <tr>\n",
       "      <th>3</th>\n",
       "      <td>2</td>\n",
       "      <td>313</td>\n",
       "      <td>2_temps_amenagement_travail_effectif</td>\n",
       "      <td>[temps, amenagement, travail, effectif, modula...</td>\n",
       "      <td>[article 2 temps travail \\t 6, article 5 aména...</td>\n",
       "    </tr>\n",
       "    <tr>\n",
       "      <th>4</th>\n",
       "      <td>3</td>\n",
       "      <td>296</td>\n",
       "      <td>3_absence_rémunération_rémunérer_rupture</td>\n",
       "      <td>[absence, rémunération, rémunérer, rupture, sa...</td>\n",
       "      <td>[4.5 absence arriver départ cours période \\n\\n...</td>\n",
       "    </tr>\n",
       "    <tr>\n",
       "      <th>...</th>\n",
       "      <td>...</td>\n",
       "      <td>...</td>\n",
       "      <td>...</td>\n",
       "      <td>...</td>\n",
       "      <td>...</td>\n",
       "    </tr>\n",
       "    <tr>\n",
       "      <th>74</th>\n",
       "      <td>73</td>\n",
       "      <td>22</td>\n",
       "      <td>73_déconnexion_deconnexion_droit_sensibilisation</td>\n",
       "      <td>[déconnexion, deconnexion, droit, sensibilisat...</td>\n",
       "      <td>[droit déconnexion, 4.4.2 \\t droit déconnexion...</td>\n",
       "    </tr>\n",
       "    <tr>\n",
       "      <th>75</th>\n",
       "      <td>74</td>\n",
       "      <td>21</td>\n",
       "      <td>74_réglementaire_imputation_supplémentaire_con...</td>\n",
       "      <td>[réglementaire, imputation, supplémentaire, co...</td>\n",
       "      <td>[4.1 définition   \\n\\n constituer heure supplé...</td>\n",
       "    </tr>\n",
       "    <tr>\n",
       "      <th>76</th>\n",
       "      <td>75</td>\n",
       "      <td>21</td>\n",
       "      <td>75_sédentaire_bâtiment_apporter_adaptation</td>\n",
       "      <td>[sédentaire, bâtiment, apporter, adaptation, d...</td>\n",
       "      <td>[article 3 1   salarié concerner \\n ouvrier no...</td>\n",
       "    </tr>\n",
       "    <tr>\n",
       "      <th>77</th>\n",
       "      <td>76</td>\n",
       "      <td>21</td>\n",
       "      <td>76_consécutif_3121_hebdomadaire_minimal</td>\n",
       "      <td>[consécutif, 3121, hebdomadaire, minimal, ampl...</td>\n",
       "      <td>[4.3 amplitude repos \\n rappeler compte tenir ...</td>\n",
       "    </tr>\n",
       "    <tr>\n",
       "      <th>78</th>\n",
       "      <td>77</td>\n",
       "      <td>20</td>\n",
       "      <td>77_petit_deplacement_déplacement_indemnite</td>\n",
       "      <td>[petit, deplacement, déplacement, indemnite, a...</td>\n",
       "      <td>[article 2 petit deplacement, article 2   peti...</td>\n",
       "    </tr>\n",
       "  </tbody>\n",
       "</table>\n",
       "<p>79 rows × 5 columns</p>\n",
       "</div>"
      ],
      "text/plain": [
       "    Topic  Count                                               Name  \\\n",
       "0      -1  11249                      -1_travail_heure_jour_salarié   \n",
       "1       0    520           0_révision_signataire_accord_recommander   \n",
       "2       1    374                   1_pause_temps_occupation_travail   \n",
       "3       2    313               2_temps_amenagement_travail_effectif   \n",
       "4       3    296           3_absence_rémunération_rémunérer_rupture   \n",
       "..    ...    ...                                                ...   \n",
       "74     73     22   73_déconnexion_deconnexion_droit_sensibilisation   \n",
       "75     74     21  74_réglementaire_imputation_supplémentaire_con...   \n",
       "76     75     21         75_sédentaire_bâtiment_apporter_adaptation   \n",
       "77     76     21            76_consécutif_3121_hebdomadaire_minimal   \n",
       "78     77     20         77_petit_deplacement_déplacement_indemnite   \n",
       "\n",
       "                                       Representation  \\\n",
       "0   [travail, heure, jour, salarié, accord, supplé...   \n",
       "1   [révision, signataire, accord, recommander, 22...   \n",
       "2   [pause, temps, occupation, travail, directive,...   \n",
       "3   [temps, amenagement, travail, effectif, modula...   \n",
       "4   [absence, rémunération, rémunérer, rupture, sa...   \n",
       "..                                                ...   \n",
       "74  [déconnexion, deconnexion, droit, sensibilisat...   \n",
       "75  [réglementaire, imputation, supplémentaire, co...   \n",
       "76  [sédentaire, bâtiment, apporter, adaptation, d...   \n",
       "77  [consécutif, 3121, hebdomadaire, minimal, ampl...   \n",
       "78  [petit, deplacement, déplacement, indemnite, a...   \n",
       "\n",
       "                                  Representative_Docs  \n",
       "0   [article 8.3 congé payer   \\t 18 \\n 8.3.1 défi...  \n",
       "1   [article 5 dénonciation révision  \\n\\n présent...  \n",
       "2   [2 1 temps travail effectif \\n rappeler temps ...  \n",
       "3   [article 2 temps travail \\t 6, article 5 aména...  \n",
       "4   [4.5 absence arriver départ cours période \\n\\n...  \n",
       "..                                                ...  \n",
       "74  [droit déconnexion, 4.4.2 \\t droit déconnexion...  \n",
       "75  [4.1 définition   \\n\\n constituer heure supplé...  \n",
       "76  [article 3 1   salarié concerner \\n ouvrier no...  \n",
       "77  [4.3 amplitude repos \\n rappeler compte tenir ...  \n",
       "78  [article 2 petit deplacement, article 2   peti...  \n",
       "\n",
       "[79 rows x 5 columns]"
      ]
     },
     "execution_count": 40,
     "metadata": {},
     "output_type": "execute_result"
    }
   ],
   "source": [
    "topic_model_MMR.get_topic_info()"
   ]
  },
  {
   "cell_type": "markdown",
   "id": "8d201d78-22d4-40c5-b484-2b2387d608a4",
   "metadata": {},
   "source": [
    " # Hierarchical topics "
   ]
  },
  {
   "cell_type": "code",
   "execution_count": 41,
   "id": "c47a8ab4-1904-4337-b461-29b75be89de3",
   "metadata": {},
   "outputs": [
    {
     "name": "stderr",
     "output_type": "stream",
     "text": [
      "100%|██████████| 77/77 [00:02<00:00, 36.35it/s]\n"
     ]
    },
    {
     "data": {
      "text/html": [
       "<div>\n",
       "<style scoped>\n",
       "    .dataframe tbody tr th:only-of-type {\n",
       "        vertical-align: middle;\n",
       "    }\n",
       "\n",
       "    .dataframe tbody tr th {\n",
       "        vertical-align: top;\n",
       "    }\n",
       "\n",
       "    .dataframe thead th {\n",
       "        text-align: right;\n",
       "    }\n",
       "</style>\n",
       "<table border=\"1\" class=\"dataframe\">\n",
       "  <thead>\n",
       "    <tr style=\"text-align: right;\">\n",
       "      <th></th>\n",
       "      <th>Parent_ID</th>\n",
       "      <th>Parent_Name</th>\n",
       "      <th>Topics</th>\n",
       "      <th>Child_Left_ID</th>\n",
       "      <th>Child_Left_Name</th>\n",
       "      <th>Child_Right_ID</th>\n",
       "      <th>Child_Right_Name</th>\n",
       "      <th>Distance</th>\n",
       "    </tr>\n",
       "  </thead>\n",
       "  <tbody>\n",
       "    <tr>\n",
       "      <th>76</th>\n",
       "      <td>154</td>\n",
       "      <td>travail_accord_salarié_repos_disposition</td>\n",
       "      <td>[0, 1, 2, 3, 4, 5, 6, 7, 8, 9, 10, 11, 12, 13,...</td>\n",
       "      <td>151</td>\n",
       "      <td>révision_dépôt_société_signataire_dénonciation</td>\n",
       "      <td>153</td>\n",
       "      <td>travail_jour_article_rémunération_absence</td>\n",
       "      <td>2.039367</td>\n",
       "    </tr>\n",
       "    <tr>\n",
       "      <th>75</th>\n",
       "      <td>153</td>\n",
       "      <td>travail_jour_article_rémunération_absence</td>\n",
       "      <td>[1, 3, 6, 7, 8, 9, 10, 11, 14, 15, 16, 18, 19,...</td>\n",
       "      <td>152</td>\n",
       "      <td>jour_travail_salarié_période_absence</td>\n",
       "      <td>145</td>\n",
       "      <td>supplémentaire_heure_contingent_complémentaire...</td>\n",
       "      <td>1.840023</td>\n",
       "    </tr>\n",
       "    <tr>\n",
       "      <th>74</th>\n",
       "      <td>152</td>\n",
       "      <td>jour_travail_salarié_période_absence</td>\n",
       "      <td>[1, 3, 6, 7, 8, 9, 10, 15, 16, 19, 22, 25, 26,...</td>\n",
       "      <td>130</td>\n",
       "      <td>hebdomadaire_amplitude_travail_consécutiver_jo...</td>\n",
       "      <td>150</td>\n",
       "      <td>jour_salarié_travail_période_absence</td>\n",
       "      <td>1.692324</td>\n",
       "    </tr>\n",
       "    <tr>\n",
       "      <th>73</th>\n",
       "      <td>151</td>\n",
       "      <td>révision_dépôt_société_signataire_dénonciation</td>\n",
       "      <td>[0, 2, 4, 5, 12, 13, 17, 21, 23, 24, 27, 34, 3...</td>\n",
       "      <td>135</td>\n",
       "      <td>trajet_zone_kilomètre_déplacement_petit</td>\n",
       "      <td>149</td>\n",
       "      <td>société_signataire_dénonciation_dépôt_disposition</td>\n",
       "      <td>1.459704</td>\n",
       "    </tr>\n",
       "    <tr>\n",
       "      <th>72</th>\n",
       "      <td>150</td>\n",
       "      <td>jour_salarié_travail_période_absence</td>\n",
       "      <td>[1, 3, 6, 7, 8, 9, 10, 15, 16, 19, 25, 26, 28,...</td>\n",
       "      <td>122</td>\n",
       "      <td>contrepartie_obligatoire_compensateur_demande_...</td>\n",
       "      <td>148</td>\n",
       "      <td>jour_salarié_temps_travail_absence</td>\n",
       "      <td>1.454840</td>\n",
       "    </tr>\n",
       "    <tr>\n",
       "      <th>...</th>\n",
       "      <td>...</td>\n",
       "      <td>...</td>\n",
       "      <td>...</td>\n",
       "      <td>...</td>\n",
       "      <td>...</td>\n",
       "      <td>...</td>\n",
       "      <td>...</td>\n",
       "      <td>...</td>\n",
       "    </tr>\n",
       "    <tr>\n",
       "      <th>4</th>\n",
       "      <td>82</td>\n",
       "      <td>partiel_annualisation_temps_salarier_travail</td>\n",
       "      <td>[15, 47]</td>\n",
       "      <td>15</td>\n",
       "      <td>annualisation_temps_période_plein_salarié</td>\n",
       "      <td>47</td>\n",
       "      <td>partiel_salarier_hebdomadaire_salarié_période</td>\n",
       "      <td>0.299154</td>\n",
       "    </tr>\n",
       "    <tr>\n",
       "      <th>3</th>\n",
       "      <td>81</td>\n",
       "      <td>repos_hebdomadaire_consécutif_consécutiver_min...</td>\n",
       "      <td>[30, 57]</td>\n",
       "      <td>30</td>\n",
       "      <td>repos_hebdomadaire_consécutiver_consécutif_ajo...</td>\n",
       "      <td>57</td>\n",
       "      <td>quotidien_repos_article11_hebdomadaires_minimal</td>\n",
       "      <td>0.295648</td>\n",
       "    </tr>\n",
       "    <tr>\n",
       "      <th>2</th>\n",
       "      <td>80</td>\n",
       "      <td>contingent_supplémentaire_heure_220_contrepartie</td>\n",
       "      <td>[11, 32, 54]</td>\n",
       "      <td>32</td>\n",
       "      <td>contingent_supplementaire_heure_fixer_dépassement</td>\n",
       "      <td>79</td>\n",
       "      <td>contingent_supplémentaire_heure_annuel_etam</td>\n",
       "      <td>0.287376</td>\n",
       "    </tr>\n",
       "    <tr>\n",
       "      <th>1</th>\n",
       "      <td>79</td>\n",
       "      <td>contingent_supplémentaire_heure_annuel_etam</td>\n",
       "      <td>[11, 54]</td>\n",
       "      <td>11</td>\n",
       "      <td>contingent_supplémentaire_heure_annuel_etam</td>\n",
       "      <td>54</td>\n",
       "      <td>contingent_supplémentaire_accomplie_obligatoir...</td>\n",
       "      <td>0.154028</td>\n",
       "    </tr>\n",
       "    <tr>\n",
       "      <th>0</th>\n",
       "      <td>78</td>\n",
       "      <td>supplémentaire_majoration_effectuer_compensate...</td>\n",
       "      <td>[14, 18]</td>\n",
       "      <td>18</td>\n",
       "      <td>supplémentaire_majoration_compensateur_effectu...</td>\n",
       "      <td>14</td>\n",
       "      <td>supplémentaire_effectuer_majoration_légal_hebd...</td>\n",
       "      <td>0.120616</td>\n",
       "    </tr>\n",
       "  </tbody>\n",
       "</table>\n",
       "<p>77 rows × 8 columns</p>\n",
       "</div>"
      ],
      "text/plain": [
       "   Parent_ID                                        Parent_Name  \\\n",
       "76       154           travail_accord_salarié_repos_disposition   \n",
       "75       153          travail_jour_article_rémunération_absence   \n",
       "74       152               jour_travail_salarié_période_absence   \n",
       "73       151     révision_dépôt_société_signataire_dénonciation   \n",
       "72       150               jour_salarié_travail_période_absence   \n",
       "..       ...                                                ...   \n",
       "4         82       partiel_annualisation_temps_salarier_travail   \n",
       "3         81  repos_hebdomadaire_consécutif_consécutiver_min...   \n",
       "2         80   contingent_supplémentaire_heure_220_contrepartie   \n",
       "1         79        contingent_supplémentaire_heure_annuel_etam   \n",
       "0         78  supplémentaire_majoration_effectuer_compensate...   \n",
       "\n",
       "                                               Topics Child_Left_ID  \\\n",
       "76  [0, 1, 2, 3, 4, 5, 6, 7, 8, 9, 10, 11, 12, 13,...           151   \n",
       "75  [1, 3, 6, 7, 8, 9, 10, 11, 14, 15, 16, 18, 19,...           152   \n",
       "74  [1, 3, 6, 7, 8, 9, 10, 15, 16, 19, 22, 25, 26,...           130   \n",
       "73  [0, 2, 4, 5, 12, 13, 17, 21, 23, 24, 27, 34, 3...           135   \n",
       "72  [1, 3, 6, 7, 8, 9, 10, 15, 16, 19, 25, 26, 28,...           122   \n",
       "..                                                ...           ...   \n",
       "4                                            [15, 47]            15   \n",
       "3                                            [30, 57]            30   \n",
       "2                                        [11, 32, 54]            32   \n",
       "1                                            [11, 54]            11   \n",
       "0                                            [14, 18]            18   \n",
       "\n",
       "                                      Child_Left_Name Child_Right_ID  \\\n",
       "76     révision_dépôt_société_signataire_dénonciation            153   \n",
       "75               jour_travail_salarié_période_absence            145   \n",
       "74  hebdomadaire_amplitude_travail_consécutiver_jo...            150   \n",
       "73            trajet_zone_kilomètre_déplacement_petit            149   \n",
       "72  contrepartie_obligatoire_compensateur_demande_...            148   \n",
       "..                                                ...            ...   \n",
       "4           annualisation_temps_période_plein_salarié             47   \n",
       "3   repos_hebdomadaire_consécutiver_consécutif_ajo...             57   \n",
       "2   contingent_supplementaire_heure_fixer_dépassement             79   \n",
       "1         contingent_supplémentaire_heure_annuel_etam             54   \n",
       "0   supplémentaire_majoration_compensateur_effectu...             14   \n",
       "\n",
       "                                     Child_Right_Name  Distance  \n",
       "76          travail_jour_article_rémunération_absence  2.039367  \n",
       "75  supplémentaire_heure_contingent_complémentaire...  1.840023  \n",
       "74               jour_salarié_travail_période_absence  1.692324  \n",
       "73  société_signataire_dénonciation_dépôt_disposition  1.459704  \n",
       "72                 jour_salarié_temps_travail_absence  1.454840  \n",
       "..                                                ...       ...  \n",
       "4       partiel_salarier_hebdomadaire_salarié_période  0.299154  \n",
       "3     quotidien_repos_article11_hebdomadaires_minimal  0.295648  \n",
       "2         contingent_supplémentaire_heure_annuel_etam  0.287376  \n",
       "1   contingent_supplémentaire_accomplie_obligatoir...  0.154028  \n",
       "0   supplémentaire_effectuer_majoration_légal_hebd...  0.120616  \n",
       "\n",
       "[77 rows x 8 columns]"
      ]
     },
     "execution_count": 41,
     "metadata": {},
     "output_type": "execute_result"
    }
   ],
   "source": [
    "hierarchical_topics = topic_model_MMR.hierarchical_topics(filtered_docs_cleaned)\n",
    "hierarchical_topics"
   ]
  },
  {
   "cell_type": "code",
   "execution_count": 42,
   "id": "d1ece152-ffdc-4a07-a968-e39490faadf7",
   "metadata": {},
   "outputs": [
    {
     "name": "stderr",
     "output_type": "stream",
     "text": [
      "100%|██████████| 77/77 [00:02<00:00, 26.81it/s]\n"
     ]
    }
   ],
   "source": [
    "linkage_function = lambda x: sch.linkage(x, 'single', optimal_ordering=True)\n",
    "hierarchical_topics = topic_model_MMR.hierarchical_topics(filtered_docs_cleaned, linkage_function=linkage_function)"
   ]
  },
  {
   "cell_type": "code",
   "execution_count": 43,
   "id": "e9d9eb34-5d16-4c39-8c17-b4e24e8a8d83",
   "metadata": {},
   "outputs": [
    {
     "data": {
      "application/vnd.plotly.v1+json": {
       "config": {
        "plotlyServerURL": "https://plot.ly"
       },
       "data": [
        {
         "hoverinfo": "text",
         "marker": {
          "color": "rgb(61,153,112)"
         },
         "mode": "lines",
         "text": [
          "sédentaire_bâtiment_apporter_adaptation_déplacement",
          "",
          "",
          "petit_deplacement_déplacement_indemnite_article"
         ],
         "type": "scatter",
         "x": {
          "bdata": "AAAAAAAAAACYhf/AkWDoP5iF/8CRYOg/AAAAAAAAAAA=",
          "dtype": "f8"
         },
         "xaxis": "x",
         "y": {
          "bdata": "AAAAAAAAFMAAAAAAAAAUwAAAAAAAAC7AAAAAAAAALsA=",
          "dtype": "f8"
         },
         "yaxis": "y"
        },
        {
         "hoverinfo": "text",
         "marker": {
          "color": "rgb(255,65,54)"
         },
         "mode": "lines",
         "text": [
          "concentrique_kilomètre_mesurer_déplacement_itinéraire",
          "",
          "",
          "chantier_trajet_kilomètre_siège_transporter"
         ],
         "type": "scatter",
         "x": {
          "bdata": "AAAAAAAAAAC4Pcdo1lPnP7g9x2jWU+c/AAAAAAAAAAA=",
          "dtype": "f8"
         },
         "xaxis": "x",
         "y": {
          "bdata": "AAAAAAAAOcAAAAAAAAA5wAAAAAAAgEHAAAAAAACAQcA=",
          "dtype": "f8"
         },
         "yaxis": "y"
        },
        {
         "hoverinfo": "text",
         "marker": {
          "color": "rgb(255,65,54)"
         },
         "mode": "lines",
         "text": [
          "restaurant_ticket_restaurer_occasionner_euro",
          "",
          "",
          "transport_déplacement_freight_véhicule_euro"
         ],
         "type": "scatter",
         "x": {
          "bdata": "AAAAAAAAAAAqaulOvfPnPypq6U698+c/AAAAAAAAAAA=",
          "dtype": "f8"
         },
         "xaxis": "x",
         "y": {
          "bdata": "AAAAAACARsAAAAAAAIBGwAAAAAAAgEvAAAAAAACAS8A=",
          "dtype": "f8"
         },
         "yaxis": "y"
        },
        {
         "hoverinfo": "text",
         "marker": {
          "color": "rgb(255,65,54)"
         },
         "mode": "lines",
         "text": [
          "chantier_trajet_zone_kilomètre_concentrique",
          "",
          "",
          "transport_restaurant_frais_ticket_euro"
         ],
         "type": "scatter",
         "x": {
          "bdata": "uD3HaNZT5z+VYhpXAEruP5ViGlcASu4/KmrpTr3z5z8=",
          "dtype": "f8"
         },
         "xaxis": "x",
         "y": {
          "bdata": "AAAAAAAAPsAAAAAAAAA+wAAAAAAAAEnAAAAAAAAAScA=",
          "dtype": "f8"
         },
         "yaxis": "y"
        },
        {
         "hoverinfo": "text",
         "marker": {
          "color": "rgb(0,116,217)"
         },
         "mode": "lines",
         "text": [
          "précision_sédentaire_bâtiment_déplacement_adaptation",
          "",
          "",
          "transport_restaurant_frais_ticket_euro"
         ],
         "type": "scatter",
         "x": {
          "bdata": "mIX/wJFg6D+eJqF1kWzwP54moXWRbPA/lWIaVwBK7j8=",
          "dtype": "f8"
         },
         "xaxis": "x",
         "y": {
          "bdata": "AAAAAAAAJMAAAAAAAAAkwAAAAAAAAETAAAAAAAAARMA=",
          "dtype": "f8"
         },
         "yaxis": "y"
        },
        {
         "hoverinfo": "text",
         "marker": {
          "color": "rgb(35,205,205)"
         },
         "mode": "lines",
         "text": [
          "site_portailteleprocedures_formalités_ministère_fr",
          "",
          "",
          "exemplaire_déposer_dépôt_prud_accord"
         ],
         "type": "scatter",
         "x": {
          "bdata": "AAAAAAAAAAByXoa362PgP3JehrfrY+A/AAAAAAAAAAA=",
          "dtype": "f8"
         },
         "xaxis": "x",
         "y": {
          "bdata": "AAAAAABAUMAAAAAAAEBQwAAAAAAAwFLAAAAAAADAUsA=",
          "dtype": "f8"
         },
         "yaxis": "y"
        },
        {
         "hoverinfo": "text",
         "marker": {
          "color": "rgb(133,20,75)"
         },
         "mode": "lines",
         "text": [
          "société_accord_organisation_preambule_aménagement",
          "",
          "",
          "société_représenter_capital_rue_dénommée"
         ],
         "type": "scatter",
         "x": {
          "bdata": "AAAAAAAAAACOFy2J95jiP44XLYn3mOI/AAAAAAAAAAA=",
          "dtype": "f8"
         },
         "xaxis": "x",
         "y": {
          "bdata": "AAAAAADAV8AAAAAAAMBXwAAAAAAAQFrAAAAAAABAWsA=",
          "dtype": "f8"
         },
         "yaxis": "y"
        },
        {
         "hoverinfo": "text",
         "marker": {
          "color": "rgb(133,20,75)"
         },
         "mode": "lines",
         "text": [
          "consultation_transmission_personnel_tiers_accord",
          "",
          "",
          "société_représenter_capital_rue_dénommée"
         ],
         "type": "scatter",
         "x": {
          "bdata": "AAAAAAAAAACG9QOkB7fpP4b1A6QHt+k/jhctifeY4j8=",
          "dtype": "f8"
         },
         "xaxis": "x",
         "y": {
          "bdata": "AAAAAABAVcAAAAAAAEBVwAAAAAAAAFnAAAAAAAAAWcA=",
          "dtype": "f8"
         },
         "yaxis": "y"
        },
        {
         "hoverinfo": "text",
         "marker": {
          "color": "rgb(0,116,217)"
         },
         "mode": "lines",
         "text": [
          "déposer_dépôt_greffe_fr_homme",
          "",
          "",
          "société_représenter_capital_rue_dénommée"
         ],
         "type": "scatter",
         "x": {
          "bdata": "cl6Gt+tj4D8b4wI9+ITxPxvjAj34hPE/hvUDpAe36T8=",
          "dtype": "f8"
         },
         "xaxis": "x",
         "y": {
          "bdata": "AAAAAACAUcAAAAAAAIBRwAAAAAAAIFfAAAAAAAAgV8A=",
          "dtype": "f8"
         },
         "yaxis": "y"
        },
        {
         "hoverinfo": "text",
         "marker": {
          "color": "rgb(255,220,0)"
         },
         "mode": "lines",
         "text": [
          "collectif_accord_augmentation_cars_bassin",
          "",
          "",
          "entreprise_accord_participation_plan_pervenche"
         ],
         "type": "scatter",
         "x": {
          "bdata": "AAAAAAAAAAARrDJMVaLjPxGsMkxVouM/AAAAAAAAAAA=",
          "dtype": "f8"
         },
         "xaxis": "x",
         "y": {
          "bdata": "AAAAAADAXMAAAAAAAMBcwAAAAAAAQF/AAAAAAABAX8A=",
          "dtype": "f8"
         },
         "yaxis": "y"
        },
        {
         "hoverinfo": "text",
         "marker": {
          "color": "rgb(0,116,217)"
         },
         "mode": "lines",
         "text": [
          "collectif_accord_augmentation_cars_bassin",
          "",
          "",
          "accord_collectif_augmentation_cars_participation"
         ],
         "type": "scatter",
         "x": {
          "bdata": "G+MCPfiE8T/zeiFLS0fyP/N6IUtLR/I/EawyTFWi4z8=",
          "dtype": "f8"
         },
         "xaxis": "x",
         "y": {
          "bdata": "AAAAAABQVMAAAAAAAFBUwAAAAAAAAF7AAAAAAAAAXsA=",
          "dtype": "f8"
         },
         "yaxis": "y"
        },
        {
         "hoverinfo": "text",
         "marker": {
          "color": "rgb(40,35,35)"
         },
         "mode": "lines",
         "text": [
          "augmentation_2020_janvier_indice_premier",
          "",
          "",
          "euro_mois_taux_2021_équipe"
         ],
         "type": "scatter",
         "x": {
          "bdata": "AAAAAAAAAACHXC7MVvTpP4dcLsxW9Ok/AAAAAAAAAAA=",
          "dtype": "f8"
         },
         "xaxis": "x",
         "y": {
          "bdata": "AAAAAADgYMAAAAAAAOBgwAAAAAAAIGLAAAAAAAAgYsA=",
          "dtype": "f8"
         },
         "yaxis": "y"
        },
        {
         "hoverinfo": "text",
         "marker": {
          "color": "rgb(61,153,112)"
         },
         "mode": "lines",
         "text": [
          "juridique_cadre_regime_article_intégrer",
          "",
          "",
          "preambule_article___"
         ],
         "type": "scatter",
         "x": {
          "bdata": "AAAAAAAAAADQiLMzh+3uP9CIszOH7e4/AAAAAAAAAAA=",
          "dtype": "f8"
         },
         "xaxis": "x",
         "y": {
          "bdata": "AAAAAACgZMAAAAAAAKBkwAAAAAAA4GXAAAAAAADgZcA=",
          "dtype": "f8"
         },
         "yaxis": "y"
        },
        {
         "hoverinfo": "text",
         "marker": {
          "color": "rgb(61,153,112)"
         },
         "mode": "lines",
         "text": [
          "déconnexion_deconnexion_droit_sensibilisation_exercice",
          "",
          "",
          "preambule_article___"
         ],
         "type": "scatter",
         "x": {
          "bdata": "AAAAAAAAAAD0pX57KKzvP/SlfnsorO8/0IizM4ft7j8=",
          "dtype": "f8"
         },
         "xaxis": "x",
         "y": {
          "bdata": "AAAAAABgY8AAAAAAAGBjwAAAAAAAQGXAAAAAAABAZcA=",
          "dtype": "f8"
         },
         "yaxis": "y"
        },
        {
         "hoverinfo": "text",
         "marker": {
          "color": "rgb(0,116,217)"
         },
         "mode": "lines",
         "text": [
          "déconnexion_deconnexion_droit_sensibilisation_exercice",
          "",
          "",
          "preambule_article___"
         ],
         "type": "scatter",
         "x": {
          "bdata": "h1wuzFb06T/swKqN/mzxP+zAqo3+bPE/9KV+eyis7z8=",
          "dtype": "f8"
         },
         "xaxis": "x",
         "y": {
          "bdata": "AAAAAACAYcAAAAAAAIBhwAAAAAAAUGTAAAAAAABQZMA=",
          "dtype": "f8"
         },
         "yaxis": "y"
        },
        {
         "hoverinfo": "text",
         "marker": {
          "color": "rgb(255,65,54)"
         },
         "mode": "lines",
         "text": [
          "article_définition_formalités_travail_evolution",
          "",
          "",
          "denonciation_dénonciation_interpretation_adhesion_iii"
         ],
         "type": "scatter",
         "x": {
          "bdata": "AAAAAAAAAADWjPFGicjpP9aM8UaJyOk/AAAAAAAAAAA=",
          "dtype": "f8"
         },
         "xaxis": "x",
         "y": {
          "bdata": "AAAAAAAgZ8AAAAAAACBnwAAAAAAAYGjAAAAAAABgaMA=",
          "dtype": "f8"
         },
         "yaxis": "y"
        },
        {
         "hoverinfo": "text",
         "marker": {
          "color": "rgb(255,65,54)"
         },
         "mode": "lines",
         "text": [
          "révision_signataire_accord_recommander_2261",
          "",
          "",
          "conclure_accord_entrer_lendemain_dépôt"
         ],
         "type": "scatter",
         "x": {
          "bdata": "AAAAAAAAAACpXDabpUDkP6lcNpulQOQ/AAAAAAAAAAA=",
          "dtype": "f8"
         },
         "xaxis": "x",
         "y": {
          "bdata": "AAAAAACgacAAAAAAAKBpwAAAAAAA4GrAAAAAAADgasA=",
          "dtype": "f8"
         },
         "yaxis": "y"
        },
        {
         "hoverinfo": "text",
         "marker": {
          "color": "rgb(255,65,54)"
         },
         "mode": "lines",
         "text": [
          "révision_signataire_accord_recommander_2261",
          "",
          "",
          "conclure_accord_entrer_lendemain_dépôt"
         ],
         "type": "scatter",
         "x": {
          "bdata": "1ozxRonI6T+1KGZdBULtP7UoZl0FQu0/qVw2m6VA5D8=",
          "dtype": "f8"
         },
         "xaxis": "x",
         "y": {
          "bdata": "AAAAAADAZ8AAAAAAAMBnwAAAAAAAQGrAAAAAAABAasA=",
          "dtype": "f8"
         },
         "yaxis": "y"
        },
        {
         "hoverinfo": "text",
         "marker": {
          "color": "rgb(35,205,205)"
         },
         "mode": "lines",
         "text": [
          "application_territorial_cdd_disposition_exclusion",
          "",
          "",
          "champ_application_article_juridique_accord"
         ],
         "type": "scatter",
         "x": {
          "bdata": "AAAAAAAAAABOA+XoFRHgP04D5egVEeA/AAAAAAAAAAA=",
          "dtype": "f8"
         },
         "xaxis": "x",
         "y": {
          "bdata": "AAAAAAAgbMAAAAAAACBswAAAAAAAYG3AAAAAAABgbcA=",
          "dtype": "f8"
         },
         "yaxis": "y"
        },
        {
         "hoverinfo": "text",
         "marker": {
          "color": "rgb(0,116,217)"
         },
         "mode": "lines",
         "text": [
          "application_territorial_cdd_disposition_exclusion",
          "",
          "",
          "application_territorial_cdd_disposition_déterminer"
         ],
         "type": "scatter",
         "x": {
          "bdata": "tShmXQVC7T8DxoQkn4vxPwPGhCSfi/E/TgPl6BUR4D8=",
          "dtype": "f8"
         },
         "xaxis": "x",
         "y": {
          "bdata": "AAAAAAAAacAAAAAAAABpwAAAAAAAwGzAAAAAAADAbMA=",
          "dtype": "f8"
         },
         "yaxis": "y"
        },
        {
         "hoverinfo": "text",
         "marker": {
          "color": "rgb(0,116,217)"
         },
         "mode": "lines",
         "text": [
          "application_territorial_cdd_disposition_exclusion",
          "",
          "",
          "application_territorial_cdd_disposition_déterminer"
         ],
         "type": "scatter",
         "x": {
          "bdata": "7MCqjf5s8T9oj0eMBevyP2iPR4wF6/I/A8aEJJ+L8T8=",
          "dtype": "f8"
         },
         "xaxis": "x",
         "y": {
          "bdata": "AAAAAADoYsAAAAAAAOhiwAAAAAAA4GrAAAAAAADgasA=",
          "dtype": "f8"
         },
         "yaxis": "y"
        },
        {
         "hoverinfo": "text",
         "marker": {
          "color": "rgb(0,116,217)"
         },
         "mode": "lines",
         "text": [
          "application_territorial_cdd_disposition_exclusion",
          "",
          "",
          "application_territorial_cdd_disposition_déterminer"
         ],
         "type": "scatter",
         "x": {
          "bdata": "83ohS0tH8j9sS2L0BsvzP2xLYvQGy/M/aI9HjAXr8j8=",
          "dtype": "f8"
         },
         "xaxis": "x",
         "y": {
          "bdata": "AAAAAAAoWcAAAAAAAChZwAAAAAAA5GbAAAAAAADkZsA=",
          "dtype": "f8"
         },
         "yaxis": "y"
        },
        {
         "hoverinfo": "text",
         "marker": {
          "color": "rgb(61,153,112)"
         },
         "mode": "lines",
         "text": [
          "disposition_titre_generales_finaler_communes",
          "",
          "",
          "chapitre_chapitrer_disposition_titre_generales"
         ],
         "type": "scatter",
         "x": {
          "bdata": "AAAAAAAAAAA644FSqY7gPzrjgVKpjuA/AAAAAAAAAAA=",
          "dtype": "f8"
         },
         "xaxis": "x",
         "y": {
          "bdata": "AAAAAACgbsAAAAAAAKBuwAAAAAAA4G/AAAAAAADgb8A=",
          "dtype": "f8"
         },
         "yaxis": "y"
        },
        {
         "hoverinfo": "text",
         "marker": {
          "color": "rgb(255,65,54)"
         },
         "mode": "lines",
         "text": [
          "organisation_aménagement_travail_modalité_directif",
          "",
          "",
          "temps_amenagement_travail_effectif_modulation"
         ],
         "type": "scatter",
         "x": {
          "bdata": "AAAAAAAAAACYrKokic7bP5isqiSJzts/AAAAAAAAAAA=",
          "dtype": "f8"
         },
         "xaxis": "x",
         "y": {
          "bdata": "AAAAAAAwccAAAAAAADBxwAAAAAAA0HHAAAAAAADQccA=",
          "dtype": "f8"
         },
         "yaxis": "y"
        },
        {
         "hoverinfo": "text",
         "marker": {
          "color": "rgb(255,65,54)"
         },
         "mode": "lines",
         "text": [
          "temps_organisation_aménagement_amenagement_travail",
          "",
          "",
          "amenagement_renommer_aménagement_accord_reconduction"
         ],
         "type": "scatter",
         "x": {
          "bdata": "mKyqJInO2z/5zInroOzmP/nMieug7OY/AAAAAAAAAAA=",
          "dtype": "f8"
         },
         "xaxis": "x",
         "y": {
          "bdata": "AAAAAACAccAAAAAAAIBxwAAAAAAAcHLAAAAAAABwcsA=",
          "dtype": "f8"
         },
         "yaxis": "y"
        },
        {
         "hoverinfo": "text",
         "marker": {
          "color": "rgb(255,65,54)"
         },
         "mode": "lines",
         "text": [
          "salarie_disposition_propre_temps_salarier",
          "",
          "",
          "amenagement_renommer_aménagement_accord_reconduction"
         ],
         "type": "scatter",
         "x": {
          "bdata": "AAAAAAAAAAA9NBX+anjrPz00Ff5qeOs/+cyJ66Ds5j8=",
          "dtype": "f8"
         },
         "xaxis": "x",
         "y": {
          "bdata": "AAAAAACQcMAAAAAAAJBwwAAAAAAA+HHAAAAAAAD4ccA=",
          "dtype": "f8"
         },
         "yaxis": "y"
        },
        {
         "hoverinfo": "text",
         "marker": {
          "color": "rgb(0,116,217)"
         },
         "mode": "lines",
         "text": [
          "final_disposition_titre_generales_chapitrer",
          "",
          "",
          "amenagement_renommer_aménagement_accord_reconduction"
         ],
         "type": "scatter",
         "x": {
          "bdata": "OuOBUqmO4D8Z00BKe/zyPxnTQEp7/PI/PTQV/mp46z8=",
          "dtype": "f8"
         },
         "xaxis": "x",
         "y": {
          "bdata": "AAAAAABAb8AAAAAAAEBvwAAAAAAARHHAAAAAAABEccA=",
          "dtype": "f8"
         },
         "yaxis": "y"
        },
        {
         "hoverinfo": "text",
         "marker": {
          "color": "rgb(0,116,217)"
         },
         "mode": "lines",
         "text": [
          "final_disposition_titre_generales_chapitrer",
          "",
          "",
          "amenagement_renommer_aménagement_accord_reconduction"
         ],
         "type": "scatter",
         "x": {
          "bdata": "bEti9AbL8z+vGFV8VNn1P68YVXxU2fU/GdNASnv88j8=",
          "dtype": "f8"
         },
         "xaxis": "x",
         "y": {
          "bdata": "AAAAAAC8YcAAAAAAALxhwAAAAAAAcnDAAAAAAABycMA=",
          "dtype": "f8"
         },
         "yaxis": "y"
        },
        {
         "hoverinfo": "text",
         "marker": {
          "color": "rgb(0,116,217)"
         },
         "mode": "lines",
         "text": [
          "final_disposition_titre_generales_chapitrer",
          "",
          "",
          "amenagement_renommer_aménagement_accord_reconduction"
         ],
         "type": "scatter",
         "x": {
          "bdata": "niahdZFs8D8Cc5km8lr3PwJzmSbyWvc/rxhVfFTZ9T8=",
          "dtype": "f8"
         },
         "xaxis": "x",
         "y": {
          "bdata": "AAAAAAAAOcAAAAAAAAA5wAAAAAAAUGnAAAAAAABQacA=",
          "dtype": "f8"
         },
         "yaxis": "y"
        },
        {
         "hoverinfo": "text",
         "marker": {
          "color": "rgb(35,205,205)"
         },
         "mode": "lines",
         "text": [
          "maximal_hebdomadaire_effectif_travail_dépassement",
          "",
          "",
          "maximal_maximale_durees_minimal_cycles"
         ],
         "type": "scatter",
         "x": {
          "bdata": "AAAAAAAAAABg3Ehasr7YP2DcSFqyvtg/AAAAAAAAAAA=",
          "dtype": "f8"
         },
         "xaxis": "x",
         "y": {
          "bdata": "AAAAAABQdMAAAAAAAFB0wAAAAAAA8HTAAAAAAADwdMA=",
          "dtype": "f8"
         },
         "yaxis": "y"
        },
        {
         "hoverinfo": "text",
         "marker": {
          "color": "rgb(35,205,205)"
         },
         "mode": "lines",
         "text": [
          "amplitude_journalier_heure_limite_pouvoir",
          "",
          "",
          "hebdomadaire_travail_effectif_porter_dérogation"
         ],
         "type": "scatter",
         "x": {
          "bdata": "AAAAAAAAAAAjg6CdemLlPyODoJ16YuU/YNxIWrK+2D8=",
          "dtype": "f8"
         },
         "xaxis": "x",
         "y": {
          "bdata": "AAAAAACwc8AAAAAAALBzwAAAAAAAoHTAAAAAAACgdMA=",
          "dtype": "f8"
         },
         "yaxis": "y"
        },
        {
         "hoverinfo": "text",
         "marker": {
          "color": "rgb(35,205,205)"
         },
         "mode": "lines",
         "text": [
          "modulation_bas_limite_deçà_varier",
          "",
          "",
          "hebdomadaire_travail_effectif_porter_dérogation"
         ],
         "type": "scatter",
         "x": {
          "bdata": "AAAAAAAAAABvqCUrI87pP2+oJSsjzuk/I4OgnXpi5T8=",
          "dtype": "f8"
         },
         "xaxis": "x",
         "y": {
          "bdata": "AAAAAAAQc8AAAAAAABBzwAAAAAAAKHTAAAAAAAAodMA=",
          "dtype": "f8"
         },
         "yaxis": "y"
        },
        {
         "hoverinfo": "text",
         "marker": {
          "color": "rgb(35,205,205)"
         },
         "mode": "lines",
         "text": [
          "repos_hebdomadaire_consécutiver_consécutif_ajouter",
          "",
          "",
          "quotidien_repos_article11_hebdomadaires_minimal"
         ],
         "type": "scatter",
         "x": {
          "bdata": "AAAAAAAAAACSJ38q5uvSP5Infyrm69I/AAAAAAAAAAA=",
          "dtype": "f8"
         },
         "xaxis": "x",
         "y": {
          "bdata": "AAAAAAAwdsAAAAAAADB2wAAAAAAA0HbAAAAAAADQdsA=",
          "dtype": "f8"
         },
         "yaxis": "y"
        },
        {
         "hoverinfo": "text",
         "marker": {
          "color": "rgb(35,205,205)"
         },
         "mode": "lines",
         "text": [
          "consécutif_3121_hebdomadaire_minimal_amplitude",
          "",
          "",
          "repos_hebdomadaire_consécutif_consécutiver_minimum"
         ],
         "type": "scatter",
         "x": {
          "bdata": "AAAAAAAAAACmzboHWGPdP6bNugdYY90/kid/Kubr0j8=",
          "dtype": "f8"
         },
         "xaxis": "x",
         "y": {
          "bdata": "AAAAAACQdcAAAAAAAJB1wAAAAAAAgHbAAAAAAACAdsA=",
          "dtype": "f8"
         },
         "yaxis": "y"
        },
        {
         "hoverinfo": "text",
         "marker": {
          "color": "rgb(35,205,205)"
         },
         "mode": "lines",
         "text": [
          "consécutif_3121_hebdomadaire_minimal_amplitude",
          "",
          "",
          "hebdomadaire_consécutif_consécutiver_ajouter_minimum"
         ],
         "type": "scatter",
         "x": {
          "bdata": "b6glKyPO6T/kdefX4qntP+R159fiqe0/ps26B1hj3T8=",
          "dtype": "f8"
         },
         "xaxis": "x",
         "y": {
          "bdata": "AAAAAACcc8AAAAAAAJxzwAAAAAAACHbAAAAAAAAIdsA=",
          "dtype": "f8"
         },
         "yaxis": "y"
        },
        {
         "hoverinfo": "text",
         "marker": {
          "color": "rgb(133,20,75)"
         },
         "mode": "lines",
         "text": [
          "obligatoire_contrepartie_droit_contingent_demande",
          "",
          "",
          "compensateur_demande_remplacement_droit_employeur"
         ],
         "type": "scatter",
         "x": {
          "bdata": "AAAAAAAAAAAMGp+qtYXYPwwan6q1hdg/AAAAAAAAAAA=",
          "dtype": "f8"
         },
         "xaxis": "x",
         "y": {
          "bdata": "AAAAAAAQeMAAAAAAABB4wAAAAAAAsHjAAAAAAACweMA=",
          "dtype": "f8"
         },
         "yaxis": "y"
        },
        {
         "hoverinfo": "text",
         "marker": {
          "color": "rgb(133,20,75)"
         },
         "mode": "lines",
         "text": [
          "contrepartie_obligatoire_demande_compensateur_prendre",
          "",
          "",
          "droit_document_informer_compensateur_annexer"
         ],
         "type": "scatter",
         "x": {
          "bdata": "DBqfqrWF2D/wSL8Ag9PhP/BIvwCD0+E/AAAAAAAAAAA=",
          "dtype": "f8"
         },
         "xaxis": "x",
         "y": {
          "bdata": "AAAAAABgeMAAAAAAAGB4wAAAAAAAUHnAAAAAAABQecA=",
          "dtype": "f8"
         },
         "yaxis": "y"
        },
        {
         "hoverinfo": "text",
         "marker": {
          "color": "rgb(133,20,75)"
         },
         "mode": "lines",
         "text": [
          "compensateur_remplacement_reduction_équivaloir_repo",
          "",
          "",
          "droit_document_informer_compensateur_annexer"
         ],
         "type": "scatter",
         "x": {
          "bdata": "AAAAAAAAAABsO+/9Gv3pP2w77/0a/ek/8Ei/AIPT4T8=",
          "dtype": "f8"
         },
         "xaxis": "x",
         "y": {
          "bdata": "AAAAAABwd8AAAAAAAHB3wAAAAAAA2HjAAAAAAADYeMA=",
          "dtype": "f8"
         },
         "yaxis": "y"
        },
        {
         "hoverinfo": "text",
         "marker": {
          "color": "rgb(255,220,0)"
         },
         "mode": "lines",
         "text": [
          "femme_égalité_professionnel_travailleur_discrimination",
          "",
          "",
          "médical_santé_médecin_familial_surveillance"
         ],
         "type": "scatter",
         "x": {
          "bdata": "AAAAAAAAAAAaQdMMYRjoPxpB0wxhGOg/AAAAAAAAAAA=",
          "dtype": "f8"
         },
         "xaxis": "x",
         "y": {
          "bdata": "AAAAAADwecAAAAAAAPB5wAAAAAAAkHrAAAAAAACQesA=",
          "dtype": "f8"
         },
         "yaxis": "y"
        },
        {
         "hoverinfo": "text",
         "marker": {
          "color": "rgb(255,220,0)"
         },
         "mode": "lines",
         "text": [
          "entretien_hiérarchique_salarié_professionnel_amplitude",
          "",
          "",
          "déconnexion_professionnel_communication_télétravailleur_messagerie"
         ],
         "type": "scatter",
         "x": {
          "bdata": "AAAAAAAAAAA+qLFgaZffPz6osWBpl98/AAAAAAAAAAA=",
          "dtype": "f8"
         },
         "xaxis": "x",
         "y": {
          "bdata": "AAAAAAAwe8AAAAAAADB7wAAAAAAA0HvAAAAAAADQe8A=",
          "dtype": "f8"
         },
         "yaxis": "y"
        },
        {
         "hoverinfo": "text",
         "marker": {
          "color": "rgb(255,220,0)"
         },
         "mode": "lines",
         "text": [
          "entretien_hiérarchique_salarié_professionnel_amplitude",
          "",
          "",
          "charge_professionnel_communication_organisation_numérique"
         ],
         "type": "scatter",
         "x": {
          "bdata": "GkHTDGEY6D/l9ng1tyvtP+X2eDW3K+0/PqixYGmX3z8=",
          "dtype": "f8"
         },
         "xaxis": "x",
         "y": {
          "bdata": "AAAAAABAesAAAAAAAEB6wAAAAAAAgHvAAAAAAACAe8A=",
          "dtype": "f8"
         },
         "yaxis": "y"
        },
        {
         "hoverinfo": "text",
         "marker": {
          "color": "rgb(40,35,35)"
         },
         "mode": "lines",
         "text": [
          "annualisation_temps_période_plein_salarié",
          "",
          "",
          "partiel_salarier_hebdomadaire_salarié_période"
         ],
         "type": "scatter",
         "x": {
          "bdata": "AAAAAAAAAAA+3LVCVyXTPz7ctUJXJdM/AAAAAAAAAAA=",
          "dtype": "f8"
         },
         "xaxis": "x",
         "y": {
          "bdata": "AAAAAACwfcAAAAAAALB9wAAAAAAAUH7AAAAAAABQfsA=",
          "dtype": "f8"
         },
         "yaxis": "y"
        },
        {
         "hoverinfo": "text",
         "marker": {
          "color": "rgb(40,35,35)"
         },
         "mode": "lines",
         "text": [
          "partiel_annualisation_temps_salarier_travail",
          "",
          "",
          "pause_temps_occupation_travail_directive"
         ],
         "type": "scatter",
         "x": {
          "bdata": "Pty1Qlcl0z/LmK0KCxrjP8uYrQoLGuM/AAAAAAAAAAA=",
          "dtype": "f8"
         },
         "xaxis": "x",
         "y": {
          "bdata": "AAAAAAAAfsAAAAAAAAB+wAAAAAAA8H7AAAAAAADwfsA=",
          "dtype": "f8"
         },
         "yaxis": "y"
        },
        {
         "hoverinfo": "text",
         "marker": {
          "color": "rgb(40,35,35)"
         },
         "mode": "lines",
         "text": [
          "planning_modification_prévenance_changement_communiquer",
          "",
          "",
          "pause_temps_occupation_travail_directive"
         ],
         "type": "scatter",
         "x": {
          "bdata": "AAAAAAAAAAAk35y2vnzlPyTfnLa+fOU/y5itCgsa4z8=",
          "dtype": "f8"
         },
         "xaxis": "x",
         "y": {
          "bdata": "AAAAAAAQfcAAAAAAABB9wAAAAAAAeH7AAAAAAAB4fsA=",
          "dtype": "f8"
         },
         "yaxis": "y"
        },
        {
         "hoverinfo": "text",
         "marker": {
          "color": "rgb(40,35,35)"
         },
         "mode": "lines",
         "text": [
          "agent_période_distribution_sécuritaire_production",
          "",
          "",
          "pause_temps_occupation_travail_directive"
         ],
         "type": "scatter",
         "x": {
          "bdata": "AAAAAAAAAACdTlOLuSvnP51OU4u5K+c/JN+ctr585T8=",
          "dtype": "f8"
         },
         "xaxis": "x",
         "y": {
          "bdata": "AAAAAABwfMAAAAAAAHB8wAAAAAAAxH3AAAAAAADEfcA=",
          "dtype": "f8"
         },
         "yaxis": "y"
        },
        {
         "hoverinfo": "text",
         "marker": {
          "color": "rgb(40,35,35)"
         },
         "mode": "lines",
         "text": [
          "disposer_cadre_responsabilité_fonction_conduit",
          "",
          "",
          "salariés_partiel_concerner_individuellement_cadre"
         ],
         "type": "scatter",
         "x": {
          "bdata": "AAAAAAAAAAA+6oBvgGrfPz7qgG+Aat8/AAAAAAAAAAA=",
          "dtype": "f8"
         },
         "xaxis": "x",
         "y": {
          "bdata": "AAAAAACQf8AAAAAAAJB/wAAAAAAAGIDAAAAAAAAYgMA=",
          "dtype": "f8"
         },
         "yaxis": "y"
        },
        {
         "hoverinfo": "text",
         "marker": {
          "color": "rgb(40,35,35)"
         },
         "mode": "lines",
         "text": [
          "disposer_cadre_responsabilité_fonction_conduit",
          "",
          "",
          "salariés_partiel_concerner_individuellement_cadre"
         ],
         "type": "scatter",
         "x": {
          "bdata": "nU5Ti7kr5z/cRFyqTq3oP9xEXKpOreg/PuqAb4Bq3z8=",
          "dtype": "f8"
         },
         "xaxis": "x",
         "y": {
          "bdata": "AAAAAAAafcAAAAAAABp9wAAAAAAA4H/AAAAAAADgf8A=",
          "dtype": "f8"
         },
         "yaxis": "y"
        },
        {
         "hoverinfo": "text",
         "marker": {
          "color": "rgb(40,35,35)"
         },
         "mode": "lines",
         "text": [
          "disposer_cadre_responsabilité_fonction_conduit",
          "",
          "",
          "solidarité_journée_âgé_personne_financement"
         ],
         "type": "scatter",
         "x": {
          "bdata": "3ERcqk6t6D8eF0kRgLDtPx4XSRGAsO0/AAAAAAAAAAA=",
          "dtype": "f8"
         },
         "xaxis": "x",
         "y": {
          "bdata": "AAAAAAB9fsAAAAAAAH1+wAAAAAAAaIDAAAAAAABogMA=",
          "dtype": "f8"
         },
         "yaxis": "y"
        },
        {
         "hoverinfo": "text",
         "marker": {
          "color": "rgb(0,116,217)"
         },
         "mode": "lines",
         "text": [
          "disposer_cadre_responsabilité_fonction_conduit",
          "",
          "",
          "solidarité_journée_âgé_personne_financement"
         ],
         "type": "scatter",
         "x": {
          "bdata": "5fZ4Nbcr7T9DGT9PLiDyP0MZP08uIPI/HhdJEYCw7T8=",
          "dtype": "f8"
         },
         "xaxis": "x",
         "y": {
          "bdata": "AAAAAADgesAAAAAAAOB6wAAAAACApn/AAAAAAICmf8A=",
          "dtype": "f8"
         },
         "yaxis": "y"
        },
        {
         "hoverinfo": "text",
         "marker": {
          "color": "rgb(61,153,112)"
         },
         "mode": "lines",
         "text": [
          "forfaire_annuel_repos_convention_iii",
          "",
          "",
          "convention_conclusion_concerner_salarié_correspondant"
         ],
         "type": "scatter",
         "x": {
          "bdata": "AAAAAAAAAACquG5HjXXaP6q4bkeNddo/AAAAAAAAAAA=",
          "dtype": "f8"
         },
         "xaxis": "x",
         "y": {
          "bdata": "AAAAAAC4gMAAAAAAALiAwAAAAAAACIHAAAAAAAAIgcA=",
          "dtype": "f8"
         },
         "yaxis": "y"
        },
        {
         "hoverinfo": "text",
         "marker": {
          "color": "rgb(61,153,112)"
         },
         "mode": "lines",
         "text": [
          "rtt_jour_initiative_service_prévenance",
          "",
          "",
          "jour_année_congé_payer_période"
         ],
         "type": "scatter",
         "x": {
          "bdata": "AAAAAAAAAAAkBK6RXb3bPyQErpFdvds/AAAAAAAAAAA=",
          "dtype": "f8"
         },
         "xaxis": "x",
         "y": {
          "bdata": "AAAAAABYgcAAAAAAAFiBwAAAAAAAqIHAAAAAAACogcA=",
          "dtype": "f8"
         },
         "yaxis": "y"
        },
        {
         "hoverinfo": "text",
         "marker": {
          "color": "rgb(61,153,112)"
         },
         "mode": "lines",
         "text": [
          "année_congé_travailler_repos_payer",
          "",
          "",
          "renonciation_renoncer_repos_tacite_reconduire"
         ],
         "type": "scatter",
         "x": {
          "bdata": "JASukV292z8pF0eq8n/lPykXR6ryf+U/AAAAAAAAAAA=",
          "dtype": "f8"
         },
         "xaxis": "x",
         "y": {
          "bdata": "AAAAAACAgcAAAAAAAICBwAAAAAAA+IHAAAAAAAD4gcA=",
          "dtype": "f8"
         },
         "yaxis": "y"
        },
        {
         "hoverinfo": "text",
         "marker": {
          "color": "rgb(61,153,112)"
         },
         "mode": "lines",
         "text": [
          "convention_forfaire_individuel_modalité_caractéristique",
          "",
          "",
          "renonciation_renoncer_repos_tacite_reconduire"
         ],
         "type": "scatter",
         "x": {
          "bdata": "qrhuR4112j8PDSfm2evoPw8NJ+bZ6+g/KRdHqvJ/5T8=",
          "dtype": "f8"
         },
         "xaxis": "x",
         "y": {
          "bdata": "AAAAAADggMAAAAAAAOCAwAAAAAAAvIHAAAAAAAC8gcA=",
          "dtype": "f8"
         },
         "yaxis": "y"
        },
        {
         "hoverinfo": "text",
         "marker": {
          "color": "rgb(255,65,54)"
         },
         "mode": "lines",
         "text": [
          "congé_payer_acquisition_fractionnement_mai",
          "",
          "",
          "conge_payer_article_paye_fermeture"
         ],
         "type": "scatter",
         "x": {
          "bdata": "AAAAAAAAAAC8DEDEZUHgP7wMQMRlQeA/AAAAAAAAAAA=",
          "dtype": "f8"
         },
         "xaxis": "x",
         "y": {
          "bdata": "AAAAAACYgsAAAAAAAJiCwAAAAAAA6ILAAAAAAADogsA=",
          "dtype": "f8"
         },
         "yaxis": "y"
        },
        {
         "hoverinfo": "text",
         "marker": {
          "color": "rgb(255,65,54)"
         },
         "mode": "lines",
         "text": [
          "période_année_civil_débuter_mai",
          "",
          "",
          "conge_payer_article_paye_fermeture"
         ],
         "type": "scatter",
         "x": {
          "bdata": "AAAAAAAAAADFqrB7o7/qP8WqsHujv+o/vAxAxGVB4D8=",
          "dtype": "f8"
         },
         "xaxis": "x",
         "y": {
          "bdata": "AAAAAABIgsAAAAAAAEiCwAAAAAAAwILAAAAAAADAgsA=",
          "dtype": "f8"
         },
         "yaxis": "y"
        },
        {
         "hoverinfo": "text",
         "marker": {
          "color": "rgb(255,65,54)"
         },
         "mode": "lines",
         "text": [
          "période_année_civil_débuter_mai",
          "",
          "",
          "enfant_malade_parent_congé_père"
         ],
         "type": "scatter",
         "x": {
          "bdata": "xaqwe6O/6j+XivRtXlrsP5eK9G1eWuw/AAAAAAAAAAA=",
          "dtype": "f8"
         },
         "xaxis": "x",
         "y": {
          "bdata": "AAAAAACEgsAAAAAAAISCwAAAAAAAOIPAAAAAAAA4g8A=",
          "dtype": "f8"
         },
         "yaxis": "y"
        },
        {
         "hoverinfo": "text",
         "marker": {
          "color": "rgb(0,116,217)"
         },
         "mode": "lines",
         "text": [
          "période_année_civil_débuter_mai",
          "",
          "",
          "enfant_malade_parent_congé_père"
         ],
         "type": "scatter",
         "x": {
          "bdata": "Dw0n5tnr6D8f4Uh7euvxPx/hSHt66/E/l4r0bV5a7D8=",
          "dtype": "f8"
         },
         "xaxis": "x",
         "y": {
          "bdata": "AAAAAABOgcAAAAAAAE6BwAAAAAAA3oLAAAAAAADegsA=",
          "dtype": "f8"
         },
         "yaxis": "y"
        },
        {
         "hoverinfo": "text",
         "marker": {
          "color": "rgb(0,116,217)"
         },
         "mode": "lines",
         "text": [
          "période_année_civil_débuter_mai",
          "",
          "",
          "enfant_malade_parent_congé_père"
         ],
         "type": "scatter",
         "x": {
          "bdata": "Qxk/Ty4g8j9mON6bTnX0P2Y43ptOdfQ/H+FIe3rr8T8=",
          "dtype": "f8"
         },
         "xaxis": "x",
         "y": {
          "bdata": "AAAAAEBDfcAAAAAAQEN9wAAAAAAAFoLAAAAAAAAWgsA=",
          "dtype": "f8"
         },
         "yaxis": "y"
        },
        {
         "hoverinfo": "text",
         "marker": {
          "color": "rgb(35,205,205)"
         },
         "mode": "lines",
         "text": [
          "entrée_periode_sorties_incidence_incidencer",
          "",
          "",
          "absence_impact_cours_absences_départ"
         ],
         "type": "scatter",
         "x": {
          "bdata": "AAAAAAAAAABu9GDt+u/jP270YO367+M/AAAAAAAAAAA=",
          "dtype": "f8"
         },
         "xaxis": "x",
         "y": {
          "bdata": "AAAAAACIg8AAAAAAAIiDwAAAAAAA2IPAAAAAAADYg8A=",
          "dtype": "f8"
         },
         "yaxis": "y"
        },
        {
         "hoverinfo": "text",
         "marker": {
          "color": "rgb(61,153,112)"
         },
         "mode": "lines",
         "text": [
          "absence_rémunération_rémunérer_rupture_salarié",
          "",
          "",
          "rémunération_base_lissage_réellement_151"
         ],
         "type": "scatter",
         "x": {
          "bdata": "AAAAAAAAAACCM82VM8fUP4IzzZUzx9Q/AAAAAAAAAAA=",
          "dtype": "f8"
         },
         "xaxis": "x",
         "y": {
          "bdata": "AAAAAAB4hMAAAAAAAHiEwAAAAAAAyITAAAAAAADIhMA=",
          "dtype": "f8"
         },
         "yaxis": "y"
        },
        {
         "hoverinfo": "text",
         "marker": {
          "color": "rgb(61,153,112)"
         },
         "mode": "lines",
         "text": [
          "rupture_prélever_période_contraire_procéder",
          "",
          "",
          "rémunération_absence_rémunérer_salarié_réellement"
         ],
         "type": "scatter",
         "x": {
          "bdata": "AAAAAAAAAADadJMkt8vlP9p0kyS3y+U/gjPNlTPH1D8=",
          "dtype": "f8"
         },
         "xaxis": "x",
         "y": {
          "bdata": "AAAAAAAohMAAAAAAACiEwAAAAAAAoITAAAAAAACghMA=",
          "dtype": "f8"
         },
         "yaxis": "y"
        },
        {
         "hoverinfo": "text",
         "marker": {
          "color": "rgb(61,153,112)"
         },
         "mode": "lines",
         "text": [
          "rupture_prélever_période_contraire_procéder",
          "",
          "",
          "remuneration_rémunération_condition_elements_perçoivent"
         ],
         "type": "scatter",
         "x": {
          "bdata": "2nSTJLfL5T/h/h1jI5vrP+H+HWMjm+s/AAAAAAAAAAA=",
          "dtype": "f8"
         },
         "xaxis": "x",
         "y": {
          "bdata": "AAAAAABkhMAAAAAAAGSEwAAAAAAAGIXAAAAAAAAYhcA=",
          "dtype": "f8"
         },
         "yaxis": "y"
        },
        {
         "hoverinfo": "text",
         "marker": {
          "color": "rgb(0,116,217)"
         },
         "mode": "lines",
         "text": [
          "rupture_prélever_période_contraire_procéder",
          "",
          "",
          "remuneration_rémunération_condition_elements_perçoivent"
         ],
         "type": "scatter",
         "x": {
          "bdata": "bvRg7frv4z9jaoB1oCXyP2NqgHWgJfI/4f4dYyOb6z8=",
          "dtype": "f8"
         },
         "xaxis": "x",
         "y": {
          "bdata": "AAAAAACwg8AAAAAAALCDwAAAAAAAvoTAAAAAAAC+hMA=",
          "dtype": "f8"
         },
         "yaxis": "y"
        },
        {
         "hoverinfo": "text",
         "marker": {
          "color": "rgb(0,116,217)"
         },
         "mode": "lines",
         "text": [
          "rupture_prélever_période_contraire_procéder",
          "",
          "",
          "remuneration_rémunération_condition_elements_perçoivent"
         ],
         "type": "scatter",
         "x": {
          "bdata": "Zjjem0519D+PC4SXXrn1P48LhJdeufU/Y2qAdaAl8j8=",
          "dtype": "f8"
         },
         "xaxis": "x",
         "y": {
          "bdata": "AAAAANBbgMAAAAAA0FuAwAAAAAAAN4TAAAAAAAA3hMA=",
          "dtype": "f8"
         },
         "yaxis": "y"
        },
        {
         "hoverinfo": "text",
         "marker": {
          "color": "rgb(0,116,217)"
         },
         "mode": "lines",
         "text": [
          "rupture_prélever_période_contraire_procéder",
          "",
          "",
          "remuneration_rémunération_condition_elements_perçoivent"
         ],
         "type": "scatter",
         "x": {
          "bdata": "bDvv/Rr96T+APh2SBkf3P4A+HZIGR/c/jwuEl1659T8=",
          "dtype": "f8"
         },
         "xaxis": "x",
         "y": {
          "bdata": "AAAAAAAkeMAAAAAAACR4wAAAAABoSYLAAAAAAGhJgsA=",
          "dtype": "f8"
         },
         "yaxis": "y"
        },
        {
         "hoverinfo": "text",
         "marker": {
          "color": "rgb(0,116,217)"
         },
         "mode": "lines",
         "text": [
          "rupture_prélever_période_contraire_procéder",
          "",
          "",
          "remuneration_rémunération_condition_elements_perçoivent"
         ],
         "type": "scatter",
         "x": {
          "bdata": "5HXn1+Kp7T+m0Ci2whP7P6bQKLbCE/s/gD4dkgZH9z8=",
          "dtype": "f8"
         },
         "xaxis": "x",
         "y": {
          "bdata": "AAAAAADSdMAAAAAAANJ0wAAAAABoW37AAAAAAGhbfsA=",
          "dtype": "f8"
         },
         "yaxis": "y"
        },
        {
         "hoverinfo": "text",
         "marker": {
          "color": "rgb(255,65,54)"
         },
         "mode": "lines",
         "text": [
          "supplémentaire_majoration_compensateur_effectuer_paiement",
          "",
          "",
          "supplémentaire_effectuer_majoration_légal_hebdomadaire"
         ],
         "type": "scatter",
         "x": {
          "bdata": "AAAAAAAAAABo33Mur+C+P2jfcy6v4L4/AAAAAAAAAAA=",
          "dtype": "f8"
         },
         "xaxis": "x",
         "y": {
          "bdata": "AAAAAAAIhsAAAAAAAAiGwAAAAAAAWIbAAAAAAABYhsA=",
          "dtype": "f8"
         },
         "yaxis": "y"
        },
        {
         "hoverinfo": "text",
         "marker": {
          "color": "rgb(255,65,54)"
         },
         "mode": "lines",
         "text": [
          "taux_majoration_supplémentaire_fixer_effectuer",
          "",
          "",
          "supplémentaire_majoration_effectuer_compensateur_contingent"
         ],
         "type": "scatter",
         "x": {
          "bdata": "AAAAAAAAAADTyXY2fKvgP9PJdjZ8q+A/aN9zLq/gvj8=",
          "dtype": "f8"
         },
         "xaxis": "x",
         "y": {
          "bdata": "AAAAAAC4hcAAAAAAALiFwAAAAAAAMIbAAAAAAAAwhsA=",
          "dtype": "f8"
         },
         "yaxis": "y"
        },
        {
         "hoverinfo": "text",
         "marker": {
          "color": "rgb(255,65,54)"
         },
         "mode": "lines",
         "text": [
          "taux_majoration_supplémentaire_fixer_effectuer",
          "",
          "",
          "supplementaire_heure_incidence_décompte_contrepartie"
         ],
         "type": "scatter",
         "x": {
          "bdata": "08l2Nnyr4D/n7tapYCDmP+fu1qlgIOY/AAAAAAAAAAA=",
          "dtype": "f8"
         },
         "xaxis": "x",
         "y": {
          "bdata": "AAAAAAD0hcAAAAAAAPSFwAAAAAAAqIbAAAAAAACohsA=",
          "dtype": "f8"
         },
         "yaxis": "y"
        },
        {
         "hoverinfo": "text",
         "marker": {
          "color": "rgb(255,65,54)"
         },
         "mode": "lines",
         "text": [
          "réglementaire_imputation_supplémentaire_contingent_applicable",
          "",
          "",
          "supplementaire_heure_incidence_décompte_contrepartie"
         ],
         "type": "scatter",
         "x": {
          "bdata": "AAAAAAAAAAAjze+wPZroPyPN77A9mug/5+7WqWAg5j8=",
          "dtype": "f8"
         },
         "xaxis": "x",
         "y": {
          "bdata": "AAAAAABohcAAAAAAAGiFwAAAAAAATobAAAAAAABOhsA=",
          "dtype": "f8"
         },
         "yaxis": "y"
        },
        {
         "hoverinfo": "text",
         "marker": {
          "color": "rgb(255,65,54)"
         },
         "mode": "lines",
         "text": [
          "contingent_supplémentaire_heure_annuel_etam",
          "",
          "",
          "contingent_supplémentaire_accomplie_obligatoire_code"
         ],
         "type": "scatter",
         "x": {
          "bdata": "AAAAAAAAAADgdHOVLLfDP+B0c5Ust8M/AAAAAAAAAAA=",
          "dtype": "f8"
         },
         "xaxis": "x",
         "y": {
          "bdata": "AAAAAABIh8AAAAAAAEiHwAAAAAAAmIfAAAAAAACYh8A=",
          "dtype": "f8"
         },
         "yaxis": "y"
        },
        {
         "hoverinfo": "text",
         "marker": {
          "color": "rgb(255,65,54)"
         },
         "mode": "lines",
         "text": [
          "contingent_supplementaire_heure_fixer_dépassement",
          "",
          "",
          "contingent_supplémentaire_heure_annuel_etam"
         ],
         "type": "scatter",
         "x": {
          "bdata": "AAAAAAAAAABXuSTuXGTSP1e5JO5cZNI/4HRzlSy3wz8=",
          "dtype": "f8"
         },
         "xaxis": "x",
         "y": {
          "bdata": "AAAAAAD4hsAAAAAAAPiGwAAAAAAAcIfAAAAAAABwh8A=",
          "dtype": "f8"
         },
         "yaxis": "y"
        },
        {
         "hoverinfo": "text",
         "marker": {
          "color": "rgb(255,65,54)"
         },
         "mode": "lines",
         "text": [
          "contingent_supplementaire_heure_fixer_dépassement",
          "",
          "",
          "contingent_supplémentaire_heure_220_contrepartie"
         ],
         "type": "scatter",
         "x": {
          "bdata": "I83vsD2a6D/UsT8NI7XsP9SxPw0jtew/V7kk7lxk0j8=",
          "dtype": "f8"
         },
         "xaxis": "x",
         "y": {
          "bdata": "AAAAAADbhcAAAAAAANuFwAAAAAAANIfAAAAAAAA0h8A=",
          "dtype": "f8"
         },
         "yaxis": "y"
        },
        {
         "hoverinfo": "text",
         "marker": {
          "color": "rgb(35,205,205)"
         },
         "mode": "lines",
         "text": [
          "complémentaire_heure_limite_contractuel_partiel",
          "",
          "",
          "complémentaire_complementaire_partiels_heure_complémentaires"
         ],
         "type": "scatter",
         "x": {
          "bdata": "AAAAAAAAAAA+unVnE5jZPz66dWcTmNk/AAAAAAAAAAA=",
          "dtype": "f8"
         },
         "xaxis": "x",
         "y": {
          "bdata": "AAAAAADoh8AAAAAAAOiHwAAAAAAAOIjAAAAAAAA4iMA=",
          "dtype": "f8"
         },
         "yaxis": "y"
        },
        {
         "hoverinfo": "text",
         "marker": {
          "color": "rgb(0,116,217)"
         },
         "mode": "lines",
         "text": [
          "complémentaire_heure_limite_contractuel_partiel",
          "",
          "",
          "complémentaire_heure_limite_contractuel_partiel"
         ],
         "type": "scatter",
         "x": {
          "bdata": "1LE/DSO17D/IlqfklYrzP8iWp+SVivM/Prp1ZxOY2T8=",
          "dtype": "f8"
         },
         "xaxis": "x",
         "y": {
          "bdata": "AAAAAICHhsAAAAAAgIeGwAAAAAAAEIjAAAAAAAAQiMA=",
          "dtype": "f8"
         },
         "yaxis": "y"
        },
        {
         "hoverinfo": "text",
         "marker": {
          "color": "rgb(0,116,217)"
         },
         "mode": "lines",
         "text": [
          "complémentaire_heure_limite_contractuel_partiel",
          "",
          "",
          "complémentaire_heure_limite_contractuel_partiel"
         ],
         "type": "scatter",
         "x": {
          "bdata": "ptAotsIT+z/uiejKu3D9P+6J6Mq7cP0/yJan5JWK8z8=",
          "dtype": "f8"
         },
         "xaxis": "x",
         "y": {
          "bdata": "AAAAALSWecAAAAAAtJZ5wAAAAADAS4fAAAAAAMBLh8A=",
          "dtype": "f8"
         },
         "yaxis": "y"
        },
        {
         "hoverinfo": "text",
         "marker": {
          "color": "rgb(0,116,217)"
         },
         "mode": "lines",
         "text": [
          "complémentaire_heure_limite_contractuel_partiel",
          "",
          "",
          "complémentaire_heure_limite_contractuel_partiel"
         ],
         "type": "scatter",
         "x": {
          "bdata": "AnOZJvJa9z949UFnn1AAQHj1QWefUABA7onoyrtw/T8=",
          "dtype": "f8"
         },
         "xaxis": "x",
         "y": {
          "bdata": "AAAAAABwXMAAAAAAAHBcwAAAAACNC4LAAAAAAI0LgsA=",
          "dtype": "f8"
         },
         "yaxis": "y"
        },
        {
         "hoverinfo": "text",
         "hovertext": [
          "chantier_trajet_zone_kilomètre_concentrique",
          "précision_sédentaire_bâtiment_déplacement_adaptation",
          "déposer_dépôt_greffe_fr_homme",
          "collectif_accord_augmentation_cars_bassin",
          "déconnexion_deconnexion_droit_sensibilisation_exercice",
          "révision_signataire_accord_recommander_2261",
          "application_territorial_cdd_disposition_exclusion",
          "application_territorial_cdd_disposition_exclusion",
          "application_territorial_cdd_disposition_exclusion",
          "temps_organisation_aménagement_amenagement_travail",
          "final_disposition_titre_generales_chapitrer",
          "final_disposition_titre_generales_chapitrer",
          "final_disposition_titre_generales_chapitrer",
          "consécutif_3121_hebdomadaire_minimal_amplitude",
          "contrepartie_obligatoire_demande_compensateur_prendre",
          "entretien_hiérarchique_salarié_professionnel_amplitude",
          "partiel_annualisation_temps_salarier_travail",
          "disposer_cadre_responsabilité_fonction_conduit",
          "disposer_cadre_responsabilité_fonction_conduit",
          "disposer_cadre_responsabilité_fonction_conduit",
          "année_congé_travailler_repos_payer",
          "convention_forfaire_individuel_modalité_caractéristique",
          "période_année_civil_débuter_mai",
          "période_année_civil_débuter_mai",
          "période_année_civil_débuter_mai",
          "rupture_prélever_période_contraire_procéder",
          "rupture_prélever_période_contraire_procéder",
          "rupture_prélever_période_contraire_procéder",
          "rupture_prélever_période_contraire_procéder",
          "rupture_prélever_période_contraire_procéder",
          "taux_majoration_supplémentaire_fixer_effectuer",
          "contingent_supplementaire_heure_fixer_dépassement",
          "complémentaire_heure_limite_contractuel_partiel",
          "complémentaire_heure_limite_contractuel_partiel",
          "complémentaire_heure_limite_contractuel_partiel"
         ],
         "marker": {
          "color": "black"
         },
         "mode": "markers",
         "showlegend": false,
         "type": "scatter",
         "x": [
          0.7289840742541207,
          0.7617882508749743,
          0.5121973595114027,
          1.0949633010151902,
          0.8110765445625397,
          0.8057295213333429,
          0.9143091987800945,
          1.0891099485270912,
          1.142405789832705,
          0.4344809396813587,
          0.5174147235366953,
          1.2370671793221062,
          1.0265059084798973,
          0.8064132540432761,
          0.38316098844771385,
          0.7529759645931648,
          0.29915410532652575,
          0.7240874978255821,
          0.7711556746818604,
          0.9115863842377762,
          0.4334329531339469,
          0.413424796827608,
          0.8358933845350626,
          0.7787904257933479,
          1.1328566642346949,
          0.6811176027655634,
          0.6230444561293902,
          1.278639420375407,
          0.8121466598184788,
          0.9269880501630579,
          0.5209332526922544,
          0.7688282447619809,
          0.8971114405408636,
          1.692324363289154,
          1.4597035892285821
         ],
         "y": [
          -30,
          -10,
          -70,
          -81.25,
          -140,
          -190,
          -200,
          -151.25,
          -100.625,
          -280,
          -250,
          -141.875,
          -25,
          -313.75,
          -390,
          -420,
          -480,
          -465.625,
          -487.8125,
          -430,
          -560,
          -540,
          -592.5,
          -553.75,
          -468.203125,
          -652.5,
          -630,
          -523.4765625,
          -386.25,
          -333.125,
          -702.5,
          -699.375,
          -720.9375,
          -409.4189453125,
          -113.75
         ]
        },
        {
         "hoverinfo": "text",
         "hovertext": [
          "transport_restaurant_frais_ticket_euro",
          "transport_restaurant_frais_ticket_euro",
          "société_représenter_capital_rue_dénommée",
          "société_représenter_capital_rue_dénommée",
          "accord_collectif_augmentation_cars_participation",
          "preambule_article___",
          "preambule_article___",
          "conclure_accord_entrer_lendemain_dépôt",
          "application_territorial_cdd_disposition_déterminer",
          "application_territorial_cdd_disposition_déterminer",
          "application_territorial_cdd_disposition_déterminer",
          "amenagement_renommer_aménagement_accord_reconduction",
          "amenagement_renommer_aménagement_accord_reconduction",
          "amenagement_renommer_aménagement_accord_reconduction",
          "amenagement_renommer_aménagement_accord_reconduction",
          "hebdomadaire_travail_effectif_porter_dérogation",
          "hebdomadaire_travail_effectif_porter_dérogation",
          "repos_hebdomadaire_consécutif_consécutiver_minimum",
          "hebdomadaire_consécutif_consécutiver_ajouter_minimum",
          "droit_document_informer_compensateur_annexer",
          "charge_professionnel_communication_organisation_numérique",
          "pause_temps_occupation_travail_directive",
          "pause_temps_occupation_travail_directive",
          "salariés_partiel_concerner_individuellement_cadre",
          "solidarité_journée_âgé_personne_financement",
          "renonciation_renoncer_repos_tacite_reconduire",
          "conge_payer_article_paye_fermeture",
          "enfant_malade_parent_congé_père",
          "enfant_malade_parent_congé_père",
          "rémunération_absence_rémunérer_salarié_réellement",
          "remuneration_rémunération_condition_elements_perçoivent",
          "remuneration_rémunération_condition_elements_perçoivent",
          "remuneration_rémunération_condition_elements_perçoivent",
          "remuneration_rémunération_condition_elements_perçoivent",
          "supplémentaire_majoration_effectuer_compensateur_contingent",
          "supplementaire_heure_incidence_décompte_contrepartie",
          "contingent_supplémentaire_heure_annuel_etam",
          "contingent_supplémentaire_heure_220_contrepartie",
          "complémentaire_heure_limite_contractuel_partiel",
          "complémentaire_heure_limite_contractuel_partiel",
          "complémentaire_heure_limite_contractuel_partiel"
         ],
         "marker": {
          "color": "black"
         },
         "mode": "markers",
         "showlegend": false,
         "type": "scatter",
         "x": [
          0.7485033551450375,
          0.9465333653671048,
          0.5811727217885492,
          0.803592510550218,
          0.6135660637131669,
          0.9664951333800449,
          0.9897653972631688,
          0.6328914672366369,
          0.5020856426927851,
          1.0965873171338678,
          1.1823783378285615,
          0.7163853264195544,
          0.8584494555049172,
          1.1866410160557221,
          1.365559087441891,
          0.386639202278678,
          0.6682713583614696,
          0.29564813757007713,
          0.45918846850255546,
          0.5570693029970055,
          0.49361643259783594,
          0.596929093223275,
          0.6714776579528672,
          0.49087534798642085,
          0.9277954423530195,
          0.6718686414467118,
          0.507983096409951,
          0.886031355625465,
          1.1199898544128428,
          0.3246582949548654,
          0.8626877723581537,
          1.1341862287432825,
          1.357756225451087,
          1.4548402507388403,
          0.12061591037843089,
          0.6914523427180627,
          0.15402753159916127,
          0.2873756719226512,
          0.3999069700575183,
          1.2213343555280733,
          1.840022842989693
         ],
         "y": [
          -50,
          -40,
          -100,
          -92.5,
          -120,
          -170,
          -162.5,
          -210,
          -230,
          -215,
          -183.125,
          -287.5,
          -276.25,
          -263.125,
          -202.5,
          -330,
          -322.5,
          -360,
          -352.5,
          -397.5,
          -440,
          -487.5,
          -476.25,
          -510,
          -506.40625,
          -567.5,
          -600,
          -603.75,
          -578.75,
          -660,
          -663.75,
          -646.875,
          -585.17578125,
          -485.712890625,
          -710,
          -713.75,
          -750,
          -742.5,
          -770,
          -745.46875,
          -577.44384765625
         ]
        }
       ],
       "layout": {
        "autosize": false,
        "height": 1370,
        "hoverlabel": {
         "bgcolor": "white",
         "font": {
          "family": "Rockwell",
          "size": 16
         }
        },
        "hovermode": "closest",
        "plot_bgcolor": "#ECEFF1",
        "showlegend": false,
        "template": {
         "data": {
          "bar": [
           {
            "error_x": {
             "color": "#2a3f5f"
            },
            "error_y": {
             "color": "#2a3f5f"
            },
            "marker": {
             "line": {
              "color": "white",
              "width": 0.5
             },
             "pattern": {
              "fillmode": "overlay",
              "size": 10,
              "solidity": 0.2
             }
            },
            "type": "bar"
           }
          ],
          "barpolar": [
           {
            "marker": {
             "line": {
              "color": "white",
              "width": 0.5
             },
             "pattern": {
              "fillmode": "overlay",
              "size": 10,
              "solidity": 0.2
             }
            },
            "type": "barpolar"
           }
          ],
          "carpet": [
           {
            "aaxis": {
             "endlinecolor": "#2a3f5f",
             "gridcolor": "#C8D4E3",
             "linecolor": "#C8D4E3",
             "minorgridcolor": "#C8D4E3",
             "startlinecolor": "#2a3f5f"
            },
            "baxis": {
             "endlinecolor": "#2a3f5f",
             "gridcolor": "#C8D4E3",
             "linecolor": "#C8D4E3",
             "minorgridcolor": "#C8D4E3",
             "startlinecolor": "#2a3f5f"
            },
            "type": "carpet"
           }
          ],
          "choropleth": [
           {
            "colorbar": {
             "outlinewidth": 0,
             "ticks": ""
            },
            "type": "choropleth"
           }
          ],
          "contour": [
           {
            "colorbar": {
             "outlinewidth": 0,
             "ticks": ""
            },
            "colorscale": [
             [
              0,
              "#0d0887"
             ],
             [
              0.1111111111111111,
              "#46039f"
             ],
             [
              0.2222222222222222,
              "#7201a8"
             ],
             [
              0.3333333333333333,
              "#9c179e"
             ],
             [
              0.4444444444444444,
              "#bd3786"
             ],
             [
              0.5555555555555556,
              "#d8576b"
             ],
             [
              0.6666666666666666,
              "#ed7953"
             ],
             [
              0.7777777777777778,
              "#fb9f3a"
             ],
             [
              0.8888888888888888,
              "#fdca26"
             ],
             [
              1,
              "#f0f921"
             ]
            ],
            "type": "contour"
           }
          ],
          "contourcarpet": [
           {
            "colorbar": {
             "outlinewidth": 0,
             "ticks": ""
            },
            "type": "contourcarpet"
           }
          ],
          "heatmap": [
           {
            "colorbar": {
             "outlinewidth": 0,
             "ticks": ""
            },
            "colorscale": [
             [
              0,
              "#0d0887"
             ],
             [
              0.1111111111111111,
              "#46039f"
             ],
             [
              0.2222222222222222,
              "#7201a8"
             ],
             [
              0.3333333333333333,
              "#9c179e"
             ],
             [
              0.4444444444444444,
              "#bd3786"
             ],
             [
              0.5555555555555556,
              "#d8576b"
             ],
             [
              0.6666666666666666,
              "#ed7953"
             ],
             [
              0.7777777777777778,
              "#fb9f3a"
             ],
             [
              0.8888888888888888,
              "#fdca26"
             ],
             [
              1,
              "#f0f921"
             ]
            ],
            "type": "heatmap"
           }
          ],
          "histogram": [
           {
            "marker": {
             "pattern": {
              "fillmode": "overlay",
              "size": 10,
              "solidity": 0.2
             }
            },
            "type": "histogram"
           }
          ],
          "histogram2d": [
           {
            "colorbar": {
             "outlinewidth": 0,
             "ticks": ""
            },
            "colorscale": [
             [
              0,
              "#0d0887"
             ],
             [
              0.1111111111111111,
              "#46039f"
             ],
             [
              0.2222222222222222,
              "#7201a8"
             ],
             [
              0.3333333333333333,
              "#9c179e"
             ],
             [
              0.4444444444444444,
              "#bd3786"
             ],
             [
              0.5555555555555556,
              "#d8576b"
             ],
             [
              0.6666666666666666,
              "#ed7953"
             ],
             [
              0.7777777777777778,
              "#fb9f3a"
             ],
             [
              0.8888888888888888,
              "#fdca26"
             ],
             [
              1,
              "#f0f921"
             ]
            ],
            "type": "histogram2d"
           }
          ],
          "histogram2dcontour": [
           {
            "colorbar": {
             "outlinewidth": 0,
             "ticks": ""
            },
            "colorscale": [
             [
              0,
              "#0d0887"
             ],
             [
              0.1111111111111111,
              "#46039f"
             ],
             [
              0.2222222222222222,
              "#7201a8"
             ],
             [
              0.3333333333333333,
              "#9c179e"
             ],
             [
              0.4444444444444444,
              "#bd3786"
             ],
             [
              0.5555555555555556,
              "#d8576b"
             ],
             [
              0.6666666666666666,
              "#ed7953"
             ],
             [
              0.7777777777777778,
              "#fb9f3a"
             ],
             [
              0.8888888888888888,
              "#fdca26"
             ],
             [
              1,
              "#f0f921"
             ]
            ],
            "type": "histogram2dcontour"
           }
          ],
          "mesh3d": [
           {
            "colorbar": {
             "outlinewidth": 0,
             "ticks": ""
            },
            "type": "mesh3d"
           }
          ],
          "parcoords": [
           {
            "line": {
             "colorbar": {
              "outlinewidth": 0,
              "ticks": ""
             }
            },
            "type": "parcoords"
           }
          ],
          "pie": [
           {
            "automargin": true,
            "type": "pie"
           }
          ],
          "scatter": [
           {
            "fillpattern": {
             "fillmode": "overlay",
             "size": 10,
             "solidity": 0.2
            },
            "type": "scatter"
           }
          ],
          "scatter3d": [
           {
            "line": {
             "colorbar": {
              "outlinewidth": 0,
              "ticks": ""
             }
            },
            "marker": {
             "colorbar": {
              "outlinewidth": 0,
              "ticks": ""
             }
            },
            "type": "scatter3d"
           }
          ],
          "scattercarpet": [
           {
            "marker": {
             "colorbar": {
              "outlinewidth": 0,
              "ticks": ""
             }
            },
            "type": "scattercarpet"
           }
          ],
          "scattergeo": [
           {
            "marker": {
             "colorbar": {
              "outlinewidth": 0,
              "ticks": ""
             }
            },
            "type": "scattergeo"
           }
          ],
          "scattergl": [
           {
            "marker": {
             "colorbar": {
              "outlinewidth": 0,
              "ticks": ""
             }
            },
            "type": "scattergl"
           }
          ],
          "scattermap": [
           {
            "marker": {
             "colorbar": {
              "outlinewidth": 0,
              "ticks": ""
             }
            },
            "type": "scattermap"
           }
          ],
          "scattermapbox": [
           {
            "marker": {
             "colorbar": {
              "outlinewidth": 0,
              "ticks": ""
             }
            },
            "type": "scattermapbox"
           }
          ],
          "scatterpolar": [
           {
            "marker": {
             "colorbar": {
              "outlinewidth": 0,
              "ticks": ""
             }
            },
            "type": "scatterpolar"
           }
          ],
          "scatterpolargl": [
           {
            "marker": {
             "colorbar": {
              "outlinewidth": 0,
              "ticks": ""
             }
            },
            "type": "scatterpolargl"
           }
          ],
          "scatterternary": [
           {
            "marker": {
             "colorbar": {
              "outlinewidth": 0,
              "ticks": ""
             }
            },
            "type": "scatterternary"
           }
          ],
          "surface": [
           {
            "colorbar": {
             "outlinewidth": 0,
             "ticks": ""
            },
            "colorscale": [
             [
              0,
              "#0d0887"
             ],
             [
              0.1111111111111111,
              "#46039f"
             ],
             [
              0.2222222222222222,
              "#7201a8"
             ],
             [
              0.3333333333333333,
              "#9c179e"
             ],
             [
              0.4444444444444444,
              "#bd3786"
             ],
             [
              0.5555555555555556,
              "#d8576b"
             ],
             [
              0.6666666666666666,
              "#ed7953"
             ],
             [
              0.7777777777777778,
              "#fb9f3a"
             ],
             [
              0.8888888888888888,
              "#fdca26"
             ],
             [
              1,
              "#f0f921"
             ]
            ],
            "type": "surface"
           }
          ],
          "table": [
           {
            "cells": {
             "fill": {
              "color": "#EBF0F8"
             },
             "line": {
              "color": "white"
             }
            },
            "header": {
             "fill": {
              "color": "#C8D4E3"
             },
             "line": {
              "color": "white"
             }
            },
            "type": "table"
           }
          ]
         },
         "layout": {
          "annotationdefaults": {
           "arrowcolor": "#2a3f5f",
           "arrowhead": 0,
           "arrowwidth": 1
          },
          "autotypenumbers": "strict",
          "coloraxis": {
           "colorbar": {
            "outlinewidth": 0,
            "ticks": ""
           }
          },
          "colorscale": {
           "diverging": [
            [
             0,
             "#8e0152"
            ],
            [
             0.1,
             "#c51b7d"
            ],
            [
             0.2,
             "#de77ae"
            ],
            [
             0.3,
             "#f1b6da"
            ],
            [
             0.4,
             "#fde0ef"
            ],
            [
             0.5,
             "#f7f7f7"
            ],
            [
             0.6,
             "#e6f5d0"
            ],
            [
             0.7,
             "#b8e186"
            ],
            [
             0.8,
             "#7fbc41"
            ],
            [
             0.9,
             "#4d9221"
            ],
            [
             1,
             "#276419"
            ]
           ],
           "sequential": [
            [
             0,
             "#0d0887"
            ],
            [
             0.1111111111111111,
             "#46039f"
            ],
            [
             0.2222222222222222,
             "#7201a8"
            ],
            [
             0.3333333333333333,
             "#9c179e"
            ],
            [
             0.4444444444444444,
             "#bd3786"
            ],
            [
             0.5555555555555556,
             "#d8576b"
            ],
            [
             0.6666666666666666,
             "#ed7953"
            ],
            [
             0.7777777777777778,
             "#fb9f3a"
            ],
            [
             0.8888888888888888,
             "#fdca26"
            ],
            [
             1,
             "#f0f921"
            ]
           ],
           "sequentialminus": [
            [
             0,
             "#0d0887"
            ],
            [
             0.1111111111111111,
             "#46039f"
            ],
            [
             0.2222222222222222,
             "#7201a8"
            ],
            [
             0.3333333333333333,
             "#9c179e"
            ],
            [
             0.4444444444444444,
             "#bd3786"
            ],
            [
             0.5555555555555556,
             "#d8576b"
            ],
            [
             0.6666666666666666,
             "#ed7953"
            ],
            [
             0.7777777777777778,
             "#fb9f3a"
            ],
            [
             0.8888888888888888,
             "#fdca26"
            ],
            [
             1,
             "#f0f921"
            ]
           ]
          },
          "colorway": [
           "#636efa",
           "#EF553B",
           "#00cc96",
           "#ab63fa",
           "#FFA15A",
           "#19d3f3",
           "#FF6692",
           "#B6E880",
           "#FF97FF",
           "#FECB52"
          ],
          "font": {
           "color": "#2a3f5f"
          },
          "geo": {
           "bgcolor": "white",
           "lakecolor": "white",
           "landcolor": "white",
           "showlakes": true,
           "showland": true,
           "subunitcolor": "#C8D4E3"
          },
          "hoverlabel": {
           "align": "left"
          },
          "hovermode": "closest",
          "mapbox": {
           "style": "light"
          },
          "paper_bgcolor": "white",
          "plot_bgcolor": "white",
          "polar": {
           "angularaxis": {
            "gridcolor": "#EBF0F8",
            "linecolor": "#EBF0F8",
            "ticks": ""
           },
           "bgcolor": "white",
           "radialaxis": {
            "gridcolor": "#EBF0F8",
            "linecolor": "#EBF0F8",
            "ticks": ""
           }
          },
          "scene": {
           "xaxis": {
            "backgroundcolor": "white",
            "gridcolor": "#DFE8F3",
            "gridwidth": 2,
            "linecolor": "#EBF0F8",
            "showbackground": true,
            "ticks": "",
            "zerolinecolor": "#EBF0F8"
           },
           "yaxis": {
            "backgroundcolor": "white",
            "gridcolor": "#DFE8F3",
            "gridwidth": 2,
            "linecolor": "#EBF0F8",
            "showbackground": true,
            "ticks": "",
            "zerolinecolor": "#EBF0F8"
           },
           "zaxis": {
            "backgroundcolor": "white",
            "gridcolor": "#DFE8F3",
            "gridwidth": 2,
            "linecolor": "#EBF0F8",
            "showbackground": true,
            "ticks": "",
            "zerolinecolor": "#EBF0F8"
           }
          },
          "shapedefaults": {
           "line": {
            "color": "#2a3f5f"
           }
          },
          "ternary": {
           "aaxis": {
            "gridcolor": "#DFE8F3",
            "linecolor": "#A2B1C6",
            "ticks": ""
           },
           "baxis": {
            "gridcolor": "#DFE8F3",
            "linecolor": "#A2B1C6",
            "ticks": ""
           },
           "bgcolor": "white",
           "caxis": {
            "gridcolor": "#DFE8F3",
            "linecolor": "#A2B1C6",
            "ticks": ""
           }
          },
          "title": {
           "x": 0.05
          },
          "xaxis": {
           "automargin": true,
           "gridcolor": "#EBF0F8",
           "linecolor": "#EBF0F8",
           "ticks": "",
           "title": {
            "standoff": 15
           },
           "zerolinecolor": "#EBF0F8",
           "zerolinewidth": 2
          },
          "yaxis": {
           "automargin": true,
           "gridcolor": "#EBF0F8",
           "linecolor": "#EBF0F8",
           "ticks": "",
           "title": {
            "standoff": 15
           },
           "zerolinecolor": "#EBF0F8",
           "zerolinewidth": 2
          }
         }
        },
        "title": {
         "font": {
          "color": "Black",
          "size": 22
         },
         "text": "<b>Hierarchical Clustering</b>",
         "x": 0.5,
         "xanchor": "center",
         "yanchor": "top"
        },
        "width": 1000,
        "xaxis": {
         "mirror": "allticks",
         "rangemode": "tozero",
         "showgrid": false,
         "showline": true,
         "showticklabels": true,
         "ticks": "outside",
         "type": "linear",
         "zeroline": false
        },
        "yaxis": {
         "mirror": "allticks",
         "range": [
          -780,
          0
         ],
         "rangemode": "tozero",
         "showgrid": false,
         "showline": true,
         "showticklabels": true,
         "tickmode": "array",
         "ticks": "outside",
         "ticktext": [
          "75_sédentaire_bâtiment_appo...",
          "77_petit_deplacement_déplac...",
          "68_concentrique_kilomètre_m...",
          "49_chantier_trajet_kilomètre",
          "53_restaurant_ticket_restau...",
          "52_transport_déplacement_fr...",
          "65_site_portailteleprocedur...",
          "5_exemplaire_déposer_dépôt",
          "37_consultation_transmissio...",
          "23_société_accord_organisat...",
          "21_société_représenter_capi...",
          "56_collectif_accord_augment...",
          "34_entreprise_accord_partic...",
          "64_augmentation_2020_janvier",
          "36_euro_mois_taux",
          "73_déconnexion_deconnexion_...",
          "59_juridique_cadre_regime",
          "69_preambule_article_",
          "17_article_définition_forma...",
          "70_denonciation_dénonciatio...",
          "0_révision_signataire_accord",
          "4_conclure_accord_entrer",
          "35_application_territorial_...",
          "71_champ_application_article",
          "13_disposition_titre_genera...",
          "24_chapitre_chapitrer_dispo...",
          "27_salarie_disposition_propre",
          "12_organisation_aménagement...",
          "2_temps_amenagement_travail",
          "67_amenagement_renommer_amé...",
          "55_modulation_bas_limite",
          "39_amplitude_journalier_heure",
          "22_maximal_hebdomadaire_eff...",
          "38_maximal_maximale_durees",
          "76_consécutif_3121_hebdomad...",
          "30_repos_hebdomadaire_consé...",
          "57_quotidien_repos_article11",
          "66_compensateur_remplacemen...",
          "62_obligatoire_contrepartie...",
          "41_compensateur_demande_rem...",
          "61_droit_document_informer",
          "46_femme_égalité_profession...",
          "40_médical_santé_médecin",
          "6_entretien_hiérarchique_sa...",
          "8_déconnexion_professionnel...",
          "58_agent_période_distribution",
          "7_planning_modification_pré...",
          "15_annualisation_temps_péri...",
          "47_partiel_salarier_hebdoma...",
          "1_pause_temps_occupation",
          "28_disposer_cadre_responsab...",
          "25_salariés_partiel_concerner",
          "42_solidarité_journée_âgé",
          "9_forfaire_annuel_repos",
          "29_convention_conclusion_co...",
          "43_rtt_jour_initiative",
          "19_jour_année_congé",
          "44_renonciation_renoncer_re...",
          "26_période_année_civil",
          "16_congé_payer_acquisition",
          "50_conge_payer_article",
          "48_enfant_malade_parent",
          "72_entrée_periode_sorties",
          "51_absence_impact_cours",
          "60_rupture_prélever_période",
          "3_absence_rémunération_rému...",
          "10_rémunération_base_lissage",
          "33_remuneration_rémunératio...",
          "74_réglementaire_imputation...",
          "45_taux_majoration_suppléme...",
          "18_supplémentaire_majoratio...",
          "14_supplémentaire_effectuer...",
          "31_supplementaire_heure_inc...",
          "32_contingent_supplementair...",
          "11_contingent_supplémentair...",
          "54_contingent_supplémentair...",
          "20_complémentaire_heure_lim...",
          "63_complémentaire_complemen..."
         ],
         "tickvals": [
          -5,
          -15,
          -25,
          -35,
          -45,
          -55,
          -65,
          -75,
          -85,
          -95,
          -105,
          -115,
          -125,
          -135,
          -145,
          -155,
          -165,
          -175,
          -185,
          -195,
          -205,
          -215,
          -225,
          -235,
          -245,
          -255,
          -265,
          -275,
          -285,
          -295,
          -305,
          -315,
          -325,
          -335,
          -345,
          -355,
          -365,
          -375,
          -385,
          -395,
          -405,
          -415,
          -425,
          -435,
          -445,
          -455,
          -465,
          -475,
          -485,
          -495,
          -505,
          -515,
          -525,
          -535,
          -545,
          -555,
          -565,
          -575,
          -585,
          -595,
          -605,
          -615,
          -625,
          -635,
          -645,
          -655,
          -665,
          -675,
          -685,
          -695,
          -705,
          -715,
          -725,
          -735,
          -745,
          -755,
          -765,
          -775
         ],
         "type": "linear",
         "zeroline": false
        }
       }
      }
     },
     "metadata": {},
     "output_type": "display_data"
    }
   ],
   "source": [
    "topic_model_MMR.visualize_hierarchy(hierarchical_topics=hierarchical_topics)"
   ]
  }
 ],
 "metadata": {
  "kernelspec": {
   "display_name": "Python 3 (ipykernel)",
   "language": "python",
   "name": "python3"
  },
  "language_info": {
   "codemirror_mode": {
    "name": "ipython",
    "version": 3
   },
   "file_extension": ".py",
   "mimetype": "text/x-python",
   "name": "python",
   "nbconvert_exporter": "python",
   "pygments_lexer": "ipython3",
   "version": "3.11.12"
  }
 },
 "nbformat": 4,
 "nbformat_minor": 5
}
